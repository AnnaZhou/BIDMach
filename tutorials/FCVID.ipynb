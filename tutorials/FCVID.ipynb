{
 "metadata": {
  "name": "",
  "signature": "sha256:724b3c2843681c83aa9f625834871181004527ebdc602a4707ddfafd43be3f88"
 },
 "nbformat": 3,
 "nbformat_minor": 0,
 "worksheets": [
  {
   "cells": [
    {
     "cell_type": "heading",
     "level": 1,
     "metadata": {},
     "source": [
      "COCOA Method based on LBFGS Optimization "
     ]
    },
    {
     "cell_type": "markdown",
     "metadata": {},
     "source": [
      "In this tutorial, we'll explore training and evaluation of L-BFGS method based Logitistic Regression Classifiers.\n",
      "\n",
      "To start, we import the standard BIDMach class definitions. "
     ]
    },
    {
     "cell_type": "code",
     "collapsed": false,
     "input": [
      "import BIDMat.{CMat,CSMat,DMat,Dict,IDict,FMat,GMat,GIMat,GSMat,HMat,IMat,Mat,SMat,SBMat,SDMat}\n",
      "import BIDMat.MatFunctions._\n",
      "import BIDMat.SciFunctions._\n",
      "import BIDMat.Solvers._\n",
      "import BIDMat.Plotting._\n",
      "import BIDMach.Learner\n",
      "import BIDMach.models.{FM,GLM,KMeans,LDA,LDAgibbs,NMF,SFA}\n",
      "import BIDMach.datasources.{MatDS,FilesDS,SFilesDS}\n",
      "import BIDMach.mixins.{CosineSim,Perplexity,Top,L1Regularizer,L2Regularizer}\n",
      "import BIDMach.updaters.{ADAGrad,Batch,BatchNorm,IncMult,IncNorm,Telescoping}\n",
      "import BIDMach.causal.{IPTW}\n",
      "\n",
      "Mat.checkMKL\n",
      "Mat.checkCUDA\n",
      "if (Mat.hasCUDA > 0) GPUmem"
     ],
     "language": "python",
     "metadata": {},
     "outputs": [
      {
       "output_type": "stream",
       "stream": "stdout",
       "text": [
        "Cant find native HDF5 library\n",
        "Couldnt load JCuda\n"
       ]
      },
      {
       "output_type": "stream",
       "stream": "stdout",
       "text": []
      },
      {
       "metadata": {},
       "output_type": "pyout",
       "prompt_number": 1,
       "text": [
        "()"
       ]
      }
     ],
     "prompt_number": 1
    },
    {
     "cell_type": "markdown",
     "metadata": {},
     "source": [
      "Now we load some training and test data, and some category labels. The data come from a news collection from Reuters, and is a \"classic\" test set for classification. Each article belongs to one or more of 103 categories. The articles are represented as Bag-of-Words (BoW) column vectors. For a data matrix A, element A(i,j) holds the count of word i in document j. \n",
      "\n",
      "The category matrices have 103 rows, and a category matrix C has a one in position C(i,j) if document j is tagged with category i, or zero otherwise.  \n",
      "\n",
      "To reduce the computing time and memory footprint, the training data have been sampled. The full collection has about 700k documents. Our training set has 60k. \n",
      "\n",
      "Since the document matrices contain counts of words, we use a min function to limit the count to \"1\", i.e. because we need binary features for naive Bayes. "
     ]
    },
    {
     "cell_type": "code",
     "collapsed": false,
     "input": [
      "\n",
      "val dict = \"/Users/Anna/workspace/BIDMach/data/\"\n",
      "val rpath = \"/Users/Anna/workspace/BIDMach/data/\"\n",
      "\n",
      "var index = 79; \n",
      "var index1 = 110;\n",
      "var tnum = 1;\n",
      "var tnum1 = 1;\n",
      "//for(index <- 79 to 79){\n",
      " var aa = loadFMat(dict+index+\"_train\"+\".txt\")\n",
      "// var c = loadFMat(dict+index+\"_test\"+\".txt\")\n",
      " var b = loadFMat(dict+index1+\"_train.txt\")\n",
      "\n",
      "//var a = aa.t   \n",
      "var atrain = aa(?,(239->aa.ncols))\n",
      "//var atest = c(?,(239->c.ncols))\n",
      "var atrain1 = b(?,(239->b.ncols))\n",
      "\n",
      "tnum = (aa.nrows+1)/2\n",
      "var ttrain = aa(0->tnum,(239->aa.ncols) )\n",
      "var ttest = aa(tnum->aa.nrows,(239->aa.ncols) )\n",
      "tnum1 = (b.nrows+1)/2\n",
      "var ttrain1 = b(0->tnum1,(239->b.ncols) )\n",
      "var ttest1 = b(tnum1->b.nrows,(239->b.ncols) )\n",
      "\n",
      "var trainx = zeros( (ttrain.nrows+ttrain1.nrows),4096)\n",
      "trainx(0->(ttrain.nrows),?)=ttrain\n",
      "trainx( (ttrain.nrows)->(ttrain.nrows+ttrain1.nrows),?)=ttrain1\n",
      "\n",
      "var testx= zeros( (ttest.nrows+ttest1.nrows),4096)\n",
      "testx(0->(ttest.nrows),?)=ttest\n",
      "testx( (ttest.nrows)->(ttest.nrows+ttest1.nrows),?)=ttest1\n",
      "\n",
      "var ctrain1=zeros(2,(ttrain.nrows+ttrain1.nrows) ) \n",
      "ctrain1(0,(0->(ttrain.nrows) ) )= 1\n",
      "ctrain1(1,(ttrain.nrows)->(ttrain.nrows+ttrain1.nrows)) = 1\n",
      "ctrain1(1,(0->(ttrain.nrows) ) )= -1\n",
      "ctrain1(0,(ttrain.nrows)->(ttrain.nrows+ttrain1.nrows)) = -1\n",
      "\n",
      "var ctest=zeros(2,(ttest.nrows+ttest1.nrows) ) \n",
      "ctest(0,(0->(ttest.nrows) ) )= 1\n",
      "ctest(1,(ttest.nrows)->(ttest.nrows+ttest1.nrows)) = 1\n",
      "//ctest(1,(0->(ttest.nrows) ) )= -1\n",
      "//ctest(0,(ttest.nrows)->(ttest.nrows+ttest1.nrows)) = -1\n",
      "\n",
      "//max(atrain, 0.001, atrain)                       // the first \"traindata\" argument is the input, the other is out\n",
      "tnum=testx.nrows\n",
      "val cx=zeros(2,testx.nrows)\n",
      "var maxx = maxi(maxi(trainx,1),2);\n",
      "var minx = mini(mini(trainx,1),2);\n",
      "trainx = (trainx-minx)/(maxx-minx);\n",
      "val (mm,mopts,nn,nopts)=GLM.COCOAlearner(trainx.t,ctrain1,testx.t,cx)\n",
      "\n",
      "mopts.autoReset=false\n",
      "mopts.useGPU=false\n",
      "mopts.lrate=0.1\n",
      "mopts.batchSize=50\n",
      "mopts.dim=256\n",
      "mopts.startBlock=0\n",
      "mopts.npasses=25\n",
      "mopts.updateAll=false\n",
      "\n",
      "//problem:memory leak\n",
      "mm.train;\n",
      "\n",
      "nn.predict;\n",
      "\n",
      "saveFMat(rpath+\"r\"+index+\".txt\",cx/tnum);\n",
      "//}\n",
      " \n",
      "min(cx, 1, cx)                       // the first \"traindata\" argument is the input, the other is output\n",
      "max(cx, 0, cx) \n",
      "val p=ctest *@cx +(1-ctest) *@(1-cx)\n",
      "var meanp=mean(p,2)\n",
      "//saveFMat(rpath+\"meanp\"+index+\".txt\",meanp);\n",
      "meanp"
     ],
     "language": "python",
     "metadata": {},
     "outputs": [
      {
       "output_type": "stream",
       "stream": "stdout",
       "text": [
        "corpus perplexity=3454.134799\n",
        "pass= 0\n",
        "-9.858681344985962\n",
        "10.000208444595337\n",
        "100.00%, ll=-1.09681, gf=0.164, secs=0.0, GB=0.00, MB/s=89.48\n",
        "pass= 1\n",
        "-9.8588897895813\n",
        "10.000416889190674\n",
        "100.00%, ll=-2.78346, gf=0.203, secs=0.0, GB=0.00, MB/s=110.79\n",
        "pass= 2\n",
        "-9.869545660018922\n",
        "10.000416765213014\n",
        "100.00%, ll=-2.77200, gf=0.237, secs=0.1, GB=0.01, MB/s=129.25\n",
        "pass= 3\n",
        "-9.877191085815431\n",
        "10.000358352661134\n",
        "100.00%, ll=-3.22471, gf=0.258, secs=0.1, GB=0.01, MB/s=141.01\n",
        "pass= 4\n",
        "-9.88639108657837\n",
        "10.000419054031374\n",
        "100.00%, ll=-4.33220, gf=0.284, secs=0.1, GB=0.01, MB/s=155.11\n",
        "pass= 5\n",
        "-9.89733386039734\n",
        "10.000808324813844\n",
        "100.00%, ll=-5.51694, gf=0.308, secs=0.1, GB=0.01, MB/s=168.19\n",
        "pass= 6\n",
<<<<<<< HEAD
        "-9.903316040039064\n",
        "10.001461458206178\n",
        "100.00%, ll=-6.18782, gf=0.328, secs=0.1, GB=0.02, MB/s=178.97\n",
        "pass= 7\n",
        "-9.904194774627687\n",
        "10.002268953323366\n",
        "100.00%, ll=-6.48521, gf=0.344, secs=0.1, GB=0.02, MB/s=188.01\n",
=======
        " 7.00%, ll=0.00000, gf=0.184, secs=0.2, GB=0.01, MB/s=79.26\n",
        "47.00%, ll=0.00000, gf=0.184, secs=0.2, GB=0.01, MB/s=78.67\n",
        "87.00%, ll=-1.30685, gf=0.184, secs=0.2, GB=0.02, MB/s=79.04\n",
        "100.00%, ll=0.00000, gf=0.184, secs=0.2, GB=0.02, MB/s=79.06\n",
        "pass= 7\n",  
        " 7.00%, ll=0.00000, gf=0.183, secs=0.2, GB=0.02, MB/s=79.01\n",
        "47.00%, ll=0.00000, gf=0.184, secs=0.2, GB=0.02, MB/s=78.52\n",
        "87.00%, ll=-1.30686, gf=0.183, secs=0.2, GB=0.02, MB/s=78.51\n",
        "100.00%, ll=0.00000, gf=0.183, secs=0.2, GB=0.02, MB/s=78.53\n",
>>>>>>> 0e068361f8385f5e5b843ae6161a5875900d6a89
        "pass= 8\n",
        "-9.904408102035525\n",
        "10.003181180953982\n",
        "100.00%, ll=-6.68558, gf=0.358, secs=0.1, GB=0.02, MB/s=195.69\n",
        "pass= 9\n",
        "-9.904678535461429\n",
        "10.004176883697513\n",
        "100.00%, ll=-6.96883, gf=0.377, secs=0.1, GB=0.02, MB/s=205.89\n",
        "pass=10\n",
        "-9.904407854080203\n",
        "10.005275478363039\n",
        "100.00%, ll=-7.52594, gf=0.390, secs=0.1, GB=0.03, MB/s=213.27\n",
        "pass=11\n",
        "-9.901784152984622\n",
        "10.00649558067322\n",
        "100.00%, ll=-8.23236, gf=0.406, secs=0.1, GB=0.03, MB/s=221.58\n",
        "pass=12\n",
        "-9.896152162551882\n",
        "10.007822837829591\n",
        "100.00%, ll=-8.61066, gf=0.419, secs=0.1, GB=0.03, MB/s=229.13\n",
        "pass=13\n",
        "-9.892951641082766\n",
        "10.009307441711428\n",
        "100.00%, ll=-8.72821, gf=0.432, secs=0.1, GB=0.03, MB/s=236.03\n",
        "pass=14\n",
        "-9.892888412475589\n",
        "10.01089263916016\n",
        "100.00%, ll=-8.78198, gf=0.444, secs=0.1, GB=0.03, MB/s=242.35\n",
        "pass=15\n",
        "-9.893699932098391\n",
        "10.012532653808597\n",
        "100.00%, ll=-8.85759, gf=0.448, secs=0.2, GB=0.04, MB/s=244.90\n",
        "pass=16\n",
        "-9.894161539077762\n",
        "10.014222230911258\n",
        "100.00%, ll=-9.07556, gf=0.461, secs=0.2, GB=0.04, MB/s=251.92\n",
        "pass=17\n",
        "-9.89218245506287\n",
        "10.015939168930057\n",
        "100.00%, ll=-9.47416, gf=0.473, secs=0.2, GB=0.04, MB/s=258.51\n",
        "pass=18\n",
        "-9.886469259262089\n",
        "10.017651739120488\n",
        "100.00%, ll=-9.67823, gf=0.484, secs=0.2, GB=0.04, MB/s=264.70\n",
        "pass=19\n",
        "-9.884032878875738\n",
        "10.019492588043219\n",
        "100.00%, ll=-9.70987, gf=0.492, secs=0.2, GB=0.05, MB/s=268.97\n",
        "pass=20\n",
        "-9.885127773284918\n",
        "10.021403980255133\n",
        "100.00%, ll=-9.71175, gf=0.502, secs=0.2, GB=0.05, MB/s=274.48\n",
        "pass=21\n",
        "-9.886868400573738\n",
        "10.023340320587165\n",
        "100.00%, ll=-9.70526, gf=0.512, secs=0.2, GB=0.05, MB/s=279.70\n",
        "pass=22\n",
        "-9.88849737167359\n",
        "10.02530464172364\n",
        "100.00%, ll=-9.63527, gf=0.518, secs=0.2, GB=0.05, MB/s=283.13\n",
        "pass=23\n",
        "-9.887673969268805\n",
        "10.027241687774664\n",
        "100.00%, ll=-9.33948, gf=0.527, secs=0.2, GB=0.06, MB/s=287.82\n",
        "pass=24\n",
        "-9.876501827239997\n",
        "10.028465013504034\n",
        "100.00%, ll=-9.22117, gf=0.535, secs=0.2, GB=0.06, MB/s=292.28\n",
        "Time=0.2000 secs, gflops=0.53\n"
       ]
      },
      {
       "output_type": "stream",
       "stream": "stdout",
       "text": [
        "corpus perplexity=2885.136257\n",
        "Predicting\n",
        " 3.00%, ll=-419.32324, gf=0.011, secs=0.0, GB=0.00, MB/s=22.76\n",
        " 7.00%, ll=-174.38074, gf=0.016, secs=0.0, GB=0.00, MB/s=35.50\n",
        "11.00%, ll=-440.39337, gf=0.020, secs=0.0, GB=0.00, MB/s=40.56\n",
        "14.00%, ll=-367.75549, gf=0.026, secs=0.0, GB=0.00, MB/s=54.65\n",
        "18.00%, ll=-325.68561, gf=0.027, secs=0.0, GB=0.00, MB/s=56.16\n",
        "22.00%, ll=-352.96817, gf=0.033, secs=0.0, GB=0.00, MB/s=66.83\n",
        "25.00%, ll=-296.00864, gf=0.033, secs=0.0, GB=0.00, MB/s=69.85\n",
        "29.00%, ll=-345.75620, gf=0.038, secs=0.0, GB=0.00, MB/s=80.14\n",
        "33.00%, ll=-375.25867, gf=0.037, secs=0.0, GB=0.00, MB/s=78.34\n",
        "37.00%, ll=-442.70990, gf=0.041, secs=0.0, GB=0.00, MB/s=87.63\n",
        "40.00%, ll=-340.80951, gf=0.040, secs=0.0, GB=0.00, MB/s=87.42\n",
        "44.00%, ll=-358.65057, gf=0.044, secs=0.0, GB=0.00, MB/s=95.26\n",
        "48.00%, ll=-464.84406, gf=0.043, secs=0.0, GB=0.00, MB/s=91.17\n",
        "51.00%, ll=-323.21185, gf=0.046, secs=0.0, GB=0.00, MB/s=99.12\n",
        "55.00%, ll=-46.96162, gf=0.045, secs=0.0, GB=0.00, MB/s=98.97\n",
        "59.00%, ll=-88.78364, gf=0.048, secs=0.0, GB=0.00, MB/s=105.81\n",
        "62.00%, ll=-65.92143, gf=0.047, secs=0.0, GB=0.00, MB/s=104.48\n",
        "66.00%, ll=-162.69704, gf=0.049, secs=0.0, GB=0.00, MB/s=111.60\n",
        "70.00%, ll=-120.00533, gf=0.048, secs=0.0, GB=0.00, MB/s=110.03\n",
        "74.00%, ll=-91.15912, gf=0.047, secs=0.0, GB=0.00, MB/s=108.73\n",
        "77.00%, ll=-38.00302, gf=0.049, secs=0.0, GB=0.00, MB/s=113.31\n",
        "81.00%, ll=-78.35516, gf=0.048, secs=0.0, GB=0.00, MB/s=112.08\n",
        "85.00%, ll=-155.20381, gf=0.050, secs=0.0, GB=0.00, MB/s=118.27\n",
        "88.00%, ll=-114.60324, gf=0.049, secs=0.0, GB=0.00, MB/s=116.95\n",
        "92.00%, ll=-48.36611, gf=0.051, secs=0.0, GB=0.00, MB/s=123.00\n",
        "96.00%, ll=-101.09888, gf=0.050, secs=0.0, GB=0.00, MB/s=121.41\n",
        "100.00%, ll=-87.53825, gf=0.052, secs=0.0, GB=0.00, MB/s=126.59\n",
        "Time=0.0180 secs, gflops=0.05\n"
       ]
      },
      {
       "output_type": "stream",
       "stream": "stdout",
       "text": []
      },
      {
       "output_type": "stream",
       "stream": "stdout",
       "text": []
      },
      {
       "metadata": {},
       "output_type": "pyout",
       "prompt_number": 2,
       "text": [
        "  0.88889\n",
        "  0.87037\n"
       ]
      }
     ],
     "prompt_number": 2
    },
    {
     "cell_type": "markdown",
     "metadata": {},
     "source": [
      "Get the word and document counts from the data. This turns out to be equivalent to a matrix multiply. For a data matrix A and category matrix C, we want all (cat, word) pairs (i,j) such that C(i,k) and A(j,k) are both 1 - this means that document k contains word j, and is also tagged with category i. Summing over all documents gives us\n",
      "\n",
      "$${\\rm wordcatCounts(i,j)} = \\sum_{k=1}^N C(i,k) A(j,k) = C * A^T$$\n",
      "\n",
      "\n",
      "Because we are doing independent binary classifiers for each class, we need to construct the counts for words not in the class (negwcounts).\n",
      "\n",
      "Finally, we add a smoothing count 0.5 to counts that could be zero."
     ]
    },
    {
     "cell_type": "code",
     "collapsed": false,
     "input": [
      "val cx=zeros(ctest.nrows,ctest.ncols)\n",
      "val (mm,mopts,nn,nopts)=GLM.learner(atrain,ctrain,atest,cx,0)\n",
      "mopts.autoReset=false\n",
      "mopts.useGPU=false\n",
      "mopts.lrate=0.1\n",
      "mopts.batchSize=2\n",
      "mopts.dim=256\n",
      "mopts.startBlock=0\n",
      "mopts.npasses=10\n",
      "mopts.updateAll=false\n",
      "//mopts.what"
     ],
     "language": "python",
     "metadata": {},
     "outputs": [
      {
       "output_type": "stream",
       "stream": "stdout",
       "text": []
      },
      {
       "output_type": "stream",
       "stream": "stdout",
       "text": []
      },
      {
       "metadata": {},
       "output_type": "pyout",
       "prompt_number": 45,
       "text": [
        "false"
       ]
      }
     ],
     "prompt_number": 45
    },
    {
     "cell_type": "markdown",
     "metadata": {},
     "source": [
      "Now compute the probabilities \n",
      "* pwordcat = probability that a word is in a cat, given the cat.\n",
      "* pwordncat = probability of a word, given the complement of the cat.\n",
      "* pcat = probability that doc is in a given cat. \n",
      "* spcat = sum of pcat probabilities (> 1 because docs can be in multiple cats)"
     ]
    },
    {
     "cell_type": "code",
     "collapsed": false,
     "input": [
      "//mm.train\n",
      "//nn.predict\n",
      "tnum1"
     ],
     "language": "python",
     "metadata": {},
     "outputs": [
      {
       "output_type": "stream",
       "stream": "stdout",
       "text": []
      },
      {
       "output_type": "stream",
       "stream": "stdout",
       "text": []
      },
      {
       "metadata": {},
       "output_type": "pyout",
       "prompt_number": 11,
       "text": [
        "27"
       ]
      }
     ],
     "prompt_number": 11
    },
    {
     "cell_type": "markdown",
     "metadata": {},
     "source": [
      "Now take the logs of those probabilities. Here we're using the formula presented <a href=\"https://bcourses.berkeley.edu/courses/1267848/files/51512989/download?wrap=1in\">here</a> to match Naive Bayes to Logistic Regression for independent data.\n",
      "\n",
      "For each word, we compute the log of the ratio of the complementary word probability over the in-class word probability. \n",
      "\n",
      "For each category, we compute the log of the ratio of the complementary category probability over the current category probability.\n",
      "\n",
      "lpwordcat(j,i) represents $\\log\\left(\\frac{{\\rm Pr}(X_i|\\neg c_j)}{{\\rm Pr}(X_i|c_j)}\\right)$\n",
      "\n",
      "while lpcat(j) represents $\\log\\left(\\frac{{\\rm Pr}(\\neg c)}{{\\rm Pr}(c)}\\right)$"
     ]
    },
    {
     "cell_type": "code",
     "collapsed": false,
     "input": [
      "val cx1=cx\n",
      "min(cx1, 1, cx1)                       // the first \"traindata\" argument is the input, the other is output\n",
      "max(cx1, 0, cx1) \n",
      "val p=ctest *@cx1 +(1-ctest) *@(1-cx1)\n",
      "mean(p,2)\n",
      "//saveFMat(rpath+index+\".txt\",cx)\n",
      "cx"
     ],
     "language": "python",
     "metadata": {},
     "outputs": [
      {
       "output_type": "stream",
       "stream": "stdout",
       "text": []
      },
      {
       "ename": "java.lang.RuntimeException",
       "evalue": "dims incompatible",
       "output_type": "pyerr",
       "traceback": [
        "java.lang.RuntimeException: dims incompatible",
        "    BIDMat.DenseMat$mcF$sp.ggMatOpStrictv$mcF$sp(DenseMat.scala:963)",
        "    BIDMat.DenseMat$mcF$sp.ggMatOpv$mcF$sp(DenseMat.scala:951)",
        "    BIDMat.FMat.ffMatOpv(FMat.scala:206)",
        "    BIDMat.FMat.$times$at(FMat.scala:799)"
       ]
      },
      {
       "output_type": "stream",
       "stream": "stdout",
       "text": []
      }
     ],
     "prompt_number": 22
    },
    {
     "cell_type": "markdown",
     "metadata": {},
     "source": [
      "Here's where we apply Naive Bayes. The formula we're using is borrowed from <a href=\"https://bcourses.berkeley.edu/courses/1267848/files/51512989/download?wrap=1in\">here</a>.\n",
      "\n",
      "$${\\rm Pr}(c|X_1,\\ldots,X_k) = \\frac{1}{1 + \\frac{{\\rm Pr}(\\neg c)}{{\\rm Pr}(c)}\\prod_{i-1}^k\\frac{{\\rm Pr}(X_i|\\neg c)}{{\\rm Pr}(X_i|c)}}$$\n",
      "\n",
      "and we can rewrite\n",
      "\n",
      "$$\\frac{{\\rm Pr}(\\neg c)}{{\\rm Pr}(c)}\\prod_{i-1}^k\\frac{{\\rm Pr}(X_i|\\neg c)}{{\\rm Pr}(X_i|c)}$$\n",
      "\n",
      "as\n",
      "\n",
      "$$\\exp\\left(\\log\\left(\\frac{{\\rm Pr}(\\neg c)}{{\\rm Pr}(c)}\\right) + \\sum_{i=1}^k\\log\\left(\\frac{{\\rm Pr}(X_i|\\neg c)}{{\\rm Pr}(X_i|c)}\\right)\\right)  = \\exp({\\rm lpcat(j)} + {\\rm lpwordcat(j,?)} * X)$$\n",
      "\n",
      "for class number j and an input column $X$. This follows because an input column $X$ is a sparse vector with ones in the positions of the input features. The product ${\\rm lpwordcat(i,?)} * X$ picks out the features occuring in the input document and adds the corresponding logs from lpwordcat. \n",
      "\n",
      "Finally, we take the exponential above and fold it into the formula $P(c_j|X_1,\\ldots,X_k) = 1/(1+\\exp(\\cdots))$. This gives us a matrix of predictions. preds(i,j) = prediction of membership in category i for test document j. "
     ]
    },
    {
     "cell_type": "code",
     "collapsed": false,
     "input": [
      "val lacc = (cx1 \u2219\u2192 ctest + (1-cx1) \u2219\u2192 (1-ctest))/cx1.ncols\n",
      "lacc.t\n",
      "mean(lacc)"
     ],
     "language": "python",
     "metadata": {},
     "outputs": [
      {
       "output_type": "stream",
       "stream": "stdout",
       "text": []
      },
      {
       "output_type": "stream",
       "stream": "stdout",
       "text": []
      },
      {
       "metadata": {},
       "output_type": "pyout",
       "prompt_number": 6,
       "text": [
        "0.76865"
       ]
      }
     ],
     "prompt_number": 6
    },
    {
     "cell_type": "markdown",
     "metadata": {},
     "source": [
      "To measure the accuracy of the predictions above, we can compute the probability that the classifier outputs the right label. We used this formula in class for the expected accuracy for logistic regression. The \"dot arrow\" operator takes dot product along rows:"
     ]
    },
    {
     "cell_type": "code",
     "collapsed": false,
     "input": [
      "val model = mm.model\n",
      "val (nn1, nopts1) = GLM.LBFGSpredictor(model, atest, cx)"
     ],
     "language": "python",
     "metadata": {},
     "outputs": [
      {
       "output_type": "stream",
       "stream": "stdout",
       "text": []
      },
      {
       "output_type": "stream",
       "stream": "stdout",
       "text": []
      },
      {
       "metadata": {},
       "output_type": "pyout",
       "prompt_number": 7,
       "text": [
        "BIDMach.models.GLM$LearnLBFGSOptions@8eb62c4"
       ]
      }
     ],
     "prompt_number": 7
    },
    {
     "cell_type": "markdown",
     "metadata": {},
     "source": [
      "Raw accuracy is not a good measure in most cases. When there are few positives (instances in the class vs. its complement), accuracy simply drives down false-positive rate at the expense of false-negative rate. In the worst case, the learner may always predict \"no\" and still achieve high accuracy. \n",
      "\n",
      "ROC curves and ROC Area Under the Curve (AUC) are much better. Here we compute the ROC curves from the predictions above. We need:\n",
      "* scores - the predicted quality from the formula above.\n",
      "* good - 1 for positive instances, 0 for negative instances.\n",
      "* bad - complement of good. \n",
      "* npoints (100) - specifies the number of X-axis points for the ROC plot. \n",
      "\n",
      "itest specifies which of the categories to plot for. We chose itest=6 because that category has one of the highest positive rates, and gives the most stable accuracy plots.  "
     ]
    },
    {
     "cell_type": "code",
     "collapsed": false,
     "input": [
      "nn1.predict"
     ],
     "language": "python",
     "metadata": {},
     "outputs": [
      {
       "output_type": "stream",
       "stream": "stdout",
       "text": [
        "corpus perplexity=1.970211\n",
        "Predicting\n",
        " 4.00%, ll=-0.88782, gf=Infinity, secs=0.0, GB=0.00, MB/s=Infinity\n",
        " 8.00%, ll=-0.87371, gf=0.000, secs=0.0, GB=0.00, MB/s= 0.19\n",
        "12.00%, ll=-0.94405, gf=0.000, secs=0.0, GB=0.00, MB/s= 0.14\n",
        "16.00%, ll=-0.97745, gf=0.000, secs=0.0, GB=0.00, MB/s= 0.19\n",
        "20.00%, ll=-0.91692, gf=0.000, secs=0.0, GB=0.00, MB/s= 0.24\n",
        "24.00%, ll=-0.95906, gf=0.000, secs=0.0, GB=0.00, MB/s= 0.19\n",
        "28.00%, ll=-0.91178, gf=0.000, secs=0.0, GB=0.00, MB/s= 0.22\n",
        "32.00%, ll=-0.80047, gf=0.000, secs=0.0, GB=0.00, MB/s= 0.26\n",
        "36.00%, ll=-0.92667, gf=0.000, secs=0.0, GB=0.00, MB/s= 0.22\n",
        "40.00%, ll=-0.91742, gf=0.000, secs=0.0, GB=0.00, MB/s= 0.24\n",
        "44.00%, ll=-0.92421, gf=0.000, secs=0.0, GB=0.00, MB/s= 0.26\n",
        "48.00%, ll=-0.94550, gf=0.000, secs=0.0, GB=0.00, MB/s= 0.23\n",
        "51.00%, ll=-0.81677, gf=0.000, secs=0.0, GB=0.00, MB/s= 0.25\n",
        "56.00%, ll=-0.91331, gf=0.000, secs=0.0, GB=0.00, MB/s= 0.27\n",
        "60.00%, ll=-0.93091, gf=0.000, secs=0.0, GB=0.00, MB/s= 0.24\n",
        "64.00%, ll=-0.85525, gf=0.000, secs=0.0, GB=0.00, MB/s= 0.26\n",
        "68.00%, ll=-0.87134, gf=0.000, secs=0.0, GB=0.00, MB/s= 0.27\n",
        "72.00%, ll=-0.94563, gf=0.000, secs=0.0, GB=0.00, MB/s= 0.25\n",
        "76.00%, ll=-0.78031, gf=0.000, secs=0.0, GB=0.00, MB/s= 0.26\n",
        "80.00%, ll=-0.94823, gf=0.000, secs=0.0, GB=0.00, MB/s= 0.27\n",
        "83.00%, ll=-0.95096, gf=0.000, secs=0.0, GB=0.00, MB/s= 0.29\n",
        "88.00%, ll=-0.86657, gf=0.000, secs=0.0, GB=0.00, MB/s= 0.26\n",
        "92.00%, ll=-0.97759, gf=0.000, secs=0.0, GB=0.00, MB/s= 0.28\n",
        "96.00%, ll=-0.75901, gf=0.000, secs=0.0, GB=0.00, MB/s= 0.29\n",
        "100.00%, ll=-0.93326, gf=0.000, secs=0.0, GB=0.00, MB/s= 0.27\n",
        "Time=0.0090 secs, gflops=0.00\n"
       ]
      },
      {
       "output_type": "stream",
       "stream": "stdout",
       "text": []
      }
     ],
     "prompt_number": 8
    },
    {
     "cell_type": "markdown",
     "metadata": {},
     "source": [
      "> TODO 1: In the cell below, write an expression to derive the ROC Area under the curve (AUC) given the curve rr. rr gives the ROC curve y-coordinates at 100 evenly-spaced X-values from 0 to 1.0. "
     ]
    },
    {
     "cell_type": "code",
     "collapsed": false,
     "input": [
      "val cx1=cx*10\n",
      "min(cx1, 1, cx1)                       // the first \"traindata\" argument is the input, the other is output\n",
      "max(cx1, 0, cx1) \n",
      "val p=ctest *@cx1 +(1-ctest) *@(1-cx1)\n",
      "mean(p,2)\n",
      "val lacc = (cx1 \u2219\u2192 ctest + (1-cx1) \u2219\u2192 (1-ctest))/cx1.ncols\n",
      "lacc.t\n",
      "mean(lacc)"
     ],
     "language": "python",
     "metadata": {},
     "outputs": [
      {
       "output_type": "stream",
       "stream": "stdout",
       "text": []
      },
      {
       "output_type": "stream",
       "stream": "stdout",
       "text": []
      },
      {
       "metadata": {},
       "output_type": "pyout",
       "prompt_number": 9,
       "text": [
        "0.81119"
       ]
      }
     ],
     "prompt_number": 9
    },
    {
     "cell_type": "markdown",
     "metadata": {},
     "source": [
      "> TODO 2: In the cell below, write the value of AUC returned by the expression above."
     ]
    },
    {
     "cell_type": "code",
     "collapsed": false,
     "input": [
      "cx1"
     ],
     "language": "python",
     "metadata": {},
     "outputs": [
      {
       "output_type": "stream",
       "stream": "stdout",
       "text": []
      },
      {
       "output_type": "stream",
       "stream": "stdout",
       "text": []
      },
      {
       "metadata": {},
       "output_type": "pyout",
       "prompt_number": 10,
       "text": [
        "        1  0.97167  0.32712        1        1        0  0.19741        1...\n",
        "        0        0        0        0        0        1        0        0...\n"
       ]
      }
     ],
     "prompt_number": 10
    },
    {
     "cell_type": "code",
     "collapsed": false,
     "input": [
      "saveFMat(dict+\"moonresult.fmat.txt\",cx)"
     ],
     "language": "python",
     "metadata": {},
     "outputs": [
      {
       "output_type": "stream",
       "stream": "stdout",
       "text": []
      },
      {
       "output_type": "stream",
       "stream": "stdout",
       "text": []
      }
     ],
     "prompt_number": 11
    },
    {
     "cell_type": "heading",
     "level": 2,
     "metadata": {},
     "source": [
      "Logistic Regression"
     ]
    },
    {
     "cell_type": "markdown",
     "metadata": {},
     "source": [
      "Now lets train a logistic classifier on the same data. BIDMach has an umbrella classifier called GLM for Generalized Linear Model. GLM includes linear regression, logistic regression (with log accuracy or direct accuracy optimization), and SVM. \n",
      "\n",
      "The learner function accepts these arguments:\n",
      "* traindata: the training data in the same format as for Naive Bayes\n",
      "* traincats: the training category labels\n",
      "* testdata: the test input data\n",
      "* predcats: a container for the predictions generated by the model\n",
      "* modeltype (GLM.logistic here): an integer that specifies the type of model (0=linear, 1=logistic log accuracy, 2=logistic accuracy, 3=SVM). \n",
      "\n",
      "We'll construct the learner and then look at its options:"
     ]
    },
    {
     "cell_type": "code",
     "collapsed": false,
     "input": [
      "val dict = \"/Users/Anna/workspace/BIDMach/data/wildlife/\"\n",
      "val aa = loadFMat(dict+\"1.txt\")\n",
      "val c = loadFMat(dict+\"c1.txt\")\n",
      "val b = loadFMat(\"/Users/Anna/workspace/BIDMach/data/wltestall.txt\")\n",
      "val d = loadFMat(\"/Users/Anna/workspace/BIDMach/data/wltestcatall.txt\")\n",
      "//val dict = \"/Users/Anna/workspace/BIDMach_1.0.0-full-linux-x86_64/data/uci/\"\n",
      "//val aa = loadFMat(dict+\"arabic.fmat.lz4\")\n",
      "//val c = loadFMat(dict+\"arabic_cats.fmat.lz4\")\n",
      "val a = aa *10  \n",
      "val atrain = a //a(?,(100->a.ncols))\n",
      "val atest =  a //a(?,(0->100))\n",
      "val ctrain = c //c(?,(100->a.ncols))\n",
      "val ctest = c //c(?,(0->100))\n",
      "//max(atrain, 0.001, atrain)                       // the first \"traindata\" argument is the input, the other is output\n",
      "//max(atest, 0.001, atest)\n",
      "atrain"
     ],
     "language": "python",
     "metadata": {},
     "outputs": [
      {
       "output_type": "stream",
       "stream": "stdout",
       "text": []
      },
      {
       "output_type": "stream",
       "stream": "stdout",
       "text": []
      },
      {
       "metadata": {},
       "output_type": "pyout",
       "prompt_number": 2,
       "text": [
        "    -0.33386    -0.33914    -0.29299    -0.40609    -0.43935    -0.55155...\n",
        "     0.28568     0.18359  -0.0037000    -0.17297   -0.095350   -0.013070...\n",
        "   -0.098630    -0.13269     0.41184     0.40252     0.24642     0.26601...\n",
        "   -0.031890   -0.038550     0.38608     0.35432     0.21913     0.31026...\n",
        "     0.17352     0.25341     0.37047     0.53088     0.40656     0.43656...\n",
        "     0.45181     0.47072     0.50574     0.36032     0.33288     0.26337...\n",
        "     0.24997    -0.11709     0.54020     0.33701     0.30424     0.15961...\n",
        "     0.10230    0.082690    0.017330     0.46488     0.24725   -0.025730...\n",
        "          ..          ..          ..          ..          ..          ..\n"
       ]
      }
     ],
     "prompt_number": 2
    },
    {
     "cell_type": "markdown",
     "metadata": {},
     "source": [
      "The most important options are:\n",
      "* lrate: the learning rate\n",
      "* batchSize: the minibatch size\n",
      "* npasses: the number of passes over the dataset\n",
      "\n",
      "We'll use the following parameters for this training run. "
     ]
    },
    {
     "cell_type": "code",
     "collapsed": false,
     "input": [
      "val cx=zeros(2,ctest.ncols)\n",
      "val (mm,mopts,nn,nopts)=GLM.SVMlearner(atrain,ctrain,atest,cx)\n",
      "mopts.autoReset=false\n",
      "mopts.useGPU=false\n",
      "mopts.lrate=1\n",
      "mopts.batchSize=2\n",
      "mopts.dim=256\n",
      "mopts.startBlock=0\n",
      "mopts.npasses=10\n",
      "mopts.updateAll=false\n",
      "mopts.what"
     ],
     "language": "python",
     "metadata": {},
     "outputs": [
      {
       "output_type": "stream",
       "stream": "stdout",
       "text": [
        "Option Name       Type          Value\n",
        "===========       ====          =====\n",
        "addConstFeat      boolean       false\n",
        "autoReset         boolean       false\n",
        "batchSize         int           2\n",
        "dim               int           256\n",
        "doubleScore       boolean       false\n",
        "epsilon           float         1.0E-5\n",
        "evalStep          int           11\n",
        "featThreshold     Mat           null\n",
        "featType          int           1\n",
        "hashFeatures      boolean       false\n",
        "initsumsq         float         1.0E-5\n",
        "iweight           FMat          null\n",
        "lim               float         0.0\n",
        "links             IMat             3\n",
        "   3\n",
        "\n",
        "lrate             FMat          1\n",
        "mask              FMat          null\n",
        "npasses           int           10\n",
        "nzPerColumn       int           0\n",
        "pstep             float         0.01\n",
        "putBack           int           -1\n",
        "r1nmats           int           1\n",
        "r2nmats           int           1\n",
        "reg1weight        FMat          1.0000e-07\n",
        "reg2weight        FMat          1\n",
        "resFile           String        null\n",
        "rmask             FMat          null\n",
        "sample            float         1.0\n",
        "sizeMargin        float         3.0\n",
        "startBlock        int           0\n",
        "targets           FMat          null\n",
        "targmap           FMat          null\n",
        "texp              FMat          0.50000\n",
        "updateAll         boolean       false\n",
        "useCache          boolean       true\n",
        "useDouble         boolean       false\n",
        "useGPU            boolean       false\n",
        "vexp              FMat          0.50000\n",
        "waitsteps         int           2\n"
       ]
      },
      {
       "output_type": "stream",
       "stream": "stdout",
       "text": []
      }
     ],
     "prompt_number": 7
    },
    {
     "cell_type": "code",
     "collapsed": false,
     "input": [
      "mm.train\n",
      "nn.predict\n",
      "val cx1=cx\n",
      "//min(cx1, 1, cx1)                       // the first \"traindata\" argument is the input, the other is output\n",
      "//max(cx1, 0, cx1) \n",
      "//val p=ctest *@cx1 +(1-ctest) *@(1-cx1)\n",
      "//mean(p,2)\n",
      "cx"
     ],
     "language": "python",
     "metadata": {},
     "outputs": [
      {
       "output_type": "stream",
       "stream": "stdout",
       "text": [
        "corpus perplexity=NaN\n",
        "pass= 0\n",
        " 6.00%, ll=-1.00000, gf=0.011, secs=0.0, GB=0.00, MB/s=12.00\n",
        "41.00%, ll=0.00000, gf=0.010, secs=0.1, GB=0.00, MB/s= 5.11\n",
        "77.00%, ll=0.00000, gf=0.018, secs=0.1, GB=0.00, MB/s= 8.73\n",
        "100.00%, ll=0.00000, gf=0.023, secs=0.1, GB=0.00, MB/s=10.78\n",
        "pass= 1\n",
        " 6.00%, ll=0.00000, gf=0.023, secs=0.1, GB=0.00, MB/s=11.31\n",
        "41.00%, ll=0.00000, gf=0.026, secs=0.1, GB=0.00, MB/s=12.14\n",
        "77.00%, ll=0.00000, gf=0.031, secs=0.1, GB=0.00, MB/s=14.35\n",
        "100.00%, ll=0.00000, gf=0.026, secs=0.1, GB=0.00, MB/s=12.30\n",
        "pass= 2\n",
        " 6.00%, ll=0.00000, gf=0.026, secs=0.1, GB=0.00, MB/s=12.49\n",
        "41.00%, ll=0.00000, gf=0.030, secs=0.1, GB=0.00, MB/s=13.95\n",
        "77.00%, ll=0.00000, gf=0.029, secs=0.2, GB=0.00, MB/s=13.76\n",
        "100.00%, ll=0.00000, gf=0.031, secs=0.2, GB=0.00, MB/s=14.59\n",
        "pass= 3\n",
        " 6.00%, ll=0.00000, gf=0.031, secs=0.2, GB=0.00, MB/s=14.80\n",
        "41.00%, ll=0.00000, gf=0.034, secs=0.2, GB=0.00, MB/s=16.00\n",
        "77.00%, ll=0.00000, gf=0.034, secs=0.2, GB=0.00, MB/s=15.95\n",
        "100.00%, ll=0.00000, gf=0.035, secs=0.2, GB=0.00, MB/s=16.53\n",
        "pass= 4\n",
        " 6.00%, ll=0.00000, gf=0.036, secs=0.2, GB=0.00, MB/s=16.80\n",
        "41.00%, ll=0.00000, gf=0.038, secs=0.2, GB=0.00, MB/s=17.77\n",
        "77.00%, ll=-0.21902, gf=0.038, secs=0.2, GB=0.00, MB/s=17.67\n",
        "100.00%, ll=0.00000, gf=0.039, secs=0.2, GB=0.00, MB/s=18.15\n",
        "pass= 5\n",
        " 6.00%, ll=0.00000, gf=0.039, secs=0.2, GB=0.00, MB/s=18.38\n",
        "41.00%, ll=0.00000, gf=0.041, secs=0.2, GB=0.00, MB/s=19.11\n",
        "77.00%, ll=-0.14903, gf=0.043, secs=0.2, GB=0.00, MB/s=19.89\n",
        "100.00%, ll=0.00000, gf=0.040, secs=0.2, GB=0.00, MB/s=18.45\n",
        "pass= 6\n",
        " 6.00%, ll=0.00000, gf=0.040, secs=0.2, GB=0.00, MB/s=18.57\n",
        "41.00%, ll=0.00000, gf=0.041, secs=0.3, GB=0.00, MB/s=19.10\n",
        "77.00%, ll=-0.10156, gf=0.042, secs=0.3, GB=0.01, MB/s=19.76\n",
        "100.00%, ll=0.00000, gf=0.043, secs=0.3, GB=0.01, MB/s=20.19\n",
        "pass= 7\n",
        " 6.00%, ll=0.00000, gf=0.043, secs=0.3, GB=0.01, MB/s=20.29\n",
        "41.00%, ll=0.00000, gf=0.042, secs=0.3, GB=0.01, MB/s=19.78\n",
        "77.00%, ll=0.00000, gf=0.043, secs=0.3, GB=0.01, MB/s=20.22\n",
        "100.00%, ll=0.00000, gf=0.044, secs=0.3, GB=0.01, MB/s=20.52\n",
        "pass= 8\n",
        " 6.00%, ll=0.00000, gf=0.044, secs=0.3, GB=0.01, MB/s=20.62\n",
        "41.00%, ll=0.00000, gf=0.045, secs=0.3, GB=0.01, MB/s=21.16\n",
        "77.00%, ll=0.00000, gf=0.045, secs=0.3, GB=0.01, MB/s=20.86\n",
        "100.00%, ll=0.00000, gf=0.045, secs=0.3, GB=0.01, MB/s=21.19\n",
        "pass= 9\n",
        " 6.00%, ll=0.00000, gf=0.046, secs=0.3, GB=0.01, MB/s=21.27\n",
        "41.00%, ll=0.00000, gf=0.047, secs=0.3, GB=0.01, MB/s=21.76\n",
        "77.00%, ll=0.00000, gf=0.048, secs=0.3, GB=0.01, MB/s=22.17\n",
        "100.00%, ll=0.00000, gf=0.048, secs=0.3, GB=0.01, MB/s=22.48\n",
        "Time=0.3310 secs, gflops=0.05\n",
        "corpus perplexity=NaN\n",
        "Predicting\n",
        " 4.00%, ll=-5.35505, gf=Infinity, secs=0.0, GB=0.00, MB/s=Infinity\n",
        " 9.00%, ll=-5.56336, gf=Infinity, secs=0.0, GB=0.00, MB/s=Infinity\n",
        "14.00%, ll=-5.39651, gf=0.036, secs=0.0, GB=0.00, MB/s=108.00\n",
        "19.00%, ll=-3.47791, gf=0.048, secs=0.0, GB=0.00, MB/s=144.00\n",
        "24.00%, ll=-4.42609, gf=0.060, secs=0.0, GB=0.00, MB/s=180.00\n",
        "29.00%, ll=-5.00045, gf=0.036, secs=0.0, GB=0.00, MB/s=108.00\n",
        "33.00%, ll=-4.28123, gf=0.042, secs=0.0, GB=0.00, MB/s=126.00\n",
        "38.00%, ll=-4.85835, gf=0.048, secs=0.0, GB=0.00, MB/s=144.00\n",
        "43.00%, ll=-4.95342, gf=0.036, secs=0.0, GB=0.00, MB/s=108.00\n",
        "48.00%, ll=-5.43300, gf=0.040, secs=0.0, GB=0.00, MB/s=120.00\n",
        "53.00%, ll=-4.59199, gf=0.044, secs=0.0, GB=0.00, MB/s=132.00\n",
        "58.00%, ll=-3.04440, gf=0.036, secs=0.0, GB=0.00, MB/s=108.00\n",
        "62.00%, ll=-4.28866, gf=0.039, secs=0.0, GB=0.00, MB/s=117.00\n",
        "67.00%, ll=-4.49006, gf=0.042, secs=0.0, GB=0.00, MB/s=126.00\n",
        "72.00%, ll=-6.24142, gf=0.036, secs=0.0, GB=0.00, MB/s=108.00\n",
        "77.00%, ll=-5.79272, gf=0.039, secs=0.0, GB=0.00, MB/s=115.20\n",
        "82.00%, ll=-3.15073, gf=0.041, secs=0.0, GB=0.00, MB/s=122.40\n",
        "87.00%, ll=-4.36058, gf=0.044, secs=0.0, GB=0.00, MB/s=129.60\n",
        "91.00%, ll=-7.38732, gf=0.038, secs=0.0, GB=0.00, MB/s=114.00\n",
        "96.00%, ll=-10.42975, gf=0.040, secs=0.0, GB=0.00, MB/s=120.00\n",
        "100.00%, ll=-6.19474, gf=0.042, secs=0.0, GB=0.00, MB/s=124.00\n",
        "Time=0.0070 secs, gflops=0.04\n"
       ]
      },
      {
       "output_type": "stream",
       "stream": "stdout",
       "text": []
      },
      {
       "metadata": {},
       "output_type": "pyout",
       "prompt_number": 8,
       "text": [
        "  -7.7981  -10.713  -10.620  -11.079  -10.499  -8.8026  -12.241  -12.910...\n",
        "   7.7981   10.713   10.620   11.079   10.499   8.8026   12.241   12.910...\n"
       ]
      }
     ],
     "prompt_number": 8
    },
    {
     "cell_type": "markdown",
     "metadata": {},
     "source": [
      "Since we have the accuracy scores for both Naive Bayes and Logistic regression, we can plot both of them on the same axes. Naive Bayes is red, Logistic regression is blue. The x-axis is the category number from 0 to 102. The y-axis is the absolute accuracy of the predictor for that category. "
     ]
    },
    {
     "cell_type": "code",
     "collapsed": false,
     "input": [
      "val lacc = (cx1 \u2219\u2192 ctest + (1-cx1) \u2219\u2192 (1-ctest))/cx1.ncols\n",
      "lacc.t\n",
      "mean(lacc)"
     ],
     "language": "python",
     "metadata": {},
     "outputs": [
      {
       "output_type": "stream",
       "stream": "stdout",
       "text": []
      },
      {
       "ename": "java.lang.NoClassDefFoundError",
       "evalue": "Could not initialize class ",
       "output_type": "pyerr",
       "traceback": [
        "java.lang.NoClassDefFoundError: Could not initialize class "
       ]
      },
      {
       "output_type": "stream",
       "stream": "stdout",
       "text": []
      }
     ],
     "prompt_number": 7
    },
    {
     "cell_type": "markdown",
     "metadata": {},
     "source": [
      "> TODO 3: With the full training set (700k training documents), Logistic Regression is noticeably more accurate than Naive Bayes in every category. What do you observe in the plot above? Why do you think this is?"
     ]
    },
    {
     "cell_type": "markdown",
     "metadata": {},
     "source": [
      "Next we'll compute the ROC plot and ROC area (AUC) for Logistic regression  for category itest."
     ]
    },
    {
     "cell_type": "code",
     "collapsed": false,
     "input": [
      "saveFMat(dict+\"wildliferesults.fmat.txt\",cx) "
     ],
     "language": "python",
     "metadata": {},
     "outputs": [
      {
       "output_type": "stream",
       "stream": "stdout",
       "text": []
      },
      {
       "output_type": "stream",
       "stream": "stdout",
       "text": []
      }
     ],
     "prompt_number": 40
    },
    {
     "cell_type": "markdown",
     "metadata": {},
     "source": [
      "We computed the ROC curve for Naive Bayes earlier, so now we can plot them on the same axes. Naive Bayes is once again in red, Logistic regression in blue. "
     ]
    },
    {
     "cell_type": "code",
     "collapsed": false,
     "input": [
      "cx1"
     ],
     "language": "python",
     "metadata": {},
     "outputs": [
      {
       "output_type": "stream",
       "stream": "stdout",
       "text": []
      },
      {
       "output_type": "stream",
       "stream": "stdout",
       "text": []
      },
      {
       "metadata": {},
       "output_type": "pyout",
       "prompt_number": 51,
       "text": [
        "  1.1398e-13  1.0409e-13  3.1763e-16  6.3486e-17  3.7628e-18  6.3368e-16...\n",
        "  1.0488e-14  3.4730e-14  1.2205e-16  1.6546e-17  7.8444e-19  1.5367e-16...\n",
        "  4.9068e-14  1.3641e-12  5.0059e-15  1.0316e-15  4.3107e-18  2.8967e-15...\n",
        "  3.2656e-14  5.3654e-14  1.1086e-16  1.9517e-17  8.0842e-19  3.9087e-17...\n",
        "  8.4080e-11  2.6030e-12  1.4020e-14  1.3571e-15  2.5275e-15  8.0566e-13...\n",
        "  1.8410e-13  2.3721e-13  2.6570e-16  6.7162e-17  5.4204e-18  8.2176e-16...\n",
        "  6.5161e-11  1.3945e-10  2.1820e-12  7.0878e-14  1.5250e-15  2.8615e-12...\n",
        "  1.6085e-13  1.9523e-13  3.2423e-16  5.6627e-17  7.7785e-18  1.7874e-15...\n",
        "          ..          ..          ..          ..          ..          ..\n"
       ]
      }
     ],
     "prompt_number": 51
    },
    {
     "cell_type": "markdown",
     "metadata": {},
     "source": [
      ">TODO 4: In the cell below, compute and plot lift curves from the ROC curves for Naive Bayes and Logistic regression. The lift curves should show the ratio of ROC y-values over a unit slope diagonal line (Y=X). The X-values should be the same as for the ROC plots, except that X=0 will be omitted since the lift will be undefined. "
     ]
    },
    {
     "cell_type": "code",
     "collapsed": false,
     "input": [
      "val dict = \"/Users/Anna/workspace/BIDMach_1.0.0-full-linux-x86_64/data/\"\n",
      "//val a = loadFMat(dict+\"arabic.fmat.lz4\")\n",
      "//val c = loadFMat(dict+\"arabic_cats.fmat.lz4\")\n",
      "val aa = loadFMat(dict+\"a.txt\")\n",
      "val c = loadFMat(dict+\"alabel.txt\")\n",
      "val a = aa + 0.5 \n",
      "val atrain =a(?,(100->a.ncols))\n",
      "val atest =a(?,(0->100))\n",
      "val ctrain =c(?,(100->a.ncols))\n",
      "val ctest =c(?,(0->100))\n",
      "max(atrain, 0.001, atrain)                       // the first \"traindata\" argument is the input, the other is output\n",
      "max(atest, 0.001, atest)\n",
      "atest"
     ],
     "language": "python",
     "metadata": {},
     "outputs": [
      {
       "output_type": "stream",
       "stream": "stdout",
       "text": []
      },
      {
       "output_type": "stream",
       "stream": "stdout",
       "text": []
      },
      {
       "metadata": {},
       "output_type": "pyout",
       "prompt_number": 2,
       "text": [
        "   0.075172    0.42627    0.64251    0.36696    0.19400    0.58963...\n",
        "    0.64074    0.42242    0.41518    0.87276    0.77227  0.0010000...\n"
       ]
      }
     ],
     "prompt_number": 2
    },
    {
     "cell_type": "markdown",
     "metadata": {},
     "source": [
      "> TODO 5: Experiment with different values for learning rate and batchSize to get the best performance for absolute accuracy and ROC area on category 6. Write your optimal values below:"
     ]
    },
    {
     "cell_type": "code",
     "collapsed": false,
     "input": [
      "val cx=zeros(ctest.nrows,ctest.ncols)\n",
      "val (mm,mopts,nn,nopts)=GLM.SVMlearner(atrain,ctrain,atest,cx)\n",
      "mopts.autoReset=false\n",
      "mopts.useGPU=false\n",
      "mopts.lrate=0.1\n",
      "mopts.batchSize=2\n",
      "mopts.dim=256\n",
      "mopts.startBlock=0\n",
      "mopts.npasses=10\n",
      "mopts.updateAll=false\n",
      "mopts.what"
     ],
     "language": "python",
     "metadata": {},
     "outputs": [
      {
       "output_type": "stream",
       "stream": "stdout",
       "text": [
        "Option Name       Type          Value\n",
        "===========       ====          =====\n",
        "addConstFeat      boolean       false\n",
        "autoReset         boolean       false\n",
        "batchSize         int           2\n",
        "dim               int           256\n",
        "doubleScore       boolean       false\n",
        "epsilon           float         1.0E-5\n",
        "evalStep          int           11\n",
        "featThreshold     Mat           null\n",
        "featType          int           1\n",
        "hashFeatures      boolean       false\n",
        "initsumsq         float         1.0E-5\n",
        "iweight           FMat          null\n",
        "lim               float         0.0\n",
        "links             IMat             3\n",
        "   3\n",
        "\n",
        "lrate             FMat          0.10000\n",
        "mask              FMat          null\n",
        "npasses           int           10\n",
        "nzPerColumn       int           0\n",
        "pstep             float         0.01\n",
        "putBack           int           -1\n",
        "r1nmats           int           1\n",
        "r2nmats           int           1\n",
        "reg1weight        FMat          1.0000e-07\n",
        "reg2weight        FMat          1\n",
        "resFile           String        null\n",
        "rmask             FMat          null\n",
        "sample            float         1.0\n",
        "sizeMargin        float         3.0\n",
        "startBlock        int           0\n",
        "targets           FMat          null\n",
        "targmap           FMat          null\n",
        "texp              FMat          0.50000\n",
        "updateAll         boolean       false\n",
        "useCache          boolean       true\n",
        "useDouble         boolean       false\n",
        "useGPU            boolean       false\n",
        "vexp              FMat          0.50000\n",
        "waitsteps         int           2\n"
       ]
      },
      {
       "output_type": "stream",
       "stream": "stdout",
       "text": []
      }
     ],
     "prompt_number": 41
    },
    {
     "cell_type": "code",
     "collapsed": false,
     "input": [
      "mm.train\n",
      "nn.predict"
     ],
     "language": "python",
     "metadata": {},
     "outputs": [
      {
       "output_type": "stream",
       "stream": "stdout",
       "text": [
        "corpus perplexity=992.808970\n",
        "pass= 0\n",
        " 6.00%, ll=-1.00000, gf=Infinity, secs=0.0, GB=0.00, MB/s=Infinity\n",
        "41.00%, ll=-0.28270, gf=0.079, secs=0.0, GB=0.00, MB/s=39.00\n",
        "77.00%, ll=-0.03527, gf=0.081, secs=0.0, GB=0.00, MB/s=38.40\n",
        "100.00%, ll=-0.20491, gf=0.083, secs=0.0, GB=0.00, MB/s=39.16\n",
        "pass= 1\n",
        " 6.00%, ll=-1.20125, gf=0.078, secs=0.0, GB=0.00, MB/s=37.71\n",
        "41.00%, ll=-0.30951, gf=0.083, secs=0.0, GB=0.00, MB/s=39.11\n",
        "77.00%, ll=-0.24529, gf=0.085, secs=0.0, GB=0.00, MB/s=40.00\n",
        "100.00%, ll=-0.13970, gf=0.086, secs=0.0, GB=0.00, MB/s=40.22\n",
        "pass= 2\n",
        " 6.00%, ll=-1.47287, gf=0.085, secs=0.0, GB=0.00, MB/s=40.42\n",
        "41.00%, ll=-0.22679, gf=0.087, secs=0.0, GB=0.00, MB/s=40.91\n",
        "77.00%, ll=-0.39799, gf=0.090, secs=0.0, GB=0.00, MB/s=42.12\n",
        "100.00%, ll=-0.17308, gf=0.090, secs=0.1, GB=0.00, MB/s=42.11\n",
        "pass= 3\n",
        " 6.00%, ll=-1.47907, gf=0.090, secs=0.1, GB=0.00, MB/s=42.22\n",
        "41.00%, ll=-0.30906, gf=0.092, secs=0.1, GB=0.00, MB/s=43.12\n",
        "77.00%, ll=-0.49180, gf=0.093, secs=0.1, GB=0.00, MB/s=43.20\n",
        "100.00%, ll=-0.23331, gf=0.094, secs=0.1, GB=0.00, MB/s=43.76\n",
        "pass= 4\n",
        " 6.00%, ll=-1.46579, gf=0.093, secs=0.1, GB=0.00, MB/s=43.83\n",
        "41.00%, ll=-0.37264, gf=0.094, secs=0.1, GB=0.00, MB/s=43.84\n",
        "77.00%, ll=-0.55793, gf=0.094, secs=0.1, GB=0.00, MB/s=43.85\n",
        "100.00%, ll=-0.28842, gf=0.095, secs=0.1, GB=0.00, MB/s=44.29\n",
        "pass= 5\n",
        " 6.00%, ll=-1.44678, gf=0.095, secs=0.1, GB=0.00, MB/s=44.33\n",
        "41.00%, ll=-0.42261, gf=0.095, secs=0.1, GB=0.00, MB/s=44.31\n",
        "77.00%, ll=-0.60707, gf=0.095, secs=0.1, GB=0.00, MB/s=44.29\n",
        "100.00%, ll=-0.33395, gf=0.096, secs=0.1, GB=0.00, MB/s=44.64\n",
        "pass= 6\n",
        " 6.00%, ll=-1.42705, gf=0.095, secs=0.1, GB=0.00, MB/s=44.67\n",
        "41.00%, ll=-0.46288, gf=0.097, secs=0.1, GB=0.00, MB/s=45.06\n",
        "77.00%, ll=-0.64504, gf=0.097, secs=0.1, GB=0.01, MB/s=45.40\n",
        "100.00%, ll=-0.37222, gf=0.098, secs=0.1, GB=0.01, MB/s=45.68\n",
        "pass= 7\n",
        " 6.00%, ll=-1.40822, gf=0.098, secs=0.1, GB=0.01, MB/s=45.70\n",
        "41.00%, ll=-0.49608, gf=0.099, secs=0.1, GB=0.01, MB/s=46.39\n",
        "77.00%, ll=-0.67528, gf=0.099, secs=0.1, GB=0.01, MB/s=46.27\n",
        "100.00%, ll=-0.40490, gf=0.100, secs=0.1, GB=0.01, MB/s=46.50\n",
        "pass= 8\n",
        " 6.00%, ll=-1.39079, gf=0.100, secs=0.1, GB=0.01, MB/s=46.51\n",
        "41.00%, ll=-0.52395, gf=0.100, secs=0.1, GB=0.01, MB/s=46.75\n",
        "77.00%, ll=-0.69995, gf=0.101, secs=0.1, GB=0.01, MB/s=46.96\n",
        "100.00%, ll=-0.43319, gf=0.101, secs=0.1, GB=0.01, MB/s=47.15\n",
        "pass= 9\n",
        " 6.00%, ll=-1.37481, gf=0.101, secs=0.1, GB=0.01, MB/s=47.16\n",
        "41.00%, ll=-0.54772, gf=0.102, secs=0.1, GB=0.01, MB/s=47.67\n",
        "77.00%, ll=-0.72047, gf=0.103, secs=0.2, GB=0.01, MB/s=47.84\n",
        "100.00%, ll=-0.45795, gf=0.103, secs=0.2, GB=0.01, MB/s=48.00\n",
        "Time=0.1550 secs, gflops=0.10\n",
        "corpus perplexity=985.317557\n",
        "Predicting\n",
        " 4.00%, ll=-1.00000, gf=Infinity, secs=0.0, GB=0.00, MB/s=Infinity\n",
        " 9.00%, ll=-1.00000, gf=Infinity, secs=0.0, GB=0.00, MB/s=Infinity\n",
        "14.00%, ll=-1.00000, gf=Infinity, secs=0.0, GB=0.00, MB/s=Infinity\n",
        "19.00%, ll=-1.00000, gf=Infinity, secs=0.0, GB=0.00, MB/s=Infinity\n",
        "24.00%, ll=-1.00000, gf=0.060, secs=0.0, GB=0.00, MB/s=180.00\n",
        "29.00%, ll=-1.00000, gf=0.073, secs=0.0, GB=0.00, MB/s=216.00\n",
        "33.00%, ll=-1.00000, gf=0.085, secs=0.0, GB=0.00, MB/s=252.00\n",
        "38.00%, ll=-1.00000, gf=0.097, secs=0.0, GB=0.00, MB/s=288.00\n",
        "43.00%, ll=-1.00000, gf=0.109, secs=0.0, GB=0.00, MB/s=324.00\n",
        "48.00%, ll=-1.00000, gf=0.121, secs=0.0, GB=0.00, MB/s=360.00\n",
        "53.00%, ll=-1.00000, gf=0.066, secs=0.0, GB=0.00, MB/s=198.00\n",
        "58.00%, ll=-1.00000, gf=0.073, secs=0.0, GB=0.00, MB/s=216.00\n",
        "62.00%, ll=-1.00000, gf=0.079, secs=0.0, GB=0.00, MB/s=234.00\n",
        "67.00%, ll=-1.00000, gf=0.085, secs=0.0, GB=0.00, MB/s=251.99\n",
        "72.00%, ll=-1.00000, gf=0.091, secs=0.0, GB=0.00, MB/s=269.99\n",
        "77.00%, ll=-1.00000, gf=0.097, secs=0.0, GB=0.00, MB/s=287.99\n",
        "82.00%, ll=-1.00000, gf=0.069, secs=0.0, GB=0.00, MB/s=204.00\n",
        "87.00%, ll=-1.00000, gf=0.073, secs=0.0, GB=0.00, MB/s=216.00\n",
        "91.00%, ll=-1.00000, gf=0.077, secs=0.0, GB=0.00, MB/s=228.00\n",
        "96.00%, ll=-1.00000, gf=0.081, secs=0.0, GB=0.00, MB/s=240.00\n",
        "100.00%, ll=-1.00000, gf=0.083, secs=0.0, GB=0.00, MB/s=248.00\n",
        "Time=0.0030 secs, gflops=0.08\n"
       ]
      },
      {
       "output_type": "stream",
       "stream": "stdout",
       "text": []
      }
     ],
     "prompt_number": 42
    },
    {
     "cell_type": "code",
     "collapsed": false,
     "input": [
      "val cx1=cx*5\n",
      "min(cx1, 1, cx1)                       // the first \"traindata\" argument is the input, the other is output\n",
      "max(cx1, 0, cx1) \n",
      "val p=ctest *@cx1 +(1-ctest) *@(1-cx1)\n",
      "mean(p,2)"
     ],
     "language": "python",
     "metadata": {},
     "outputs": []
    },
    {
     "cell_type": "code",
     "collapsed": false,
     "input": [
      "cx1"
     ],
     "language": "python",
     "metadata": {},
     "outputs": [
      {
       "output_type": "stream",
       "stream": "stdout",
       "text": []
      },
      {
       "output_type": "stream",
       "stream": "stdout",
       "text": []
      },
      {
       "metadata": {},
       "output_type": "pyout",
       "prompt_number": 6,
       "text": [
        "         1   0.48584   0.16356         1         1         0  0.098707...\n",
        "         0         0         0         0         0   0.82548         0...\n"
       ]
      }
     ],
     "prompt_number": 6
    },
    {
     "cell_type": "code",
     "collapsed": false,
     "input": [
      "val lacc = (cx1 \u2219\u2192 ctest + (1-cx1) \u2219\u2192 (1-ctest))/cx1.ncols\n",
      "lacc.t\n",
      "mean(lacc)"
     ],
     "language": "python",
     "metadata": {},
     "outputs": [
      {
       "output_type": "stream",
       "stream": "stdout",
       "text": []
      },
      {
       "output_type": "stream",
       "stream": "stdout",
       "text": []
      },
      {
       "metadata": {},
       "output_type": "pyout",
       "prompt_number": 7,
       "text": [
        "0.76865"
       ]
      }
     ],
     "prompt_number": 7
    },
    {
     "cell_type": "code",
     "collapsed": false,
     "input": [
      "val model = mm.model\n",
      "val (nn1, nopts1) = GLM.LBFGSpredictor(model, atest, cx)"
     ],
     "language": "python",
     "metadata": {},
     "outputs": [
      {
       "output_type": "stream",
       "stream": "stdout",
       "text": []
      },
      {
       "output_type": "stream",
       "stream": "stdout",
       "text": []
      },
      {
       "metadata": {},
       "output_type": "pyout",
       "prompt_number": 8,
       "text": [
        "BIDMach.models.GLM$LearnLBFGSOptions@3fde0ffe"
       ]
      }
     ],
     "prompt_number": 8
    },
    {
     "cell_type": "code",
     "collapsed": false,
     "input": [
      "nn1.predict"
     ],
     "language": "python",
     "metadata": {},
     "outputs": [
      {
       "output_type": "stream",
       "stream": "stdout",
       "text": [
        "corpus perplexity=1.970211\n",
        "Predicting\n",
        " 4.00%, ll=-0.88782, gf=0.000, secs=0.0, GB=0.00, MB/s= 0.10\n",
        " 8.00%, ll=-0.87371, gf=0.000, secs=0.0, GB=0.00, MB/s= 0.19\n",
        "12.00%, ll=-0.94405, gf=0.000, secs=0.0, GB=0.00, MB/s= 0.29\n",
        "16.00%, ll=-0.97745, gf=0.001, secs=0.0, GB=0.00, MB/s= 0.38\n",
        "20.00%, ll=-0.91692, gf=0.000, secs=0.0, GB=0.00, MB/s= 0.24\n",
        "24.00%, ll=-0.95906, gf=0.000, secs=0.0, GB=0.00, MB/s= 0.29\n",
        "28.00%, ll=-0.91178, gf=0.001, secs=0.0, GB=0.00, MB/s= 0.34\n",
        "32.00%, ll=-0.80047, gf=0.001, secs=0.0, GB=0.00, MB/s= 0.38\n",
        "36.00%, ll=-0.92667, gf=0.001, secs=0.0, GB=0.00, MB/s= 0.43\n",
        "40.00%, ll=-0.91742, gf=0.001, secs=0.0, GB=0.00, MB/s= 0.48\n",
        "44.00%, ll=-0.92421, gf=0.001, secs=0.0, GB=0.00, MB/s= 0.53\n",
        "48.00%, ll=-0.94550, gf=0.001, secs=0.0, GB=0.00, MB/s= 0.38\n",
        "51.00%, ll=-0.81677, gf=0.001, secs=0.0, GB=0.00, MB/s= 0.42\n",
        "56.00%, ll=-0.91331, gf=0.001, secs=0.0, GB=0.00, MB/s= 0.45\n",
        "60.00%, ll=-0.93091, gf=0.001, secs=0.0, GB=0.00, MB/s= 0.48\n",
        "64.00%, ll=-0.85525, gf=0.001, secs=0.0, GB=0.00, MB/s= 0.51\n",
        "68.00%, ll=-0.87134, gf=0.001, secs=0.0, GB=0.00, MB/s= 0.54\n",
        "72.00%, ll=-0.94563, gf=0.001, secs=0.0, GB=0.00, MB/s= 0.58\n",
        "76.00%, ll=-0.78031, gf=0.001, secs=0.0, GB=0.00, MB/s= 0.46\n",
        "80.00%, ll=-0.94823, gf=0.001, secs=0.0, GB=0.00, MB/s= 0.48\n",
        "83.00%, ll=-0.95096, gf=0.001, secs=0.0, GB=0.00, MB/s= 0.50\n",
        "88.00%, ll=-0.86657, gf=0.001, secs=0.0, GB=0.00, MB/s= 0.53\n",
        "92.00%, ll=-0.97759, gf=0.001, secs=0.0, GB=0.00, MB/s= 0.55\n",
        "96.00%, ll=-0.75901, gf=0.001, secs=0.0, GB=0.00, MB/s= 0.58\n",
        "100.00%, ll=-0.93326, gf=0.001, secs=0.0, GB=0.00, MB/s= 0.60\n",
        "Time=0.0050 secs, gflops=0.00\n"
       ]
      },
      {
       "output_type": "stream",
       "stream": "stdout",
       "text": []
      }
     ],
     "prompt_number": 9
    },
    {
     "cell_type": "code",
     "collapsed": false,
     "input": [
      "val cx1=cx*10\n",
      "min(cx1, 1, cx1)                       // the first \"traindata\" argument is the input, the other is output\n",
      "max(cx1, 0, cx1) \n",
      "val p=ctest *@cx1 +(1-ctest) *@(1-cx1)\n",
      "mean(p,2)\n",
      "val lacc = (cx1 \u2219\u2192 ctest + (1-cx1) \u2219\u2192 (1-ctest))/cx1.ncols\n",
      "lacc.t\n",
      "mean(lacc)"
     ],
     "language": "python",
     "metadata": {},
     "outputs": [
      {
       "output_type": "stream",
       "stream": "stdout",
       "text": []
      },
      {
       "output_type": "stream",
       "stream": "stdout",
       "text": []
      },
      {
       "metadata": {},
       "output_type": "pyout",
       "prompt_number": 10,
       "text": [
        "0.81119"
       ]
      }
     ],
     "prompt_number": 10
    },
    {
     "cell_type": "code",
     "collapsed": false,
     "input": [
      "cx1"
     ],
     "language": "python",
     "metadata": {},
     "outputs": [
      {
       "output_type": "stream",
       "stream": "stdout",
       "text": []
      },
      {
       "output_type": "stream",
       "stream": "stdout",
       "text": []
      },
      {
       "metadata": {},
       "output_type": "pyout",
       "prompt_number": 11,
       "text": [
        "        1  0.97167  0.32712        1        1        0  0.19741        1...\n",
        "        0        0        0        0        0        1        0        0...\n"
       ]
      }
     ],
     "prompt_number": 11
    },
    {
     "cell_type": "code",
     "collapsed": false,
     "input": [
      "saveFMat(dict+\"moonresult.fmat.txt\",cx)"
     ],
     "language": "python",
     "metadata": {},
     "outputs": [
      {
       "output_type": "stream",
       "stream": "stdout",
       "text": []
      },
      {
       "output_type": "stream",
       "stream": "stdout",
       "text": []
      }
     ],
     "prompt_number": 23
    },
    {
     "cell_type": "code",
     "collapsed": false,
     "input": [],
     "language": "python",
     "metadata": {},
     "outputs": []
    },
    {
     "cell_type": "code",
     "collapsed": false,
     "input": [],
     "language": "python",
     "metadata": {},
     "outputs": [],
     "prompt_number": 19
    }
   ],
   "metadata": {}
  }
 ]
}
