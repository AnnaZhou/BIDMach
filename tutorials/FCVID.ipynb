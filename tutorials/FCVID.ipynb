{
 "metadata": {
  "name": "",
  "signature": "sha256:43c051cc2217f2785e9ad2392dc8bdcfcc697cc7f1f7986802e9fc5f6240ee2d"
 },
 "nbformat": 3,
 "nbformat_minor": 0,
 "worksheets": [
  {
   "cells": [
    {
     "cell_type": "heading",
     "level": 1,
     "metadata": {},
     "source": [
      "COCOA Method based on LBFGS Optimization"
     ]
    },
    {
     "cell_type": "markdown",
     "metadata": {},
     "source": [
      "In this tutorial, we'll explore training and evaluation of L-BFGS method based Logitistic Regression Classifiers.\n",
      "\n",
      "To start, we import the standard BIDMach class definitions. "
     ]
    },
    {
     "cell_type": "code",
     "collapsed": false,
     "input": [
      "import BIDMat.{CMat,CSMat,DMat,Dict,IDict,FMat,GMat,GIMat,GSMat,HMat,IMat,Mat,SMat,SBMat,SDMat}\n",
      "import BIDMat.MatFunctions._\n",
      "import BIDMat.SciFunctions._\n",
      "import BIDMat.Solvers._\n",
      "import BIDMat.Plotting._\n",
      "import BIDMach.Learner\n",
      "import BIDMach.models.{FM,GLM,KMeans,LDA,LDAgibbs,NMF,SFA}\n",
      "import BIDMach.datasources.{MatDS,FilesDS,SFilesDS}\n",
      "import BIDMach.mixins.{CosineSim,Perplexity,Top,L1Regularizer,L2Regularizer}\n",
      "import BIDMach.updaters.{ADAGrad,Batch,BatchNorm,IncMult,IncNorm,Telescoping}\n",
      "import BIDMach.causal.{IPTW}\n",
      "\n",
      "Mat.checkMKL\n",
      "Mat.checkCUDA\n",
      "if (Mat.hasCUDA > 0) GPUmem\n"
     ],
     "language": "python",
     "metadata": {},
     "outputs": [
      {
       "output_type": "stream",
       "stream": "stdout",
       "text": [
        "Cant find native HDF5 library\n",
        "Couldnt load JCuda\n"
       ]
      },
      {
       "output_type": "stream",
       "stream": "stdout",
       "text": []
      },
      {
       "metadata": {},
       "output_type": "pyout",
       "prompt_number": 1,
       "text": [
        "()"
       ]
      }
     ],
     "prompt_number": 1
    },
    {
     "cell_type": "markdown",
     "metadata": {},
     "source": [
      "Now we load some training and test data, and some category labels. The data come from a news collection from Reuters, and is a \"classic\" test set for classification. Each article belongs to one or more of 103 categories. The articles are represented as Bag-of-Words (BoW) column vectors. For a data matrix A, element A(i,j) holds the count of word i in document j. \n",
      "\n",
      "The category matrices have 103 rows, and a category matrix C has a one in position C(i,j) if document j is tagged with category i, or zero otherwise.  \n",
      "\n",
      "To reduce the computing time and memory footprint, the training data have been sampled. The full collection has about 700k documents. Our training set has 60k. \n",
      "\n",
      "Since the document matrices contain counts of words, we use a min function to limit the count to \"1\", i.e. because we need binary features for naive Bayes. "
     ]
    },
    {
     "cell_type": "code",
     "collapsed": false,
     "input": [
      "\n",
      "//val dict = \"/Users/Anna/workspace/BIDMach/data/\"\n",
      "//val rpath = \"/Users/Anna/workspace/BIDMach/data/\"\n",
      "\n",
      "val dict = \"/Users/Anna/workspace/BIDMach/data/\"\n",
      "val rpath = \"/Users/Anna/workspace/BIDMach/data/\"\n",
      "//val dict = \"/mnt/data/FCVID/FCVID_Feature/\"\n",
      "//val rpath = \"/mnt/data/FCVID/FCVID_Results/\"\n",
      "\n",
      "var index = 79; \n",
      "var index1 = 110;\n",
      "var tnum = 1;\n",
      "var tnum1 = 1;\n",
      "var tnumx = 1;\n",
      "var tnumx1 = 1;\n",
      "for(index <- 1 to 1){\n",
      " var aa = loadFMat(dict+index+\".txt\")\n",
      "// var c = loadFMat(dict+index+\"_test\"+\".txt\")\n",
      " var b = loadFMat(dict+\"all\"+index+\".txt\")\n",
      "\n",
      "//var a = aa.t   \n",
      "var atrain = aa(?,(239->aa.ncols))\n",
      "//var atest = c(?,(239->c.ncols))\n",
      "var atrain1 = b(?,(239->b.ncols))\n",
      "\n",
      "\n",
      "var maxx1 = maxi(maxi(atrain,1),2);\n",
      "var minx1 = mini(mini(atrain,1),2);\n",
      "var maxx2 = maxi(maxi(atrain1,1),2);\n",
      "var minx2 = mini(mini(atrain1,1),2);\n",
      "var maxx = 0.0;\n",
      "var minx = 0.0;\n",
      "if((maxx1.data(0))>(maxx2.data(0))){maxx=maxx1.data(0);}\n",
      "else {maxx=maxx2.data(0);}\n",
      "if((minx1.data(0))>(minx2.data(0))){minx=minx2.data(0);}\n",
      "else {minx=minx1.data(0);}\n",
      "//println(maxx,minx)  \n",
      "atrain = (atrain-minx)/(maxx-minx);\n",
      "atrain1 = (atrain1-minx)/(maxx-minx); \n",
      "\n",
      "tnumx = (atrain.nrows+1)/2;\n",
      "tnumx1 = (atrain1.nrows+1)/2;\n",
      "if((tnumx)>(tnumx1)){tnum=tnumx;tnum1=tnumx;}\n",
      "else {tnum=tnumx;tnum1=tnumx;}\n",
      "\n",
      "var ttrain = atrain(0->tnum,?);                 //atrain(0->tnum,(239->atrain.ncols) )\n",
      "var ttest = atrain(tnum->atrain.nrows,?);       //atrain(tnum->atrain.nrows,(239->atrain.ncols) )\n",
      "\n",
      "println(tnum,tnum1);\n",
      "var ttrain1 = atrain1(0->tnum1,?);              //atrain1(0->tnum1,(239->atrain1.ncols) )\n",
      "var ttest1 = atrain1(tnum1->atrain1.nrows,?);   //atrain1(tnum1->atrain1.nrows,(239->atrain1.ncols) )\n",
      "\n",
      "\n",
      "var trainx = zeros( (tnum+tnum),4096);\n",
      "var testx = zeros( (ttest.nrows+ttest1.nrows),4096);\n",
      "var ctrain1=zeros(2,(tnum+tnum) ) ;\n",
      "var ctest=zeros(2,(ttest.nrows+ttest1.nrows) ) ;\n",
      "\n",
      "for(i<-0 to (tnum-1) )\n",
      "{\n",
      "   trainx((2*i),?)=ttrain(i,?);\n",
      "   trainx((2*i+1),?)=ttrain1(i,?);\n",
      "   ctrain1(0,(2*i))= 1;  ctrain1(1,(2*i+1))= 1;\n",
      "   ctrain1(1,(2*i))= -1;  ctrain1(0,(2*i+1))= -1;\n",
      "}\n",
      "\n",
      "/*\n",
      "trainx(0->(ttrain.nrows),?)=ttrain\n",
      "trainx( (ttrain.nrows)->(ttrain.nrows+ttrain1.nrows),?)=ttrain1\n",
      "ctrain1(0,(0->(ttrain.nrows) ) )= 1\n",
      "ctrain1(1,(ttrain.nrows)->(ttrain.nrows+ttrain1.nrows)) = 1\n",
      "//ctrain1(1,(0->(ttrain.nrows) ) )= -1\n",
      "//ctrain1(0,(ttrain.nrows)->(ttrain.nrows+ttrain1.nrows)) = -1\n",
      "*/\n",
      "//println(trainx.nrows,trainx.ncols);\n",
      "\n",
      "testx(0->(ttest.nrows),?)=ttest\n",
      "testx( (ttest.nrows)->(ttest.nrows+ttest1.nrows),?)=ttest1\n",
      "\n",
      "ctest(0,(0->(ttest.nrows) ) )= 1\n",
      "ctest(1,(ttest.nrows)->(ttest.nrows+ttest1.nrows)) = 1\n",
      "\n",
      "//max(atrain, 0.001, atrain)                       // the first \"traindata\" argument is the input, the other is out\n",
      "tnum=testx.nrows\n",
      "val cx=zeros(2,testx.nrows)\n",
      "\n",
      "val (mm,mopts,nn,nopts)=GLM.COCOAlearner(trainx.t,ctrain1,testx.t,cx)\n",
      "mopts.autoReset=false\n",
      "mopts.useGPU=false\n",
      "mopts.lrate=0.1\n",
      "mopts.batchSize=100\n",
      "mopts.dim=256\n",
      "mopts.startBlock=0\n",
      "mopts.npasses=20\n",
      "mopts.updateAll=false\n",
      "mm.train;\n",
      "nn.predict;\n",
      "\n",
      "saveFMat(rpath+\"r\"+index+\".txt\",cx/tnum);\n",
      "//}\n",
      "var count = zeros(2,1);\n",
      "min(cx, 1, cx)                       // the first \"traindata\" argument is the input, the other is output\n",
      "max(cx, 0, cx) \n",
      "println(cx.nrows,cx.ncols);\n",
      "for(i<-0 to (1)){ for(j<-0 to (cx.ncols-1)){if(cx(i,j)>0.0){cx(i,j)=1;count(i,0)+=1;}} }\n",
      "val p=ctest *@cx +(1-ctest) *@(1-cx)\n",
      "var meanp=mean(p,2)\n",
      "saveFMat(rpath+\"meanp\"+index+\".txt\",meanp);\n",
      "println(meanp,cx)\n",
      "}\n"
     ],
     "language": "python",
     "metadata": {},
     "outputs": [
      {
       "output_type": "stream",
       "stream": "stdout",
       "text": [
        "(294,294)\n",
        "corpus perplexity=3311.776614\n",
        "pass= 0\n",
        "34.00%, ll=-1.10481, gf=1.424, secs=0.0, GB=0.01, MB/s=994.65\n",
        "100.00%, ll=-0.90176, gf=1.582, secs=0.0, GB=0.02, MB/s=902.89\n",
        "pass= 1\n",
        "34.00%, ll=-1.60547, gf=1.598, secs=0.0, GB=0.03, MB/s=956.17\n",
        "100.00%, ll=-3.34223, gf=1.540, secs=0.0, GB=0.04, MB/s=943.93\n",
        "pass= 2\n",
        "34.00%, ll=-2.65207, gf=1.484, secs=0.0, GB=0.05, MB/s=989.71\n",
        "100.00%, ll=-3.34223, gf=1.401, secs=0.1, GB=0.06, MB/s=1038.33\n",
        "pass= 3\n",
        "34.00%, ll=-2.65207, gf=1.348, secs=0.1, GB=0.07, MB/s=1049.43\n",
        "100.00%, ll=-3.34223, gf=1.303, secs=0.1, GB=0.08, MB/s=1078.78\n",
        "pass= 4\n",
        "34.00%, ll=-2.65207, gf=1.284, secs=0.1, GB=0.09, MB/s=1097.91\n",
        "100.00%, ll=-3.34223, gf=1.268, secs=0.1, GB=0.10, MB/s=1128.61\n",
        "pass= 5\n",
        "34.00%, ll=-2.65207, gf=1.280, secs=0.1, GB=0.11, MB/s=1166.26\n",
        "100.00%, ll=-3.34223, gf=1.303, secs=0.1, GB=0.12, MB/s=1221.56\n",
        "pass= 6\n",
        "34.00%, ll=-2.65207, gf=1.289, secs=0.1, GB=0.13, MB/s=1229.55\n",
        "100.00%, ll=-3.34223, gf=1.254, secs=0.1, GB=0.15, MB/s=1221.56\n",
        "pass= 7\n",
        "34.00%, ll=-2.65207, gf=1.234, secs=0.1, GB=0.15, MB/s=1218.62\n",
        "100.00%, ll=-3.34223, gf=1.208, secs=0.1, GB=0.17, MB/s=1212.64\n",
        "pass= 8\n",
        "34.00%, ll=-2.65207, gf=1.201, secs=0.1, GB=0.17, MB/s=1218.98\n",
        "100.00%, ll=-3.34223, gf=1.181, secs=0.2, GB=0.19, MB/s=1213.63\n",
        "pass= 9\n",
        "34.00%, ll=-2.65207, gf=1.168, secs=0.2, GB=0.19, MB/s=1211.63\n",
        "100.00%, ll=-3.34223, gf=1.159, secs=0.2, GB=0.21, MB/s=1214.42\n",
        "pass=10\n"
       ]
      },
      {
       "output_type": "stream",
       "stream": "stdout",
       "text": [
        "34.00%, ll=-2.65207, gf=1.147, secs=0.2, GB=0.21, MB/s=1212.59\n",
        "100.00%, ll=-3.34223, gf=1.159, secs=0.2, GB=0.23, MB/s=1234.77\n",
        "pass=11\n",
        "34.00%, ll=-2.65207, gf=1.155, secs=0.2, GB=0.24, MB/s=1238.92\n",
        "100.00%, ll=-3.34223, gf=1.148, secs=0.2, GB=0.25, MB/s=1239.79\n",
        "pass=12\n",
        "34.00%, ll=-2.65207, gf=1.150, secs=0.2, GB=0.26, MB/s=1249.56\n",
        "100.00%, ll=-3.34223, gf=1.144, secs=0.2, GB=0.27, MB/s=1249.84\n",
        "pass=13\n",
        "34.00%, ll=-2.65207, gf=1.151, secs=0.2, GB=0.28, MB/s=1264.51\n"
       ]
      },
      {
       "output_type": "stream",
       "stream": "stdout",
       "text": [
        "100.00%, ll=-3.34223, gf=1.150, secs=0.2, GB=0.29, MB/s=1269.57\n",
        "pass=14\n",
        "34.00%, ll=-2.65207, gf=1.152, secs=0.2, GB=0.30, MB/s=1277.65\n",
        "100.00%, ll=-3.34223, gf=1.137, secs=0.2, GB=0.31, MB/s=1266.25\n",
        "pass=15\n",
        "34.00%, ll=-2.65207, gf=1.129, secs=0.3, GB=0.32, MB/s=1263.73\n",
        "100.00%, ll=-3.34223, gf=1.117, secs=0.3, GB=0.33, MB/s=1253.83\n",
        "pass=16\n",
        "34.00%, ll=-2.65207, gf=1.110, secs=0.3, GB=0.34, MB/s=1251.76\n"
       ]
      },
      {
       "output_type": "stream",
       "stream": "stdout",
       "text": [
        "100.00%, ll=-3.34223, gf=1.107, secs=0.3, GB=0.35, MB/s=1251.88\n",
        "pass=17\n",
        "34.00%, ll=-2.65207, gf=1.101, secs=0.3, GB=0.36, MB/s=1249.98\n",
        "100.00%, ll=-3.34223, gf=1.088, secs=0.3, GB=0.37, MB/s=1237.74\n",
        "pass=18\n",
        "34.00%, ll=-2.65207, gf=1.093, secs=0.3, GB=0.38, MB/s=1248.39\n",
        "100.00%, ll=-3.34223, gf=1.088, secs=0.3, GB=0.39, MB/s=1244.68\n",
        "pass=19\n",
        "34.00%, ll=-2.65207, gf=1.083, secs=0.3, GB=0.40, MB/s=1243.11\n"
       ]
      },
      {
       "output_type": "stream",
       "stream": "stdout",
       "text": [
        "100.00%, ll=-3.34223, gf=1.075, secs=0.3, GB=0.42, MB/s=1236.10\n",
        "Time=0.3360 secs, gflops=1.07\n",
        "corpus perplexity=3581.747353\n",
        "Predicting\n",
        " 2.00%, ll=-18.37647, gf=0.328, secs=0.0, GB=0.00, MB/s=625.97\n",
        " 4.00%, ll=-20.36330, gf=0.656, secs=0.0, GB=0.00, MB/s=1298.17\n",
        " 6.00%, ll=-21.86752, gf=0.985, secs=0.0, GB=0.00, MB/s=1992.28\n",
        " 8.00%, ll=-17.05820, gf=0.656, secs=0.0, GB=0.00, MB/s=1303.83\n",
        "11.00%, ll=-18.29173, gf=0.821, secs=0.0, GB=0.00, MB/s=1636.02\n",
        "13.00%, ll=-19.98672, gf=0.656, secs=0.0, GB=0.00, MB/s=1301.32\n",
        "15.00%, ll=-18.61013, gf=0.766, secs=0.0, GB=0.00, MB/s=1512.99\n",
        "17.00%, ll=-18.88124, gf=0.656, secs=0.0, GB=0.01, MB/s=1312.15\n",
        "19.00%, ll=-22.79009, gf=0.591, secs=0.0, GB=0.01, MB/s=1180.99\n",
        "22.00%, ll=-15.80888, gf=0.656, secs=0.0, GB=0.01, MB/s=1316.11\n",
        "24.00%, ll=-19.11248, gf=0.602, secs=0.0, GB=0.01, MB/s=1203.36\n",
        "26.00%, ll=-12.44196, gf=0.656, secs=0.0, GB=0.01, MB/s=1303.79\n",
        "28.00%, ll=-11.45392, gf=0.610, secs=0.0, GB=0.01, MB/s=1213.98\n",
        "30.00%, ll=-17.23723, gf=0.656, secs=0.0, GB=0.01, MB/s=1308.36\n",
        "33.00%, ll=-21.43610, gf=0.615, secs=0.0, GB=0.01, MB/s=1225.05\n",
        "35.00%, ll=-4.95618, gf=0.656, secs=0.0, GB=0.01, MB/s=1328.64\n",
        "37.00%, ll=-6.54261, gf=0.620, secs=0.0, GB=0.01, MB/s=1268.04\n",
        "39.00%, ll=-6.43491, gf=0.656, secs=0.0, GB=0.01, MB/s=1352.39\n",
        "41.00%, ll=-7.39978, gf=0.624, secs=0.0, GB=0.01, MB/s=1295.68\n",
        "44.00%, ll=-5.49042, gf=0.656, secs=0.0, GB=0.01, MB/s=1377.19\n",
        "46.00%, ll=-5.26721, gf=0.627, secs=0.0, GB=0.01, MB/s=1332.47\n",
        "48.00%, ll=-5.91715, gf=0.656, secs=0.0, GB=0.02, MB/s=1416.71\n",
        "50.00%, ll=-5.43796, gf=0.629, secs=0.0, GB=0.02, MB/s=1371.79\n",
        "53.00%, ll=-5.68120, gf=0.656, secs=0.0, GB=0.02, MB/s=1448.10\n",
        "55.00%, ll=-8.55654, gf=0.631, secs=0.0, GB=0.02, MB/s=1389.93\n",
        "57.00%, ll=-6.45838, gf=0.656, secs=0.0, GB=0.02, MB/s=1450.15\n",
        "59.00%, ll=-6.74090, gf=0.633, secs=0.0, GB=0.02, MB/s=1396.40\n",
        "61.00%, ll=-10.67279, gf=0.656, secs=0.0, GB=0.02, MB/s=1452.93\n",
        "64.00%, ll=-6.72539, gf=0.635, secs=0.0, GB=0.02, MB/s=1401.84\n",
        "66.00%, ll=-7.30597, gf=0.656, secs=0.0, GB=0.02, MB/s=1446.89\n",
        "68.00%, ll=-10.25010, gf=0.636, secs=0.0, GB=0.02, MB/s=1403.03\n",
        "70.00%, ll=-6.67694, gf=0.656, secs=0.0, GB=0.02, MB/s=1449.99\n",
        "72.00%, ll=-7.95217, gf=0.637, secs=0.0, GB=0.02, MB/s=1407.63\n",
        "75.00%, ll=-5.63602, gf=0.656, secs=0.0, GB=0.02, MB/s=1449.68\n",
        "77.00%, ll=-12.40369, gf=0.638, secs=0.0, GB=0.03, MB/s=1408.95\n",
        "79.00%, ll=-11.76197, gf=0.656, secs=0.0, GB=0.03, MB/s=1452.44\n",
        "81.00%, ll=-8.89982, gf=0.639, secs=0.0, GB=0.03, MB/s=1418.61\n",
        "83.00%, ll=-10.04378, gf=0.656, secs=0.0, GB=0.03, MB/s=1453.74\n",
        "86.00%, ll=-9.36604, gf=0.640, secs=0.0, GB=0.03, MB/s=1419.19\n",
        "88.00%, ll=-6.57005, gf=0.656, secs=0.0, GB=0.03, MB/s=1461.19\n",
        "90.00%, ll=-5.58069, gf=0.641, secs=0.0, GB=0.03, MB/s=1429.60\n",
        "92.00%, ll=-5.34550, gf=0.627, secs=0.0, GB=0.03, MB/s=1394.96\n",
        "95.00%, ll=-8.51777, gf=0.642, secs=0.0, GB=0.03, MB/s=1429.38\n",
        "97.00%, ll=-9.78860, gf=0.628, secs=0.0, GB=0.03, MB/s=1398.74\n",
        "99.00%, ll=-10.68773, gf=0.642, secs=0.0, GB=0.03, MB/s=1433.02\n",
        "100.00%, ll=-8.28148, gf=0.646, secs=0.0, GB=0.03, MB/s=1441.30\n",
        "Time=0.0240 secs, gflops=0.62\n",
        "(2,905)\n",
        "(  0.82099\n",
        "  0.80552\n",
        ",   0   1   1   1   1   1   1   1   1   1   1   1   1   1   1   1   1   0   1   1   1   1   1   1   1   1   1   0   1   1   0   1   1   1   1...\n",
        "   1   0   0   0   0   0   0   0   0   0   0   0   0   0   0   0   0   1   0   0   0   0   0   0   0   0   0   1   0   0   1   0   0   0   0...\n",
        ")\n"
       ]
      },
      {
       "output_type": "stream",
       "stream": "stdout",
       "text": []
      }
     ],
     "prompt_number": 42
    },
    {
     "cell_type": "markdown",
     "metadata": {},
     "source": [
      "Get the word and document counts from the data. This turns out to be equivalent to a matrix multiply. For a data matrix A and category matrix C, we want all (cat, word) pairs (i,j) such that C(i,k) and A(j,k) are both 1 - this means that document k contains word j, and is also tagged with category i. Summing over all documents gives us\n",
      "\n",
      "$${\\rm wordcatCounts(i,j)} = \\sum_{k=1}^N C(i,k) A(j,k) = C * A^T$$\n",
      "\n",
      "\n",
      "Because we are doing independent binary classifiers for each class, we need to construct the counts for words not in the class (negwcounts).\n",
      "\n",
      "Finally, we add a smoothing count 0.5 to counts that could be zero."
     ]
    },
    {
     "cell_type": "code",
     "collapsed": false,
     "input": [
      "val cx=zeros(ctest.nrows,ctest.ncols)\n",
      "val (mm,mopts,nn,nopts)=GLM.learner(atrain,ctrain,atest,cx,0)\n",
      "mopts.autoReset=false\n",
      "mopts.useGPU=false\n",
      "mopts.lrate=0.1\n",
      "mopts.batchSize=2\n",
      "mopts.dim=256\n",
      "mopts.startBlock=0\n",
      "mopts.npasses=10\n",
      "mopts.updateAll=false\n",
      "//mopts.what"
     ],
     "language": "python",
     "metadata": {},
     "outputs": [
      {
       "output_type": "stream",
       "stream": "stdout",
       "text": []
      },
      {
       "output_type": "stream",
       "stream": "stdout",
       "text": []
      },
      {
       "metadata": {},
       "output_type": "pyout",
       "prompt_number": 45,
       "text": [
        "false"
       ]
      }
     ],
     "prompt_number": 45
    },
    {
     "cell_type": "markdown",
     "metadata": {},
     "source": [
      "Now compute the probabilities \n",
      "* pwordcat = probability that a word is in a cat, given the cat.\n",
      "* pwordncat = probability of a word, given the complement of the cat.\n",
      "* pcat = probability that doc is in a given cat. \n",
      "* spcat = sum of pcat probabilities (> 1 because docs can be in multiple cats)"
     ]
    },
    {
     "cell_type": "code",
     "collapsed": false,
     "input": [
      "//mm.train\n",
      "//nn.predict\n",
      "atrain.ncols"
     ],
     "language": "python",
     "metadata": {},
     "outputs": [
      {
       "output_type": "stream",
       "stream": "stdout",
       "text": []
      },
      {
       "ename": "java.lang.NoClassDefFoundError",
       "evalue": "Could not initialize class ",
       "output_type": "pyerr",
       "traceback": [
        "java.lang.NoClassDefFoundError: Could not initialize class "
       ]
      },
      {
       "output_type": "stream",
       "stream": "stdout",
       "text": []
      }
     ],
     "prompt_number": 11
    },
    {
     "cell_type": "markdown",
     "metadata": {},
     "source": [
      "Now take the logs of those probabilities. Here we're using the formula presented <a href=\"https://bcourses.berkeley.edu/courses/1267848/files/51512989/download?wrap=1in\">here</a> to match Naive Bayes to Logistic Regression for independent data.\n",
      "\n",
      "For each word, we compute the log of the ratio of the complementary word probability over the in-class word probability. \n",
      "\n",
      "For each category, we compute the log of the ratio of the complementary category probability over the current category probability.\n",
      "\n",
      "lpwordcat(j,i) represents $\\log\\left(\\frac{{\\rm Pr}(X_i|\\neg c_j)}{{\\rm Pr}(X_i|c_j)}\\right)$\n",
      "\n",
      "while lpcat(j) represents $\\log\\left(\\frac{{\\rm Pr}(\\neg c)}{{\\rm Pr}(c)}\\right)$"
     ]
    },
    {
     "cell_type": "code",
     "collapsed": false,
     "input": [
      "val cx1=cx\n",
      "min(cx1, 1, cx1)                       // the first \"traindata\" argument is the input, the other is output\n",
      "max(cx1, 0, cx1) \n",
      "val p=ctest *@cx1 +(1-ctest) *@(1-cx1)\n",
      "mean(p,2)\n",
      "//saveFMat(rpath+index+\".txt\",cx)\n",
      "cx"
     ],
     "language": "python",
     "metadata": {},
     "outputs": [
      {
       "output_type": "stream",
       "stream": "stdout",
       "text": []
      },
      {
       "ename": "java.lang.RuntimeException",
       "evalue": "dims incompatible",
       "output_type": "pyerr",
       "traceback": [
        "java.lang.RuntimeException: dims incompatible",
        "    BIDMat.DenseMat$mcF$sp.ggMatOpStrictv$mcF$sp(DenseMat.scala:963)",
        "    BIDMat.DenseMat$mcF$sp.ggMatOpv$mcF$sp(DenseMat.scala:951)",
        "    BIDMat.FMat.ffMatOpv(FMat.scala:206)",
        "    BIDMat.FMat.$times$at(FMat.scala:799)"
       ]
      },
      {
       "output_type": "stream",
       "stream": "stdout",
       "text": []
      }
     ],
     "prompt_number": 22
    },
    {
     "cell_type": "markdown",
     "metadata": {},
     "source": [
      "Here's where we apply Naive Bayes. The formula we're using is borrowed from <a href=\"https://bcourses.berkeley.edu/courses/1267848/files/51512989/download?wrap=1in\">here</a>.\n",
      "\n",
      "$${\\rm Pr}(c|X_1,\\ldots,X_k) = \\frac{1}{1 + \\frac{{\\rm Pr}(\\neg c)}{{\\rm Pr}(c)}\\prod_{i-1}^k\\frac{{\\rm Pr}(X_i|\\neg c)}{{\\rm Pr}(X_i|c)}}$$\n",
      "\n",
      "and we can rewrite\n",
      "\n",
      "$$\\frac{{\\rm Pr}(\\neg c)}{{\\rm Pr}(c)}\\prod_{i-1}^k\\frac{{\\rm Pr}(X_i|\\neg c)}{{\\rm Pr}(X_i|c)}$$\n",
      "\n",
      "as\n",
      "\n",
      "$$\\exp\\left(\\log\\left(\\frac{{\\rm Pr}(\\neg c)}{{\\rm Pr}(c)}\\right) + \\sum_{i=1}^k\\log\\left(\\frac{{\\rm Pr}(X_i|\\neg c)}{{\\rm Pr}(X_i|c)}\\right)\\right)  = \\exp({\\rm lpcat(j)} + {\\rm lpwordcat(j,?)} * X)$$\n",
      "\n",
      "for class number j and an input column $X$. This follows because an input column $X$ is a sparse vector with ones in the positions of the input features. The product ${\\rm lpwordcat(i,?)} * X$ picks out the features occuring in the input document and adds the corresponding logs from lpwordcat. \n",
      "\n",
      "Finally, we take the exponential above and fold it into the formula $P(c_j|X_1,\\ldots,X_k) = 1/(1+\\exp(\\cdots))$. This gives us a matrix of predictions. preds(i,j) = prediction of membership in category i for test document j. "
     ]
    },
    {
     "cell_type": "code",
     "collapsed": false,
     "input": [
      "val lacc = (cx1 \u2219\u2192 ctest + (1-cx1) \u2219\u2192 (1-ctest))/cx1.ncols\n",
      "lacc.t\n",
      "mean(lacc)"
     ],
     "language": "python",
     "metadata": {},
     "outputs": [
      {
       "output_type": "stream",
       "stream": "stdout",
       "text": []
      },
      {
       "output_type": "stream",
       "stream": "stdout",
       "text": []
      },
      {
       "metadata": {},
       "output_type": "pyout",
       "prompt_number": 6,
       "text": [
        "0.76865"
       ]
      }
     ],
     "prompt_number": 6
    },
    {
     "cell_type": "markdown",
     "metadata": {},
     "source": [
      "To measure the accuracy of the predictions above, we can compute the probability that the classifier outputs the right label. We used this formula in class for the expected accuracy for logistic regression. The \"dot arrow\" operator takes dot product along rows:"
     ]
    },
    {
     "cell_type": "code",
     "collapsed": false,
     "input": [
      "val model = mm.model\n",
      "val (nn1, nopts1) = GLM.LBFGSpredictor(model, atest, cx)"
     ],
     "language": "python",
     "metadata": {},
     "outputs": [
      {
       "output_type": "stream",
       "stream": "stdout",
       "text": []
      },
      {
       "output_type": "stream",
       "stream": "stdout",
       "text": []
      },
      {
       "metadata": {},
       "output_type": "pyout",
       "prompt_number": 7,
       "text": [
        "BIDMach.models.GLM$LearnLBFGSOptions@8eb62c4"
       ]
      }
     ],
     "prompt_number": 7
    },
    {
     "cell_type": "markdown",
     "metadata": {},
     "source": [
      "Raw accuracy is not a good measure in most cases. When there are few positives (instances in the class vs. its complement), accuracy simply drives down false-positive rate at the expense of false-negative rate. In the worst case, the learner may always predict \"no\" and still achieve high accuracy. \n",
      "\n",
      "ROC curves and ROC Area Under the Curve (AUC) are much better. Here we compute the ROC curves from the predictions above. We need:\n",
      "* scores - the predicted quality from the formula above.\n",
      "* good - 1 for positive instances, 0 for negative instances.\n",
      "* bad - complement of good. \n",
      "* npoints (100) - specifies the number of X-axis points for the ROC plot. \n",
      "\n",
      "itest specifies which of the categories to plot for. We chose itest=6 because that category has one of the highest positive rates, and gives the most stable accuracy plots.  "
     ]
    },
    {
     "cell_type": "code",
     "collapsed": false,
     "input": [
      "nn1.predict"
     ],
     "language": "python",
     "metadata": {},
     "outputs": [
      {
       "output_type": "stream",
       "stream": "stdout",
       "text": [
        "corpus perplexity=1.970211\n",
        "Predicting\n",
        " 4.00%, ll=-0.88782, gf=Infinity, secs=0.0, GB=0.00, MB/s=Infinity\n",
        " 8.00%, ll=-0.87371, gf=0.000, secs=0.0, GB=0.00, MB/s= 0.19\n",
        "12.00%, ll=-0.94405, gf=0.000, secs=0.0, GB=0.00, MB/s= 0.14\n",
        "16.00%, ll=-0.97745, gf=0.000, secs=0.0, GB=0.00, MB/s= 0.19\n",
        "20.00%, ll=-0.91692, gf=0.000, secs=0.0, GB=0.00, MB/s= 0.24\n",
        "24.00%, ll=-0.95906, gf=0.000, secs=0.0, GB=0.00, MB/s= 0.19\n",
        "28.00%, ll=-0.91178, gf=0.000, secs=0.0, GB=0.00, MB/s= 0.22\n",
        "32.00%, ll=-0.80047, gf=0.000, secs=0.0, GB=0.00, MB/s= 0.26\n",
        "36.00%, ll=-0.92667, gf=0.000, secs=0.0, GB=0.00, MB/s= 0.22\n",
        "40.00%, ll=-0.91742, gf=0.000, secs=0.0, GB=0.00, MB/s= 0.24\n",
        "44.00%, ll=-0.92421, gf=0.000, secs=0.0, GB=0.00, MB/s= 0.26\n",
        "48.00%, ll=-0.94550, gf=0.000, secs=0.0, GB=0.00, MB/s= 0.23\n",
        "51.00%, ll=-0.81677, gf=0.000, secs=0.0, GB=0.00, MB/s= 0.25\n",
        "56.00%, ll=-0.91331, gf=0.000, secs=0.0, GB=0.00, MB/s= 0.27\n",
        "60.00%, ll=-0.93091, gf=0.000, secs=0.0, GB=0.00, MB/s= 0.24\n",
        "64.00%, ll=-0.85525, gf=0.000, secs=0.0, GB=0.00, MB/s= 0.26\n",
        "68.00%, ll=-0.87134, gf=0.000, secs=0.0, GB=0.00, MB/s= 0.27\n",
        "72.00%, ll=-0.94563, gf=0.000, secs=0.0, GB=0.00, MB/s= 0.25\n",
        "76.00%, ll=-0.78031, gf=0.000, secs=0.0, GB=0.00, MB/s= 0.26\n",
        "80.00%, ll=-0.94823, gf=0.000, secs=0.0, GB=0.00, MB/s= 0.27\n",
        "83.00%, ll=-0.95096, gf=0.000, secs=0.0, GB=0.00, MB/s= 0.29\n",
        "88.00%, ll=-0.86657, gf=0.000, secs=0.0, GB=0.00, MB/s= 0.26\n",
        "92.00%, ll=-0.97759, gf=0.000, secs=0.0, GB=0.00, MB/s= 0.28\n",
        "96.00%, ll=-0.75901, gf=0.000, secs=0.0, GB=0.00, MB/s= 0.29\n",
        "100.00%, ll=-0.93326, gf=0.000, secs=0.0, GB=0.00, MB/s= 0.27\n",
        "Time=0.0090 secs, gflops=0.00\n"
       ]
      },
      {
       "output_type": "stream",
       "stream": "stdout",
       "text": []
      }
     ],
     "prompt_number": 8
    },
    {
     "cell_type": "markdown",
     "metadata": {},
     "source": [
      "> TODO 1: In the cell below, write an expression to derive the ROC Area under the curve (AUC) given the curve rr. rr gives the ROC curve y-coordinates at 100 evenly-spaced X-values from 0 to 1.0. "
     ]
    },
    {
     "cell_type": "code",
     "collapsed": false,
     "input": [
      "val cx1=cx*10\n",
      "min(cx1, 1, cx1)                       // the first \"traindata\" argument is the input, the other is output\n",
      "max(cx1, 0, cx1) \n",
      "val p=ctest *@cx1 +(1-ctest) *@(1-cx1)\n",
      "mean(p,2)\n",
      "val lacc = (cx1 \u2219\u2192 ctest + (1-cx1) \u2219\u2192 (1-ctest))/cx1.ncols\n",
      "lacc.t\n",
      "mean(lacc)"
     ],
     "language": "python",
     "metadata": {},
     "outputs": [
      {
       "output_type": "stream",
       "stream": "stdout",
       "text": []
      },
      {
       "output_type": "stream",
       "stream": "stdout",
       "text": []
      },
      {
       "metadata": {},
       "output_type": "pyout",
       "prompt_number": 9,
       "text": [
        "0.81119"
       ]
      }
     ],
     "prompt_number": 9
    },
    {
     "cell_type": "markdown",
     "metadata": {},
     "source": [
      "> TODO 2: In the cell below, write the value of AUC returned by the expression above."
     ]
    },
    {
     "cell_type": "code",
     "collapsed": false,
     "input": [
      "cx1"
     ],
     "language": "python",
     "metadata": {},
     "outputs": [
      {
       "output_type": "stream",
       "stream": "stdout",
       "text": []
      },
      {
       "output_type": "stream",
       "stream": "stdout",
       "text": []
      },
      {
       "metadata": {},
       "output_type": "pyout",
       "prompt_number": 10,
       "text": [
        "        1  0.97167  0.32712        1        1        0  0.19741        1...\n",
        "        0        0        0        0        0        1        0        0...\n"
       ]
      }
     ],
     "prompt_number": 10
    },
    {
     "cell_type": "code",
     "collapsed": false,
     "input": [
      "saveFMat(dict+\"moonresult.fmat.txt\",cx)"
     ],
     "language": "python",
     "metadata": {},
     "outputs": [
      {
       "output_type": "stream",
       "stream": "stdout",
       "text": []
      },
      {
       "output_type": "stream",
       "stream": "stdout",
       "text": []
      }
     ],
     "prompt_number": 11
    },
    {
     "cell_type": "heading",
     "level": 2,
     "metadata": {},
     "source": [
      "Logistic Regression"
     ]
    },
    {
     "cell_type": "markdown",
     "metadata": {},
     "source": [
      "Now lets train a logistic classifier on the same data. BIDMach has an umbrella classifier called GLM for Generalized Linear Model. GLM includes linear regression, logistic regression (with log accuracy or direct accuracy optimization), and SVM. \n",
      "\n",
      "The learner function accepts these arguments:\n",
      "* traindata: the training data in the same format as for Naive Bayes\n",
      "* traincats: the training category labels\n",
      "* testdata: the test input data\n",
      "* predcats: a container for the predictions generated by the model\n",
      "* modeltype (GLM.logistic here): an integer that specifies the type of model (0=linear, 1=logistic log accuracy, 2=logistic accuracy, 3=SVM). \n",
      "\n",
      "We'll construct the learner and then look at its options:"
     ]
    },
    {
     "cell_type": "code",
     "collapsed": false,
     "input": [
      "val dict = \"/Users/Anna/workspace/BIDMach/data/wildlife/\"\n",
      "val aa = loadFMat(dict+\"1.txt\")\n",
      "val c = loadFMat(dict+\"c1.txt\")\n",
      "val b = loadFMat(\"/Users/Anna/workspace/BIDMach/data/wltestall.txt\")\n",
      "val d = loadFMat(\"/Users/Anna/workspace/BIDMach/data/wltestcatall.txt\")\n",
      "//val dict = \"/Users/Anna/workspace/BIDMach_1.0.0-full-linux-x86_64/data/uci/\"\n",
      "//val aa = loadFMat(dict+\"arabic.fmat.lz4\")\n",
      "//val c = loadFMat(dict+\"arabic_cats.fmat.lz4\")\n",
      "val a = aa *10  \n",
      "val atrain = a //a(?,(100->a.ncols))\n",
      "val atest =  a //a(?,(0->100))\n",
      "val ctrain = c //c(?,(100->a.ncols))\n",
      "val ctest = c //c(?,(0->100))\n",
      "//max(atrain, 0.001, atrain)                       // the first \"traindata\" argument is the input, the other is output\n",
      "//max(atest, 0.001, atest)\n",
      "atrain"
     ],
     "language": "python",
     "metadata": {},
     "outputs": [
      {
       "output_type": "stream",
       "stream": "stdout",
       "text": []
      },
      {
       "output_type": "stream",
       "stream": "stdout",
       "text": []
      },
      {
       "metadata": {},
       "output_type": "pyout",
       "prompt_number": 2,
       "text": [
        "    -0.33386    -0.33914    -0.29299    -0.40609    -0.43935    -0.55155...\n",
        "     0.28568     0.18359  -0.0037000    -0.17297   -0.095350   -0.013070...\n",
        "   -0.098630    -0.13269     0.41184     0.40252     0.24642     0.26601...\n",
        "   -0.031890   -0.038550     0.38608     0.35432     0.21913     0.31026...\n",
        "     0.17352     0.25341     0.37047     0.53088     0.40656     0.43656...\n",
        "     0.45181     0.47072     0.50574     0.36032     0.33288     0.26337...\n",
        "     0.24997    -0.11709     0.54020     0.33701     0.30424     0.15961...\n",
        "     0.10230    0.082690    0.017330     0.46488     0.24725   -0.025730...\n",
        "          ..          ..          ..          ..          ..          ..\n"
       ]
      }
     ],
     "prompt_number": 2
    },
    {
     "cell_type": "markdown",
     "metadata": {},
     "source": [
      "The most important options are:\n",
      "* lrate: the learning rate\n",
      "* batchSize: the minibatch size\n",
      "* npasses: the number of passes over the dataset\n",
      "\n",
      "We'll use the following parameters for this training run. "
     ]
    },
    {
     "cell_type": "code",
     "collapsed": false,
     "input": [
      "val cx=zeros(2,ctest.ncols)\n",
      "val (mm,mopts,nn,nopts)=GLM.SVMlearner(atrain,ctrain,atest,cx)\n",
      "mopts.autoReset=false\n",
      "mopts.useGPU=false\n",
      "mopts.lrate=1\n",
      "mopts.batchSize=2\n",
      "mopts.dim=256\n",
      "mopts.startBlock=0\n",
      "mopts.npasses=10\n",
      "mopts.updateAll=false\n",
      "mopts.what"
     ],
     "language": "python",
     "metadata": {},
     "outputs": [
      {
       "output_type": "stream",
       "stream": "stdout",
       "text": [
        "Option Name       Type          Value\n",
        "===========       ====          =====\n",
        "addConstFeat      boolean       false\n",
        "autoReset         boolean       false\n",
        "batchSize         int           2\n",
        "dim               int           256\n",
        "doubleScore       boolean       false\n",
        "epsilon           float         1.0E-5\n",
        "evalStep          int           11\n",
        "featThreshold     Mat           null\n",
        "featType          int           1\n",
        "hashFeatures      boolean       false\n",
        "initsumsq         float         1.0E-5\n",
        "iweight           FMat          null\n",
        "lim               float         0.0\n",
        "links             IMat             3\n",
        "   3\n",
        "\n",
        "lrate             FMat          1\n",
        "mask              FMat          null\n",
        "npasses           int           10\n",
        "nzPerColumn       int           0\n",
        "pstep             float         0.01\n",
        "putBack           int           -1\n",
        "r1nmats           int           1\n",
        "r2nmats           int           1\n",
        "reg1weight        FMat          1.0000e-07\n",
        "reg2weight        FMat          1\n",
        "resFile           String        null\n",
        "rmask             FMat          null\n",
        "sample            float         1.0\n",
        "sizeMargin        float         3.0\n",
        "startBlock        int           0\n",
        "targets           FMat          null\n",
        "targmap           FMat          null\n",
        "texp              FMat          0.50000\n",
        "updateAll         boolean       false\n",
        "useCache          boolean       true\n",
        "useDouble         boolean       false\n",
        "useGPU            boolean       false\n",
        "vexp              FMat          0.50000\n",
        "waitsteps         int           2\n"
       ]
      },
      {
       "output_type": "stream",
       "stream": "stdout",
       "text": []
      }
     ],
     "prompt_number": 7
    },
    {
     "cell_type": "code",
     "collapsed": false,
     "input": [
      "mm.train\n",
      "nn.predict\n",
      "val cx1=cx\n",
      "//min(cx1, 1, cx1)                       // the first \"traindata\" argument is the input, the other is output\n",
      "//max(cx1, 0, cx1) \n",
      "//val p=ctest *@cx1 +(1-ctest) *@(1-cx1)\n",
      "//mean(p,2)\n",
      "cx"
     ],
     "language": "python",
     "metadata": {},
     "outputs": [
      {
       "output_type": "stream",
       "stream": "stdout",
       "text": [
        "corpus perplexity=NaN\n",
        "pass= 0\n",
        " 6.00%, ll=-1.00000, gf=0.011, secs=0.0, GB=0.00, MB/s=12.00\n",
        "41.00%, ll=0.00000, gf=0.010, secs=0.1, GB=0.00, MB/s= 5.11\n",
        "77.00%, ll=0.00000, gf=0.018, secs=0.1, GB=0.00, MB/s= 8.73\n",
        "100.00%, ll=0.00000, gf=0.023, secs=0.1, GB=0.00, MB/s=10.78\n",
        "pass= 1\n",
        " 6.00%, ll=0.00000, gf=0.023, secs=0.1, GB=0.00, MB/s=11.31\n",
        "41.00%, ll=0.00000, gf=0.026, secs=0.1, GB=0.00, MB/s=12.14\n",
        "77.00%, ll=0.00000, gf=0.031, secs=0.1, GB=0.00, MB/s=14.35\n",
        "100.00%, ll=0.00000, gf=0.026, secs=0.1, GB=0.00, MB/s=12.30\n",
        "pass= 2\n",
        " 6.00%, ll=0.00000, gf=0.026, secs=0.1, GB=0.00, MB/s=12.49\n",
        "41.00%, ll=0.00000, gf=0.030, secs=0.1, GB=0.00, MB/s=13.95\n",
        "77.00%, ll=0.00000, gf=0.029, secs=0.2, GB=0.00, MB/s=13.76\n",
        "100.00%, ll=0.00000, gf=0.031, secs=0.2, GB=0.00, MB/s=14.59\n",
        "pass= 3\n",
        " 6.00%, ll=0.00000, gf=0.031, secs=0.2, GB=0.00, MB/s=14.80\n",
        "41.00%, ll=0.00000, gf=0.034, secs=0.2, GB=0.00, MB/s=16.00\n",
        "77.00%, ll=0.00000, gf=0.034, secs=0.2, GB=0.00, MB/s=15.95\n",
        "100.00%, ll=0.00000, gf=0.035, secs=0.2, GB=0.00, MB/s=16.53\n",
        "pass= 4\n",
        " 6.00%, ll=0.00000, gf=0.036, secs=0.2, GB=0.00, MB/s=16.80\n",
        "41.00%, ll=0.00000, gf=0.038, secs=0.2, GB=0.00, MB/s=17.77\n",
        "77.00%, ll=-0.21902, gf=0.038, secs=0.2, GB=0.00, MB/s=17.67\n",
        "100.00%, ll=0.00000, gf=0.039, secs=0.2, GB=0.00, MB/s=18.15\n",
        "pass= 5\n",
        " 6.00%, ll=0.00000, gf=0.039, secs=0.2, GB=0.00, MB/s=18.38\n",
        "41.00%, ll=0.00000, gf=0.041, secs=0.2, GB=0.00, MB/s=19.11\n",
        "77.00%, ll=-0.14903, gf=0.043, secs=0.2, GB=0.00, MB/s=19.89\n",
        "100.00%, ll=0.00000, gf=0.040, secs=0.2, GB=0.00, MB/s=18.45\n",
        "pass= 6\n",
        " 6.00%, ll=0.00000, gf=0.040, secs=0.2, GB=0.00, MB/s=18.57\n",
        "41.00%, ll=0.00000, gf=0.041, secs=0.3, GB=0.00, MB/s=19.10\n",
        "77.00%, ll=-0.10156, gf=0.042, secs=0.3, GB=0.01, MB/s=19.76\n",
        "100.00%, ll=0.00000, gf=0.043, secs=0.3, GB=0.01, MB/s=20.19\n",
        "pass= 7\n",
        " 6.00%, ll=0.00000, gf=0.043, secs=0.3, GB=0.01, MB/s=20.29\n",
        "41.00%, ll=0.00000, gf=0.042, secs=0.3, GB=0.01, MB/s=19.78\n",
        "77.00%, ll=0.00000, gf=0.043, secs=0.3, GB=0.01, MB/s=20.22\n",
        "100.00%, ll=0.00000, gf=0.044, secs=0.3, GB=0.01, MB/s=20.52\n",
        "pass= 8\n",
        " 6.00%, ll=0.00000, gf=0.044, secs=0.3, GB=0.01, MB/s=20.62\n",
        "41.00%, ll=0.00000, gf=0.045, secs=0.3, GB=0.01, MB/s=21.16\n",
        "77.00%, ll=0.00000, gf=0.045, secs=0.3, GB=0.01, MB/s=20.86\n",
        "100.00%, ll=0.00000, gf=0.045, secs=0.3, GB=0.01, MB/s=21.19\n",
        "pass= 9\n",
        " 6.00%, ll=0.00000, gf=0.046, secs=0.3, GB=0.01, MB/s=21.27\n",
        "41.00%, ll=0.00000, gf=0.047, secs=0.3, GB=0.01, MB/s=21.76\n",
        "77.00%, ll=0.00000, gf=0.048, secs=0.3, GB=0.01, MB/s=22.17\n",
        "100.00%, ll=0.00000, gf=0.048, secs=0.3, GB=0.01, MB/s=22.48\n",
        "Time=0.3310 secs, gflops=0.05\n",
        "corpus perplexity=NaN\n",
        "Predicting\n",
        " 4.00%, ll=-5.35505, gf=Infinity, secs=0.0, GB=0.00, MB/s=Infinity\n",
        " 9.00%, ll=-5.56336, gf=Infinity, secs=0.0, GB=0.00, MB/s=Infinity\n",
        "14.00%, ll=-5.39651, gf=0.036, secs=0.0, GB=0.00, MB/s=108.00\n",
        "19.00%, ll=-3.47791, gf=0.048, secs=0.0, GB=0.00, MB/s=144.00\n",
        "24.00%, ll=-4.42609, gf=0.060, secs=0.0, GB=0.00, MB/s=180.00\n",
        "29.00%, ll=-5.00045, gf=0.036, secs=0.0, GB=0.00, MB/s=108.00\n",
        "33.00%, ll=-4.28123, gf=0.042, secs=0.0, GB=0.00, MB/s=126.00\n",
        "38.00%, ll=-4.85835, gf=0.048, secs=0.0, GB=0.00, MB/s=144.00\n",
        "43.00%, ll=-4.95342, gf=0.036, secs=0.0, GB=0.00, MB/s=108.00\n",
        "48.00%, ll=-5.43300, gf=0.040, secs=0.0, GB=0.00, MB/s=120.00\n",
        "53.00%, ll=-4.59199, gf=0.044, secs=0.0, GB=0.00, MB/s=132.00\n",
        "58.00%, ll=-3.04440, gf=0.036, secs=0.0, GB=0.00, MB/s=108.00\n",
        "62.00%, ll=-4.28866, gf=0.039, secs=0.0, GB=0.00, MB/s=117.00\n",
        "67.00%, ll=-4.49006, gf=0.042, secs=0.0, GB=0.00, MB/s=126.00\n",
        "72.00%, ll=-6.24142, gf=0.036, secs=0.0, GB=0.00, MB/s=108.00\n",
        "77.00%, ll=-5.79272, gf=0.039, secs=0.0, GB=0.00, MB/s=115.20\n",
        "82.00%, ll=-3.15073, gf=0.041, secs=0.0, GB=0.00, MB/s=122.40\n",
        "87.00%, ll=-4.36058, gf=0.044, secs=0.0, GB=0.00, MB/s=129.60\n",
        "91.00%, ll=-7.38732, gf=0.038, secs=0.0, GB=0.00, MB/s=114.00\n",
        "96.00%, ll=-10.42975, gf=0.040, secs=0.0, GB=0.00, MB/s=120.00\n",
        "100.00%, ll=-6.19474, gf=0.042, secs=0.0, GB=0.00, MB/s=124.00\n",
        "Time=0.0070 secs, gflops=0.04\n"
       ]
      },
      {
       "output_type": "stream",
       "stream": "stdout",
       "text": []
      },
      {
       "metadata": {},
       "output_type": "pyout",
       "prompt_number": 8,
       "text": [
        "  -7.7981  -10.713  -10.620  -11.079  -10.499  -8.8026  -12.241  -12.910...\n",
        "   7.7981   10.713   10.620   11.079   10.499   8.8026   12.241   12.910...\n"
       ]
      }
     ],
     "prompt_number": 8
    },
    {
     "cell_type": "markdown",
     "metadata": {},
     "source": [
      "Since we have the accuracy scores for both Naive Bayes and Logistic regression, we can plot both of them on the same axes. Naive Bayes is red, Logistic regression is blue. The x-axis is the category number from 0 to 102. The y-axis is the absolute accuracy of the predictor for that category. "
     ]
    },
    {
     "cell_type": "code",
     "collapsed": false,
     "input": [
      "val lacc = (cx1 \u2219\u2192 ctest + (1-cx1) \u2219\u2192 (1-ctest))/cx1.ncols\n",
      "lacc.t\n",
      "mean(lacc)"
     ],
     "language": "python",
     "metadata": {},
     "outputs": [
      {
       "output_type": "stream",
       "stream": "stdout",
       "text": []
      },
      {
       "ename": "java.lang.NoClassDefFoundError",
       "evalue": "Could not initialize class ",
       "output_type": "pyerr",
       "traceback": [
        "java.lang.NoClassDefFoundError: Could not initialize class "
       ]
      },
      {
       "output_type": "stream",
       "stream": "stdout",
       "text": []
      }
     ],
     "prompt_number": 7
    },
    {
     "cell_type": "markdown",
     "metadata": {},
     "source": [
      "> TODO 3: With the full training set (700k training documents), Logistic Regression is noticeably more accurate than Naive Bayes in every category. What do you observe in the plot above? Why do you think this is?"
     ]
    },
    {
     "cell_type": "markdown",
     "metadata": {},
     "source": [
      "Next we'll compute the ROC plot and ROC area (AUC) for Logistic regression  for category itest."
     ]
    },
    {
     "cell_type": "code",
     "collapsed": false,
     "input": [
      "saveFMat(dict+\"wildliferesults.fmat.txt\",cx) "
     ],
     "language": "python",
     "metadata": {},
     "outputs": [
      {
       "output_type": "stream",
       "stream": "stdout",
       "text": []
      },
      {
       "output_type": "stream",
       "stream": "stdout",
       "text": []
      }
     ],
     "prompt_number": 40
    },
    {
     "cell_type": "markdown",
     "metadata": {},
     "source": [
      "We computed the ROC curve for Naive Bayes earlier, so now we can plot them on the same axes. Naive Bayes is once again in red, Logistic regression in blue. "
     ]
    },
    {
     "cell_type": "code",
     "collapsed": false,
     "input": [
      "cx1"
     ],
     "language": "python",
     "metadata": {},
     "outputs": [
      {
       "output_type": "stream",
       "stream": "stdout",
       "text": []
      },
      {
       "output_type": "stream",
       "stream": "stdout",
       "text": []
      },
      {
       "metadata": {},
       "output_type": "pyout",
       "prompt_number": 51,
       "text": [
        "  1.1398e-13  1.0409e-13  3.1763e-16  6.3486e-17  3.7628e-18  6.3368e-16...\n",
        "  1.0488e-14  3.4730e-14  1.2205e-16  1.6546e-17  7.8444e-19  1.5367e-16...\n",
        "  4.9068e-14  1.3641e-12  5.0059e-15  1.0316e-15  4.3107e-18  2.8967e-15...\n",
        "  3.2656e-14  5.3654e-14  1.1086e-16  1.9517e-17  8.0842e-19  3.9087e-17...\n",
        "  8.4080e-11  2.6030e-12  1.4020e-14  1.3571e-15  2.5275e-15  8.0566e-13...\n",
        "  1.8410e-13  2.3721e-13  2.6570e-16  6.7162e-17  5.4204e-18  8.2176e-16...\n",
        "  6.5161e-11  1.3945e-10  2.1820e-12  7.0878e-14  1.5250e-15  2.8615e-12...\n",
        "  1.6085e-13  1.9523e-13  3.2423e-16  5.6627e-17  7.7785e-18  1.7874e-15...\n",
        "          ..          ..          ..          ..          ..          ..\n"
       ]
      }
     ],
     "prompt_number": 51
    },
    {
     "cell_type": "markdown",
     "metadata": {},
     "source": [
      ">TODO 4: In the cell below, compute and plot lift curves from the ROC curves for Naive Bayes and Logistic regression. The lift curves should show the ratio of ROC y-values over a unit slope diagonal line (Y=X). The X-values should be the same as for the ROC plots, except that X=0 will be omitted since the lift will be undefined. "
     ]
    },
    {
     "cell_type": "code",
     "collapsed": false,
     "input": [
      "val dict = \"/Users/Anna/workspace/BIDMach_1.0.0-full-linux-x86_64/data/\"\n",
      "//val a = loadFMat(dict+\"arabic.fmat.lz4\")\n",
      "//val c = loadFMat(dict+\"arabic_cats.fmat.lz4\")\n",
      "val aa = loadFMat(dict+\"a.txt\")\n",
      "val c = loadFMat(dict+\"alabel.txt\")\n",
      "val a = aa + 0.5 \n",
      "val atrain =a(?,(100->a.ncols))\n",
      "val atest =a(?,(0->100))\n",
      "val ctrain =c(?,(100->a.ncols))\n",
      "val ctest =c(?,(0->100))\n",
      "max(atrain, 0.001, atrain)                       // the first \"traindata\" argument is the input, the other is output\n",
      "max(atest, 0.001, atest)\n",
      "atest"
     ],
     "language": "python",
     "metadata": {},
     "outputs": [
      {
       "output_type": "stream",
       "stream": "stdout",
       "text": []
      },
      {
       "output_type": "stream",
       "stream": "stdout",
       "text": []
      },
      {
       "metadata": {},
       "output_type": "pyout",
       "prompt_number": 2,
       "text": [
        "   0.075172    0.42627    0.64251    0.36696    0.19400    0.58963...\n",
        "    0.64074    0.42242    0.41518    0.87276    0.77227  0.0010000...\n"
       ]
      }
     ],
     "prompt_number": 2
    },
    {
     "cell_type": "markdown",
     "metadata": {},
     "source": [
      "> TODO 5: Experiment with different values for learning rate and batchSize to get the best performance for absolute accuracy and ROC area on category 6. Write your optimal values below:"
     ]
    },
    {
     "cell_type": "code",
     "collapsed": false,
     "input": [
      "val cx=zeros(ctest.nrows,ctest.ncols)\n",
      "val (mm,mopts,nn,nopts)=GLM.SVMlearner(atrain,ctrain,atest,cx)\n",
      "mopts.autoReset=false\n",
      "mopts.useGPU=false\n",
      "mopts.lrate=0.1\n",
      "mopts.batchSize=2\n",
      "mopts.dim=256\n",
      "mopts.startBlock=0\n",
      "mopts.npasses=10\n",
      "mopts.updateAll=false\n",
      "mopts.what"
     ],
     "language": "python",
     "metadata": {},
     "outputs": [
      {
       "output_type": "stream",
       "stream": "stdout",
       "text": [
        "Option Name       Type          Value\n",
        "===========       ====          =====\n",
        "addConstFeat      boolean       false\n",
        "autoReset         boolean       false\n",
        "batchSize         int           2\n",
        "dim               int           256\n",
        "doubleScore       boolean       false\n",
        "epsilon           float         1.0E-5\n",
        "evalStep          int           11\n",
        "featThreshold     Mat           null\n",
        "featType          int           1\n",
        "hashFeatures      boolean       false\n",
        "initsumsq         float         1.0E-5\n",
        "iweight           FMat          null\n",
        "lim               float         0.0\n",
        "links             IMat             3\n",
        "   3\n",
        "\n",
        "lrate             FMat          0.10000\n",
        "mask              FMat          null\n",
        "npasses           int           10\n",
        "nzPerColumn       int           0\n",
        "pstep             float         0.01\n",
        "putBack           int           -1\n",
        "r1nmats           int           1\n",
        "r2nmats           int           1\n",
        "reg1weight        FMat          1.0000e-07\n",
        "reg2weight        FMat          1\n",
        "resFile           String        null\n",
        "rmask             FMat          null\n",
        "sample            float         1.0\n",
        "sizeMargin        float         3.0\n",
        "startBlock        int           0\n",
        "targets           FMat          null\n",
        "targmap           FMat          null\n",
        "texp              FMat          0.50000\n",
        "updateAll         boolean       false\n",
        "useCache          boolean       true\n",
        "useDouble         boolean       false\n",
        "useGPU            boolean       false\n",
        "vexp              FMat          0.50000\n",
        "waitsteps         int           2\n"
       ]
      },
      {
       "output_type": "stream",
       "stream": "stdout",
       "text": []
      }
     ],
     "prompt_number": 41
    },
    {
     "cell_type": "code",
     "collapsed": false,
     "input": [
      "mm.train\n",
      "nn.predict"
     ],
     "language": "python",
     "metadata": {},
     "outputs": [
      {
       "output_type": "stream",
       "stream": "stdout",
       "text": [
        "corpus perplexity=992.808970\n",
        "pass= 0\n",
        " 6.00%, ll=-1.00000, gf=Infinity, secs=0.0, GB=0.00, MB/s=Infinity\n",
        "41.00%, ll=-0.28270, gf=0.079, secs=0.0, GB=0.00, MB/s=39.00\n",
        "77.00%, ll=-0.03527, gf=0.081, secs=0.0, GB=0.00, MB/s=38.40\n",
        "100.00%, ll=-0.20491, gf=0.083, secs=0.0, GB=0.00, MB/s=39.16\n",
        "pass= 1\n",
        " 6.00%, ll=-1.20125, gf=0.078, secs=0.0, GB=0.00, MB/s=37.71\n",
        "41.00%, ll=-0.30951, gf=0.083, secs=0.0, GB=0.00, MB/s=39.11\n",
        "77.00%, ll=-0.24529, gf=0.085, secs=0.0, GB=0.00, MB/s=40.00\n",
        "100.00%, ll=-0.13970, gf=0.086, secs=0.0, GB=0.00, MB/s=40.22\n",
        "pass= 2\n",
        " 6.00%, ll=-1.47287, gf=0.085, secs=0.0, GB=0.00, MB/s=40.42\n",
        "41.00%, ll=-0.22679, gf=0.087, secs=0.0, GB=0.00, MB/s=40.91\n",
        "77.00%, ll=-0.39799, gf=0.090, secs=0.0, GB=0.00, MB/s=42.12\n",
        "100.00%, ll=-0.17308, gf=0.090, secs=0.1, GB=0.00, MB/s=42.11\n",
        "pass= 3\n",
        " 6.00%, ll=-1.47907, gf=0.090, secs=0.1, GB=0.00, MB/s=42.22\n",
        "41.00%, ll=-0.30906, gf=0.092, secs=0.1, GB=0.00, MB/s=43.12\n",
        "77.00%, ll=-0.49180, gf=0.093, secs=0.1, GB=0.00, MB/s=43.20\n",
        "100.00%, ll=-0.23331, gf=0.094, secs=0.1, GB=0.00, MB/s=43.76\n",
        "pass= 4\n",
        " 6.00%, ll=-1.46579, gf=0.093, secs=0.1, GB=0.00, MB/s=43.83\n",
        "41.00%, ll=-0.37264, gf=0.094, secs=0.1, GB=0.00, MB/s=43.84\n",
        "77.00%, ll=-0.55793, gf=0.094, secs=0.1, GB=0.00, MB/s=43.85\n",
        "100.00%, ll=-0.28842, gf=0.095, secs=0.1, GB=0.00, MB/s=44.29\n",
        "pass= 5\n",
        " 6.00%, ll=-1.44678, gf=0.095, secs=0.1, GB=0.00, MB/s=44.33\n",
        "41.00%, ll=-0.42261, gf=0.095, secs=0.1, GB=0.00, MB/s=44.31\n",
        "77.00%, ll=-0.60707, gf=0.095, secs=0.1, GB=0.00, MB/s=44.29\n",
        "100.00%, ll=-0.33395, gf=0.096, secs=0.1, GB=0.00, MB/s=44.64\n",
        "pass= 6\n",
        " 6.00%, ll=-1.42705, gf=0.095, secs=0.1, GB=0.00, MB/s=44.67\n",
        "41.00%, ll=-0.46288, gf=0.097, secs=0.1, GB=0.00, MB/s=45.06\n",
        "77.00%, ll=-0.64504, gf=0.097, secs=0.1, GB=0.01, MB/s=45.40\n",
        "100.00%, ll=-0.37222, gf=0.098, secs=0.1, GB=0.01, MB/s=45.68\n",
        "pass= 7\n",
        " 6.00%, ll=-1.40822, gf=0.098, secs=0.1, GB=0.01, MB/s=45.70\n",
        "41.00%, ll=-0.49608, gf=0.099, secs=0.1, GB=0.01, MB/s=46.39\n",
        "77.00%, ll=-0.67528, gf=0.099, secs=0.1, GB=0.01, MB/s=46.27\n",
        "100.00%, ll=-0.40490, gf=0.100, secs=0.1, GB=0.01, MB/s=46.50\n",
        "pass= 8\n",
        " 6.00%, ll=-1.39079, gf=0.100, secs=0.1, GB=0.01, MB/s=46.51\n",
        "41.00%, ll=-0.52395, gf=0.100, secs=0.1, GB=0.01, MB/s=46.75\n",
        "77.00%, ll=-0.69995, gf=0.101, secs=0.1, GB=0.01, MB/s=46.96\n",
        "100.00%, ll=-0.43319, gf=0.101, secs=0.1, GB=0.01, MB/s=47.15\n",
        "pass= 9\n",
        " 6.00%, ll=-1.37481, gf=0.101, secs=0.1, GB=0.01, MB/s=47.16\n",
        "41.00%, ll=-0.54772, gf=0.102, secs=0.1, GB=0.01, MB/s=47.67\n",
        "77.00%, ll=-0.72047, gf=0.103, secs=0.2, GB=0.01, MB/s=47.84\n",
        "100.00%, ll=-0.45795, gf=0.103, secs=0.2, GB=0.01, MB/s=48.00\n",
        "Time=0.1550 secs, gflops=0.10\n",
        "corpus perplexity=985.317557\n",
        "Predicting\n",
        " 4.00%, ll=-1.00000, gf=Infinity, secs=0.0, GB=0.00, MB/s=Infinity\n",
        " 9.00%, ll=-1.00000, gf=Infinity, secs=0.0, GB=0.00, MB/s=Infinity\n",
        "14.00%, ll=-1.00000, gf=Infinity, secs=0.0, GB=0.00, MB/s=Infinity\n",
        "19.00%, ll=-1.00000, gf=Infinity, secs=0.0, GB=0.00, MB/s=Infinity\n",
        "24.00%, ll=-1.00000, gf=0.060, secs=0.0, GB=0.00, MB/s=180.00\n",
        "29.00%, ll=-1.00000, gf=0.073, secs=0.0, GB=0.00, MB/s=216.00\n",
        "33.00%, ll=-1.00000, gf=0.085, secs=0.0, GB=0.00, MB/s=252.00\n",
        "38.00%, ll=-1.00000, gf=0.097, secs=0.0, GB=0.00, MB/s=288.00\n",
        "43.00%, ll=-1.00000, gf=0.109, secs=0.0, GB=0.00, MB/s=324.00\n",
        "48.00%, ll=-1.00000, gf=0.121, secs=0.0, GB=0.00, MB/s=360.00\n",
        "53.00%, ll=-1.00000, gf=0.066, secs=0.0, GB=0.00, MB/s=198.00\n",
        "58.00%, ll=-1.00000, gf=0.073, secs=0.0, GB=0.00, MB/s=216.00\n",
        "62.00%, ll=-1.00000, gf=0.079, secs=0.0, GB=0.00, MB/s=234.00\n",
        "67.00%, ll=-1.00000, gf=0.085, secs=0.0, GB=0.00, MB/s=251.99\n",
        "72.00%, ll=-1.00000, gf=0.091, secs=0.0, GB=0.00, MB/s=269.99\n",
        "77.00%, ll=-1.00000, gf=0.097, secs=0.0, GB=0.00, MB/s=287.99\n",
        "82.00%, ll=-1.00000, gf=0.069, secs=0.0, GB=0.00, MB/s=204.00\n",
        "87.00%, ll=-1.00000, gf=0.073, secs=0.0, GB=0.00, MB/s=216.00\n",
        "91.00%, ll=-1.00000, gf=0.077, secs=0.0, GB=0.00, MB/s=228.00\n",
        "96.00%, ll=-1.00000, gf=0.081, secs=0.0, GB=0.00, MB/s=240.00\n",
        "100.00%, ll=-1.00000, gf=0.083, secs=0.0, GB=0.00, MB/s=248.00\n",
        "Time=0.0030 secs, gflops=0.08\n"
       ]
      },
      {
       "output_type": "stream",
       "stream": "stdout",
       "text": []
      }
     ],
     "prompt_number": 42
    },
    {
     "cell_type": "code",
     "collapsed": false,
     "input": [
      "val cx1=cx*5\n",
      "min(cx1, 1, cx1)                       // the first \"traindata\" argument is the input, the other is output\n",
      "max(cx1, 0, cx1) \n",
      "val p=ctest *@cx1 +(1-ctest) *@(1-cx1)\n",
      "mean(p,2)"
     ],
     "language": "python",
     "metadata": {},
     "outputs": []
    },
    {
     "cell_type": "code",
     "collapsed": false,
     "input": [
      "cx1"
     ],
     "language": "python",
     "metadata": {},
     "outputs": [
      {
       "output_type": "stream",
       "stream": "stdout",
       "text": []
      },
      {
       "output_type": "stream",
       "stream": "stdout",
       "text": []
      },
      {
       "metadata": {},
       "output_type": "pyout",
       "prompt_number": 6,
       "text": [
        "         1   0.48584   0.16356         1         1         0  0.098707...\n",
        "         0         0         0         0         0   0.82548         0...\n"
       ]
      }
     ],
     "prompt_number": 6
    },
    {
     "cell_type": "code",
     "collapsed": false,
     "input": [
      "val lacc = (cx1 \u2219\u2192 ctest + (1-cx1) \u2219\u2192 (1-ctest))/cx1.ncols\n",
      "lacc.t\n",
      "mean(lacc)"
     ],
     "language": "python",
     "metadata": {},
     "outputs": [
      {
       "output_type": "stream",
       "stream": "stdout",
       "text": []
      },
      {
       "output_type": "stream",
       "stream": "stdout",
       "text": []
      },
      {
       "metadata": {},
       "output_type": "pyout",
       "prompt_number": 7,
       "text": [
        "0.76865"
       ]
      }
     ],
     "prompt_number": 7
    },
    {
     "cell_type": "code",
     "collapsed": false,
     "input": [
      "val model = mm.model\n",
      "val (nn1, nopts1) = GLM.LBFGSpredictor(model, atest, cx)"
     ],
     "language": "python",
     "metadata": {},
     "outputs": [
      {
       "output_type": "stream",
       "stream": "stdout",
       "text": []
      },
      {
       "output_type": "stream",
       "stream": "stdout",
       "text": []
      },
      {
       "metadata": {},
       "output_type": "pyout",
       "prompt_number": 8,
       "text": [
        "BIDMach.models.GLM$LearnLBFGSOptions@3fde0ffe"
       ]
      }
     ],
     "prompt_number": 8
    },
    {
     "cell_type": "code",
     "collapsed": false,
     "input": [
      "nn1.predict"
     ],
     "language": "python",
     "metadata": {},
     "outputs": [
      {
       "output_type": "stream",
       "stream": "stdout",
       "text": [
        "corpus perplexity=1.970211\n",
        "Predicting\n",
        " 4.00%, ll=-0.88782, gf=0.000, secs=0.0, GB=0.00, MB/s= 0.10\n",
        " 8.00%, ll=-0.87371, gf=0.000, secs=0.0, GB=0.00, MB/s= 0.19\n",
        "12.00%, ll=-0.94405, gf=0.000, secs=0.0, GB=0.00, MB/s= 0.29\n",
        "16.00%, ll=-0.97745, gf=0.001, secs=0.0, GB=0.00, MB/s= 0.38\n",
        "20.00%, ll=-0.91692, gf=0.000, secs=0.0, GB=0.00, MB/s= 0.24\n",
        "24.00%, ll=-0.95906, gf=0.000, secs=0.0, GB=0.00, MB/s= 0.29\n",
        "28.00%, ll=-0.91178, gf=0.001, secs=0.0, GB=0.00, MB/s= 0.34\n",
        "32.00%, ll=-0.80047, gf=0.001, secs=0.0, GB=0.00, MB/s= 0.38\n",
        "36.00%, ll=-0.92667, gf=0.001, secs=0.0, GB=0.00, MB/s= 0.43\n",
        "40.00%, ll=-0.91742, gf=0.001, secs=0.0, GB=0.00, MB/s= 0.48\n",
        "44.00%, ll=-0.92421, gf=0.001, secs=0.0, GB=0.00, MB/s= 0.53\n",
        "48.00%, ll=-0.94550, gf=0.001, secs=0.0, GB=0.00, MB/s= 0.38\n",
        "51.00%, ll=-0.81677, gf=0.001, secs=0.0, GB=0.00, MB/s= 0.42\n",
        "56.00%, ll=-0.91331, gf=0.001, secs=0.0, GB=0.00, MB/s= 0.45\n",
        "60.00%, ll=-0.93091, gf=0.001, secs=0.0, GB=0.00, MB/s= 0.48\n",
        "64.00%, ll=-0.85525, gf=0.001, secs=0.0, GB=0.00, MB/s= 0.51\n",
        "68.00%, ll=-0.87134, gf=0.001, secs=0.0, GB=0.00, MB/s= 0.54\n",
        "72.00%, ll=-0.94563, gf=0.001, secs=0.0, GB=0.00, MB/s= 0.58\n",
        "76.00%, ll=-0.78031, gf=0.001, secs=0.0, GB=0.00, MB/s= 0.46\n",
        "80.00%, ll=-0.94823, gf=0.001, secs=0.0, GB=0.00, MB/s= 0.48\n",
        "83.00%, ll=-0.95096, gf=0.001, secs=0.0, GB=0.00, MB/s= 0.50\n",
        "88.00%, ll=-0.86657, gf=0.001, secs=0.0, GB=0.00, MB/s= 0.53\n",
        "92.00%, ll=-0.97759, gf=0.001, secs=0.0, GB=0.00, MB/s= 0.55\n",
        "96.00%, ll=-0.75901, gf=0.001, secs=0.0, GB=0.00, MB/s= 0.58\n",
        "100.00%, ll=-0.93326, gf=0.001, secs=0.0, GB=0.00, MB/s= 0.60\n",
        "Time=0.0050 secs, gflops=0.00\n"
       ]
      },
      {
       "output_type": "stream",
       "stream": "stdout",
       "text": []
      }
     ],
     "prompt_number": 9
    },
    {
     "cell_type": "code",
     "collapsed": false,
     "input": [
      "val cx1=cx*10\n",
      "min(cx1, 1, cx1)                       // the first \"traindata\" argument is the input, the other is output\n",
      "max(cx1, 0, cx1) \n",
      "val p=ctest *@cx1 +(1-ctest) *@(1-cx1)\n",
      "mean(p,2)\n",
      "val lacc = (cx1 \u2219\u2192 ctest + (1-cx1) \u2219\u2192 (1-ctest))/cx1.ncols\n",
      "lacc.t\n",
      "mean(lacc)"
     ],
     "language": "python",
     "metadata": {},
     "outputs": [
      {
       "output_type": "stream",
       "stream": "stdout",
       "text": []
      },
      {
       "output_type": "stream",
       "stream": "stdout",
       "text": []
      },
      {
       "metadata": {},
       "output_type": "pyout",
       "prompt_number": 10,
       "text": [
        "0.81119"
       ]
      }
     ],
     "prompt_number": 10
    },
    {
     "cell_type": "code",
     "collapsed": false,
     "input": [
      "cx1"
     ],
     "language": "python",
     "metadata": {},
     "outputs": [
      {
       "output_type": "stream",
       "stream": "stdout",
       "text": []
      },
      {
       "output_type": "stream",
       "stream": "stdout",
       "text": []
      },
      {
       "metadata": {},
       "output_type": "pyout",
       "prompt_number": 11,
       "text": [
        "        1  0.97167  0.32712        1        1        0  0.19741        1...\n",
        "        0        0        0        0        0        1        0        0...\n"
       ]
      }
     ],
     "prompt_number": 11
    },
    {
     "cell_type": "code",
     "collapsed": false,
     "input": [
      "saveFMat(dict+\"moonresult.fmat.txt\",cx)"
     ],
     "language": "python",
     "metadata": {},
     "outputs": [
      {
       "output_type": "stream",
       "stream": "stdout",
       "text": []
      },
      {
       "output_type": "stream",
       "stream": "stdout",
       "text": []
      }
     ],
     "prompt_number": 23
    },
    {
     "cell_type": "code",
     "collapsed": false,
     "input": [],
     "language": "python",
     "metadata": {},
     "outputs": []
    },
    {
     "cell_type": "code",
     "collapsed": false,
     "input": [],
     "language": "python",
     "metadata": {},
     "outputs": [],
     "prompt_number": 19
    }
   ],
   "metadata": {}
  }
 ]
}