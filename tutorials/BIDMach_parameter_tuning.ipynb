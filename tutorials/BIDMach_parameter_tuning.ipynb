{
 "metadata": {
  "name": "",
  "signature": "sha256:52fb6f3cbd1ccc7997e42e5d2a09c37192726f3b4b5c4bdb00fed9c291bc482e"
 },
 "nbformat": 3,
 "nbformat_minor": 0,
 "worksheets": [
  {
   "cells": [
    {
     "cell_type": "heading",
     "level": 1,
     "metadata": {},
     "source": [
      "BIDMach: parameter tuning"
     ]
    },
    {
     "cell_type": "markdown",
     "metadata": {},
     "source": [
      "In this notebook we'll explore automated parameter exploration by grid search. "
     ]
    },
    {
     "cell_type": "code",
     "collapsed": false,
     "input": [
      "import BIDMat.{CMat,CSMat,DMat,Dict,IDict,FMat,FND,GDMat,GMat,GIMat,GSDMat,GSMat,HMat,Image,IMat,Mat,SMat,SBMat,SDMat}\n",
      "import BIDMat.MatFunctions._\n",
      "import BIDMat.SciFunctions._\n",
      "import BIDMat.Solvers._\n",
      "import BIDMat.Plotting._\n",
      "import BIDMach.Learner\n",
      "import BIDMach.models.{FM,GLM,KMeans,KMeansw,ICA,LDA,LDAgibbs,NMF,RandomForest,SFA}\n",
      "import BIDMach.datasources.{MatDS,FilesDS,SFilesDS}\n",
      "import BIDMach.mixins.{CosineSim,Perplexity,Top,L1Regularizer,L2Regularizer}\n",
      "import BIDMach.updaters.{ADAGrad,Batch,BatchNorm,IncMult,IncNorm,Telescoping}\n",
      "import BIDMach.causal.{IPTW}\n",
      "\n",
      "Mat.checkMKL\n",
      "Mat.checkCUDA\n",
      "if (Mat.hasCUDA > 0) GPUmem"
     ],
     "language": "python",
     "metadata": {},
     "outputs": []
    },
    {
     "cell_type": "heading",
     "level": 2,
     "metadata": {},
     "source": [
      "Dataset: Reuters RCV1 V2"
     ]
    },
    {
     "cell_type": "markdown",
     "metadata": {},
     "source": [
      "The dataset is the widely used Reuters news article dataset RCV1 V2. This dataset and several others are loaded by running the script <code>getdata.sh</code> from the BIDMach/scripts directory. The data include both train and test subsets, and train and test labels (cats). "
     ]
    },
    {
     "cell_type": "code",
     "collapsed": false,
     "input": [
      "var dir = \"../data/rcv1/\"             // adjust to point to the BIDMach/data/rcv1 directory\n",
      "tic\n",
      "val train = loadSMat(dir+\"docs.smat.lz4\")\n",
      "val cats = loadFMat(dir+\"cats.fmat.lz4\")\n",
      "val test = loadSMat(dir+\"testdocs.smat.lz4\")\n",
      "val tcats = loadFMat(dir+\"testcats.fmat.lz4\")\n",
      "toc"
     ],
     "language": "python",
     "metadata": {},
     "outputs": []
    },
    {
     "cell_type": "markdown",
     "metadata": {},
     "source": [
      "First lets enumerate some parameter combinations for learning rate and time exponent of the optimizer (texp)"
     ]
    },
    {
     "cell_type": "code",
     "collapsed": false,
     "input": [
      "val lrates = col(0.03f, 0.1f, 0.3f, 1f)        // 4 values\n",
      "val texps = col(0.3f, 0.4f, 0.5f, 0.6f, 0.7f)  // 5 values"
     ],
     "language": "python",
     "metadata": {},
     "outputs": []
    },
    {
     "cell_type": "markdown",
     "metadata": {},
     "source": [
      "The next step is to enumerate all pairs of parameters. We can do this using the kron operator for now, this will eventually be a custom function:"
     ]
    },
    {
     "cell_type": "code",
     "collapsed": false,
     "input": [
      "val lrateparams = ones(texps.nrows, 1) \u2297 lrates\n",
      "val texpparams = texps \u2297 ones(lrates.nrows,1)\n",
      "lrateparams \\ texpparams"
     ],
     "language": "python",
     "metadata": {},
     "outputs": []
    },
    {
     "cell_type": "markdown",
     "metadata": {},
     "source": [
      "Here's the learner again:"
     ]
    },
    {
     "cell_type": "code",
     "collapsed": false,
     "input": [
      "val (mm, opts) = GLM.learner(train, cats, GLM.logistic)"
     ],
     "language": "python",
     "metadata": {},
     "outputs": []
    },
    {
     "cell_type": "markdown",
     "metadata": {},
     "source": [
      "To keep things simple, we'll focus on just one category and train many models for it. The \"targmap\" option specifies a mapping from the actual base categories to the model categories. We'll map from category six to all our models:"
     ]
    },
    {
     "cell_type": "code",
     "collapsed": false,
     "input": [
      "val nparams = lrateparams.length\n",
      "val targmap = zeros(nparams, 103)\n",
      "targmap(?,6) = 1"
     ],
     "language": "python",
     "metadata": {},
     "outputs": []
    },
    {
     "cell_type": "code",
     "collapsed": false,
     "input": [
      "opts.targmap = targmap\n",
      "opts.lrate = lrateparams\n",
      "opts.texp = texpparams"
     ],
     "language": "python",
     "metadata": {},
     "outputs": []
    },
    {
     "cell_type": "code",
     "collapsed": false,
     "input": [
      "mm.train"
     ],
     "language": "python",
     "metadata": {},
     "outputs": []
    },
    {
     "cell_type": "code",
     "collapsed": false,
     "input": [
      "val preds = zeros(targmap.nrows, tcats.ncols)       // An array to hold the predictions\n",
      "val (pp, popts) = GLM.predictor(mm.model, test, preds)"
     ],
     "language": "python",
     "metadata": {},
     "outputs": []
    },
    {
     "cell_type": "markdown",
     "metadata": {},
     "source": [
      "And invoke the predict method on the predictor:"
     ]
    },
    {
     "cell_type": "code",
     "collapsed": false,
     "input": [
      "pp.predict"
     ],
     "language": "python",
     "metadata": {},
     "outputs": []
    },
    {
     "cell_type": "markdown",
     "metadata": {},
     "source": [
      "Although ll values are printed above, they are not meaningful (there is no target to compare the prediction with). \n",
      "\n",
      "We can now compare the accuracy of predictions (preds matrix) with ground truth (the tcats matrix). "
     ]
    },
    {
     "cell_type": "code",
     "collapsed": false,
     "input": [
      "val vcats = targmap * tcats                                          // create some virtual cats\n",
      "val lls = mean(ln(1e-7f + vcats \u2218 preds + (1-vcats) \u2218 (1-preds)),2)  // actual logistic likelihood\n",
      "mean(lls)"
     ],
     "language": "python",
     "metadata": {},
     "outputs": []
    },
    {
     "cell_type": "markdown",
     "metadata": {},
     "source": [
      "A more thorough measure is ROC area:"
     ]
    },
    {
     "cell_type": "code",
     "collapsed": false,
     "input": [
      "val rocs = roc2(preds, vcats, 1-vcats, 100)   // Compute ROC curves for all categories"
     ],
     "language": "python",
     "metadata": {},
     "outputs": []
    },
    {
     "cell_type": "code",
     "collapsed": false,
     "input": [
      "plot(rocs)"
     ],
     "language": "python",
     "metadata": {},
     "outputs": []
    },
    {
     "cell_type": "code",
     "collapsed": false,
     "input": [
      "val aucs = mean(rocs)"
     ],
     "language": "python",
     "metadata": {},
     "outputs": []
    },
    {
     "cell_type": "markdown",
     "metadata": {},
     "source": [
      "The maxi2 function will find the max value and its index."
     ]
    },
    {
     "cell_type": "code",
     "collapsed": false,
     "input": [
      "val (bestv, besti) = maxi2(aucs)"
     ],
     "language": "python",
     "metadata": {},
     "outputs": []
    },
    {
     "cell_type": "markdown",
     "metadata": {},
     "source": [
      "And using the best index we can find the optimal parameters:"
     ]
    },
    {
     "cell_type": "code",
     "collapsed": false,
     "input": [
      "texpparams(besti) \\ lrateparams(besti)"
     ],
     "language": "python",
     "metadata": {},
     "outputs": []
    },
    {
     "cell_type": "markdown",
     "metadata": {},
     "source": [
      "> Write the optimal values in the cell below:"
     ]
    },
    {
     "cell_type": "markdown",
     "metadata": {},
     "source": []
    },
    {
     "cell_type": "markdown",
     "metadata": {},
     "source": [
      "<b>Note:</b> although our parameters lay in a square grid, we could have enumerated any sequence of pairs, and we could have searched over more parameters. The learner infrastructure supports more intelligent model optimization (e.g. Bayesian methods). "
     ]
    }
   ],
   "metadata": {}
  }
 ]
}