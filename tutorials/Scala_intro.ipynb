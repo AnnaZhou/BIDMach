{
 "metadata": {
  "name": "",
  "signature": "sha256:a3094e55c251efdd6bb7092ff5fe4357dc57be424e827841da9a8438bac20943"
 },
 "nbformat": 3,
 "nbformat_minor": 0,
 "worksheets": [
  {
   "cells": [
    {
     "cell_type": "heading",
     "level": 1,
     "metadata": {},
     "source": [
      "Scala Overview"
     ]
    },
    {
     "cell_type": "markdown",
     "metadata": {},
     "source": [
      "BIDMach is based on the Scala language, a very powerful language with a flexible syntax and produces code that runs on the Java virtual machine (JVM). Some quick features of Scala:\n",
      "* It includes many features familiar to Python programmers: anonymous functions, both functional and object-oriented styles, and a rich set of libraries of common data structures. \n",
      "* It has a REPL (Read-Eval-Print Loop), so that code can be typed directly at a command prompt and executed. You can also run scripts from a file. \n",
      "* It has an open syntax of operators, and new operators can be defined by simply defining a class method with the same name. These operators can use unicode characters, so many common math operators can be defined using their conventional symbol, e.g. \u2218, \u2219, \u2297\n",
      "* It can load and call virtually any existing java class and methods, so there is a very large pre-existing library for new Scala code. \n",
      "* It has very good support for concurrent programming, included an \"Actor\" framework. \n",
      "* Performance is very good, comparable with C code for many operations. You can also call native C code (through Java) if needed.\n",
      "\n",
      "For this tutorial, we'll work through some basic language constructs in Scala. A lot will be left out, but our focus is on the kind of programming you might do for data analysis. "
     ]
    },
    {
     "cell_type": "heading",
     "level": 2,
     "metadata": {},
     "source": [
      "Functional Programming in Scala"
     ]
    },
    {
     "cell_type": "markdown",
     "metadata": {},
     "source": [
      "First, lets try some functional code in Scala."
     ]
    },
    {
     "cell_type": "code",
     "collapsed": false,
     "input": [
      "def fib(n:Int):Int = if (n <= 2) 1 else fib(n-1) + fib(n-2)"
     ],
     "language": "python",
     "metadata": {},
     "outputs": []
    },
    {
     "cell_type": "markdown",
     "metadata": {},
     "source": [
      "As you can see the syntax is similar to many languages. One significant difference is that variable types are written as qualifiers after the variable name, e.g. <copde>n:Int</code>, and the function return value as <code>fib(n:Int):Int</code>. \n",
      "\n",
      "Instead of declaring variables with their type, you preface each declaration with <code>val</code> or <code>var</code>. A <code>val</code> is a value (not a variable) which is constant in its current scope. A <code>var</code> is a variable that can be changed. \n",
      "\n",
      "Try running this function and assigned the return value to v:"
     ]
    },
    {
     "cell_type": "code",
     "collapsed": false,
     "input": [
      "val v = fib(40)"
     ],
     "language": "python",
     "metadata": {},
     "outputs": []
    },
    {
     "cell_type": "markdown",
     "metadata": {},
     "source": [
      "Assigning a new value to this symbol will result in an error:"
     ]
    },
    {
     "cell_type": "code",
     "collapsed": false,
     "input": [
      "v = fib(20)"
     ],
     "language": "python",
     "metadata": {},
     "outputs": []
    },
    {
     "cell_type": "markdown",
     "metadata": {},
     "source": [
      "Variable declarations allow such changes:"
     ]
    },
    {
     "cell_type": "code",
     "collapsed": false,
     "input": [
      "var u = fib(20)\n",
      "u = fib(30)"
     ],
     "language": "python",
     "metadata": {},
     "outputs": []
    },
    {
     "cell_type": "markdown",
     "metadata": {},
     "source": [
      "Notice that we didnt specify a type for u or v. But in fact the compiler can figure out the type of both. The %type magic function in IScala lets us check"
     ]
    },
    {
     "cell_type": "code",
     "collapsed": false,
     "input": [
      "%type v"
     ],
     "language": "python",
     "metadata": {},
     "outputs": []
    },
    {
     "cell_type": "code",
     "collapsed": false,
     "input": [
      "%type u"
     ],
     "language": "python",
     "metadata": {},
     "outputs": []
    },
    {
     "cell_type": "markdown",
     "metadata": {},
     "source": [
      "Since the tree of fib calls is a binary tree with leaves with value 1, the total number of calls is exactly 2 * fib(n) - 1, which allows us to evaluate the speed of the function: tic starts a seconds timer, while toc returns its value. (The BIDMat.MatFunctions class contains the timers)"
     ]
    },
    {
     "cell_type": "code",
     "collapsed": false,
     "input": [
      "import BIDMat.MatFunctions._\n",
      "tic\n",
      "val n=fib(44)\n",
      "val t=toc\n",
      "println(\"time = %f secs, speed = %f million function calls per second\" format (t, (2*n-1)/t/1e6))"
     ],
     "language": "python",
     "metadata": {},
     "outputs": []
    },
    {
     "cell_type": "markdown",
     "metadata": {},
     "source": [
      "> TODO: Try writing and running a factorial function on your own:"
     ]
    },
    {
     "cell_type": "code",
     "collapsed": false,
     "input": [
      "def fact(n:Int):Int"
     ],
     "language": "python",
     "metadata": {},
     "outputs": []
    },
    {
     "cell_type": "heading",
     "level": 2,
     "metadata": {},
     "source": [
      "Control Flow"
     ]
    },
    {
     "cell_type": "markdown",
     "metadata": {},
     "source": [
      "We used <code>if/else</code> syntax in an intuitive way in the <code>fib()</code> function. What was perhaps not completely clear was that this is a *functional* form of if statement. That it, it returns a value which is the result of either the first (then) statement or the second (else). If the return value is needed, it is illegal to skip the else clause.\n",
      "\n",
      "Very often, the code in a <code>then</code> or <code>else</code> clause will be more than one statement, in which case we need to enclose them in Braces {}. The value returned by a set of Braces is the value of the last line in the enclosed statements. e.g."
     ]
    },
    {
     "cell_type": "code",
     "collapsed": false,
     "input": [
      "def test(a:Int):Int = {\n",
      "    if (a < 0) {\n",
      "        val b = a*a;\n",
      "        2 * a;\n",
      "    } else {\n",
      "        4 * a;\n",
      "    }\n",
      "}\n",
      "val x = (test(-4), test(3))"
     ],
     "language": "python",
     "metadata": {},
     "outputs": []
    },
    {
     "cell_type": "markdown",
     "metadata": {},
     "source": [
      "Notice that we made two function calls enclosed in a kind of list enclosed in parentheses. That's because cell evaluation, just like any code block in Scala, returns only the last statement value, but we wanted to see two values. If we check the type of this object we see:"
     ]
    },
    {
     "cell_type": "code",
     "collapsed": false,
     "input": [
      "%type x"
     ],
     "language": "python",
     "metadata": {},
     "outputs": []
    },
    {
     "cell_type": "markdown",
     "metadata": {},
     "source": [
      "This is a tuple of two Int types. Its is more primitive than a list, and includes special compiler support for type checking. And e.g. it allows functions to return multiple values of different types while still checking them, which is very powerful.\n",
      "\n",
      "Write a function sincos(x) that returns both the sin and cos of its argument. The sin and cos functions are in the math package."
     ]
    },
    {
     "cell_type": "code",
     "collapsed": false,
     "input": [
      "def sincos(x:Double):(Double, Double) "
     ],
     "language": "python",
     "metadata": {},
     "outputs": []
    },
    {
     "cell_type": "heading",
     "level": 2,
     "metadata": {},
     "source": [
      "For and While Loops"
     ]
    },
    {
     "cell_type": "markdown",
     "metadata": {},
     "source": [
      "Scala includes a functional for loop, which you can use for C-style iteration:"
     ]
    },
    {
     "cell_type": "code",
     "collapsed": false,
     "input": [
      "def fact(n:Int):Int = {\n",
      "    var p = 1;\n",
      "    for (i <- 2 to n) {\n",
      "        p *= i;\n",
      "    }\n",
      "    p\n",
      "}\n",
      "fact(5)"
     ],
     "language": "python",
     "metadata": {},
     "outputs": []
    },
    {
     "cell_type": "markdown",
     "metadata": {},
     "source": [
      "While loops have a familiar syntax:"
     ]
    },
    {
     "cell_type": "code",
     "collapsed": false,
     "input": [
      "def fact2(n:Int):Int = {\n",
      "    var p = 1;\n",
      "    var i = n;\n",
      "    while (i > 0) {\n",
      "        p *= i\n",
      "        i -= 1\n",
      "    }\n",
      "    p\n",
      "}\n",
      "fact2(5)"
     ],
     "language": "python",
     "metadata": {},
     "outputs": []
    },
    {
     "cell_type": "markdown",
     "metadata": {},
     "source": [
      "Although for and while look very similar they are very different under the hood. While is implemented by the compiler with simple iteration and conditional jumps and is very fast. For creates a lexical context for each iteration, will be much slower if variables outside the context are used. For performance code, you want to use while loops."
     ]
    },
    {
     "cell_type": "code",
     "collapsed": false,
     "input": [
      "import BIDMat.MatFunctions._\n",
      "\n",
      "val n = 100000000\n",
      "var i = 0;\n",
      "tic;\n",
      "while (i < n) {\n",
      "    i += 1\n",
      "}\n",
      "val t = toc\n",
      "println(\"t = %f secs, speed = %f million loops/sec\" format (t, n/t/1e6))"
     ],
     "language": "python",
     "metadata": {},
     "outputs": []
    },
    {
     "cell_type": "code",
     "collapsed": false,
     "input": [
      "val n2 = 1000000;\n",
      "var m = 0;\n",
      "tic;\n",
      "for (i <- 0 until n2) {\n",
      "    m += 1\n",
      "}\n",
      "val t2 = toc\n",
      "println(\"t = %f secs, speed = %f million loops/sec\" format (t2, n2/t2/1e6))"
     ],
     "language": "python",
     "metadata": {},
     "outputs": []
    },
    {
     "cell_type": "heading",
     "level": 2,
     "metadata": {},
     "source": [
      "Lists"
     ]
    },
    {
     "cell_type": "markdown",
     "metadata": {},
     "source": [
      "You can either define lists up front to use them, or construct them on the fly."
     ]
    },
    {
     "cell_type": "code",
     "collapsed": false,
     "input": [
      "val ll = List(1,2,3)"
     ],
     "language": "python",
     "metadata": {},
     "outputs": []
    },
    {
     "cell_type": "code",
     "collapsed": false,
     "input": [
      "%type ll"
     ],
     "language": "python",
     "metadata": {},
     "outputs": []
    },
    {
     "cell_type": "code",
     "collapsed": false,
     "input": [
      "val ll2 = 4 :: 5 :: 6 :: Nil  // :: is a \"cons\" operator"
     ],
     "language": "python",
     "metadata": {},
     "outputs": []
    },
    {
     "cell_type": "code",
     "collapsed": false,
     "input": [
      "0 :: ll     // You can also use :: to append to the front of a existing list in constant time"
     ],
     "language": "python",
     "metadata": {},
     "outputs": []
    },
    {
     "cell_type": "code",
     "collapsed": false,
     "input": [
      "ll :+ 4     // You can use :+ to append to the tail of a list, but this is much slower O(n)"
     ],
     "language": "python",
     "metadata": {},
     "outputs": []
    },
    {
     "cell_type": "markdown",
     "metadata": {},
     "source": [
      "Lists are immutable in Scala, so you cannot actually modify them. You can access an element with () but not modify it:"
     ]
    },
    {
     "cell_type": "code",
     "collapsed": false,
     "input": [
      "ll(2)"
     ],
     "language": "python",
     "metadata": {},
     "outputs": []
    },
    {
     "cell_type": "code",
     "collapsed": false,
     "input": [
      "ll(2) = 4"
     ],
     "language": "python",
     "metadata": {},
     "outputs": []
    },
    {
     "cell_type": "code",
     "collapsed": false,
     "input": [
      "val ll3 = ll ++ ll2     // ++ is the operator to concatenate two lists"
     ],
     "language": "python",
     "metadata": {},
     "outputs": []
    },
    {
     "cell_type": "markdown",
     "metadata": {},
     "source": [
      "Lists, like other collections, support a variety of map and reduce functions. e.g. try"
     ]
    },
    {
     "cell_type": "code",
     "collapsed": false,
     "input": [
      "def square(v:Int):Int = v*v\n",
      "ll3.map(square)"
     ],
     "language": "python",
     "metadata": {},
     "outputs": []
    },
    {
     "cell_type": "markdown",
     "metadata": {},
     "source": [
      "Small, local utility functions are used a lot in Scala, and it has a simple syntax for creating anonymous functions. To define the square function on the fly, we could do:"
     ]
    },
    {
     "cell_type": "code",
     "collapsed": false,
     "input": [
      "ll3.map((x:Int) => x * x)"
     ],
     "language": "python",
     "metadata": {},
     "outputs": []
    },
    {
     "cell_type": "markdown",
     "metadata": {},
     "source": [
      "And for a reducer, we just need to supply a function with two arguments:"
     ]
    },
    {
     "cell_type": "code",
     "collapsed": false,
     "input": [
      "ll3.reduce((x:Int, y:Int) => x + y)"
     ],
     "language": "python",
     "metadata": {},
     "outputs": []
    },
    {
     "cell_type": "markdown",
     "metadata": {},
     "source": [
      "The vars x, y are repeated in the same order in the function parameter list and in its body, and that pattern occurs a lot in short utility functions. Scala includes special syntax for it. The underscore character \"_\"  represents both the function parameter, and the value, in the order it appears. In other words\n",
      "\n",
      "<pre>\n",
      "_op_ is equivalent to (x:Type, y:Type) => x op y\n",
      "</pre>\n",
      "\n",
      "\n",
      "So we can write the sum reducer as:"
     ]
    },
    {
     "cell_type": "code",
     "collapsed": false,
     "input": [
      "ll3.reduce(_+_)   // the first \"_\" holds the first function parameter, while the second \"_\" holds the second. "
     ],
     "language": "python",
     "metadata": {},
     "outputs": []
    },
    {
     "cell_type": "markdown",
     "metadata": {},
     "source": [
      "The fold functions foldLeft and foldRight are like reduce, except they include an explicit start value. To copy a list we can do:"
     ]
    },
    {
     "cell_type": "code",
     "collapsed": false,
     "input": [
      "ll3.foldRight(List[Int]())(_::_)"
     ],
     "language": "python",
     "metadata": {},
     "outputs": []
    },
    {
     "cell_type": "markdown",
     "metadata": {},
     "source": [
      ">TODO: Write a similar expression below using foldRight that reverses the list. Hint: you can't use <code>_</code> arguments because you need to switch the order that the arguments appear when you concatenate them."
     ]
    },
    {
     "cell_type": "code",
     "collapsed": false,
     "input": [],
     "language": "python",
     "metadata": {},
     "outputs": []
    },
    {
     "cell_type": "heading",
     "level": 2,
     "metadata": {},
     "source": [
      "Ranges"
     ]
    },
    {
     "cell_type": "markdown",
     "metadata": {},
     "source": [
      "There are special operators \"to\" and \"until\" which construct ranges of consecutive integers for use in functional \"loops\". \"to\" gives a sequence up to an including the last value, \"until\" discards the last value (which is what you want for C-style for loops)."
     ]
    },
    {
     "cell_type": "code",
     "collapsed": false,
     "input": [
      "1 to 5"
     ],
     "language": "python",
     "metadata": {},
     "outputs": []
    },
    {
     "cell_type": "code",
     "collapsed": false,
     "input": [
      "(1 to 5).map(square)"
     ],
     "language": "python",
     "metadata": {},
     "outputs": []
    },
    {
     "cell_type": "code",
     "collapsed": false,
     "input": [
      "(1 to 5).reduce(_+_)"
     ],
     "language": "python",
     "metadata": {},
     "outputs": []
    },
    {
     "cell_type": "markdown",
     "metadata": {},
     "source": [
      "which gives us a functional way to compute factorial. "
     ]
    },
    {
     "cell_type": "markdown",
     "metadata": {},
     "source": [
      ">TODO: Write a functional factorial (with neither loops nor recursion) in the cell below:"
     ]
    },
    {
     "cell_type": "code",
     "collapsed": false,
     "input": [
      "def factf(n:Int):Int "
     ],
     "language": "python",
     "metadata": {},
     "outputs": []
    },
    {
     "cell_type": "heading",
     "level": 2,
     "metadata": {},
     "source": [
      "Arrays"
     ]
    },
    {
     "cell_type": "markdown",
     "metadata": {},
     "source": [
      "Arrays are the basic building block for numeric computation. In Scala they are mutable data structure of fixed size with constaint time indexed access."
     ]
    },
    {
     "cell_type": "code",
     "collapsed": false,
     "input": [
      "val arr = Array(1,2,3,4)"
     ],
     "language": "python",
     "metadata": {},
     "outputs": []
    },
    {
     "cell_type": "markdown",
     "metadata": {},
     "source": [
      "Arrays dont seem to print correctly in IScala. To see an arrays contents, you can convert it to a List or a Vector"
     ]
    },
    {
     "cell_type": "code",
     "collapsed": false,
     "input": [
      "arr.toVector"
     ],
     "language": "python",
     "metadata": {},
     "outputs": []
    },
    {
     "cell_type": "markdown",
     "metadata": {},
     "source": [
      "You access elements of an array using (indx) instead of [indx] as in other languages."
     ]
    },
    {
     "cell_type": "code",
     "collapsed": false,
     "input": [
      "arr(2)"
     ],
     "language": "python",
     "metadata": {},
     "outputs": []
    },
    {
     "cell_type": "markdown",
     "metadata": {},
     "source": [
      "Since arrays are mutable, you can change their values:"
     ]
    },
    {
     "cell_type": "code",
     "collapsed": false,
     "input": [
      "arr(2) = 7"
     ],
     "language": "python",
     "metadata": {},
     "outputs": []
    },
    {
     "cell_type": "code",
     "collapsed": false,
     "input": [
      "arr.toVector"
     ],
     "language": "python",
     "metadata": {},
     "outputs": []
    },
    {
     "cell_type": "markdown",
     "metadata": {},
     "source": [
      "Methods like map, reduce, fold are all applicable to arrays. You can convert from most other sequence-like structure to an array with the toArray method."
     ]
    },
    {
     "cell_type": "code",
     "collapsed": false,
     "input": [
      "val ar = (1 to 10).toArray\n",
      "ar.toVector"
     ],
     "language": "python",
     "metadata": {},
     "outputs": []
    },
    {
     "cell_type": "code",
     "collapsed": false,
     "input": [
      "ar.reduce(_*_)"
     ],
     "language": "python",
     "metadata": {},
     "outputs": []
    },
    {
     "cell_type": "markdown",
     "metadata": {},
     "source": [
      "You can add the contents of two same-sized arrays by writing a while loop, but a more fucntional approach is to use the \"zip\" method which makes an array of pairs of values (2-tuples). With this array, you can use the sum function to add the arrays."
     ]
    },
    {
     "cell_type": "code",
     "collapsed": false,
     "input": [
      "val br = Array(4,4,5,6,3,3,4,4,2,2)\n",
      "val ab = ar.zip(br)\n",
      "val absum = ab.map(x => x._1 + x._2)  // x is a 2-tuple, you need to extract its parts with _1 and _2 methods.\n",
      "absum.toVector"
     ],
     "language": "python",
     "metadata": {},
     "outputs": []
    },
    {
     "cell_type": "markdown",
     "metadata": {},
     "source": [
      "Scala's functional syntax is very powerful and succinct, but generally not fast (the vector addition routine above is 100x slower than a while-loop-based version). BIDMach layers a different functional metaphor on top of Scala's arrays which is both fast and simple (similar to standard math syntax). We'll explore that shortly."
     ]
    },
    {
     "cell_type": "heading",
     "level": 2,
     "metadata": {},
     "source": [
      "Dictionaries"
     ]
    },
    {
     "cell_type": "markdown",
     "metadata": {},
     "source": [
      "Like Python, Scala has a flexible Dictionary class. Actually there are several which use different internal representations. The HashMap will amost always be what we want."
     ]
    },
    {
     "cell_type": "code",
     "collapsed": false,
     "input": [
      "import scala.collection.mutable.HashMap\n",
      "val a = HashMap[String,Int]()"
     ],
     "language": "python",
     "metadata": {},
     "outputs": []
    },
    {
     "cell_type": "code",
     "collapsed": false,
     "input": [
      "a(\"end\") = 20\n",
      "a(\"begin\") = 40\n",
      "a(\"up\") = 100\n",
      "a(\"down\") = 1000\n",
      "a"
     ],
     "language": "python",
     "metadata": {},
     "outputs": []
    },
    {
     "cell_type": "markdown",
     "metadata": {},
     "source": [
      "You can iterate through the map using a for loop to retrieve all the tuples:"
     ]
    },
    {
     "cell_type": "code",
     "collapsed": false,
     "input": [
      "for (i <- a) println(\"key %s, value %d\" format (i._1, i._2))"
     ],
     "language": "python",
     "metadata": {},
     "outputs": []
    },
    {
     "cell_type": "markdown",
     "metadata": {},
     "source": [
      ">TODO: Write a function that computes and returns the (key,value) pair with the smallest value:"
     ]
    },
    {
     "cell_type": "code",
     "collapsed": false,
     "input": [],
     "language": "python",
     "metadata": {},
     "outputs": []
    }
   ],
   "metadata": {}
  }
 ]
}