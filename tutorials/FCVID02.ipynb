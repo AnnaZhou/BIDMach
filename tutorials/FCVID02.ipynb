{
 "metadata": {
  "name": "",
  "signature": "sha256:cc16c6028236786ac7fb263a6b1d1c2cacb8a377a89e2dfde4d72c1a49a6f1a4"
 },
 "nbformat": 3,
 "nbformat_minor": 0,
 "worksheets": [
  {
   "cells": [
    {
     "cell_type": "heading",
     "level": 1,
     "metadata": {},
     "source": [
      "COCOA Method based on LBFGS Optimization "
     ]
    },
    {
     "cell_type": "markdown",
     "metadata": {},
     "source": [
      "In this tutorial, we'll explore training and evaluation of L-BFGS method based Logitistic Regression Classifiers.\n",
      "\n",
      "To start, we import the standard BIDMach class definitions. "
     ]
    },
    {
     "cell_type": "code",
     "collapsed": false,
     "input": [
      "import BIDMat.{CMat,CSMat,DMat,Dict,IDict,FMat,GMat,GIMat,GSMat,HMat,IMat,Mat,SMat,SBMat,SDMat}\n",
      "import BIDMat.MatFunctions._\n",
      "import BIDMat.SciFunctions._\n",
      "import BIDMat.Solvers._\n",
      "import BIDMat.Plotting._\n",
      "import BIDMach.Learner\n",
      "import BIDMach.models.{FM,GLM,KMeans,LDA,LDAgibbs,NMF,SFA}\n",
      "import BIDMach.datasources.{MatDS,FilesDS,SFilesDS}\n",
      "import BIDMach.mixins.{CosineSim,Perplexity,Top,L1Regularizer,L2Regularizer}\n",
      "import BIDMach.updaters.{ADAGrad,Batch,BatchNorm,IncMult,IncNorm,Telescoping}\n",
      "import BIDMach.causal.{IPTW}\n",
      "\n",
      "Mat.checkMKL\n",
      "Mat.checkCUDA\n",
      "if (Mat.hasCUDA > 0) GPUmem"
     ],
     "language": "python",
     "metadata": {},
     "outputs": [
      {
       "output_type": "stream",
       "stream": "stdout",
       "text": [
        "Cant find native HDF5 library\n",
        "Couldnt load JCuda\n"
       ]
      },
      {
       "output_type": "stream",
       "stream": "stdout",
       "text": []
      },
      {
       "output_type": "stream",
       "stream": "stdout",
       "text": []
      },
      {
       "metadata": {},
       "output_type": "pyout",
       "prompt_number": 1,
       "text": [
        "()"
       ]
      }
     ],
     "prompt_number": 1
    },
    {
     "cell_type": "markdown",
     "metadata": {},
     "source": [
      "Now we load some training and test data, and some category labels. The data come from a news collection from Reuters, and is a \"classic\" test set for classification. Each article belongs to one or more of 103 categories. The articles are represented as Bag-of-Words (BoW) column vectors. For a data matrix A, element A(i,j) holds the count of word i in document j. \n",
      "\n",
      "The category matrices have 103 rows, and a category matrix C has a one in position C(i,j) if document j is tagged with category i, or zero otherwise.  \n",
      "\n",
      "To reduce the computing time and memory footprint, the training data have been sampled. The full collection has about 700k documents. Our training set has 60k. \n",
      "\n",
      "Since the document matrices contain counts of words, we use a min function to limit the count to \"1\", i.e. because we need binary features for naive Bayes. "
     ]
    },
    {
     "cell_type": "code",
     "collapsed": false,
     "input": [
      "\n",
      "val dict = \"/Users/Anna/workspace/BIDMach/data/\"\n",
      "val rpath = \"/Users/Anna/workspace/BIDMach/data/\"\n",
      "\n",
      "var index = 79; \n",
      "var index1 = 110;\n",
      "var tnum = 1;\n",
      "var tnum1 = 1;\n",
      "//for(index <- 79 to 79){\n",
      " var aa = loadFMat(dict+index+\"_train\"+\".txt\")\n",
      "// var c = loadFMat(dict+index+\"_test\"+\".txt\")\n",
      " var b = loadFMat(dict+index1+\"_train.txt\")\n",
      "\n",
      "//var a = aa.t   \n",
      "var atrain = aa(?,(239->aa.ncols))\n",
      "//var atest = c(?,(239->c.ncols))\n",
      "var atrain1 = b(?,(239->b.ncols))\n",
      "\n",
      "tnum = (aa.nrows+1)/2\n",
      "var ttrain = aa(0->tnum,(239->aa.ncols) )\n",
      "var ttest = aa(tnum->aa.nrows,(239->aa.ncols) )\n",
      "tnum1 = (b.nrows+1)/2\n",
      "var ttrain1 = b(0->tnum1,(239->b.ncols) )\n",
      "var ttest1 = b(tnum1->b.nrows,(239->b.ncols) )\n",
      "\n",
      "var trainx = zeros( (ttrain.nrows+ttrain1.nrows),4096)\n",
      "trainx(0->(ttrain.nrows),?)=ttrain\n",
      "trainx( (ttrain.nrows)->(ttrain.nrows+ttrain1.nrows),?)=ttrain1\n",
      "\n",
      "var testx= zeros( (ttest.nrows+ttest1.nrows),4096)\n",
      "testx(0->(ttest.nrows),?)=ttest\n",
      "testx( (ttest.nrows)->(ttest.nrows+ttest1.nrows),?)=ttest1\n",
      "\n",
      "var ctrain1=zeros(2,(ttrain.nrows+ttrain1.nrows) ) \n",
      "ctrain1(0,(0->(ttrain.nrows) ) )= 1\n",
      "ctrain1(1,(ttrain.nrows)->(ttrain.nrows+ttrain1.nrows)) = 1\n",
      "//ctrain1(1,(0->(ttrain.nrows) ) )= -1\n",
      "//ctrain1(0,(ttrain.nrows)->(ttrain.nrows+ttrain1.nrows)) = -1\n",
      "\n",
      "var ctest=zeros(2,(ttest.nrows+ttest1.nrows) ) \n",
      "ctest(0,(0->(ttest.nrows) ) )= 1\n",
      "ctest(1,(ttest.nrows)->(ttest.nrows+ttest1.nrows)) = 1\n",
      "//ctest(1,(0->(ttest.nrows) ) )= -1\n",
      "//ctest(0,(ttest.nrows)->(ttest.nrows+ttest1.nrows)) = -1\n",
      "\n",
      "//max(atrain, 0.001, atrain)                       // the first \"traindata\" argument is the input, the other is out\n",
      "tnum=testx.nrows\n",
      "val cx=zeros(2,testx.nrows)\n",
      "var maxx = maxi(maxi(trainx,1),2);\n",
      "var minx = mini(mini(trainx,1),2);\n",
      "trainx = (trainx-minx)/(maxx-minx);\n",
      "testx = (testx-minx)/(maxx-minx);\n",
      "val (mm,mopts,nn,nopts)=GLM.LBFGSlearner(trainx.t,ctrain1,testx.t,cx)\n",
      "\n",
      "mopts.autoReset=false\n",
      "mopts.useGPU=false\n",
      "mopts.lrate=0.1\n",
      "mopts.batchSize=50\n",
      "mopts.dim=256\n",
      "mopts.startBlock=0\n",
      "mopts.npasses=40\n",
      "mopts.updateAll=false\n",
      "\n",
      "//problem:memory leak\n",
      "mm.train;\n",
      "\n",
      "nn.predict;\n",
      "\n",
      "saveFMat(rpath+\"r\"+index+\".txt\",cx/tnum);\n",
      "//}\n",
      " \n",
      "min(cx, 1, cx)                       // the first \"traindata\" argument is the input, the other is output\n",
      "max(cx, 0, cx) \n",
      "val p=ctest *@cx +(1-ctest) *@(1-cx)\n",
      "var meanp=mean(p,2)\n",
      "//saveFMat(rpath+\"meanp\"+index+\".txt\",meanp);\n",
      "meanp"
     ],
     "language": "python",
     "metadata": {},
     "outputs": [
      {
       "output_type": "stream",
       "stream": "stdout",
       "text": [
        "corpus perplexity=3454.134799\n",
        "(2,4096)\n"
       ]
      },
      {
       "output_type": "stream",
       "stream": "stdout",
       "text": [
        "pass= 0\n",
        "(1,2)\n"
       ]
      },
      {
       "output_type": "stream",
       "stream": "stdout",
       "text": [
        "(0.4494004249572754,    0.0013738\n",
        "   -0.0022747\n",
        "   -0.0014853\n",
        "    0.0028352\n",
        "    0.0040063\n",
        "   0.00040735\n",
        "  -9.7686e-05\n",
        "    0.0015630\n",
        "           ..\n",
        ")\n",
        "100.00%, ll=-1.20408, gf=1.805, secs=0.1, GB=0.00, MB/s=40.82\n",
        "pass= 1\n",
        "(1,2)\n"
       ]
      },
      {
       "output_type": "stream",
       "stream": "stdout",
       "text": [
        "(0.13582171499729156,  -0.00083846\n",
        "  -0.00096879\n",
        "  -0.00038762\n",
        "  -0.00017293\n",
        "   -0.0063735\n",
        "   -0.0014488\n",
        "   -0.0011377\n",
        "   5.1636e-05\n",
        "           ..\n",
        ")\n",
        "100.00%, ll=-1.15363, gf=1.821, secs=0.1, GB=0.00, MB/s=41.18\n",
        "pass= 2\n",
        "(1,2)\n"
       ]
      },
      {
       "output_type": "stream",
       "stream": "stdout",
       "text": [
        "(0.10177785158157349,  -0.00064910\n",
        "  -0.00074999\n",
        "  -0.00030008\n",
        "  -0.00013387\n",
        "   -0.0040396\n",
        "  -0.00022718\n",
        "   1.3670e-05\n",
        "   3.9974e-05\n",
        "           ..\n",
        ")\n",
        "100.00%, ll=-1.04952, gf=1.837, secs=0.2, GB=0.01, MB/s=41.55\n",
        "pass= 3\n",
        "(1,2)\n"
       ]
      },
      {
       "output_type": "stream",
       "stream": "stdout",
       "text": [
        "(0.08384242653846741,  -0.00076133\n",
        "  -0.00064364\n",
        "  -0.00026043\n",
        "  -0.00012276\n",
        "   -0.0035598\n",
        "  -0.00026415\n",
        "  -0.00015153\n",
        "   3.1218e-05\n",
        "           ..\n",
        ")\n",
        "100.00%, ll=-0.96572, gf=1.854, secs=0.2, GB=0.01, MB/s=41.92\n",
        "pass= 4\n",
        "(1,2)\n"
       ]
      },
      {
       "output_type": "stream",
       "stream": "stdout",
       "text": [
        "(0.07361403852701187,  -0.00069415\n",
        "  -0.00056927\n",
        "  -0.00022959\n",
        "  -0.00022628\n",
        "   -0.0037102\n",
        "  -0.00025731\n",
        "  -0.00014351\n",
        "   2.1922e-05\n",
        "           ..\n",
        ")\n",
        "100.00%, ll=-0.88716, gf=1.780, secs=0.3, GB=0.01, MB/s=40.25\n",
        "pass= 5\n",
        "(1,2)\n"
       ]
      },
      {
       "output_type": "stream",
       "stream": "stdout",
       "text": [
        "(0.06625429540872574,  -3.8724e-06\n",
        "  -0.00051308\n",
        "  -0.00020761\n",
        "  -9.7820e-05\n",
        "   -0.0028376\n",
        "  -0.00021056\n",
        "  -0.00012079\n",
        "   2.4887e-05\n",
        "           ..\n",
        ")\n",
        "100.00%, ll=-0.81714, gf=1.754, secs=0.4, GB=0.01, MB/s=39.66\n",
        "pass= 6\n",
        "(1,2)\n"
       ]
      },
      {
       "output_type": "stream",
       "stream": "stdout",
       "text": [
        "(0.060841139405965805,  -3.5610e-06\n",
        "  -0.00047183\n",
        "  -0.00019091\n",
        "  -8.9954e-05\n",
        "   -0.0026094\n",
        "  -0.00019363\n",
        "  -0.00011108\n",
        "   2.2886e-05\n",
        "           ..\n",
        ")\n",
        "100.00%, ll=-0.75846, gf=1.735, secs=0.4, GB=0.02, MB/s=39.24\n",
        "pass= 7\n",
        "(1,2)\n"
       ]
      },
      {
       "output_type": "stream",
       "stream": "stdout",
       "text": [
        "(0.04746568948030472,   1.4183e-05\n",
        "  -0.00041046\n",
        "  -0.00010252\n",
        "  -0.00013639\n",
        "   -0.0018075\n",
        "  -9.7930e-05\n",
        "   2.9472e-05\n",
        "   6.6703e-05\n",
        "           ..\n",
        ")\n",
        "100.00%, ll=-0.71654, gf=1.715, secs=0.5, GB=0.02, MB/s=38.78\n",
        "pass= 8\n",
        "(1,2)\n"
       ]
      },
      {
       "output_type": "stream",
       "stream": "stdout",
       "text": [
        "(0.04462983086705208,  -1.2259e-05\n",
        "  -0.00038797\n",
        "  -0.00012232\n",
        "  -0.00026577\n",
        "   -0.0020151\n",
        "  -9.6101e-05\n",
        "  -5.6293e-06\n",
        "   3.3637e-05\n",
        "           ..\n",
        ")\n",
        "100.00%, ll=-0.67233, gf=1.750, secs=0.5, GB=0.02, MB/s=39.58\n",
        "pass= 9\n",
        "(1,2)\n"
       ]
      },
      {
       "output_type": "stream",
       "stream": "stdout",
       "text": [
        "(0.042011283338069916,   1.2602e-05\n",
        "  -0.00036452\n",
        "  -9.1039e-05\n",
        "  -0.00012109\n",
        "   -0.0016052\n",
        "  -8.6969e-05\n",
        "   2.6182e-05\n",
        "   5.9244e-05\n",
        "           ..\n",
        ")\n",
        "100.00%, ll=-0.63581, gf=1.738, secs=0.6, GB=0.02, MB/s=39.30\n",
        "pass=10\n"
       ]
      },
      {
       "output_type": "stream",
       "stream": "stdout",
       "text": [
        "(1,2)\n",
        "(0.03719072788953781,   2.5574e-05\n",
        "  -0.00032604\n",
        "  -7.1105e-05\n",
        "  -6.5141e-05\n",
        "  -0.00089255\n",
        "  -1.7536e-05\n",
        "   6.2129e-05\n",
        "   7.2703e-05\n",
        "           ..\n",
        ")\n",
        "100.00%, ll=-0.60575, gf=1.768, secs=0.6, GB=0.03, MB/s=39.99\n",
        "pass=11\n",
        "(1,2)\n"
       ]
      },
      {
       "output_type": "stream",
       "stream": "stdout",
       "text": [
        "(0.03507523611187935,  -5.7456e-05\n",
        "  -0.00032190\n",
        "  -9.5668e-05\n",
        "  -0.00018120\n",
        "   -0.0014317\n",
        "  -4.9728e-05\n",
        "  -3.1073e-05\n",
        "  -1.7042e-05\n",
        "           ..\n",
        ")\n",
        "100.00%, ll=-0.56851, gf=1.774, secs=0.7, GB=0.03, MB/s=40.11\n",
        "pass=12\n",
        "(1,2)\n"
       ]
      },
      {
       "output_type": "stream",
       "stream": "stdout",
       "text": [
        "(0.034032877534627914,   1.6135e-05\n",
        "  -0.00029966\n",
        "  -8.6614e-05\n",
        "  -0.00010236\n",
        "  -0.00073635\n",
        "  -4.8058e-06\n",
        "   3.5424e-05\n",
        "   4.6065e-05\n",
        "           ..\n",
        ")\n",
        "100.00%, ll=-0.54505, gf=1.781, secs=0.8, GB=0.03, MB/s=40.27\n",
        "pass=13\n",
        "(1,2)\n"
       ]
      },
      {
       "output_type": "stream",
       "stream": "stdout",
       "text": [
        "(0.032601725310087204,  -0.00011097\n",
        "  -0.00030424\n",
        "  -0.00013051\n",
        "  -0.00016719\n",
        "   -0.0015290\n",
        "  -4.7339e-05\n",
        "  -0.00014362\n",
        "  -2.7424e-05\n",
        "           ..\n",
        ")\n",
        "100.00%, ll=-0.51166, gf=1.814, secs=0.8, GB=0.03, MB/s=41.02\n",
        "pass=14\n",
        "(1,2)\n"
       ]
      },
      {
       "output_type": "stream",
       "stream": "stdout",
       "text": [
        "(0.02952096424996853,   2.5115e-06\n",
        "  -0.00025881\n",
        "  -2.7834e-05\n",
        "   5.7144e-05\n",
        "  -0.00042910\n",
        "  -9.1653e-07\n",
        "   8.7167e-05\n",
        "   2.7193e-05\n",
        "           ..\n",
        ")\n",
        "100.00%, ll=-0.48724, gf=1.797, secs=0.9, GB=0.03, MB/s=40.63\n",
        "pass=15\n"
       ]
      },
      {
       "output_type": "stream",
       "stream": "stdout",
       "text": [
        "(1,2)\n"
       ]
      },
      {
       "output_type": "stream",
       "stream": "stdout",
       "text": [
        "(0.027476126328110695,  -8.2974e-05\n",
        "  -0.00025990\n",
        "  -8.5634e-05\n",
        "  -0.00011032\n",
        "   -0.0011525\n",
        "  -1.8472e-05\n",
        "  -5.2984e-05\n",
        "  -9.1072e-06\n",
        "           ..\n",
        ")\n",
        "100.00%, ll=-0.46848, gf=1.797, secs=0.9, GB=0.04, MB/s=40.64\n",
        "pass=16\n",
        "(1,2)\n"
       ]
      },
      {
       "output_type": "stream",
       "stream": "stdout",
       "text": [
        "(0.020297421142458916,   3.6148e-05\n",
        "  -0.00021182\n",
        "  -3.3674e-05\n",
        "   8.9169e-05\n",
        "  -0.00018126\n",
        "   0.00019112\n",
        "   0.00030066\n",
        "   6.7775e-05\n",
        "           ..\n",
        ")\n",
        "100.00%, ll=-0.45805, gf=1.799, secs=1.0, GB=0.04, MB/s=40.69\n",
        "pass=17\n",
        "(1,2)\n"
       ]
      },
      {
       "output_type": "stream",
       "stream": "stdout",
       "text": [
        "(0.0196317657828331,   3.5094e-05\n",
        "  -0.00020564\n",
        "  -3.2692e-05\n",
        "   8.6569e-05\n",
        "  -0.00017597\n",
        "   0.00018554\n",
        "   0.00029189\n",
        "   6.5799e-05\n",
        "           ..\n",
        ")\n",
        "100.00%, ll=-0.44768, gf=1.807, secs=1.0, GB=0.04, MB/s=40.86\n",
        "pass=18\n",
        "(1,2)\n"
       ]
      },
      {
       "output_type": "stream",
       "stream": "stdout",
       "text": [
        "(0.019119499251246452,   3.4127e-05\n",
        "  -0.00019997\n",
        "  -3.1791e-05\n",
        "   8.4183e-05\n",
        "  -0.00017112\n",
        "   0.00018043\n",
        "   0.00028384\n",
        "   6.3985e-05\n",
        "           ..\n",
        ")\n",
        "100.00%, ll=-0.43758, gf=1.803, secs=1.1, GB=0.04, MB/s=40.78\n",
        "pass=19\n",
        "(1,2)\n"
       ]
      },
      {
       "output_type": "stream",
       "stream": "stdout",
       "text": [
        "(0.017947904765605927,   2.8854e-05\n",
        "  -0.00021644\n",
        "  -5.9883e-05\n",
        "   6.6206e-05\n",
        "  -0.00050825\n",
        "   0.00014836\n",
        "  -0.00017604\n",
        "   2.9038e-05\n",
        "           ..\n",
        ")\n",
        "100.00%, ll=-0.42498, gf=1.819, secs=1.1, GB=0.05, MB/s=41.14\n",
        "pass=20\n",
        "(1,2)\n",
        "(0.0174519382417202,   2.8137e-05\n",
        "  -0.00021106\n",
        "  -5.8395e-05\n",
        "   6.4561e-05\n",
        "  -0.00049562\n",
        "   0.00014468\n",
        "   0.00014068\n",
        "   2.8317e-05\n",
        "           ..\n",
        ")\n",
        "100.00%, ll=-0.41656, gf=1.839, secs=1.2, GB=0.05, MB/s=41.58\n",
        "pass=21\n",
        "(1,2)\n"
       ]
      },
      {
       "output_type": "stream",
       "stream": "stdout",
       "text": [
        "(0.01706722192466259,   2.7471e-05\n",
        "  -0.00020606\n",
        "  -5.7012e-05\n",
        "   6.3032e-05\n",
        "  -0.00048388\n",
        "   0.00014125\n",
        "  -0.00016765\n",
        "   2.7646e-05\n",
        "           ..\n",
        ")\n",
        "100.00%, ll=-0.40958, gf=1.849, secs=1.2, GB=0.05, MB/s=41.82\n",
        "pass=22\n",
        "(1,2)\n"
       ]
      },
      {
       "output_type": "stream",
       "stream": "stdout",
       "text": [
        "(0.016667943447828293,   2.6849e-05\n",
        "  -0.00020140\n",
        "  -5.5722e-05\n",
        "   6.1606e-05\n",
        "  -0.00047293\n",
        "   0.00013805\n",
        "   0.00013428\n",
        "   2.7021e-05\n",
        "           ..\n",
        ")\n",
        "100.00%, ll=-0.40269, gf=1.856, secs=1.3, GB=0.05, MB/s=41.97\n",
        "pass=23\n",
        "(1,2)\n"
       ]
      },
      {
       "output_type": "stream",
       "stream": "stdout",
       "text": [
        "(0.016294963657855988,   2.6268e-05\n",
        "  -0.00019704\n",
        "  -5.4516e-05\n",
        "   6.0272e-05\n",
        "  -0.00046269\n",
        "   0.00013506\n",
        "  -0.00016035\n",
        "   2.6435e-05\n",
        "           ..\n",
        ")\n",
        "100.00%, ll=-0.39603, gf=1.872, secs=1.3, GB=0.06, MB/s=42.33\n",
        "pass=24\n",
        "(1,2)\n"
       ]
      },
      {
       "output_type": "stream",
       "stream": "stdout",
       "text": [
        "(0.015976089984178543,   2.5723e-05\n",
        "  -0.00019295\n",
        "  -5.3384e-05\n",
        "   5.9021e-05\n",
        "  -0.00045309\n",
        "   0.00013226\n",
        "   0.00012869\n",
        "   2.5887e-05\n",
        "           ..\n",
        ")\n",
        "100.00%, ll=-0.39159, gf=1.860, secs=1.4, GB=0.06, MB/s=42.06\n",
        "pass=25\n",
        "(1,2)\n"
       ]
      },
      {
       "output_type": "stream",
       "stream": "stdout",
       "text": [
        "(0.014259561896324158,   0.00010124\n",
        "  -0.00017630\n",
        "  -2.1711e-05\n",
        "   5.9500e-05\n",
        "  -0.00022346\n",
        "   0.00013997\n",
        "  -0.00014550\n",
        "   2.5370e-05\n",
        "           ..\n",
        ")\n",
        "100.00%, ll=-0.38919, gf=1.842, secs=1.5, GB=0.06, MB/s=41.66\n",
        "pass=26\n",
        "(1,2)\n",
        "(0.01397932693362236,   9.9295e-05\n",
        "  -0.00017292\n",
        "  -2.1294e-05\n",
        "   5.8358e-05\n",
        "  -0.00021917\n",
        "   0.00013729\n",
        "   0.00013201\n",
        "   2.4884e-05\n",
        "           ..\n",
        ")\n",
        "100.00%, ll=-0.38857, gf=1.832, secs=1.5, GB=0.06, MB/s=41.44\n",
        "pass=27\n",
        "(1,2)\n",
        "(0.013728009536862373,   9.7459e-05\n",
        "  -0.00016972\n",
        "  -2.0900e-05\n",
        "   5.7279e-05\n",
        "  -0.00021512\n",
        "  -0.00013493\n",
        "  -0.00014011\n",
        "   2.4424e-05\n",
        "           ..\n",
        ")\n",
        "100.00%, ll=-0.38774, gf=1.834, secs=1.6, GB=0.07, MB/s=41.47\n",
        "pass=28\n",
        "(1,2)\n",
        "(0.013436269015073776,   9.5721e-05\n",
        "  -0.00016669\n",
        "  -2.0528e-05\n",
        "   5.6258e-05\n",
        "  -0.00021128\n",
        "   0.00013238\n",
        "   0.00012729\n",
        "   2.3988e-05\n",
        "           ..\n",
        ")\n",
        "100.00%, ll=-0.38698, gf=1.852, secs=1.6, GB=0.07, MB/s=41.88\n",
        "pass=29\n",
        "(1,2)\n",
        "(0.012738805264234543,   0.00010320\n",
        "  -0.00015582\n",
        "  -1.5725e-05\n",
        "   0.00013445\n",
        "   6.1910e-05\n",
        "  -8.2682e-05\n",
        "  -1.7871e-05\n",
        "   3.5862e-05\n",
        "           ..\n",
        ")\n",
        "100.00%, ll=-0.38785, gf=1.872, secs=1.6, GB=0.07, MB/s=42.33\n",
        "pass=30\n",
        "(1,2)\n",
        "(0.012483472935855389,   0.00010148\n",
        "  -0.00015323\n",
        "  -1.5464e-05\n",
        "   0.00013221\n",
        "   6.0879e-05\n",
        "   0.00017477\n",
        "   0.00023850\n",
        "   3.5264e-05\n",
        "           ..\n",
        ")\n",
        "100.00%, ll=-0.38855, gf=1.879, secs=1.7, GB=0.07, MB/s=42.50\n",
        "pass=31\n",
        "(1,2)\n",
        "(0.012241481803357601,  -0.00015214\n",
        "  -0.00015076\n",
        "  -1.5214e-05\n",
        "   0.00013008\n",
        "   5.9897e-05\n",
        "  -8.0026e-05\n",
        "  -1.7322e-05\n",
        "   3.4696e-05\n",
        "           ..\n",
        ")\n",
        "100.00%, ll=-0.38932, gf=1.899, secs=1.7, GB=0.07, MB/s=42.94\n",
        "pass=32\n",
        "(1,2)\n",
        "(0.012043232098221779,   9.8312e-05\n",
        "  -0.00014840\n",
        "  -1.4976e-05\n",
        "   0.00012804\n",
        "   5.8961e-05\n",
        "  -7.8775e-05\n",
        "  -1.7051e-05\n",
        "   3.4153e-05\n",
        "           ..\n",
        ")\n",
        "100.00%, ll=-0.38838, gf=1.918, secs=1.8, GB=0.08, MB/s=43.38\n",
        "pass=33\n",
        "(1,2)\n",
        "(0.011883669532835484,  -0.00014752\n",
        "  -0.00014615\n",
        "  -1.4749e-05\n",
        "   0.00012610\n",
        "   5.8067e-05\n",
        "   0.00016676\n",
        "  -1.6793e-05\n",
        "   3.3636e-05\n",
        "           ..\n",
        ")\n",
        "100.00%, ll=-0.38761, gf=1.934, secs=1.8, GB=0.08, MB/s=43.73\n",
        "pass=34\n",
        "(1,2)\n",
        "(0.011717581190168858,   9.5425e-05\n",
        "  -0.00014400\n",
        "  -1.4532e-05\n",
        "   0.00012425\n",
        "   5.7212e-05\n",
        "  -7.6469e-05\n",
        "  -1.6546e-05\n",
        "   3.3141e-05\n",
        "           ..\n",
        ")\n",
        "100.00%, ll=-0.38687, gf=1.953, secs=1.8, GB=0.08, MB/s=44.16\n",
        "pass=35\n",
        "(1,2)\n",
        "(0.011508142575621605,   9.4061e-05\n",
        "  -0.00014194\n",
        "  -1.4324e-05\n",
        "   0.00012247\n",
        "   5.6394e-05\n",
        "  -7.5375e-05\n",
        "  -1.6309e-05\n",
        "   3.2667e-05\n",
        "           ..\n",
        ")\n",
        "100.00%, ll=-0.38605, gf=1.972, secs=1.9, GB=0.08, MB/s=44.60\n",
        "pass=36\n",
        "(1,2)\n",
        "(0.011358734220266342,  -0.00014133\n",
        "  -0.00013996\n",
        "  -1.4125e-05\n",
        "   0.00012077\n",
        "   5.5610e-05\n",
        "  -7.4326e-05\n",
        "  -1.6082e-05\n",
        "   3.2212e-05\n",
        "           ..\n",
        ")\n",
        "100.00%, ll=-0.38530, gf=1.988, secs=1.9, GB=0.09, MB/s=44.95\n",
        "pass=37\n",
        "(1,2)\n",
        "(0.010829311795532703,   5.7009e-05\n",
        "  -0.00019805\n",
        "  -1.6955e-05\n",
        "   9.8849e-05\n",
        "  -2.7822e-05\n",
        "   0.00013943\n",
        "  -5.0797e-05\n",
        "   2.2973e-05\n",
        "           ..\n",
        ")\n",
        "100.00%, ll=-0.38299, gf=2.003, secs=2.0, GB=0.09, MB/s=45.29\n",
        "pass=38\n",
        "(1,2)\n",
        "(0.010604741051793098,  -0.00017166\n",
        "  -0.00019544\n",
        "  -1.6732e-05\n",
        "   9.7546e-05\n",
        "  -2.7455e-05\n",
        "  -9.0330e-05\n",
        "  -5.0127e-05\n",
        "   2.2670e-05\n",
        "           ..\n",
        ")\n",
        "100.00%, ll=-0.38093, gf=2.018, secs=2.0, GB=0.09, MB/s=45.64\n",
        "pass=39\n",
        "(1,2)\n",
        "(0.010461576282978058,   5.5560e-05\n",
        "  -0.00019293\n",
        "  -1.6517e-05\n",
        "   9.6292e-05\n",
        "  -2.7102e-05\n",
        "   0.00013585\n",
        "  -4.9483e-05\n",
        "   2.2379e-05\n",
        "           ..\n",
        ")\n",
        "100.00%, ll=-0.37885, gf=2.034, secs=2.0, GB=0.09, MB/s=46.00\n",
        "Time=2.0230 secs, gflops=2.03\n",
        "corpus perplexity=4056.873397\n",
        "Predicting\n",
        " 3.00%, ll=-1.31470, gf=Infinity, secs=0.0, GB=0.00, MB/s=Infinity\n",
        " 7.00%, ll=-0.99733, gf=Infinity, secs=0.0, GB=0.00, MB/s=Infinity\n",
        "11.00%, ll=-1.22826, gf=0.098, secs=0.0, GB=0.00, MB/s=202.78\n",
        "14.00%, ll=-1.29930, gf=0.131, secs=0.0, GB=0.00, MB/s=273.26\n",
        "18.00%, ll=-0.98444, gf=0.164, secs=0.0, GB=0.00, MB/s=336.98\n",
        "22.00%, ll=-1.11491, gf=0.197, secs=0.0, GB=0.00, MB/s=401.00\n",
        "25.00%, ll=-1.05693, gf=0.115, secs=0.0, GB=0.00, MB/s=244.46\n",
        "29.00%, ll=-1.23920, gf=0.131, secs=0.0, GB=0.00, MB/s=280.49\n",
        "33.00%, ll=-1.26194, gf=0.148, secs=0.0, GB=0.00, MB/s=313.34\n",
        "37.00%, ll=-1.29142, gf=0.164, secs=0.0, GB=0.00, MB/s=350.53\n",
        "40.00%, ll=-1.10857, gf=0.120, secs=0.0, GB=0.00, MB/s=262.25\n",
        "44.00%, ll=-1.15771, gf=0.131, secs=0.0, GB=0.00, MB/s=285.78\n",
        "48.00%, ll=-1.36074, gf=0.142, secs=0.0, GB=0.00, MB/s=303.89\n",
        "51.00%, ll=-1.12294, gf=0.153, secs=0.0, GB=0.00, MB/s=330.42\n",
        "55.00%, ll=-1.01137, gf=0.123, secs=0.0, GB=0.00, MB/s=272.17\n",
        "59.00%, ll=-1.04847, gf=0.131, secs=0.0, GB=0.00, MB/s=290.97\n",
        "62.00%, ll=-1.04026, gf=0.140, secs=0.0, GB=0.00, MB/s=313.44\n",
        "66.00%, ll=-1.25139, gf=0.148, secs=0.0, GB=0.00, MB/s=334.81\n",
        "70.00%, ll=-1.06949, gf=0.125, secs=0.0, GB=0.00, MB/s=286.08\n",
        "74.00%, ll=-1.03980, gf=0.131, secs=0.0, GB=0.00, MB/s=304.44\n",
        "77.00%, ll=-1.01378, gf=0.138, secs=0.0, GB=0.00, MB/s=317.27\n",
        "81.00%, ll=-1.01423, gf=0.144, secs=0.0, GB=0.00, MB/s=336.24\n",
        "85.00%, ll=-1.22062, gf=0.126, secs=0.0, GB=0.00, MB/s=295.68\n",
        "88.00%, ll=-1.08572, gf=0.131, secs=0.0, GB=0.00, MB/s=311.88\n",
        "92.00%, ll=-1.03444, gf=0.137, secs=0.0, GB=0.00, MB/s=328.01\n",
        "96.00%, ll=-1.00704, gf=0.142, secs=0.0, GB=0.00, MB/s=344.00\n",
        "100.00%, ll=-1.04893, gf=0.127, secs=0.0, GB=0.00, MB/s=307.44\n",
        "Time=0.0070 secs, gflops=0.13\n"
       ]
      },
      {
       "output_type": "stream",
       "stream": "stdout",
       "text": []
      },
      {
       "metadata": {},
       "output_type": "pyout",
       "prompt_number": 3,
       "text": [
        "  0.94644\n",
        "  0.87480\n"
       ]
      }
     ],
     "prompt_number": 3
    },
    {
     "cell_type": "markdown",
     "metadata": {},
     "source": [
      "Get the word and document counts from the data. This turns out to be equivalent to a matrix multiply. For a data matrix A and category matrix C, we want all (cat, word) pairs (i,j) such that C(i,k) and A(j,k) are both 1 - this means that document k contains word j, and is also tagged with category i. Summing over all documents gives us\n",
      "\n",
      "$${\\rm wordcatCounts(i,j)} = \\sum_{k=1}^N C(i,k) A(j,k) = C * A^T$$\n",
      "\n",
      "\n",
      "Because we are doing independent binary classifiers for each class, we need to construct the counts for words not in the class (negwcounts).\n",
      "\n",
      "Finally, we add a smoothing count 0.5 to counts that could be zero."
     ]
    },
    {
     "cell_type": "code",
     "collapsed": false,
     "input": [
      "val cx=zeros(ctest.nrows,ctest.ncols)\n",
      "val (mm,mopts,nn,nopts)=GLM.learner(atrain,ctrain,atest,cx,0)\n",
      "mopts.autoReset=false\n",
      "mopts.useGPU=false\n",
      "mopts.lrate=0.1\n",
      "mopts.batchSize=2\n",
      "mopts.dim=256\n",
      "mopts.startBlock=0\n",
      "mopts.npasses=10\n",
      "mopts.updateAll=false\n",
      "//mopts.what"
     ],
     "language": "python",
     "metadata": {},
     "outputs": [
      {
       "output_type": "stream",
       "stream": "stdout",
       "text": []
      },
      {
       "output_type": "stream",
       "stream": "stdout",
       "text": []
      },
      {
       "metadata": {},
       "output_type": "pyout",
       "prompt_number": 45,
       "text": [
        "false"
       ]
      }
     ],
     "prompt_number": 45
    },
    {
     "cell_type": "markdown",
     "metadata": {},
     "source": [
      "Now compute the probabilities \n",
      "* pwordcat = probability that a word is in a cat, given the cat.\n",
      "* pwordncat = probability of a word, given the complement of the cat.\n",
      "* pcat = probability that doc is in a given cat. \n",
      "* spcat = sum of pcat probabilities (> 1 because docs can be in multiple cats)"
     ]
    },
    {
     "cell_type": "code",
     "collapsed": false,
     "input": [
      "//mm.train\n",
      "//nn.predict\n",
      "tnum1"
     ],
     "language": "python",
     "metadata": {},
     "outputs": [
      {
       "output_type": "stream",
       "stream": "stdout",
       "text": []
      },
      {
       "output_type": "stream",
       "stream": "stdout",
       "text": []
      },
      {
       "metadata": {},
       "output_type": "pyout",
       "prompt_number": 11,
       "text": [
        "27"
       ]
      }
     ],
     "prompt_number": 11
    },
    {
     "cell_type": "markdown",
     "metadata": {},
     "source": [
      "Now take the logs of those probabilities. Here we're using the formula presented <a href=\"https://bcourses.berkeley.edu/courses/1267848/files/51512989/download?wrap=1in\">here</a> to match Naive Bayes to Logistic Regression for independent data.\n",
      "\n",
      "For each word, we compute the log of the ratio of the complementary word probability over the in-class word probability. \n",
      "\n",
      "For each category, we compute the log of the ratio of the complementary category probability over the current category probability.\n",
      "\n",
      "lpwordcat(j,i) represents $\\log\\left(\\frac{{\\rm Pr}(X_i|\\neg c_j)}{{\\rm Pr}(X_i|c_j)}\\right)$\n",
      "\n",
      "while lpcat(j) represents $\\log\\left(\\frac{{\\rm Pr}(\\neg c)}{{\\rm Pr}(c)}\\right)$"
     ]
    },
    {
     "cell_type": "code",
     "collapsed": false,
     "input": [
      "val cx1=cx\n",
      "min(cx1, 1, cx1)                       // the first \"traindata\" argument is the input, the other is output\n",
      "max(cx1, 0, cx1) \n",
      "val p=ctest *@cx1 +(1-ctest) *@(1-cx1)\n",
      "mean(p,2)\n",
      "//saveFMat(rpath+index+\".txt\",cx)\n",
      "cx"
     ],
     "language": "python",
     "metadata": {},
     "outputs": [
      {
       "output_type": "stream",
       "stream": "stdout",
       "text": []
      },
      {
       "ename": "java.lang.RuntimeException",
       "evalue": "dims incompatible",
       "output_type": "pyerr",
       "traceback": [
        "java.lang.RuntimeException: dims incompatible",
        "    BIDMat.DenseMat$mcF$sp.ggMatOpStrictv$mcF$sp(DenseMat.scala:963)",
        "    BIDMat.DenseMat$mcF$sp.ggMatOpv$mcF$sp(DenseMat.scala:951)",
        "    BIDMat.FMat.ffMatOpv(FMat.scala:206)",
        "    BIDMat.FMat.$times$at(FMat.scala:799)"
       ]
      },
      {
       "output_type": "stream",
       "stream": "stdout",
       "text": []
      }
     ],
     "prompt_number": 22
    },
    {
     "cell_type": "markdown",
     "metadata": {},
     "source": [
      "Here's where we apply Naive Bayes. The formula we're using is borrowed from <a href=\"https://bcourses.berkeley.edu/courses/1267848/files/51512989/download?wrap=1in\">here</a>.\n",
      "\n",
      "$${\\rm Pr}(c|X_1,\\ldots,X_k) = \\frac{1}{1 + \\frac{{\\rm Pr}(\\neg c)}{{\\rm Pr}(c)}\\prod_{i-1}^k\\frac{{\\rm Pr}(X_i|\\neg c)}{{\\rm Pr}(X_i|c)}}$$\n",
      "\n",
      "and we can rewrite\n",
      "\n",
      "$$\\frac{{\\rm Pr}(\\neg c)}{{\\rm Pr}(c)}\\prod_{i-1}^k\\frac{{\\rm Pr}(X_i|\\neg c)}{{\\rm Pr}(X_i|c)}$$\n",
      "\n",
      "as\n",
      "\n",
      "$$\\exp\\left(\\log\\left(\\frac{{\\rm Pr}(\\neg c)}{{\\rm Pr}(c)}\\right) + \\sum_{i=1}^k\\log\\left(\\frac{{\\rm Pr}(X_i|\\neg c)}{{\\rm Pr}(X_i|c)}\\right)\\right)  = \\exp({\\rm lpcat(j)} + {\\rm lpwordcat(j,?)} * X)$$\n",
      "\n",
      "for class number j and an input column $X$. This follows because an input column $X$ is a sparse vector with ones in the positions of the input features. The product ${\\rm lpwordcat(i,?)} * X$ picks out the features occuring in the input document and adds the corresponding logs from lpwordcat. \n",
      "\n",
      "Finally, we take the exponential above and fold it into the formula $P(c_j|X_1,\\ldots,X_k) = 1/(1+\\exp(\\cdots))$. This gives us a matrix of predictions. preds(i,j) = prediction of membership in category i for test document j. "
     ]
    },
    {
     "cell_type": "code",
     "collapsed": false,
     "input": [
      "val lacc = (cx1 \u2219\u2192 ctest + (1-cx1) \u2219\u2192 (1-ctest))/cx1.ncols\n",
      "lacc.t\n",
      "mean(lacc)"
     ],
     "language": "python",
     "metadata": {},
     "outputs": [
      {
       "output_type": "stream",
       "stream": "stdout",
       "text": []
      },
      {
       "output_type": "stream",
       "stream": "stdout",
       "text": []
      },
      {
       "metadata": {},
       "output_type": "pyout",
       "prompt_number": 6,
       "text": [
        "0.76865"
       ]
      }
     ],
     "prompt_number": 6
    },
    {
     "cell_type": "markdown",
     "metadata": {},
     "source": [
      "To measure the accuracy of the predictions above, we can compute the probability that the classifier outputs the right label. We used this formula in class for the expected accuracy for logistic regression. The \"dot arrow\" operator takes dot product along rows:"
     ]
    },
    {
     "cell_type": "code",
     "collapsed": false,
     "input": [
      "val model = mm.model\n",
      "val (nn1, nopts1) = GLM.LBFGSpredictor(model, atest, cx)"
     ],
     "language": "python",
     "metadata": {},
     "outputs": [
      {
       "output_type": "stream",
       "stream": "stdout",
       "text": []
      },
      {
       "output_type": "stream",
       "stream": "stdout",
       "text": []
      },
      {
       "metadata": {},
       "output_type": "pyout",
       "prompt_number": 7,
       "text": [
        "BIDMach.models.GLM$LearnLBFGSOptions@8eb62c4"
       ]
      }
     ],
     "prompt_number": 7
    },
    {
     "cell_type": "markdown",
     "metadata": {},
     "source": [
      "Raw accuracy is not a good measure in most cases. When there are few positives (instances in the class vs. its complement), accuracy simply drives down false-positive rate at the expense of false-negative rate. In the worst case, the learner may always predict \"no\" and still achieve high accuracy. \n",
      "\n",
      "ROC curves and ROC Area Under the Curve (AUC) are much better. Here we compute the ROC curves from the predictions above. We need:\n",
      "* scores - the predicted quality from the formula above.\n",
      "* good - 1 for positive instances, 0 for negative instances.\n",
      "* bad - complement of good. \n",
      "* npoints (100) - specifies the number of X-axis points for the ROC plot. \n",
      "\n",
      "itest specifies which of the categories to plot for. We chose itest=6 because that category has one of the highest positive rates, and gives the most stable accuracy plots.  "
     ]
    },
    {
     "cell_type": "code",
     "collapsed": false,
     "input": [
      "nn1.predict"
     ],
     "language": "python",
     "metadata": {},
     "outputs": [
      {
       "output_type": "stream",
       "stream": "stdout",
       "text": [
        "corpus perplexity=1.970211\n",
        "Predicting\n",
        " 4.00%, ll=-0.88782, gf=Infinity, secs=0.0, GB=0.00, MB/s=Infinity\n",
        " 8.00%, ll=-0.87371, gf=0.000, secs=0.0, GB=0.00, MB/s= 0.19\n",
        "12.00%, ll=-0.94405, gf=0.000, secs=0.0, GB=0.00, MB/s= 0.14\n",
        "16.00%, ll=-0.97745, gf=0.000, secs=0.0, GB=0.00, MB/s= 0.19\n",
        "20.00%, ll=-0.91692, gf=0.000, secs=0.0, GB=0.00, MB/s= 0.24\n",
        "24.00%, ll=-0.95906, gf=0.000, secs=0.0, GB=0.00, MB/s= 0.19\n",
        "28.00%, ll=-0.91178, gf=0.000, secs=0.0, GB=0.00, MB/s= 0.22\n",
        "32.00%, ll=-0.80047, gf=0.000, secs=0.0, GB=0.00, MB/s= 0.26\n",
        "36.00%, ll=-0.92667, gf=0.000, secs=0.0, GB=0.00, MB/s= 0.22\n",
        "40.00%, ll=-0.91742, gf=0.000, secs=0.0, GB=0.00, MB/s= 0.24\n",
        "44.00%, ll=-0.92421, gf=0.000, secs=0.0, GB=0.00, MB/s= 0.26\n",
        "48.00%, ll=-0.94550, gf=0.000, secs=0.0, GB=0.00, MB/s= 0.23\n",
        "51.00%, ll=-0.81677, gf=0.000, secs=0.0, GB=0.00, MB/s= 0.25\n",
        "56.00%, ll=-0.91331, gf=0.000, secs=0.0, GB=0.00, MB/s= 0.27\n",
        "60.00%, ll=-0.93091, gf=0.000, secs=0.0, GB=0.00, MB/s= 0.24\n",
        "64.00%, ll=-0.85525, gf=0.000, secs=0.0, GB=0.00, MB/s= 0.26\n",
        "68.00%, ll=-0.87134, gf=0.000, secs=0.0, GB=0.00, MB/s= 0.27\n",
        "72.00%, ll=-0.94563, gf=0.000, secs=0.0, GB=0.00, MB/s= 0.25\n",
        "76.00%, ll=-0.78031, gf=0.000, secs=0.0, GB=0.00, MB/s= 0.26\n",
        "80.00%, ll=-0.94823, gf=0.000, secs=0.0, GB=0.00, MB/s= 0.27\n",
        "83.00%, ll=-0.95096, gf=0.000, secs=0.0, GB=0.00, MB/s= 0.29\n",
        "88.00%, ll=-0.86657, gf=0.000, secs=0.0, GB=0.00, MB/s= 0.26\n",
        "92.00%, ll=-0.97759, gf=0.000, secs=0.0, GB=0.00, MB/s= 0.28\n",
        "96.00%, ll=-0.75901, gf=0.000, secs=0.0, GB=0.00, MB/s= 0.29\n",
        "100.00%, ll=-0.93326, gf=0.000, secs=0.0, GB=0.00, MB/s= 0.27\n",
        "Time=0.0090 secs, gflops=0.00\n"
       ]
      },
      {
       "output_type": "stream",
       "stream": "stdout",
       "text": []
      }
     ],
     "prompt_number": 8
    },
    {
     "cell_type": "markdown",
     "metadata": {},
     "source": [
      "> TODO 1: In the cell below, write an expression to derive the ROC Area under the curve (AUC) given the curve rr. rr gives the ROC curve y-coordinates at 100 evenly-spaced X-values from 0 to 1.0. "
     ]
    },
    {
     "cell_type": "code",
     "collapsed": false,
     "input": [
      "val cx1=cx*10\n",
      "min(cx1, 1, cx1)                       // the first \"traindata\" argument is the input, the other is output\n",
      "max(cx1, 0, cx1) \n",
      "val p=ctest *@cx1 +(1-ctest) *@(1-cx1)\n",
      "mean(p,2)\n",
      "val lacc = (cx1 \u2219\u2192 ctest + (1-cx1) \u2219\u2192 (1-ctest))/cx1.ncols\n",
      "lacc.t\n",
      "mean(lacc)"
     ],
     "language": "python",
     "metadata": {},
     "outputs": [
      {
       "output_type": "stream",
       "stream": "stdout",
       "text": []
      },
      {
       "output_type": "stream",
       "stream": "stdout",
       "text": []
      },
      {
       "metadata": {},
       "output_type": "pyout",
       "prompt_number": 9,
       "text": [
        "0.81119"
       ]
      }
     ],
     "prompt_number": 9
    },
    {
     "cell_type": "markdown",
     "metadata": {},
     "source": [
      "> TODO 2: In the cell below, write the value of AUC returned by the expression above."
     ]
    },
    {
     "cell_type": "code",
     "collapsed": false,
     "input": [
      "cx1"
     ],
     "language": "python",
     "metadata": {},
     "outputs": [
      {
       "output_type": "stream",
       "stream": "stdout",
       "text": []
      },
      {
       "output_type": "stream",
       "stream": "stdout",
       "text": []
      },
      {
       "metadata": {},
       "output_type": "pyout",
       "prompt_number": 10,
       "text": [
        "        1  0.97167  0.32712        1        1        0  0.19741        1...\n",
        "        0        0        0        0        0        1        0        0...\n"
       ]
      }
     ],
     "prompt_number": 10
    },
    {
     "cell_type": "code",
     "collapsed": false,
     "input": [
      "saveFMat(dict+\"moonresult.fmat.txt\",cx)"
     ],
     "language": "python",
     "metadata": {},
     "outputs": [
      {
       "output_type": "stream",
       "stream": "stdout",
       "text": []
      },
      {
       "output_type": "stream",
       "stream": "stdout",
       "text": []
      }
     ],
     "prompt_number": 11
    },
    {
     "cell_type": "heading",
     "level": 2,
     "metadata": {},
     "source": [
      "Logistic Regression"
     ]
    },
    {
     "cell_type": "markdown",
     "metadata": {},
     "source": [
      "Now lets train a logistic classifier on the same data. BIDMach has an umbrella classifier called GLM for Generalized Linear Model. GLM includes linear regression, logistic regression (with log accuracy or direct accuracy optimization), and SVM. \n",
      "\n",
      "The learner function accepts these arguments:\n",
      "* traindata: the training data in the same format as for Naive Bayes\n",
      "* traincats: the training category labels\n",
      "* testdata: the test input data\n",
      "* predcats: a container for the predictions generated by the model\n",
      "* modeltype (GLM.logistic here): an integer that specifies the type of model (0=linear, 1=logistic log accuracy, 2=logistic accuracy, 3=SVM). \n",
      "\n",
      "We'll construct the learner and then look at its options:"
     ]
    },
    {
     "cell_type": "code",
     "collapsed": false,
     "input": [
      "val dict = \"/Users/Anna/workspace/BIDMach/data/wildlife/\"\n",
      "val aa = loadFMat(dict+\"1.txt\")\n",
      "val c = loadFMat(dict+\"c1.txt\")\n",
      "val b = loadFMat(\"/Users/Anna/workspace/BIDMach/data/wltestall.txt\")\n",
      "val d = loadFMat(\"/Users/Anna/workspace/BIDMach/data/wltestcatall.txt\")\n",
      "//val dict = \"/Users/Anna/workspace/BIDMach_1.0.0-full-linux-x86_64/data/uci/\"\n",
      "//val aa = loadFMat(dict+\"arabic.fmat.lz4\")\n",
      "//val c = loadFMat(dict+\"arabic_cats.fmat.lz4\")\n",
      "val a = aa *10  \n",
      "val atrain = a //a(?,(100->a.ncols))\n",
      "val atest =  a //a(?,(0->100))\n",
      "val ctrain = c //c(?,(100->a.ncols))\n",
      "val ctest = c //c(?,(0->100))\n",
      "//max(atrain, 0.001, atrain)                       // the first \"traindata\" argument is the input, the other is output\n",
      "//max(atest, 0.001, atest)\n",
      "atrain"
     ],
     "language": "python",
     "metadata": {},
     "outputs": [
      {
       "output_type": "stream",
       "stream": "stdout",
       "text": []
      },
      {
       "output_type": "stream",
       "stream": "stdout",
       "text": []
      },
      {
       "metadata": {},
       "output_type": "pyout",
       "prompt_number": 2,
       "text": [
        "    -0.33386    -0.33914    -0.29299    -0.40609    -0.43935    -0.55155...\n",
        "     0.28568     0.18359  -0.0037000    -0.17297   -0.095350   -0.013070...\n",
        "   -0.098630    -0.13269     0.41184     0.40252     0.24642     0.26601...\n",
        "   -0.031890   -0.038550     0.38608     0.35432     0.21913     0.31026...\n",
        "     0.17352     0.25341     0.37047     0.53088     0.40656     0.43656...\n",
        "     0.45181     0.47072     0.50574     0.36032     0.33288     0.26337...\n",
        "     0.24997    -0.11709     0.54020     0.33701     0.30424     0.15961...\n",
        "     0.10230    0.082690    0.017330     0.46488     0.24725   -0.025730...\n",
        "          ..          ..          ..          ..          ..          ..\n"
       ]
      }
     ],
     "prompt_number": 2
    },
    {
     "cell_type": "markdown",
     "metadata": {},
     "source": [
      "The most important options are:\n",
      "* lrate: the learning rate\n",
      "* batchSize: the minibatch size\n",
      "* npasses: the number of passes over the dataset\n",
      "\n",
      "We'll use the following parameters for this training run. "
     ]
    },
    {
     "cell_type": "code",
     "collapsed": false,
     "input": [
      "val cx=zeros(2,ctest.ncols)\n",
      "val (mm,mopts,nn,nopts)=GLM.SVMlearner(atrain,ctrain,atest,cx)\n",
      "mopts.autoReset=false\n",
      "mopts.useGPU=false\n",
      "mopts.lrate=1\n",
      "mopts.batchSize=2\n",
      "mopts.dim=256\n",
      "mopts.startBlock=0\n",
      "mopts.npasses=10\n",
      "mopts.updateAll=false\n",
      "mopts.what"
     ],
     "language": "python",
     "metadata": {},
     "outputs": [
      {
       "output_type": "stream",
       "stream": "stdout",
       "text": [
        "Option Name       Type          Value\n",
        "===========       ====          =====\n",
        "addConstFeat      boolean       false\n",
        "autoReset         boolean       false\n",
        "batchSize         int           2\n",
        "dim               int           256\n",
        "doubleScore       boolean       false\n",
        "epsilon           float         1.0E-5\n",
        "evalStep          int           11\n",
        "featThreshold     Mat           null\n",
        "featType          int           1\n",
        "hashFeatures      boolean       false\n",
        "initsumsq         float         1.0E-5\n",
        "iweight           FMat          null\n",
        "lim               float         0.0\n",
        "links             IMat             3\n",
        "   3\n",
        "\n",
        "lrate             FMat          1\n",
        "mask              FMat          null\n",
        "npasses           int           10\n",
        "nzPerColumn       int           0\n",
        "pstep             float         0.01\n",
        "putBack           int           -1\n",
        "r1nmats           int           1\n",
        "r2nmats           int           1\n",
        "reg1weight        FMat          1.0000e-07\n",
        "reg2weight        FMat          1\n",
        "resFile           String        null\n",
        "rmask             FMat          null\n",
        "sample            float         1.0\n",
        "sizeMargin        float         3.0\n",
        "startBlock        int           0\n",
        "targets           FMat          null\n",
        "targmap           FMat          null\n",
        "texp              FMat          0.50000\n",
        "updateAll         boolean       false\n",
        "useCache          boolean       true\n",
        "useDouble         boolean       false\n",
        "useGPU            boolean       false\n",
        "vexp              FMat          0.50000\n",
        "waitsteps         int           2\n"
       ]
      },
      {
       "output_type": "stream",
       "stream": "stdout",
       "text": []
      }
     ],
     "prompt_number": 7
    },
    {
     "cell_type": "code",
     "collapsed": false,
     "input": [
      "mm.train\n",
      "nn.predict\n",
      "val cx1=cx\n",
      "//min(cx1, 1, cx1)                       // the first \"traindata\" argument is the input, the other is output\n",
      "//max(cx1, 0, cx1) \n",
      "//val p=ctest *@cx1 +(1-ctest) *@(1-cx1)\n",
      "//mean(p,2)\n",
      "cx"
     ],
     "language": "python",
     "metadata": {},
     "outputs": [
      {
       "output_type": "stream",
       "stream": "stdout",
       "text": [
        "corpus perplexity=NaN\n",
        "pass= 0\n",
        " 6.00%, ll=-1.00000, gf=0.011, secs=0.0, GB=0.00, MB/s=12.00\n",
        "41.00%, ll=0.00000, gf=0.010, secs=0.1, GB=0.00, MB/s= 5.11\n",
        "77.00%, ll=0.00000, gf=0.018, secs=0.1, GB=0.00, MB/s= 8.73\n",
        "100.00%, ll=0.00000, gf=0.023, secs=0.1, GB=0.00, MB/s=10.78\n",
        "pass= 1\n",
        " 6.00%, ll=0.00000, gf=0.023, secs=0.1, GB=0.00, MB/s=11.31\n",
        "41.00%, ll=0.00000, gf=0.026, secs=0.1, GB=0.00, MB/s=12.14\n",
        "77.00%, ll=0.00000, gf=0.031, secs=0.1, GB=0.00, MB/s=14.35\n",
        "100.00%, ll=0.00000, gf=0.026, secs=0.1, GB=0.00, MB/s=12.30\n",
        "pass= 2\n",
        " 6.00%, ll=0.00000, gf=0.026, secs=0.1, GB=0.00, MB/s=12.49\n",
        "41.00%, ll=0.00000, gf=0.030, secs=0.1, GB=0.00, MB/s=13.95\n",
        "77.00%, ll=0.00000, gf=0.029, secs=0.2, GB=0.00, MB/s=13.76\n",
        "100.00%, ll=0.00000, gf=0.031, secs=0.2, GB=0.00, MB/s=14.59\n",
        "pass= 3\n",
        " 6.00%, ll=0.00000, gf=0.031, secs=0.2, GB=0.00, MB/s=14.80\n",
        "41.00%, ll=0.00000, gf=0.034, secs=0.2, GB=0.00, MB/s=16.00\n",
        "77.00%, ll=0.00000, gf=0.034, secs=0.2, GB=0.00, MB/s=15.95\n",
        "100.00%, ll=0.00000, gf=0.035, secs=0.2, GB=0.00, MB/s=16.53\n",
        "pass= 4\n",
        " 6.00%, ll=0.00000, gf=0.036, secs=0.2, GB=0.00, MB/s=16.80\n",
        "41.00%, ll=0.00000, gf=0.038, secs=0.2, GB=0.00, MB/s=17.77\n",
        "77.00%, ll=-0.21902, gf=0.038, secs=0.2, GB=0.00, MB/s=17.67\n",
        "100.00%, ll=0.00000, gf=0.039, secs=0.2, GB=0.00, MB/s=18.15\n",
        "pass= 5\n",
        " 6.00%, ll=0.00000, gf=0.039, secs=0.2, GB=0.00, MB/s=18.38\n",
        "41.00%, ll=0.00000, gf=0.041, secs=0.2, GB=0.00, MB/s=19.11\n",
        "77.00%, ll=-0.14903, gf=0.043, secs=0.2, GB=0.00, MB/s=19.89\n",
        "100.00%, ll=0.00000, gf=0.040, secs=0.2, GB=0.00, MB/s=18.45\n",
        "pass= 6\n",
        " 6.00%, ll=0.00000, gf=0.040, secs=0.2, GB=0.00, MB/s=18.57\n",
        "41.00%, ll=0.00000, gf=0.041, secs=0.3, GB=0.00, MB/s=19.10\n",
        "77.00%, ll=-0.10156, gf=0.042, secs=0.3, GB=0.01, MB/s=19.76\n",
        "100.00%, ll=0.00000, gf=0.043, secs=0.3, GB=0.01, MB/s=20.19\n",
        "pass= 7\n",
        " 6.00%, ll=0.00000, gf=0.043, secs=0.3, GB=0.01, MB/s=20.29\n",
        "41.00%, ll=0.00000, gf=0.042, secs=0.3, GB=0.01, MB/s=19.78\n",
        "77.00%, ll=0.00000, gf=0.043, secs=0.3, GB=0.01, MB/s=20.22\n",
        "100.00%, ll=0.00000, gf=0.044, secs=0.3, GB=0.01, MB/s=20.52\n",
        "pass= 8\n",
        " 6.00%, ll=0.00000, gf=0.044, secs=0.3, GB=0.01, MB/s=20.62\n",
        "41.00%, ll=0.00000, gf=0.045, secs=0.3, GB=0.01, MB/s=21.16\n",
        "77.00%, ll=0.00000, gf=0.045, secs=0.3, GB=0.01, MB/s=20.86\n",
        "100.00%, ll=0.00000, gf=0.045, secs=0.3, GB=0.01, MB/s=21.19\n",
        "pass= 9\n",
        " 6.00%, ll=0.00000, gf=0.046, secs=0.3, GB=0.01, MB/s=21.27\n",
        "41.00%, ll=0.00000, gf=0.047, secs=0.3, GB=0.01, MB/s=21.76\n",
        "77.00%, ll=0.00000, gf=0.048, secs=0.3, GB=0.01, MB/s=22.17\n",
        "100.00%, ll=0.00000, gf=0.048, secs=0.3, GB=0.01, MB/s=22.48\n",
        "Time=0.3310 secs, gflops=0.05\n",
        "corpus perplexity=NaN\n",
        "Predicting\n",
        " 4.00%, ll=-5.35505, gf=Infinity, secs=0.0, GB=0.00, MB/s=Infinity\n",
        " 9.00%, ll=-5.56336, gf=Infinity, secs=0.0, GB=0.00, MB/s=Infinity\n",
        "14.00%, ll=-5.39651, gf=0.036, secs=0.0, GB=0.00, MB/s=108.00\n",
        "19.00%, ll=-3.47791, gf=0.048, secs=0.0, GB=0.00, MB/s=144.00\n",
        "24.00%, ll=-4.42609, gf=0.060, secs=0.0, GB=0.00, MB/s=180.00\n",
        "29.00%, ll=-5.00045, gf=0.036, secs=0.0, GB=0.00, MB/s=108.00\n",
        "33.00%, ll=-4.28123, gf=0.042, secs=0.0, GB=0.00, MB/s=126.00\n",
        "38.00%, ll=-4.85835, gf=0.048, secs=0.0, GB=0.00, MB/s=144.00\n",
        "43.00%, ll=-4.95342, gf=0.036, secs=0.0, GB=0.00, MB/s=108.00\n",
        "48.00%, ll=-5.43300, gf=0.040, secs=0.0, GB=0.00, MB/s=120.00\n",
        "53.00%, ll=-4.59199, gf=0.044, secs=0.0, GB=0.00, MB/s=132.00\n",
        "58.00%, ll=-3.04440, gf=0.036, secs=0.0, GB=0.00, MB/s=108.00\n",
        "62.00%, ll=-4.28866, gf=0.039, secs=0.0, GB=0.00, MB/s=117.00\n",
        "67.00%, ll=-4.49006, gf=0.042, secs=0.0, GB=0.00, MB/s=126.00\n",
        "72.00%, ll=-6.24142, gf=0.036, secs=0.0, GB=0.00, MB/s=108.00\n",
        "77.00%, ll=-5.79272, gf=0.039, secs=0.0, GB=0.00, MB/s=115.20\n",
        "82.00%, ll=-3.15073, gf=0.041, secs=0.0, GB=0.00, MB/s=122.40\n",
        "87.00%, ll=-4.36058, gf=0.044, secs=0.0, GB=0.00, MB/s=129.60\n",
        "91.00%, ll=-7.38732, gf=0.038, secs=0.0, GB=0.00, MB/s=114.00\n",
        "96.00%, ll=-10.42975, gf=0.040, secs=0.0, GB=0.00, MB/s=120.00\n",
        "100.00%, ll=-6.19474, gf=0.042, secs=0.0, GB=0.00, MB/s=124.00\n",
        "Time=0.0070 secs, gflops=0.04\n"
       ]
      },
      {
       "output_type": "stream",
       "stream": "stdout",
       "text": []
      },
      {
       "metadata": {},
       "output_type": "pyout",
       "prompt_number": 8,
       "text": [
        "  -7.7981  -10.713  -10.620  -11.079  -10.499  -8.8026  -12.241  -12.910...\n",
        "   7.7981   10.713   10.620   11.079   10.499   8.8026   12.241   12.910...\n"
       ]
      }
     ],
     "prompt_number": 8
    },
    {
     "cell_type": "markdown",
     "metadata": {},
     "source": [
      "Since we have the accuracy scores for both Naive Bayes and Logistic regression, we can plot both of them on the same axes. Naive Bayes is red, Logistic regression is blue. The x-axis is the category number from 0 to 102. The y-axis is the absolute accuracy of the predictor for that category. "
     ]
    },
    {
     "cell_type": "code",
     "collapsed": false,
     "input": [
      "val lacc = (cx1 \u2219\u2192 ctest + (1-cx1) \u2219\u2192 (1-ctest))/cx1.ncols\n",
      "lacc.t\n",
      "mean(lacc)"
     ],
     "language": "python",
     "metadata": {},
     "outputs": [
      {
       "output_type": "stream",
       "stream": "stdout",
       "text": []
      },
      {
       "ename": "java.lang.NoClassDefFoundError",
       "evalue": "Could not initialize class ",
       "output_type": "pyerr",
       "traceback": [
        "java.lang.NoClassDefFoundError: Could not initialize class "
       ]
      },
      {
       "output_type": "stream",
       "stream": "stdout",
       "text": []
      }
     ],
     "prompt_number": 7
    },
    {
     "cell_type": "markdown",
     "metadata": {},
     "source": [
      "> TODO 3: With the full training set (700k training documents), Logistic Regression is noticeably more accurate than Naive Bayes in every category. What do you observe in the plot above? Why do you think this is?"
     ]
    },
    {
     "cell_type": "markdown",
     "metadata": {},
     "source": [
      "Next we'll compute the ROC plot and ROC area (AUC) for Logistic regression  for category itest."
     ]
    },
    {
     "cell_type": "code",
     "collapsed": false,
     "input": [
      "saveFMat(dict+\"wildliferesults.fmat.txt\",cx) "
     ],
     "language": "python",
     "metadata": {},
     "outputs": [
      {
       "output_type": "stream",
       "stream": "stdout",
       "text": []
      },
      {
       "output_type": "stream",
       "stream": "stdout",
       "text": []
      }
     ],
     "prompt_number": 40
    },
    {
     "cell_type": "markdown",
     "metadata": {},
     "source": [
      "We computed the ROC curve for Naive Bayes earlier, so now we can plot them on the same axes. Naive Bayes is once again in red, Logistic regression in blue. "
     ]
    },
    {
     "cell_type": "code",
     "collapsed": false,
     "input": [
      "cx1"
     ],
     "language": "python",
     "metadata": {},
     "outputs": [
      {
       "output_type": "stream",
       "stream": "stdout",
       "text": []
      },
      {
       "output_type": "stream",
       "stream": "stdout",
       "text": []
      },
      {
       "metadata": {},
       "output_type": "pyout",
       "prompt_number": 51,
       "text": [
        "  1.1398e-13  1.0409e-13  3.1763e-16  6.3486e-17  3.7628e-18  6.3368e-16...\n",
        "  1.0488e-14  3.4730e-14  1.2205e-16  1.6546e-17  7.8444e-19  1.5367e-16...\n",
        "  4.9068e-14  1.3641e-12  5.0059e-15  1.0316e-15  4.3107e-18  2.8967e-15...\n",
        "  3.2656e-14  5.3654e-14  1.1086e-16  1.9517e-17  8.0842e-19  3.9087e-17...\n",
        "  8.4080e-11  2.6030e-12  1.4020e-14  1.3571e-15  2.5275e-15  8.0566e-13...\n",
        "  1.8410e-13  2.3721e-13  2.6570e-16  6.7162e-17  5.4204e-18  8.2176e-16...\n",
        "  6.5161e-11  1.3945e-10  2.1820e-12  7.0878e-14  1.5250e-15  2.8615e-12...\n",
        "  1.6085e-13  1.9523e-13  3.2423e-16  5.6627e-17  7.7785e-18  1.7874e-15...\n",
        "          ..          ..          ..          ..          ..          ..\n"
       ]
      }
     ],
     "prompt_number": 51
    },
    {
     "cell_type": "markdown",
     "metadata": {},
     "source": [
      ">TODO 4: In the cell below, compute and plot lift curves from the ROC curves for Naive Bayes and Logistic regression. The lift curves should show the ratio of ROC y-values over a unit slope diagonal line (Y=X). The X-values should be the same as for the ROC plots, except that X=0 will be omitted since the lift will be undefined. "
     ]
    },
    {
     "cell_type": "code",
     "collapsed": false,
     "input": [
      "val dict = \"/Users/Anna/workspace/BIDMach_1.0.0-full-linux-x86_64/data/\"\n",
      "//val a = loadFMat(dict+\"arabic.fmat.lz4\")\n",
      "//val c = loadFMat(dict+\"arabic_cats.fmat.lz4\")\n",
      "val aa = loadFMat(dict+\"a.txt\")\n",
      "val c = loadFMat(dict+\"alabel.txt\")\n",
      "val a = aa + 0.5 \n",
      "val atrain =a(?,(100->a.ncols))\n",
      "val atest =a(?,(0->100))\n",
      "val ctrain =c(?,(100->a.ncols))\n",
      "val ctest =c(?,(0->100))\n",
      "max(atrain, 0.001, atrain)                       // the first \"traindata\" argument is the input, the other is output\n",
      "max(atest, 0.001, atest)\n",
      "atest"
     ],
     "language": "python",
     "metadata": {},
     "outputs": [
      {
       "output_type": "stream",
       "stream": "stdout",
       "text": []
      },
      {
       "output_type": "stream",
       "stream": "stdout",
       "text": []
      },
      {
       "metadata": {},
       "output_type": "pyout",
       "prompt_number": 2,
       "text": [
        "   0.075172    0.42627    0.64251    0.36696    0.19400    0.58963...\n",
        "    0.64074    0.42242    0.41518    0.87276    0.77227  0.0010000...\n"
       ]
      }
     ],
     "prompt_number": 2
    },
    {
     "cell_type": "markdown",
     "metadata": {},
     "source": [
      "> TODO 5: Experiment with different values for learning rate and batchSize to get the best performance for absolute accuracy and ROC area on category 6. Write your optimal values below:"
     ]
    },
    {
     "cell_type": "code",
     "collapsed": false,
     "input": [
      "val cx=zeros(ctest.nrows,ctest.ncols)\n",
      "val (mm,mopts,nn,nopts)=GLM.SVMlearner(atrain,ctrain,atest,cx)\n",
      "mopts.autoReset=false\n",
      "mopts.useGPU=false\n",
      "mopts.lrate=0.1\n",
      "mopts.batchSize=2\n",
      "mopts.dim=256\n",
      "mopts.startBlock=0\n",
      "mopts.npasses=10\n",
      "mopts.updateAll=false\n",
      "mopts.what"
     ],
     "language": "python",
     "metadata": {},
     "outputs": [
      {
       "output_type": "stream",
       "stream": "stdout",
       "text": [
        "Option Name       Type          Value\n",
        "===========       ====          =====\n",
        "addConstFeat      boolean       false\n",
        "autoReset         boolean       false\n",
        "batchSize         int           2\n",
        "dim               int           256\n",
        "doubleScore       boolean       false\n",
        "epsilon           float         1.0E-5\n",
        "evalStep          int           11\n",
        "featThreshold     Mat           null\n",
        "featType          int           1\n",
        "hashFeatures      boolean       false\n",
        "initsumsq         float         1.0E-5\n",
        "iweight           FMat          null\n",
        "lim               float         0.0\n",
        "links             IMat             3\n",
        "   3\n",
        "\n",
        "lrate             FMat          0.10000\n",
        "mask              FMat          null\n",
        "npasses           int           10\n",
        "nzPerColumn       int           0\n",
        "pstep             float         0.01\n",
        "putBack           int           -1\n",
        "r1nmats           int           1\n",
        "r2nmats           int           1\n",
        "reg1weight        FMat          1.0000e-07\n",
        "reg2weight        FMat          1\n",
        "resFile           String        null\n",
        "rmask             FMat          null\n",
        "sample            float         1.0\n",
        "sizeMargin        float         3.0\n",
        "startBlock        int           0\n",
        "targets           FMat          null\n",
        "targmap           FMat          null\n",
        "texp              FMat          0.50000\n",
        "updateAll         boolean       false\n",
        "useCache          boolean       true\n",
        "useDouble         boolean       false\n",
        "useGPU            boolean       false\n",
        "vexp              FMat          0.50000\n",
        "waitsteps         int           2\n"
       ]
      },
      {
       "output_type": "stream",
       "stream": "stdout",
       "text": []
      }
     ],
     "prompt_number": 41
    },
    {
     "cell_type": "code",
     "collapsed": false,
     "input": [
      "mm.train\n",
      "nn.predict"
     ],
     "language": "python",
     "metadata": {},
     "outputs": [
      {
       "output_type": "stream",
       "stream": "stdout",
       "text": [
        "corpus perplexity=992.808970\n",
        "pass= 0\n",
        " 6.00%, ll=-1.00000, gf=Infinity, secs=0.0, GB=0.00, MB/s=Infinity\n",
        "41.00%, ll=-0.28270, gf=0.079, secs=0.0, GB=0.00, MB/s=39.00\n",
        "77.00%, ll=-0.03527, gf=0.081, secs=0.0, GB=0.00, MB/s=38.40\n",
        "100.00%, ll=-0.20491, gf=0.083, secs=0.0, GB=0.00, MB/s=39.16\n",
        "pass= 1\n",
        " 6.00%, ll=-1.20125, gf=0.078, secs=0.0, GB=0.00, MB/s=37.71\n",
        "41.00%, ll=-0.30951, gf=0.083, secs=0.0, GB=0.00, MB/s=39.11\n",
        "77.00%, ll=-0.24529, gf=0.085, secs=0.0, GB=0.00, MB/s=40.00\n",
        "100.00%, ll=-0.13970, gf=0.086, secs=0.0, GB=0.00, MB/s=40.22\n",
        "pass= 2\n",
        " 6.00%, ll=-1.47287, gf=0.085, secs=0.0, GB=0.00, MB/s=40.42\n",
        "41.00%, ll=-0.22679, gf=0.087, secs=0.0, GB=0.00, MB/s=40.91\n",
        "77.00%, ll=-0.39799, gf=0.090, secs=0.0, GB=0.00, MB/s=42.12\n",
        "100.00%, ll=-0.17308, gf=0.090, secs=0.1, GB=0.00, MB/s=42.11\n",
        "pass= 3\n",
        " 6.00%, ll=-1.47907, gf=0.090, secs=0.1, GB=0.00, MB/s=42.22\n",
        "41.00%, ll=-0.30906, gf=0.092, secs=0.1, GB=0.00, MB/s=43.12\n",
        "77.00%, ll=-0.49180, gf=0.093, secs=0.1, GB=0.00, MB/s=43.20\n",
        "100.00%, ll=-0.23331, gf=0.094, secs=0.1, GB=0.00, MB/s=43.76\n",
        "pass= 4\n",
        " 6.00%, ll=-1.46579, gf=0.093, secs=0.1, GB=0.00, MB/s=43.83\n",
        "41.00%, ll=-0.37264, gf=0.094, secs=0.1, GB=0.00, MB/s=43.84\n",
        "77.00%, ll=-0.55793, gf=0.094, secs=0.1, GB=0.00, MB/s=43.85\n",
        "100.00%, ll=-0.28842, gf=0.095, secs=0.1, GB=0.00, MB/s=44.29\n",
        "pass= 5\n",
        " 6.00%, ll=-1.44678, gf=0.095, secs=0.1, GB=0.00, MB/s=44.33\n",
        "41.00%, ll=-0.42261, gf=0.095, secs=0.1, GB=0.00, MB/s=44.31\n",
        "77.00%, ll=-0.60707, gf=0.095, secs=0.1, GB=0.00, MB/s=44.29\n",
        "100.00%, ll=-0.33395, gf=0.096, secs=0.1, GB=0.00, MB/s=44.64\n",
        "pass= 6\n",
        " 6.00%, ll=-1.42705, gf=0.095, secs=0.1, GB=0.00, MB/s=44.67\n",
        "41.00%, ll=-0.46288, gf=0.097, secs=0.1, GB=0.00, MB/s=45.06\n",
        "77.00%, ll=-0.64504, gf=0.097, secs=0.1, GB=0.01, MB/s=45.40\n",
        "100.00%, ll=-0.37222, gf=0.098, secs=0.1, GB=0.01, MB/s=45.68\n",
        "pass= 7\n",
        " 6.00%, ll=-1.40822, gf=0.098, secs=0.1, GB=0.01, MB/s=45.70\n",
        "41.00%, ll=-0.49608, gf=0.099, secs=0.1, GB=0.01, MB/s=46.39\n",
        "77.00%, ll=-0.67528, gf=0.099, secs=0.1, GB=0.01, MB/s=46.27\n",
        "100.00%, ll=-0.40490, gf=0.100, secs=0.1, GB=0.01, MB/s=46.50\n",
        "pass= 8\n",
        " 6.00%, ll=-1.39079, gf=0.100, secs=0.1, GB=0.01, MB/s=46.51\n",
        "41.00%, ll=-0.52395, gf=0.100, secs=0.1, GB=0.01, MB/s=46.75\n",
        "77.00%, ll=-0.69995, gf=0.101, secs=0.1, GB=0.01, MB/s=46.96\n",
        "100.00%, ll=-0.43319, gf=0.101, secs=0.1, GB=0.01, MB/s=47.15\n",
        "pass= 9\n",
        " 6.00%, ll=-1.37481, gf=0.101, secs=0.1, GB=0.01, MB/s=47.16\n",
        "41.00%, ll=-0.54772, gf=0.102, secs=0.1, GB=0.01, MB/s=47.67\n",
        "77.00%, ll=-0.72047, gf=0.103, secs=0.2, GB=0.01, MB/s=47.84\n",
        "100.00%, ll=-0.45795, gf=0.103, secs=0.2, GB=0.01, MB/s=48.00\n",
        "Time=0.1550 secs, gflops=0.10\n",
        "corpus perplexity=985.317557\n",
        "Predicting\n",
        " 4.00%, ll=-1.00000, gf=Infinity, secs=0.0, GB=0.00, MB/s=Infinity\n",
        " 9.00%, ll=-1.00000, gf=Infinity, secs=0.0, GB=0.00, MB/s=Infinity\n",
        "14.00%, ll=-1.00000, gf=Infinity, secs=0.0, GB=0.00, MB/s=Infinity\n",
        "19.00%, ll=-1.00000, gf=Infinity, secs=0.0, GB=0.00, MB/s=Infinity\n",
        "24.00%, ll=-1.00000, gf=0.060, secs=0.0, GB=0.00, MB/s=180.00\n",
        "29.00%, ll=-1.00000, gf=0.073, secs=0.0, GB=0.00, MB/s=216.00\n",
        "33.00%, ll=-1.00000, gf=0.085, secs=0.0, GB=0.00, MB/s=252.00\n",
        "38.00%, ll=-1.00000, gf=0.097, secs=0.0, GB=0.00, MB/s=288.00\n",
        "43.00%, ll=-1.00000, gf=0.109, secs=0.0, GB=0.00, MB/s=324.00\n",
        "48.00%, ll=-1.00000, gf=0.121, secs=0.0, GB=0.00, MB/s=360.00\n",
        "53.00%, ll=-1.00000, gf=0.066, secs=0.0, GB=0.00, MB/s=198.00\n",
        "58.00%, ll=-1.00000, gf=0.073, secs=0.0, GB=0.00, MB/s=216.00\n",
        "62.00%, ll=-1.00000, gf=0.079, secs=0.0, GB=0.00, MB/s=234.00\n",
        "67.00%, ll=-1.00000, gf=0.085, secs=0.0, GB=0.00, MB/s=251.99\n",
        "72.00%, ll=-1.00000, gf=0.091, secs=0.0, GB=0.00, MB/s=269.99\n",
        "77.00%, ll=-1.00000, gf=0.097, secs=0.0, GB=0.00, MB/s=287.99\n",
        "82.00%, ll=-1.00000, gf=0.069, secs=0.0, GB=0.00, MB/s=204.00\n",
        "87.00%, ll=-1.00000, gf=0.073, secs=0.0, GB=0.00, MB/s=216.00\n",
        "91.00%, ll=-1.00000, gf=0.077, secs=0.0, GB=0.00, MB/s=228.00\n",
        "96.00%, ll=-1.00000, gf=0.081, secs=0.0, GB=0.00, MB/s=240.00\n",
        "100.00%, ll=-1.00000, gf=0.083, secs=0.0, GB=0.00, MB/s=248.00\n",
        "Time=0.0030 secs, gflops=0.08\n"
       ]
      },
      {
       "output_type": "stream",
       "stream": "stdout",
       "text": []
      }
     ],
     "prompt_number": 42
    },
    {
     "cell_type": "code",
     "collapsed": false,
     "input": [
      "val cx1=cx*5\n",
      "min(cx1, 1, cx1)                       // the first \"traindata\" argument is the input, the other is output\n",
      "max(cx1, 0, cx1) \n",
      "val p=ctest *@cx1 +(1-ctest) *@(1-cx1)\n",
      "mean(p,2)"
     ],
     "language": "python",
     "metadata": {},
     "outputs": []
    },
    {
     "cell_type": "code",
     "collapsed": false,
     "input": [
      "cx1"
     ],
     "language": "python",
     "metadata": {},
     "outputs": [
      {
       "output_type": "stream",
       "stream": "stdout",
       "text": []
      },
      {
       "output_type": "stream",
       "stream": "stdout",
       "text": []
      },
      {
       "metadata": {},
       "output_type": "pyout",
       "prompt_number": 6,
       "text": [
        "         1   0.48584   0.16356         1         1         0  0.098707...\n",
        "         0         0         0         0         0   0.82548         0...\n"
       ]
      }
     ],
     "prompt_number": 6
    },
    {
     "cell_type": "code",
     "collapsed": false,
     "input": [
      "val lacc = (cx1 \u2219\u2192 ctest + (1-cx1) \u2219\u2192 (1-ctest))/cx1.ncols\n",
      "lacc.t\n",
      "mean(lacc)"
     ],
     "language": "python",
     "metadata": {},
     "outputs": [
      {
       "output_type": "stream",
       "stream": "stdout",
       "text": []
      },
      {
       "output_type": "stream",
       "stream": "stdout",
       "text": []
      },
      {
       "metadata": {},
       "output_type": "pyout",
       "prompt_number": 7,
       "text": [
        "0.76865"
       ]
      }
     ],
     "prompt_number": 7
    },
    {
     "cell_type": "code",
     "collapsed": false,
     "input": [
      "val model = mm.model\n",
      "val (nn1, nopts1) = GLM.LBFGSpredictor(model, atest, cx)"
     ],
     "language": "python",
     "metadata": {},
     "outputs": [
      {
       "output_type": "stream",
       "stream": "stdout",
       "text": []
      },
      {
       "output_type": "stream",
       "stream": "stdout",
       "text": []
      },
      {
       "metadata": {},
       "output_type": "pyout",
       "prompt_number": 8,
       "text": [
        "BIDMach.models.GLM$LearnLBFGSOptions@3fde0ffe"
       ]
      }
     ],
     "prompt_number": 8
    },
    {
     "cell_type": "code",
     "collapsed": false,
     "input": [
      "nn1.predict"
     ],
     "language": "python",
     "metadata": {},
     "outputs": [
      {
       "output_type": "stream",
       "stream": "stdout",
       "text": [
        "corpus perplexity=1.970211\n",
        "Predicting\n",
        " 4.00%, ll=-0.88782, gf=0.000, secs=0.0, GB=0.00, MB/s= 0.10\n",
        " 8.00%, ll=-0.87371, gf=0.000, secs=0.0, GB=0.00, MB/s= 0.19\n",
        "12.00%, ll=-0.94405, gf=0.000, secs=0.0, GB=0.00, MB/s= 0.29\n",
        "16.00%, ll=-0.97745, gf=0.001, secs=0.0, GB=0.00, MB/s= 0.38\n",
        "20.00%, ll=-0.91692, gf=0.000, secs=0.0, GB=0.00, MB/s= 0.24\n",
        "24.00%, ll=-0.95906, gf=0.000, secs=0.0, GB=0.00, MB/s= 0.29\n",
        "28.00%, ll=-0.91178, gf=0.001, secs=0.0, GB=0.00, MB/s= 0.34\n",
        "32.00%, ll=-0.80047, gf=0.001, secs=0.0, GB=0.00, MB/s= 0.38\n",
        "36.00%, ll=-0.92667, gf=0.001, secs=0.0, GB=0.00, MB/s= 0.43\n",
        "40.00%, ll=-0.91742, gf=0.001, secs=0.0, GB=0.00, MB/s= 0.48\n",
        "44.00%, ll=-0.92421, gf=0.001, secs=0.0, GB=0.00, MB/s= 0.53\n",
        "48.00%, ll=-0.94550, gf=0.001, secs=0.0, GB=0.00, MB/s= 0.38\n",
        "51.00%, ll=-0.81677, gf=0.001, secs=0.0, GB=0.00, MB/s= 0.42\n",
        "56.00%, ll=-0.91331, gf=0.001, secs=0.0, GB=0.00, MB/s= 0.45\n",
        "60.00%, ll=-0.93091, gf=0.001, secs=0.0, GB=0.00, MB/s= 0.48\n",
        "64.00%, ll=-0.85525, gf=0.001, secs=0.0, GB=0.00, MB/s= 0.51\n",
        "68.00%, ll=-0.87134, gf=0.001, secs=0.0, GB=0.00, MB/s= 0.54\n",
        "72.00%, ll=-0.94563, gf=0.001, secs=0.0, GB=0.00, MB/s= 0.58\n",
        "76.00%, ll=-0.78031, gf=0.001, secs=0.0, GB=0.00, MB/s= 0.46\n",
        "80.00%, ll=-0.94823, gf=0.001, secs=0.0, GB=0.00, MB/s= 0.48\n",
        "83.00%, ll=-0.95096, gf=0.001, secs=0.0, GB=0.00, MB/s= 0.50\n",
        "88.00%, ll=-0.86657, gf=0.001, secs=0.0, GB=0.00, MB/s= 0.53\n",
        "92.00%, ll=-0.97759, gf=0.001, secs=0.0, GB=0.00, MB/s= 0.55\n",
        "96.00%, ll=-0.75901, gf=0.001, secs=0.0, GB=0.00, MB/s= 0.58\n",
        "100.00%, ll=-0.93326, gf=0.001, secs=0.0, GB=0.00, MB/s= 0.60\n",
        "Time=0.0050 secs, gflops=0.00\n"
       ]
      },
      {
       "output_type": "stream",
       "stream": "stdout",
       "text": []
      }
     ],
     "prompt_number": 9
    },
    {
     "cell_type": "code",
     "collapsed": false,
     "input": [
      "val cx1=cx*10\n",
      "min(cx1, 1, cx1)                       // the first \"traindata\" argument is the input, the other is output\n",
      "max(cx1, 0, cx1) \n",
      "val p=ctest *@cx1 +(1-ctest) *@(1-cx1)\n",
      "mean(p,2)\n",
      "val lacc = (cx1 \u2219\u2192 ctest + (1-cx1) \u2219\u2192 (1-ctest))/cx1.ncols\n",
      "lacc.t\n",
      "mean(lacc)"
     ],
     "language": "python",
     "metadata": {},
     "outputs": [
      {
       "output_type": "stream",
       "stream": "stdout",
       "text": []
      },
      {
       "output_type": "stream",
       "stream": "stdout",
       "text": []
      },
      {
       "metadata": {},
       "output_type": "pyout",
       "prompt_number": 10,
       "text": [
        "0.81119"
       ]
      }
     ],
     "prompt_number": 10
    },
    {
     "cell_type": "code",
     "collapsed": false,
     "input": [
      "cx1"
     ],
     "language": "python",
     "metadata": {},
     "outputs": [
      {
       "output_type": "stream",
       "stream": "stdout",
       "text": []
      },
      {
       "output_type": "stream",
       "stream": "stdout",
       "text": []
      },
      {
       "metadata": {},
       "output_type": "pyout",
       "prompt_number": 11,
       "text": [
        "        1  0.97167  0.32712        1        1        0  0.19741        1...\n",
        "        0        0        0        0        0        1        0        0...\n"
       ]
      }
     ],
     "prompt_number": 11
    },
    {
     "cell_type": "code",
     "collapsed": false,
     "input": [
      "saveFMat(dict+\"moonresult.fmat.txt\",cx)"
     ],
     "language": "python",
     "metadata": {},
     "outputs": [
      {
       "output_type": "stream",
       "stream": "stdout",
       "text": []
      },
      {
       "output_type": "stream",
       "stream": "stdout",
       "text": []
      }
     ],
     "prompt_number": 23
    },
    {
     "cell_type": "code",
     "collapsed": false,
     "input": [],
     "language": "python",
     "metadata": {},
     "outputs": []
    },
    {
     "cell_type": "code",
     "collapsed": false,
     "input": [],
     "language": "python",
     "metadata": {},
     "outputs": [],
     "prompt_number": 19
    }
   ],
   "metadata": {}
  }
 ]
}