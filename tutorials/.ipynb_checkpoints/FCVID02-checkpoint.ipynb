{
 "metadata": {
  "name": "",
  "signature": "sha256:c2f01637257355ad68004351d4edc3d1cc77319cda0372d6f34a398ed0d8c086"
 },
 "nbformat": 3,
 "nbformat_minor": 0,
 "worksheets": [
  {
   "cells": [
    {
     "cell_type": "heading",
     "level": 1,
     "metadata": {},
     "source": [
      "COCOA Method based on LBFGS Optimization "
     ]
    },
    {
     "cell_type": "markdown",
     "metadata": {},
     "source": [
      "In this tutorial, we'll explore training and evaluation of L-BFGS method based Logitistic Regression Classifiers.\n",
      "\n",
      "To start, we import the standard BIDMach class definitions. "
     ]
    },
    {
     "cell_type": "code",
     "collapsed": false,
     "input": [
      "import BIDMat.{CMat,CSMat,DMat,Dict,IDict,FMat,GMat,GIMat,GSMat,HMat,IMat,Mat,SMat,SBMat,SDMat}\n",
      "import BIDMat.MatFunctions._\n",
      "import BIDMat.SciFunctions._\n",
      "import BIDMat.Solvers._\n",
      "import BIDMat.Plotting._\n",
      "import BIDMach.Learner\n",
      "import BIDMach.models.{FM,GLM,KMeans,LDA,LDAgibbs,NMF,SFA}\n",
      "import BIDMach.datasources.{MatDS,FilesDS,SFilesDS}\n",
      "import BIDMach.mixins.{CosineSim,Perplexity,Top,L1Regularizer,L2Regularizer}\n",
      "import BIDMach.updaters.{ADAGrad,Batch,BatchNorm,IncMult,IncNorm,Telescoping}\n",
      "import BIDMach.causal.{IPTW}\n",
      "\n",
      "Mat.checkMKL\n",
      "Mat.checkCUDA\n",
      "if (Mat.hasCUDA > 0) GPUmem"
     ],
     "language": "python",
     "metadata": {},
     "outputs": [
      {
       "output_type": "stream",
       "stream": "stdout",
       "text": [
        "Cant find native HDF5 library\n",
        "Couldnt load JCuda\n"
       ]
      },
      {
       "output_type": "stream",
       "stream": "stdout",
       "text": []
      },
      {
       "metadata": {},
       "output_type": "pyout",
       "prompt_number": 1,
       "text": [
        "()"
       ]
      }
     ],
     "prompt_number": 1
    },
    {
     "cell_type": "markdown",
     "metadata": {},
     "source": [
      "Now we load some training and test data, and some category labels. The data come from a news collection from Reuters, and is a \"classic\" test set for classification. Each article belongs to one or more of 103 categories. The articles are represented as Bag-of-Words (BoW) column vectors. For a data matrix A, element A(i,j) holds the count of word i in document j. \n",
      "\n",
      "The category matrices have 103 rows, and a category matrix C has a one in position C(i,j) if document j is tagged with category i, or zero otherwise.  \n",
      "\n",
      "To reduce the computing time and memory footprint, the training data have been sampled. The full collection has about 700k documents. Our training set has 60k. \n",
      "\n",
      "Since the document matrices contain counts of words, we use a min function to limit the count to \"1\", i.e. because we need binary features for naive Bayes. "
     ]
    },
    {
     "cell_type": "code",
     "collapsed": false,
     "input": [
      "\n",
      "val dict = \"/Users/Anna/workspace/BIDMach/data/\"\n",
      "val rpath = \"/Users/Anna/workspace/BIDMach/data/\"\n",
      "\n",
      "var index = 79; \n",
      "var index1 = 110;\n",
      "var tnum = 1;\n",
      "var tnum1 = 1;\n",
      "//for(index <- 79 to 79){\n",
      " var aa = loadFMat(dict+index+\"_train\"+\".txt\")\n",
      "// var c = loadFMat(dict+index+\"_test\"+\".txt\")\n",
      " var b = loadFMat(dict+index1+\"_train.txt\")\n",
      "\n",
      "//var a = aa.t   \n",
      "var atrain = aa(?,(239->aa.ncols))\n",
      "//var atest = c(?,(239->c.ncols))\n",
      "var atrain1 = b(?,(239->b.ncols))\n",
      "\n",
      "tnum = (aa.nrows+1)/2\n",
      "var ttrain = aa(0->tnum,(239->aa.ncols) )\n",
      "var ttest = aa(tnum->aa.nrows,(239->aa.ncols) )\n",
      "tnum1 = (b.nrows+1)/2\n",
      "var ttrain1 = b(0->tnum1,(239->b.ncols) )\n",
      "var ttest1 = b(tnum1->b.nrows,(239->b.ncols) )\n",
      "\n",
      "var trainx = zeros( (ttrain.nrows+ttrain1.nrows),4096)\n",
      "trainx(0->(ttrain.nrows),?)=ttrain\n",
      "trainx( (ttrain.nrows)->(ttrain.nrows+ttrain1.nrows),?)=ttrain1\n",
      "\n",
      "var testx= zeros( (ttest.nrows+ttest1.nrows),4096)\n",
      "testx(0->(ttest.nrows),?)=ttest\n",
      "testx( (ttest.nrows)->(ttest.nrows+ttest1.nrows),?)=ttest1\n",
      "\n",
      "var ctrain1=zeros(2,(ttrain.nrows+ttrain1.nrows) ) \n",
      "ctrain1(0,(0->(ttrain.nrows) ) )= 1\n",
      "ctrain1(1,(ttrain.nrows)->(ttrain.nrows+ttrain1.nrows)) = 1\n",
      "ctrain1(1,(0->(ttrain.nrows) ) )= -1\n",
      "ctrain1(0,(ttrain.nrows)->(ttrain.nrows+ttrain1.nrows)) = -1\n",
      "\n",
      "var ctest=zeros(2,(ttest.nrows+ttest1.nrows) ) \n",
      "ctest(0,(0->(ttest.nrows) ) )= 1\n",
      "ctest(1,(ttest.nrows)->(ttest.nrows+ttest1.nrows)) = 1\n",
      "//ctest(1,(0->(ttest.nrows) ) )= -1\n",
      "//ctest(0,(ttest.nrows)->(ttest.nrows+ttest1.nrows)) = -1\n",
      "\n",
      "//max(atrain, 0.001, atrain)                       // the first \"traindata\" argument is the input, the other is out\n",
      "tnum=testx.nrows\n",
      "val cx=zeros(2,testx.nrows)\n",
      "var maxx = maxi(maxi(trainx,1),2);\n",
      "var minx = mini(mini(trainx,1),2);\n",
      "trainx = (trainx-minx)/(maxx-minx);\n",
      "testx = (testx-minx)/(maxx-minx);\n",
      "val (mm,mopts,nn,nopts)=GLM.LBFGSlearner(trainx.t,ctrain1,testx.t,cx)\n",
      "\n",
      "mopts.autoReset=false\n",
      "mopts.useGPU=false\n",
      "mopts.lrate=0.1\n",
      "mopts.batchSize=50\n",
      "mopts.dim=256\n",
      "mopts.startBlock=0\n",
      "mopts.npasses=20\n",
      "mopts.updateAll=false\n",
      "\n",
      "//problem:memory leak\n",
      "mm.train;\n",
      "\n",
      "nn.predict;\n",
      "\n",
      "saveFMat(rpath+\"r\"+index+\".txt\",cx/tnum);\n",
      "//}\n",
      " \n",
      "min(cx, 1, cx)                       // the first \"traindata\" argument is the input, the other is output\n",
      "max(cx, 0, cx) \n",
      "val p=ctest *@cx +(1-ctest) *@(1-cx)\n",
      "var meanp=mean(p,2)\n",
      "//saveFMat(rpath+\"meanp\"+index+\".txt\",meanp);\n",
      "meanp"
     ],
     "language": "python",
     "metadata": {},
     "outputs": [
      {
       "output_type": "stream",
       "stream": "stdout",
       "text": [
        "corpus perplexity=3454.134799\n",
        "(2,4096)\n"
       ]
      },
      {
       "output_type": "stream",
       "stream": "stdout",
       "text": [
        "pass= 0\n",
        "(1,2)\n",
        "(0.0,   0   0   0   0   0   0   0   0   0   0   0   0   0   0   0   0   0   0...\n",
        "   0   0   0   0   0   0   0   0   0   0   0   0   0   0   0   0   0   0...\n",
        ")\n",
        "100.00%, ll=-1.00000, gf=0.130, secs=0.0, GB=0.00, MB/s=166.18\n",
        "pass= 1\n",
        "(1,2)\n",
        "(grad:,  0.037970\n",
        "  0.064164\n",
        "  0.067548\n",
        "  0.042356\n",
        "   0.34924\n",
        "  0.053474\n",
        "   0.10543\n",
        "  0.016298\n",
        "        ..\n",
        ")\n",
        "(r:,   0\n",
        "   0\n",
        "   0\n",
        "   0\n",
        "   0\n",
        "   0\n",
        "   0\n",
        "   0\n",
        "  ..\n",
        ")\n"
       ]
      },
      {
       "output_type": "stream",
       "stream": "stdout",
       "text": [
        "(grad:,  0.069697\n",
        "  0.011633\n",
        "  0.033247\n",
        "   0.10783\n",
        "   0.44176\n",
        "  0.062882\n",
        "   0.10317\n",
        "  0.052394\n",
        "        ..\n",
        ")\n",
        "(r:,   0\n",
        "   0\n",
        "   0\n",
        "   0\n",
        "   0\n",
        "   0\n",
        "   0\n",
        "   0\n",
        "  ..\n",
        ")\n",
        "(0.0,   0   0   0   0   0   0   0   0   0   0   0   0   0   0   0   0   0   0...\n",
        "   0   0   0   0   0   0   0   0   0   0   0   0   0   0   0   0   0   0...\n",
        ")\n",
        "100.00%, ll=-1.00000, gf=1.637, secs=0.1, GB=0.00, MB/s=72.71\n",
        "pass= 2\n",
        "(1,2)\n",
        "(grad:,  0.029411\n",
        "  0.049702\n",
        "  0.052323\n",
        "  0.032809\n",
        "   0.27052\n",
        "  0.041421\n",
        "  0.081664\n",
        "  0.012624\n",
        "        ..\n",
        ")\n",
        "(r:,  0.047958\n",
        "  0.048220\n",
        "  0.048254\n",
        "  0.048002\n",
        "  0.051070\n",
        "  0.048113\n",
        "  0.048632\n",
        "  0.047741\n",
        "        ..\n",
        ")\n"
       ]
      },
      {
       "output_type": "stream",
       "stream": "stdout",
       "text": [
        "(grad:,   0.053987\n",
        "  0.0090107\n",
        "   0.025753\n",
        "   0.083526\n",
        "    0.34219\n",
        "   0.048708\n",
        "   0.079916\n",
        "   0.040584\n",
        "         ..\n",
        ")\n",
        "(r:,  0.092017\n",
        "  0.091436\n",
        "  0.091652\n",
        "  0.092398\n",
        "  0.095737\n",
        "  0.091949\n",
        "  0.092352\n",
        "  0.091844\n",
        "        ..\n",
        ")\n",
        "(90.5096664428711,  -0.052940  -0.089463  -0.094181  -0.059056   -0.48694  -0.074558...\n",
        "  -0.097176  -0.016219  -0.046355   -0.15035   -0.61594  -0.087675...\n",
        ")\n",
        "100.00%, ll=-10.39972, gf=1.822, secs=0.1, GB=0.01, MB/s=61.23\n",
        "pass= 3\n",
        "(1,2)\n",
        "(grad:,  -0.024197\n",
        "  -0.012224\n",
        "  -0.017825\n",
        "  -0.033941\n",
        "   -0.14265\n",
        "  -0.023875\n",
        "  -0.038291\n",
        "  -0.018062\n",
        "         ..\n",
        ")\n",
        "(r:,  0.090965\n",
        "   0.15372\n",
        "   0.16183\n",
        "   0.10147\n",
        "   0.83668\n",
        "   0.12811\n",
        "   0.25257\n",
        "  0.039044\n",
        "        ..\n",
        ")\n"
       ]
      },
      {
       "output_type": "stream",
       "stream": "stdout",
       "text": [
        "(grad:,  -0.019172\n",
        "  -0.020545\n",
        "  -0.023258\n",
        "  -0.023570\n",
        "   -0.12800\n",
        "  -0.022384\n",
        "  -0.038648\n",
        "  -0.012344\n",
        "         ..\n",
        ")\n",
        "(r:,   0.16697\n",
        "  0.027869\n",
        "  0.079649\n",
        "   0.25833\n",
        "    1.0583\n",
        "   0.15065\n",
        "   0.24717\n",
        "   0.12552\n",
        "        ..\n",
        ")\n",
        "(90.5096664428711,   -0.018193   -0.030744   -0.032365   -0.020295    -0.16734   -0.025622...\n",
        "   -0.033395  -0.0055738   -0.015930   -0.051667    -0.21167   -0.030129...\n",
        ")\n",
        "100.00%, ll=-3.90203, gf=1.785, secs=0.2, GB=0.01, MB/s=53.48\n",
        "pass= 4\n",
        "(1,2)\n",
        "(grad:,  -0.021224\n",
        "  -0.010585\n",
        "  -0.015514\n",
        "  -0.029804\n",
        "   -0.12474\n",
        "  -0.020892\n",
        "  -0.033448\n",
        "  -0.015879\n",
        "         ..\n",
        ")\n",
        "(r:,   -0.012052\n",
        "  -0.0093978\n",
        "  -0.0091117\n",
        "   -0.011701\n",
        "    0.017419\n",
        "   -0.010535\n",
        "  -0.0055735\n",
        "   -0.014121\n",
        "          ..\n",
        ")\n"
       ]
      },
      {
       "output_type": "stream",
       "stream": "stdout",
       "text": [
        "(grad:,  -0.016695\n",
        "  -0.018083\n",
        "  -0.020410\n",
        "  -0.020458\n",
        "   -0.11153\n",
        "  -0.019549\n",
        "  -0.033770\n",
        "  -0.010727\n",
        "         ..\n",
        ")\n",
        "(r:,  -0.0089358\n",
        "  -0.0094303\n",
        "  -0.0092739\n",
        "  -0.0086565\n",
        "  -0.0067768\n",
        "  -0.0090200\n",
        "  -0.0088247\n",
        "  -0.0090210\n",
        "          ..\n",
        ")\n",
        "(90.5096664428711,   0.0024105   0.0018796   0.0018223   0.0023403  -0.0034837   0.0021070...\n",
        "   0.0017872   0.0018861   0.0018548   0.0017313   0.0013554   0.0018040...\n",
        ")\n",
        "100.00%, ll=-1.10304, gf=1.760, secs=0.2, GB=0.01, MB/s=49.50\n",
        "pass= 5\n",
        "(1,2)\n",
        "(grad:,  0.022852\n",
        "  0.036530\n",
        "  0.038297\n",
        "  0.025142\n",
        "   0.17936\n",
        "  0.030948\n",
        "  0.058076\n",
        "  0.011535\n",
        "        ..\n",
        ")\n"
       ]
      },
      {
       "output_type": "stream",
       "stream": "stdout",
       "text": [
        "(r:,  -0.0091601\n",
        "  -0.0068672\n",
        "  -0.0066156\n",
        "  -0.0088495\n",
        "    0.016458\n",
        "  -0.0078451\n",
        "  -0.0035359\n",
        "   -0.010957\n",
        "          ..\n",
        ")\n",
        "(grad:,   0.039418\n",
        "  0.0090958\n",
        "   0.020383\n",
        "   0.059334\n",
        "    0.23372\n",
        "   0.035860\n",
        "   0.056900\n",
        "   0.030382\n",
        "         ..\n",
        ")\n",
        "(r:,  -0.0066550\n",
        "  -0.0074766\n",
        "  -0.0071929\n",
        "  -0.0061519\n",
        "  -0.0022000\n",
        "  -0.0067724\n",
        "  -0.0063208\n",
        "  -0.0068500\n",
        "          ..\n",
        ")\n",
        "(90.5096664428711,   0.0018320   0.0013734   0.0013231   0.0017699  -0.0032916   0.0015690...\n",
        "   0.0013310   0.0014953   0.0014386   0.0012304  0.00044001   0.0013545...\n",
        ")\n",
        "100.00%, ll=-1.06724, gf=1.769, secs=0.3, GB=0.01, MB/s=47.81\n",
        "pass= 6\n",
        "(1,2)\n"
       ]
      },
      {
       "output_type": "stream",
       "stream": "stdout",
       "text": [
        "(grad:,  0.021019\n",
        "  0.033601\n",
        "  0.035226\n",
        "  0.023126\n",
        "   0.16499\n",
        "  0.028466\n",
        "  0.053421\n",
        "  0.010609\n",
        "        ..\n",
        ")\n",
        "(r:,   -0.018820\n",
        "   -0.010049\n",
        "  -0.0090740\n",
        "   -0.017611\n",
        "    0.079601\n",
        "   -0.013778\n",
        "   0.0027765\n",
        "   -0.025724\n",
        "          ..\n",
        ")\n",
        "(grad:,   0.036258\n",
        "  0.0083659\n",
        "   0.018749\n",
        "   0.054578\n",
        "    0.21499\n",
        "   0.032985\n",
        "   0.052339\n",
        "   0.027947\n",
        "         ..\n",
        ")\n",
        "(r:,  -0.0050193\n",
        "  -0.0072370\n",
        "  -0.0064591\n",
        "  -0.0036412\n",
        "   0.0074530\n",
        "  -0.0053247\n",
        "  -0.0040403\n",
        "  -0.0055733\n",
        "          ..\n",
        ")\n",
        "(90.5096664428711,   0.0037641   0.0020099   0.0018148   0.0035222   -0.015920   0.0027556...\n",
        "   0.0010039   0.0014474   0.0012918  0.00072824  -0.0014906   0.0010649...\n",
        ")\n",
        "100.00%, ll=-0.97228, gf=1.745, secs=0.4, GB=0.02, MB/s=45.88\n",
        "pass= 7\n",
        "(1,2)\n"
       ]
      },
      {
       "output_type": "stream",
       "stream": "stdout",
       "text": [
        "(grad:,   0.019572\n",
        "   0.031282\n",
        "   0.032795\n",
        "   0.021533\n",
        "    0.15356\n",
        "   0.026504\n",
        "   0.044565\n",
        "  0.0098838\n",
        "         ..\n",
        ")\n",
        "(r:,   -0.020427\n",
        "   -0.010894\n",
        "  -0.0098339\n",
        "   -0.019112\n",
        "    0.086532\n",
        "   -0.014946\n",
        "   0.0030447\n",
        "   -0.027929\n",
        "          ..\n",
        ")\n",
        "(grad:,   0.033754\n",
        "  0.0077881\n",
        "   0.017454\n",
        "   0.050808\n",
        "    0.19498\n",
        "   0.030706\n",
        "   0.048724\n",
        "   0.026016\n",
        "         ..\n",
        ")\n",
        "(r:,  -0.0046212\n",
        "  -0.0067113\n",
        "  -0.0059812\n",
        "  -0.0033272\n",
        "   0.0070256\n",
        "  -0.0049118\n",
        "  -0.0037172\n",
        "  -0.0051366\n",
        "          ..\n",
        ")\n",
        "(90.5096664428711,   0.0040853   0.0021788   0.0019668   0.0038224   -0.017306   0.0029893...\n",
        "  0.00092424   0.0013423   0.0011962  0.00066543  -0.0014051  0.00098237...\n",
        ")\n",
        "100.00%, ll=-0.97387, gf=1.766, secs=0.4, GB=0.02, MB/s=45.51\n",
        "pass= 8\n",
        "(1,2)\n"
       ]
      },
      {
       "output_type": "stream",
       "stream": "stdout",
       "text": [
        "(grad:,   0.018386\n",
        "   0.029385\n",
        "   0.030806\n",
        "   0.020228\n",
        "    0.14424\n",
        "   0.024896\n",
        "   0.041861\n",
        "  0.0092853\n",
        "         ..\n",
        ")\n",
        "(r:,  -0.024301\n",
        "  -0.012933\n",
        "  -0.011666\n",
        "  -0.022727\n",
        "    0.10336\n",
        "  -0.017762\n",
        "  0.0030488\n",
        "  -0.033255\n",
        "         ..\n",
        ")\n",
        "(grad:,   0.031706\n",
        "  0.0073154\n",
        "   0.016395\n",
        "   0.047725\n",
        "    0.18315\n",
        "   0.028843\n",
        "   0.045768\n",
        "   0.024438\n",
        "         ..\n",
        ")\n",
        "(r:,  -0.0037409\n",
        "  -0.0055551\n",
        "  -0.0049249\n",
        "  -0.0026236\n",
        "   0.0057388\n",
        "  -0.0039966\n",
        "  -0.0029787\n",
        "  -0.0041803\n",
        "          ..\n",
        ")\n",
        "(90.5096664428711,   0.0048601   0.0025866   0.0023331   0.0045455   -0.020673   0.0035525...\n",
        "  0.00074819   0.0011110  0.00098498  0.00052472  -0.0011478  0.00079931...\n",
        ")\n",
        "100.00%, ll=-0.97765, gf=1.760, secs=0.5, GB=0.02, MB/s=44.65\n",
        "pass= 9\n",
        "(1,2)\n"
       ]
      },
      {
       "output_type": "stream",
       "stream": "stdout",
       "text": [
        "(grad:,   0.017401\n",
        "   0.027796\n",
        "   0.029140\n",
        "   0.019668\n",
        "    0.13705\n",
        "   0.023551\n",
        "   0.039623\n",
        "  0.0087855\n",
        "         ..\n",
        ")\n",
        "(r:,  -0.037564\n",
        "  -0.019992\n",
        "  -0.018033\n",
        "  -0.035132\n",
        "    0.15978\n",
        "  -0.027457\n",
        "  0.0047132\n",
        "  -0.051405\n",
        "         ..\n",
        ")\n",
        "(grad:,   0.029991\n",
        "  0.0069191\n",
        "   0.015507\n",
        "   0.045143\n",
        "    0.17324\n",
        "   0.027283\n",
        "   0.043292\n",
        "   0.023115\n",
        "         ..\n",
        ")\n",
        "(r:,  -0.0058084\n",
        "  -0.0086260\n",
        "  -0.0076471\n",
        "  -0.0040727\n",
        "   0.0089218\n",
        "  -0.0062053\n",
        "  -0.0046234\n",
        "  -0.0064911\n",
        "          ..\n",
        ")\n",
        "(90.5096664428711,   0.0075128   0.0039984   0.0036065   0.0070264   -0.031957   0.0054914...\n",
        "   0.0011617   0.0017252   0.0015294  0.00081455  -0.0017844   0.0012411...\n",
        ")\n"
       ]
      },
      {
       "output_type": "stream",
       "stream": "stdout",
       "text": [
        "100.00%, ll=-0.96531, gf=1.761, secs=0.5, GB=0.02, MB/s=44.15\n",
        "pass=10\n",
        "(1,2)\n",
        "(grad:,   0.016014\n",
        "   0.025684\n",
        "   0.025815\n",
        "   0.017747\n",
        "    0.10649\n",
        "   0.020542\n",
        "   0.034357\n",
        "  0.0072278\n",
        "         ..\n",
        ")\n",
        "(r:,  -0.025442\n",
        "  -0.013441\n",
        "  -0.012123\n",
        "  -0.023774\n",
        "    0.10864\n",
        "  -0.018559\n",
        "  0.0032753\n",
        "  -0.034851\n",
        "         ..\n",
        ")\n",
        "(grad:,   0.028528\n",
        "  0.0065827\n",
        "   0.014752\n",
        "   0.042941\n",
        "    0.16479\n",
        "   0.025952\n",
        "   0.041179\n",
        "   0.021988\n",
        "         ..\n",
        ")\n",
        "(r:,   -0.010233\n",
        "   -0.015197\n",
        "   -0.013472\n",
        "  -0.0071742\n",
        "    0.015731\n",
        "   -0.010932\n",
        "  -0.0081431\n",
        "   -0.011436\n",
        "          ..\n",
        ")\n",
        "(90.5096664428711,   0.0050885   0.0026882   0.0024247   0.0047549   -0.021727   0.0037118...\n",
        "   0.0020465   0.0030394   0.0026944   0.0014348  -0.0031462   0.0021863...\n",
        ")\n",
        "100.00%, ll=-0.94338, gf=1.787, secs=0.6, GB=0.03, MB/s=44.35\n",
        "pass=11\n"
       ]
      },
      {
       "output_type": "stream",
       "stream": "stdout",
       "text": [
        "(1,2)\n",
        "(grad:,   0.015816\n",
        "   0.025264\n",
        "   0.026486\n",
        "   0.017877\n",
        "    0.12456\n",
        "   0.021406\n",
        "   0.036013\n",
        "  0.0079857\n",
        "         ..\n",
        ")\n",
        "(r:,  -0.0063936\n",
        "  -0.0032398\n",
        "  -0.0029324\n",
        "  -0.0059626\n",
        "    0.028114\n",
        "  -0.0046264\n",
        "   0.0010404\n",
        "  -0.0088969\n",
        "          ..\n",
        ")\n"
       ]
      },
      {
       "output_type": "stream",
       "stream": "stdout",
       "text": [
        "(grad:,   0.027261\n",
        "  0.0062928\n",
        "   0.014098\n",
        "   0.041032\n",
        "    0.15745\n",
        "   0.024800\n",
        "   0.039350\n",
        "   0.021012\n",
        "         ..\n",
        ")\n",
        "(r:,  -0.019854\n",
        "  -0.029488\n",
        "  -0.026140\n",
        "  -0.013918\n",
        "   0.030528\n",
        "  -0.021210\n",
        "  -0.015799\n",
        "  -0.022189\n",
        "         ..\n",
        ")\n",
        "(90.5096664428711,   0.0012787  0.00064797  0.00058648   0.0011925  -0.0056227  0.00092528...\n",
        "   0.0039707   0.0058975   0.0052280   0.0027837  -0.0061057   0.0042420...\n",
        ")\n",
        "100.00%, ll=-0.90071, gf=1.769, secs=0.6, GB=0.03, MB/s=43.56\n",
        "pass=12\n",
        "(1,2)\n",
        "(grad:,   0.015156\n",
        "   0.024229\n",
        "   0.025401\n",
        "   0.016675\n",
        "    0.11897\n",
        "   0.020526\n",
        "   0.034521\n",
        "  0.0076492\n",
        "         ..\n",
        ")\n",
        "(r:,    0.0034204\n",
        "    0.0019370\n",
        "    0.0017374\n",
        "    0.0032072\n",
        "    -0.013840\n",
        "    0.0025303\n",
        "  -0.00023572\n",
        "    0.0045540\n",
        "           ..\n",
        ")\n"
       ]
      },
      {
       "output_type": "stream",
       "stream": "stdout",
       "text": [
        "(grad:,   0.026130\n",
        "  0.0060415\n",
        "   0.013527\n",
        "   0.037966\n",
        "    0.14942\n",
        "   0.023791\n",
        "   0.037678\n",
        "   0.020159\n",
        "         ..\n",
        ")\n",
        "(r:,  -0.042201\n",
        "  -0.062683\n",
        "  -0.055566\n",
        "  -0.029582\n",
        "   0.064911\n",
        "  -0.045085\n",
        "  -0.033580\n",
        "  -0.047167\n",
        "         ..\n",
        ")\n",
        "(90.5096664428711,  -0.00068408  -0.00038739  -0.00034747  -0.00064144    0.0027679...\n",
        "    0.0084402     0.012537     0.011113    0.0059164    -0.012982...\n",
        ")\n",
        "100.00%, ll=-0.80190, gf=1.780, secs=0.7, GB=0.03, MB/s=43.52\n",
        "pass=13\n",
        "(1,2)\n",
        "(grad:,   0.010731\n",
        "   0.019463\n",
        "   0.020591\n",
        "   0.012193\n",
        "    0.11834\n",
        "   0.015899\n",
        "   0.037067\n",
        "  0.0035063\n",
        "         ..\n",
        ")\n",
        "(r:,  -0.0092604\n",
        "  -0.0049810\n",
        "  -0.0044050\n",
        "  -0.0085434\n",
        "    0.040638\n",
        "  -0.0066935\n",
        "   0.0012449\n",
        "   -0.012541\n",
        "          ..\n",
        ")\n"
       ]
      },
      {
       "output_type": "stream",
       "stream": "stdout",
       "text": [
        "(grad:,   0.016398\n",
        "  0.0046942\n",
        "   0.012706\n",
        "   0.026820\n",
        "   0.083276\n",
        "   0.016110\n",
        "   0.033780\n",
        "   0.018508\n",
        "         ..\n",
        ")\n",
        "(r:,  -0.019242\n",
        "  -0.028842\n",
        "  -0.025502\n",
        "  -0.013397\n",
        "   0.031040\n",
        "  -0.020589\n",
        "  -0.015178\n",
        "  -0.021578\n",
        "         ..\n",
        ")\n",
        "(90.5096664428711,   0.0018521  0.00099620  0.00088100   0.0017087  -0.0081276   0.0013387...\n",
        "   0.0038484   0.0057685   0.0051004   0.0026795  -0.0062081   0.0041178...\n",
        ")\n",
        "100.00%, ll=-0.90157, gf=1.794, secs=0.7, GB=0.03, MB/s=43.60\n",
        "pass=14\n",
        "(1,2)\n",
        "(grad:,   0.014073\n",
        "   0.022496\n",
        "   0.023584\n",
        "   0.015483\n",
        "    0.11046\n",
        "   0.019059\n",
        "   0.032052\n",
        "  0.0071035\n",
        "         ..\n",
        ")\n",
        "(r:,    0.0042736\n",
        "    0.0025219\n",
        "    0.0022870\n",
        "    0.0039711\n",
        "    -0.016434\n",
        "    0.0032237\n",
        "  -0.00032320\n",
        "    0.0056131\n",
        "           ..\n",
        ")\n"
       ]
      },
      {
       "output_type": "stream",
       "stream": "stdout",
       "text": [
        "(grad:,   0.024261\n",
        "  0.0056092\n",
        "   0.012560\n",
        "   0.035251\n",
        "    0.13873\n",
        "   0.022090\n",
        "   0.034983\n",
        "   0.018717\n",
        "         ..\n",
        ")\n",
        "(r:,  -0.00059600\n",
        "   -0.0010267\n",
        "  -0.00081632\n",
        "  -0.00028002\n",
        "    0.0016469\n",
        "  -0.00063732\n",
        "  -0.00023115\n",
        "  -0.00061513\n",
        "           ..\n",
        ")\n",
        "(90.5096664428711,  -0.00085471  -0.00050439  -0.00045740  -0.00079422    0.0032869...\n",
        "   0.00011920   0.00020533   0.00016326   5.6005e-05  -0.00032938...\n",
        ")\n",
        "100.00%, ll=-0.99342, gf=1.803, secs=0.8, GB=0.03, MB/s=43.62\n",
        "pass=15\n",
        "(1,2)\n",
        "(grad:,   0.010014\n",
        "   0.018164\n",
        "   0.019216\n",
        "   0.011379\n",
        "    0.11045\n",
        "   0.014838\n",
        "   0.034593\n",
        "  0.0032719\n",
        "         ..\n",
        ")\n",
        "(r:,   0.0011166\n",
        "  0.00080104\n",
        "  0.00075955\n",
        "   0.0010558\n",
        "  -0.0028093\n",
        "  0.00092825\n",
        "  7.5793e-05\n",
        "   0.0013549\n",
        "          ..\n",
        ")\n"
       ]
      },
      {
       "output_type": "stream",
       "stream": "stdout",
       "text": [
        "(grad:,   0.023478\n",
        "  0.0054152\n",
        "   0.012139\n",
        "   0.035341\n",
        "    0.13563\n",
        "   0.021358\n",
        "   0.033891\n",
        "   0.018095\n",
        "         ..\n",
        ")\n",
        "(r:,    0.0013712\n",
        "    0.0017674\n",
        "    0.0017601\n",
        "    0.0012461\n",
        "  -0.00073195\n",
        "    0.0014680\n",
        "    0.0015972\n",
        "    0.0016525\n",
        "           ..\n",
        ")\n",
        "(90.5096664428711,  -0.00022331  -0.00016021  -0.00015191  -0.00021115   0.00056186...\n",
        "  -0.00027425  -0.00035348  -0.00035201  -0.00024922   0.00014639...\n",
        ")\n",
        "100.00%, ll=-1.00115, gf=1.816, secs=0.9, GB=0.04, MB/s=43.74\n",
        "pass=16\n",
        "(1,2)\n",
        "(grad:,  0.0097072\n",
        "   0.017605\n",
        "   0.018626\n",
        "   0.011030\n",
        "    0.10704\n",
        "   0.014382\n",
        "   0.030047\n",
        "  0.0031727\n",
        "         ..\n",
        ")\n",
        "(r:,  -0.00020755\n",
        "  -0.00010306\n",
        "  -8.6554e-05\n",
        "  -0.00018994\n",
        "    0.0010301\n",
        "  -0.00014227\n",
        "   2.9063e-05\n",
        "  -0.00028613\n",
        "           ..\n",
        ")\n"
       ]
      },
      {
       "output_type": "stream",
       "stream": "stdout",
       "text": [
        "(grad:,   0.019273\n",
        "  0.0017660\n",
        "  0.0082829\n",
        "   0.030771\n",
        "    0.13494\n",
        "   0.017218\n",
        "   0.029366\n",
        "   0.014056\n",
        "         ..\n",
        ")\n",
        "(r:,   0.0013316\n",
        "   0.0018694\n",
        "   0.0018873\n",
        "   0.0012765\n",
        "  -0.0016293\n",
        "   0.0014674\n",
        "   0.0017102\n",
        "   0.0017709\n",
        "          ..\n",
        ")\n",
        "(90.5096664428711,   4.1510e-05   2.0611e-05   1.7311e-05   3.7988e-05  -0.00020603...\n",
        "  -0.00026632  -0.00037388  -0.00037747  -0.00025531   0.00032585...\n",
        ")\n",
        "100.00%, ll=-1.00815, gf=1.834, secs=0.9, GB=0.04, MB/s=44.00\n",
        "pass=17\n",
        "(1,2)\n",
        "(grad:,   0.012807\n",
        "   0.020476\n",
        "   0.021466\n",
        "   0.014091\n",
        "    0.10056\n",
        "   0.017346\n",
        "   0.029176\n",
        "  0.0064619\n",
        "         ..\n",
        ")\n",
        "(r:,  -0.00081700\n",
        "  -0.00039953\n",
        "  -0.00033401\n",
        "  -0.00074575\n",
        "    0.0041239\n",
        "  -0.00055666\n",
        "  -0.00097864\n",
        "   -0.0011314\n",
        "           ..\n",
        ")\n"
       ]
      },
      {
       "output_type": "stream",
       "stream": "stdout",
       "text": [
        "(grad:,   0.018714\n",
        "  0.0017148\n",
        "  0.0080427\n",
        "   0.029879\n",
        "    0.13103\n",
        "   0.016719\n",
        "   0.028515\n",
        "   0.013648\n",
        "         ..\n",
        ")\n",
        "(r:,  -4.7110e-05\n",
        "  -1.3773e-05\n",
        "   3.4954e-05\n",
        "   6.7295e-06\n",
        "  -0.00025339\n",
        "  -2.5363e-05\n",
        "   0.00011298\n",
        "   5.6158e-05\n",
        "           ..\n",
        ")\n",
        "(90.5096664428711,   0.00016340   7.9906e-05   6.6801e-05   0.00014915  -0.00082477...\n",
        "   9.4220e-06   2.7545e-06  -6.9909e-06  -1.3459e-06   5.0678e-05...\n",
        ")\n",
        "100.00%, ll=-0.99776, gf=1.842, secs=1.0, GB=0.04, MB/s=44.04\n",
        "pass=18\n",
        "(1,2)\n",
        "(grad:,   0.012456\n",
        "   0.019915\n",
        "   0.020878\n",
        "   0.013705\n",
        "   0.097801\n",
        "   0.016871\n",
        "   0.031664\n",
        "  0.0062851\n",
        "         ..\n",
        ")\n",
        "(r:,  -0.00012140\n",
        "   5.1047e-05\n",
        "   7.7990e-05\n",
        "  -9.0033e-05\n",
        "    0.0018072\n",
        "  -1.4102e-05\n",
        "  -0.00036786\n",
        "  -0.00025388\n",
        "           ..\n",
        ")\n"
       ]
      },
      {
       "output_type": "stream",
       "stream": "stdout",
       "text": [
        "(grad:,   0.021490\n",
        "  0.0049564\n",
        "  0.0078229\n",
        "   0.029061\n",
        "    0.12744\n",
        "   0.019549\n",
        "   0.027734\n",
        "   0.013275\n",
        "         ..\n",
        ")\n",
        "(r:,   0.00016411\n",
        "  -1.1088e-05\n",
        "  -0.00033178\n",
        "  -0.00017163\n",
        "    0.0012611\n",
        "   3.0231e-05\n",
        "  -0.00086763\n",
        "  -0.00047498\n",
        "           ..\n",
        ")\n",
        "(90.5096664428711,   2.4280e-05  -1.0209e-05  -1.5598e-05   1.8007e-05  -0.00036143...\n",
        "  -3.2822e-05   2.2176e-06   6.6356e-05   3.4326e-05  -0.00025222...\n",
        ")\n",
        "100.00%, ll=-0.99603, gf=1.845, secs=1.0, GB=0.04, MB/s=43.99\n",
        "pass=19\n",
        "(1,2)\n",
        "(grad:,   0.012132\n",
        "   0.016195\n",
        "   0.017133\n",
        "   0.013349\n",
        "   0.095261\n",
        "   0.016432\n",
        "   0.030842\n",
        "  0.0061215\n",
        "         ..\n",
        ")\n",
        "(r:,  -0.00039805\n",
        "   0.00017909\n",
        "   0.00026947\n",
        "  -0.00029293\n",
        "    0.0060518\n",
        "  -3.8734e-05\n",
        "  -0.00038468\n",
        "  -0.00084137\n",
        "           ..\n",
        ")\n"
       ]
      },
      {
       "output_type": "stream",
       "stream": "stdout",
       "text": [
        "(grad:,   0.017729\n",
        "  0.0048276\n",
        "   0.010822\n",
        "   0.031509\n",
        "    0.12092\n",
        "   0.015839\n",
        "   0.030216\n",
        "   0.016133\n",
        "         ..\n",
        ")\n",
        "(r:,   0.0032404\n",
        "  -0.0053661\n",
        "   -0.017144\n",
        "  -0.0089463\n",
        "    0.055688\n",
        "  -0.0026127\n",
        "   -0.038677\n",
        "   -0.022734\n",
        "          ..\n",
        ")\n",
        "(90.5096664428711,   7.9610e-05  -3.5818e-05  -5.3893e-05   5.8586e-05   -0.0012104...\n",
        "  -0.00064807    0.0010732    0.0034289    0.0017893    -0.011138...\n",
        ")\n",
        "100.00%, ll=-1.03040, gf=1.841, secs=1.1, GB=0.05, MB/s=43.77\n",
        "Time=1.0630 secs, gflops=1.84\n",
        "corpus perplexity=4056.873397\n",
        "Predicting\n",
        " 3.00%, ll=-0.88326, gf=Infinity, secs=0.0, GB=0.00, MB/s=Infinity\n",
        " 7.00%, ll=-0.99354, gf=0.066, secs=0.0, GB=0.00, MB/s=142.00\n",
        "11.00%, ll=-0.73643, gf=0.098, secs=0.0, GB=0.00, MB/s=202.78\n",
        "14.00%, ll=-0.92429, gf=0.131, secs=0.0, GB=0.00, MB/s=273.26\n",
        "18.00%, ll=-0.75108, gf=0.164, secs=0.0, GB=0.00, MB/s=336.98\n",
        "22.00%, ll=-0.91115, gf=0.098, secs=0.0, GB=0.00, MB/s=200.50\n",
        "25.00%, ll=-0.86758, gf=0.115, secs=0.0, GB=0.00, MB/s=244.46\n",
        "29.00%, ll=-0.97709, gf=0.088, secs=0.0, GB=0.00, MB/s=186.99\n",
        "33.00%, ll=-0.95463, gf=0.098, secs=0.0, GB=0.00, MB/s=208.90\n",
        "37.00%, ll=-0.82318, gf=0.082, secs=0.0, GB=0.00, MB/s=175.27\n",
        "40.00%, ll=-0.86462, gf=0.090, secs=0.0, GB=0.00, MB/s=196.69\n",
        "44.00%, ll=-0.83492, gf=0.098, secs=0.0, GB=0.00, MB/s=214.34\n",
        "48.00%, ll=-0.76476, gf=0.107, secs=0.0, GB=0.00, MB/s=227.92\n",
        "51.00%, ll=-0.77714, gf=0.115, secs=0.0, GB=0.00, MB/s=247.81\n",
        "55.00%, ll=-0.98246, gf=0.098, secs=0.0, GB=0.00, MB/s=217.74\n",
        "59.00%, ll=-0.97123, gf=0.105, secs=0.0, GB=0.00, MB/s=232.78\n",
        "62.00%, ll=-0.97450, gf=0.112, secs=0.0, GB=0.00, MB/s=250.75\n",
        "66.00%, ll=-0.94385, gf=0.118, secs=0.0, GB=0.00, MB/s=267.84\n",
        "70.00%, ll=-0.94165, gf=0.125, secs=0.0, GB=0.00, MB/s=286.08\n",
        "74.00%, ll=-0.94155, gf=0.109, secs=0.0, GB=0.00, MB/s=253.70\n",
        "77.00%, ll=-1.03844, gf=0.115, secs=0.0, GB=0.00, MB/s=264.39\n",
        "81.00%, ll=-0.93536, gf=0.120, secs=0.0, GB=0.00, MB/s=280.20\n",
        "85.00%, ll=-0.94816, gf=0.126, secs=0.0, GB=0.00, MB/s=295.68\n",
        "88.00%, ll=-1.00144, gf=0.131, secs=0.0, GB=0.00, MB/s=311.88\n",
        "92.00%, ll=-0.97092, gf=0.137, secs=0.0, GB=0.00, MB/s=328.01\n",
        "96.00%, ll=-0.95993, gf=0.122, secs=0.0, GB=0.00, MB/s=294.86\n",
        "100.00%, ll=-0.94105, gf=0.127, secs=0.0, GB=0.00, MB/s=307.44\n",
        "Time=0.0070 secs, gflops=0.13\n"
       ]
      },
      {
       "output_type": "stream",
       "stream": "stdout",
       "text": []
      },
      {
       "output_type": "stream",
       "stream": "stdout",
       "text": []
      },
      {
       "metadata": {},
       "output_type": "pyout",
       "prompt_number": 6,
       "text": [
        "  0.50462\n",
        "  0.50596\n"
       ]
      }
     ],
     "prompt_number": 6
    },
    {
     "cell_type": "markdown",
     "metadata": {},
     "source": [
      "Get the word and document counts from the data. This turns out to be equivalent to a matrix multiply. For a data matrix A and category matrix C, we want all (cat, word) pairs (i,j) such that C(i,k) and A(j,k) are both 1 - this means that document k contains word j, and is also tagged with category i. Summing over all documents gives us\n",
      "\n",
      "$${\\rm wordcatCounts(i,j)} = \\sum_{k=1}^N C(i,k) A(j,k) = C * A^T$$\n",
      "\n",
      "\n",
      "Because we are doing independent binary classifiers for each class, we need to construct the counts for words not in the class (negwcounts).\n",
      "\n",
      "Finally, we add a smoothing count 0.5 to counts that could be zero."
     ]
    },
    {
     "cell_type": "code",
     "collapsed": false,
     "input": [
      "val cx=zeros(ctest.nrows,ctest.ncols)\n",
      "val (mm,mopts,nn,nopts)=GLM.learner(atrain,ctrain,atest,cx,0)\n",
      "mopts.autoReset=false\n",
      "mopts.useGPU=false\n",
      "mopts.lrate=0.1\n",
      "mopts.batchSize=2\n",
      "mopts.dim=256\n",
      "mopts.startBlock=0\n",
      "mopts.npasses=10\n",
      "mopts.updateAll=false\n",
      "//mopts.what"
     ],
     "language": "python",
     "metadata": {},
     "outputs": [
      {
       "output_type": "stream",
       "stream": "stdout",
       "text": []
      },
      {
       "output_type": "stream",
       "stream": "stdout",
       "text": []
      },
      {
       "metadata": {},
       "output_type": "pyout",
       "prompt_number": 45,
       "text": [
        "false"
       ]
      }
     ],
     "prompt_number": 45
    },
    {
     "cell_type": "markdown",
     "metadata": {},
     "source": [
      "Now compute the probabilities \n",
      "* pwordcat = probability that a word is in a cat, given the cat.\n",
      "* pwordncat = probability of a word, given the complement of the cat.\n",
      "* pcat = probability that doc is in a given cat. \n",
      "* spcat = sum of pcat probabilities (> 1 because docs can be in multiple cats)"
     ]
    },
    {
     "cell_type": "code",
     "collapsed": false,
     "input": [
      "//mm.train\n",
      "//nn.predict\n",
      "tnum1"
     ],
     "language": "python",
     "metadata": {},
     "outputs": [
      {
       "output_type": "stream",
       "stream": "stdout",
       "text": []
      },
      {
       "output_type": "stream",
       "stream": "stdout",
       "text": []
      },
      {
       "metadata": {},
       "output_type": "pyout",
       "prompt_number": 11,
       "text": [
        "27"
       ]
      }
     ],
     "prompt_number": 11
    },
    {
     "cell_type": "markdown",
     "metadata": {},
     "source": [
      "Now take the logs of those probabilities. Here we're using the formula presented <a href=\"https://bcourses.berkeley.edu/courses/1267848/files/51512989/download?wrap=1in\">here</a> to match Naive Bayes to Logistic Regression for independent data.\n",
      "\n",
      "For each word, we compute the log of the ratio of the complementary word probability over the in-class word probability. \n",
      "\n",
      "For each category, we compute the log of the ratio of the complementary category probability over the current category probability.\n",
      "\n",
      "lpwordcat(j,i) represents $\\log\\left(\\frac{{\\rm Pr}(X_i|\\neg c_j)}{{\\rm Pr}(X_i|c_j)}\\right)$\n",
      "\n",
      "while lpcat(j) represents $\\log\\left(\\frac{{\\rm Pr}(\\neg c)}{{\\rm Pr}(c)}\\right)$"
     ]
    },
    {
     "cell_type": "code",
     "collapsed": false,
     "input": [
      "val cx1=cx\n",
      "min(cx1, 1, cx1)                       // the first \"traindata\" argument is the input, the other is output\n",
      "max(cx1, 0, cx1) \n",
      "val p=ctest *@cx1 +(1-ctest) *@(1-cx1)\n",
      "mean(p,2)\n",
      "//saveFMat(rpath+index+\".txt\",cx)\n",
      "cx"
     ],
     "language": "python",
     "metadata": {},
     "outputs": [
      {
       "output_type": "stream",
       "stream": "stdout",
       "text": []
      },
      {
       "ename": "java.lang.RuntimeException",
       "evalue": "dims incompatible",
       "output_type": "pyerr",
       "traceback": [
        "java.lang.RuntimeException: dims incompatible",
        "    BIDMat.DenseMat$mcF$sp.ggMatOpStrictv$mcF$sp(DenseMat.scala:963)",
        "    BIDMat.DenseMat$mcF$sp.ggMatOpv$mcF$sp(DenseMat.scala:951)",
        "    BIDMat.FMat.ffMatOpv(FMat.scala:206)",
        "    BIDMat.FMat.$times$at(FMat.scala:799)"
       ]
      },
      {
       "output_type": "stream",
       "stream": "stdout",
       "text": []
      }
     ],
     "prompt_number": 22
    },
    {
     "cell_type": "markdown",
     "metadata": {},
     "source": [
      "Here's where we apply Naive Bayes. The formula we're using is borrowed from <a href=\"https://bcourses.berkeley.edu/courses/1267848/files/51512989/download?wrap=1in\">here</a>.\n",
      "\n",
      "$${\\rm Pr}(c|X_1,\\ldots,X_k) = \\frac{1}{1 + \\frac{{\\rm Pr}(\\neg c)}{{\\rm Pr}(c)}\\prod_{i-1}^k\\frac{{\\rm Pr}(X_i|\\neg c)}{{\\rm Pr}(X_i|c)}}$$\n",
      "\n",
      "and we can rewrite\n",
      "\n",
      "$$\\frac{{\\rm Pr}(\\neg c)}{{\\rm Pr}(c)}\\prod_{i-1}^k\\frac{{\\rm Pr}(X_i|\\neg c)}{{\\rm Pr}(X_i|c)}$$\n",
      "\n",
      "as\n",
      "\n",
      "$$\\exp\\left(\\log\\left(\\frac{{\\rm Pr}(\\neg c)}{{\\rm Pr}(c)}\\right) + \\sum_{i=1}^k\\log\\left(\\frac{{\\rm Pr}(X_i|\\neg c)}{{\\rm Pr}(X_i|c)}\\right)\\right)  = \\exp({\\rm lpcat(j)} + {\\rm lpwordcat(j,?)} * X)$$\n",
      "\n",
      "for class number j and an input column $X$. This follows because an input column $X$ is a sparse vector with ones in the positions of the input features. The product ${\\rm lpwordcat(i,?)} * X$ picks out the features occuring in the input document and adds the corresponding logs from lpwordcat. \n",
      "\n",
      "Finally, we take the exponential above and fold it into the formula $P(c_j|X_1,\\ldots,X_k) = 1/(1+\\exp(\\cdots))$. This gives us a matrix of predictions. preds(i,j) = prediction of membership in category i for test document j. "
     ]
    },
    {
     "cell_type": "code",
     "collapsed": false,
     "input": [
      "val lacc = (cx1 \u2219\u2192 ctest + (1-cx1) \u2219\u2192 (1-ctest))/cx1.ncols\n",
      "lacc.t\n",
      "mean(lacc)"
     ],
     "language": "python",
     "metadata": {},
     "outputs": [
      {
       "output_type": "stream",
       "stream": "stdout",
       "text": []
      },
      {
       "output_type": "stream",
       "stream": "stdout",
       "text": []
      },
      {
       "metadata": {},
       "output_type": "pyout",
       "prompt_number": 6,
       "text": [
        "0.76865"
       ]
      }
     ],
     "prompt_number": 6
    },
    {
     "cell_type": "markdown",
     "metadata": {},
     "source": [
      "To measure the accuracy of the predictions above, we can compute the probability that the classifier outputs the right label. We used this formula in class for the expected accuracy for logistic regression. The \"dot arrow\" operator takes dot product along rows:"
     ]
    },
    {
     "cell_type": "code",
     "collapsed": false,
     "input": [
      "val model = mm.model\n",
      "val (nn1, nopts1) = GLM.LBFGSpredictor(model, atest, cx)"
     ],
     "language": "python",
     "metadata": {},
     "outputs": [
      {
       "output_type": "stream",
       "stream": "stdout",
       "text": []
      },
      {
       "output_type": "stream",
       "stream": "stdout",
       "text": []
      },
      {
       "metadata": {},
       "output_type": "pyout",
       "prompt_number": 7,
       "text": [
        "BIDMach.models.GLM$LearnLBFGSOptions@8eb62c4"
       ]
      }
     ],
     "prompt_number": 7
    },
    {
     "cell_type": "markdown",
     "metadata": {},
     "source": [
      "Raw accuracy is not a good measure in most cases. When there are few positives (instances in the class vs. its complement), accuracy simply drives down false-positive rate at the expense of false-negative rate. In the worst case, the learner may always predict \"no\" and still achieve high accuracy. \n",
      "\n",
      "ROC curves and ROC Area Under the Curve (AUC) are much better. Here we compute the ROC curves from the predictions above. We need:\n",
      "* scores - the predicted quality from the formula above.\n",
      "* good - 1 for positive instances, 0 for negative instances.\n",
      "* bad - complement of good. \n",
      "* npoints (100) - specifies the number of X-axis points for the ROC plot. \n",
      "\n",
      "itest specifies which of the categories to plot for. We chose itest=6 because that category has one of the highest positive rates, and gives the most stable accuracy plots.  "
     ]
    },
    {
     "cell_type": "code",
     "collapsed": false,
     "input": [
      "nn1.predict"
     ],
     "language": "python",
     "metadata": {},
     "outputs": [
      {
       "output_type": "stream",
       "stream": "stdout",
       "text": [
        "corpus perplexity=1.970211\n",
        "Predicting\n",
        " 4.00%, ll=-0.88782, gf=Infinity, secs=0.0, GB=0.00, MB/s=Infinity\n",
        " 8.00%, ll=-0.87371, gf=0.000, secs=0.0, GB=0.00, MB/s= 0.19\n",
        "12.00%, ll=-0.94405, gf=0.000, secs=0.0, GB=0.00, MB/s= 0.14\n",
        "16.00%, ll=-0.97745, gf=0.000, secs=0.0, GB=0.00, MB/s= 0.19\n",
        "20.00%, ll=-0.91692, gf=0.000, secs=0.0, GB=0.00, MB/s= 0.24\n",
        "24.00%, ll=-0.95906, gf=0.000, secs=0.0, GB=0.00, MB/s= 0.19\n",
        "28.00%, ll=-0.91178, gf=0.000, secs=0.0, GB=0.00, MB/s= 0.22\n",
        "32.00%, ll=-0.80047, gf=0.000, secs=0.0, GB=0.00, MB/s= 0.26\n",
        "36.00%, ll=-0.92667, gf=0.000, secs=0.0, GB=0.00, MB/s= 0.22\n",
        "40.00%, ll=-0.91742, gf=0.000, secs=0.0, GB=0.00, MB/s= 0.24\n",
        "44.00%, ll=-0.92421, gf=0.000, secs=0.0, GB=0.00, MB/s= 0.26\n",
        "48.00%, ll=-0.94550, gf=0.000, secs=0.0, GB=0.00, MB/s= 0.23\n",
        "51.00%, ll=-0.81677, gf=0.000, secs=0.0, GB=0.00, MB/s= 0.25\n",
        "56.00%, ll=-0.91331, gf=0.000, secs=0.0, GB=0.00, MB/s= 0.27\n",
        "60.00%, ll=-0.93091, gf=0.000, secs=0.0, GB=0.00, MB/s= 0.24\n",
        "64.00%, ll=-0.85525, gf=0.000, secs=0.0, GB=0.00, MB/s= 0.26\n",
        "68.00%, ll=-0.87134, gf=0.000, secs=0.0, GB=0.00, MB/s= 0.27\n",
        "72.00%, ll=-0.94563, gf=0.000, secs=0.0, GB=0.00, MB/s= 0.25\n",
        "76.00%, ll=-0.78031, gf=0.000, secs=0.0, GB=0.00, MB/s= 0.26\n",
        "80.00%, ll=-0.94823, gf=0.000, secs=0.0, GB=0.00, MB/s= 0.27\n",
        "83.00%, ll=-0.95096, gf=0.000, secs=0.0, GB=0.00, MB/s= 0.29\n",
        "88.00%, ll=-0.86657, gf=0.000, secs=0.0, GB=0.00, MB/s= 0.26\n",
        "92.00%, ll=-0.97759, gf=0.000, secs=0.0, GB=0.00, MB/s= 0.28\n",
        "96.00%, ll=-0.75901, gf=0.000, secs=0.0, GB=0.00, MB/s= 0.29\n",
        "100.00%, ll=-0.93326, gf=0.000, secs=0.0, GB=0.00, MB/s= 0.27\n",
        "Time=0.0090 secs, gflops=0.00\n"
       ]
      },
      {
       "output_type": "stream",
       "stream": "stdout",
       "text": []
      }
     ],
     "prompt_number": 8
    },
    {
     "cell_type": "markdown",
     "metadata": {},
     "source": [
      "> TODO 1: In the cell below, write an expression to derive the ROC Area under the curve (AUC) given the curve rr. rr gives the ROC curve y-coordinates at 100 evenly-spaced X-values from 0 to 1.0. "
     ]
    },
    {
     "cell_type": "code",
     "collapsed": false,
     "input": [
      "val cx1=cx*10\n",
      "min(cx1, 1, cx1)                       // the first \"traindata\" argument is the input, the other is output\n",
      "max(cx1, 0, cx1) \n",
      "val p=ctest *@cx1 +(1-ctest) *@(1-cx1)\n",
      "mean(p,2)\n",
      "val lacc = (cx1 \u2219\u2192 ctest + (1-cx1) \u2219\u2192 (1-ctest))/cx1.ncols\n",
      "lacc.t\n",
      "mean(lacc)"
     ],
     "language": "python",
     "metadata": {},
     "outputs": [
      {
       "output_type": "stream",
       "stream": "stdout",
       "text": []
      },
      {
       "output_type": "stream",
       "stream": "stdout",
       "text": []
      },
      {
       "metadata": {},
       "output_type": "pyout",
       "prompt_number": 9,
       "text": [
        "0.81119"
       ]
      }
     ],
     "prompt_number": 9
    },
    {
     "cell_type": "markdown",
     "metadata": {},
     "source": [
      "> TODO 2: In the cell below, write the value of AUC returned by the expression above."
     ]
    },
    {
     "cell_type": "code",
     "collapsed": false,
     "input": [
      "cx1"
     ],
     "language": "python",
     "metadata": {},
     "outputs": [
      {
       "output_type": "stream",
       "stream": "stdout",
       "text": []
      },
      {
       "output_type": "stream",
       "stream": "stdout",
       "text": []
      },
      {
       "metadata": {},
       "output_type": "pyout",
       "prompt_number": 10,
       "text": [
        "        1  0.97167  0.32712        1        1        0  0.19741        1...\n",
        "        0        0        0        0        0        1        0        0...\n"
       ]
      }
     ],
     "prompt_number": 10
    },
    {
     "cell_type": "code",
     "collapsed": false,
     "input": [
      "saveFMat(dict+\"moonresult.fmat.txt\",cx)"
     ],
     "language": "python",
     "metadata": {},
     "outputs": [
      {
       "output_type": "stream",
       "stream": "stdout",
       "text": []
      },
      {
       "output_type": "stream",
       "stream": "stdout",
       "text": []
      }
     ],
     "prompt_number": 11
    },
    {
     "cell_type": "heading",
     "level": 2,
     "metadata": {},
     "source": [
      "Logistic Regression"
     ]
    },
    {
     "cell_type": "markdown",
     "metadata": {},
     "source": [
      "Now lets train a logistic classifier on the same data. BIDMach has an umbrella classifier called GLM for Generalized Linear Model. GLM includes linear regression, logistic regression (with log accuracy or direct accuracy optimization), and SVM. \n",
      "\n",
      "The learner function accepts these arguments:\n",
      "* traindata: the training data in the same format as for Naive Bayes\n",
      "* traincats: the training category labels\n",
      "* testdata: the test input data\n",
      "* predcats: a container for the predictions generated by the model\n",
      "* modeltype (GLM.logistic here): an integer that specifies the type of model (0=linear, 1=logistic log accuracy, 2=logistic accuracy, 3=SVM). \n",
      "\n",
      "We'll construct the learner and then look at its options:"
     ]
    },
    {
     "cell_type": "code",
     "collapsed": false,
     "input": [
      "val dict = \"/Users/Anna/workspace/BIDMach/data/wildlife/\"\n",
      "val aa = loadFMat(dict+\"1.txt\")\n",
      "val c = loadFMat(dict+\"c1.txt\")\n",
      "val b = loadFMat(\"/Users/Anna/workspace/BIDMach/data/wltestall.txt\")\n",
      "val d = loadFMat(\"/Users/Anna/workspace/BIDMach/data/wltestcatall.txt\")\n",
      "//val dict = \"/Users/Anna/workspace/BIDMach_1.0.0-full-linux-x86_64/data/uci/\"\n",
      "//val aa = loadFMat(dict+\"arabic.fmat.lz4\")\n",
      "//val c = loadFMat(dict+\"arabic_cats.fmat.lz4\")\n",
      "val a = aa *10  \n",
      "val atrain = a //a(?,(100->a.ncols))\n",
      "val atest =  a //a(?,(0->100))\n",
      "val ctrain = c //c(?,(100->a.ncols))\n",
      "val ctest = c //c(?,(0->100))\n",
      "//max(atrain, 0.001, atrain)                       // the first \"traindata\" argument is the input, the other is output\n",
      "//max(atest, 0.001, atest)\n",
      "atrain"
     ],
     "language": "python",
     "metadata": {},
     "outputs": [
      {
       "output_type": "stream",
       "stream": "stdout",
       "text": []
      },
      {
       "output_type": "stream",
       "stream": "stdout",
       "text": []
      },
      {
       "metadata": {},
       "output_type": "pyout",
       "prompt_number": 2,
       "text": [
        "    -0.33386    -0.33914    -0.29299    -0.40609    -0.43935    -0.55155...\n",
        "     0.28568     0.18359  -0.0037000    -0.17297   -0.095350   -0.013070...\n",
        "   -0.098630    -0.13269     0.41184     0.40252     0.24642     0.26601...\n",
        "   -0.031890   -0.038550     0.38608     0.35432     0.21913     0.31026...\n",
        "     0.17352     0.25341     0.37047     0.53088     0.40656     0.43656...\n",
        "     0.45181     0.47072     0.50574     0.36032     0.33288     0.26337...\n",
        "     0.24997    -0.11709     0.54020     0.33701     0.30424     0.15961...\n",
        "     0.10230    0.082690    0.017330     0.46488     0.24725   -0.025730...\n",
        "          ..          ..          ..          ..          ..          ..\n"
       ]
      }
     ],
     "prompt_number": 2
    },
    {
     "cell_type": "markdown",
     "metadata": {},
     "source": [
      "The most important options are:\n",
      "* lrate: the learning rate\n",
      "* batchSize: the minibatch size\n",
      "* npasses: the number of passes over the dataset\n",
      "\n",
      "We'll use the following parameters for this training run. "
     ]
    },
    {
     "cell_type": "code",
     "collapsed": false,
     "input": [
      "val cx=zeros(2,ctest.ncols)\n",
      "val (mm,mopts,nn,nopts)=GLM.SVMlearner(atrain,ctrain,atest,cx)\n",
      "mopts.autoReset=false\n",
      "mopts.useGPU=false\n",
      "mopts.lrate=1\n",
      "mopts.batchSize=2\n",
      "mopts.dim=256\n",
      "mopts.startBlock=0\n",
      "mopts.npasses=10\n",
      "mopts.updateAll=false\n",
      "mopts.what"
     ],
     "language": "python",
     "metadata": {},
     "outputs": [
      {
       "output_type": "stream",
       "stream": "stdout",
       "text": [
        "Option Name       Type          Value\n",
        "===========       ====          =====\n",
        "addConstFeat      boolean       false\n",
        "autoReset         boolean       false\n",
        "batchSize         int           2\n",
        "dim               int           256\n",
        "doubleScore       boolean       false\n",
        "epsilon           float         1.0E-5\n",
        "evalStep          int           11\n",
        "featThreshold     Mat           null\n",
        "featType          int           1\n",
        "hashFeatures      boolean       false\n",
        "initsumsq         float         1.0E-5\n",
        "iweight           FMat          null\n",
        "lim               float         0.0\n",
        "links             IMat             3\n",
        "   3\n",
        "\n",
        "lrate             FMat          1\n",
        "mask              FMat          null\n",
        "npasses           int           10\n",
        "nzPerColumn       int           0\n",
        "pstep             float         0.01\n",
        "putBack           int           -1\n",
        "r1nmats           int           1\n",
        "r2nmats           int           1\n",
        "reg1weight        FMat          1.0000e-07\n",
        "reg2weight        FMat          1\n",
        "resFile           String        null\n",
        "rmask             FMat          null\n",
        "sample            float         1.0\n",
        "sizeMargin        float         3.0\n",
        "startBlock        int           0\n",
        "targets           FMat          null\n",
        "targmap           FMat          null\n",
        "texp              FMat          0.50000\n",
        "updateAll         boolean       false\n",
        "useCache          boolean       true\n",
        "useDouble         boolean       false\n",
        "useGPU            boolean       false\n",
        "vexp              FMat          0.50000\n",
        "waitsteps         int           2\n"
       ]
      },
      {
       "output_type": "stream",
       "stream": "stdout",
       "text": []
      }
     ],
     "prompt_number": 7
    },
    {
     "cell_type": "code",
     "collapsed": false,
     "input": [
      "mm.train\n",
      "nn.predict\n",
      "val cx1=cx\n",
      "//min(cx1, 1, cx1)                       // the first \"traindata\" argument is the input, the other is output\n",
      "//max(cx1, 0, cx1) \n",
      "//val p=ctest *@cx1 +(1-ctest) *@(1-cx1)\n",
      "//mean(p,2)\n",
      "cx"
     ],
     "language": "python",
     "metadata": {},
     "outputs": [
      {
       "output_type": "stream",
       "stream": "stdout",
       "text": [
        "corpus perplexity=NaN\n",
        "pass= 0\n",
        " 6.00%, ll=-1.00000, gf=0.011, secs=0.0, GB=0.00, MB/s=12.00\n",
        "41.00%, ll=0.00000, gf=0.010, secs=0.1, GB=0.00, MB/s= 5.11\n",
        "77.00%, ll=0.00000, gf=0.018, secs=0.1, GB=0.00, MB/s= 8.73\n",
        "100.00%, ll=0.00000, gf=0.023, secs=0.1, GB=0.00, MB/s=10.78\n",
        "pass= 1\n",
        " 6.00%, ll=0.00000, gf=0.023, secs=0.1, GB=0.00, MB/s=11.31\n",
        "41.00%, ll=0.00000, gf=0.026, secs=0.1, GB=0.00, MB/s=12.14\n",
        "77.00%, ll=0.00000, gf=0.031, secs=0.1, GB=0.00, MB/s=14.35\n",
        "100.00%, ll=0.00000, gf=0.026, secs=0.1, GB=0.00, MB/s=12.30\n",
        "pass= 2\n",
        " 6.00%, ll=0.00000, gf=0.026, secs=0.1, GB=0.00, MB/s=12.49\n",
        "41.00%, ll=0.00000, gf=0.030, secs=0.1, GB=0.00, MB/s=13.95\n",
        "77.00%, ll=0.00000, gf=0.029, secs=0.2, GB=0.00, MB/s=13.76\n",
        "100.00%, ll=0.00000, gf=0.031, secs=0.2, GB=0.00, MB/s=14.59\n",
        "pass= 3\n",
        " 6.00%, ll=0.00000, gf=0.031, secs=0.2, GB=0.00, MB/s=14.80\n",
        "41.00%, ll=0.00000, gf=0.034, secs=0.2, GB=0.00, MB/s=16.00\n",
        "77.00%, ll=0.00000, gf=0.034, secs=0.2, GB=0.00, MB/s=15.95\n",
        "100.00%, ll=0.00000, gf=0.035, secs=0.2, GB=0.00, MB/s=16.53\n",
        "pass= 4\n",
        " 6.00%, ll=0.00000, gf=0.036, secs=0.2, GB=0.00, MB/s=16.80\n",
        "41.00%, ll=0.00000, gf=0.038, secs=0.2, GB=0.00, MB/s=17.77\n",
        "77.00%, ll=-0.21902, gf=0.038, secs=0.2, GB=0.00, MB/s=17.67\n",
        "100.00%, ll=0.00000, gf=0.039, secs=0.2, GB=0.00, MB/s=18.15\n",
        "pass= 5\n",
        " 6.00%, ll=0.00000, gf=0.039, secs=0.2, GB=0.00, MB/s=18.38\n",
        "41.00%, ll=0.00000, gf=0.041, secs=0.2, GB=0.00, MB/s=19.11\n",
        "77.00%, ll=-0.14903, gf=0.043, secs=0.2, GB=0.00, MB/s=19.89\n",
        "100.00%, ll=0.00000, gf=0.040, secs=0.2, GB=0.00, MB/s=18.45\n",
        "pass= 6\n",
        " 6.00%, ll=0.00000, gf=0.040, secs=0.2, GB=0.00, MB/s=18.57\n",
        "41.00%, ll=0.00000, gf=0.041, secs=0.3, GB=0.00, MB/s=19.10\n",
        "77.00%, ll=-0.10156, gf=0.042, secs=0.3, GB=0.01, MB/s=19.76\n",
        "100.00%, ll=0.00000, gf=0.043, secs=0.3, GB=0.01, MB/s=20.19\n",
        "pass= 7\n",
        " 6.00%, ll=0.00000, gf=0.043, secs=0.3, GB=0.01, MB/s=20.29\n",
        "41.00%, ll=0.00000, gf=0.042, secs=0.3, GB=0.01, MB/s=19.78\n",
        "77.00%, ll=0.00000, gf=0.043, secs=0.3, GB=0.01, MB/s=20.22\n",
        "100.00%, ll=0.00000, gf=0.044, secs=0.3, GB=0.01, MB/s=20.52\n",
        "pass= 8\n",
        " 6.00%, ll=0.00000, gf=0.044, secs=0.3, GB=0.01, MB/s=20.62\n",
        "41.00%, ll=0.00000, gf=0.045, secs=0.3, GB=0.01, MB/s=21.16\n",
        "77.00%, ll=0.00000, gf=0.045, secs=0.3, GB=0.01, MB/s=20.86\n",
        "100.00%, ll=0.00000, gf=0.045, secs=0.3, GB=0.01, MB/s=21.19\n",
        "pass= 9\n",
        " 6.00%, ll=0.00000, gf=0.046, secs=0.3, GB=0.01, MB/s=21.27\n",
        "41.00%, ll=0.00000, gf=0.047, secs=0.3, GB=0.01, MB/s=21.76\n",
        "77.00%, ll=0.00000, gf=0.048, secs=0.3, GB=0.01, MB/s=22.17\n",
        "100.00%, ll=0.00000, gf=0.048, secs=0.3, GB=0.01, MB/s=22.48\n",
        "Time=0.3310 secs, gflops=0.05\n",
        "corpus perplexity=NaN\n",
        "Predicting\n",
        " 4.00%, ll=-5.35505, gf=Infinity, secs=0.0, GB=0.00, MB/s=Infinity\n",
        " 9.00%, ll=-5.56336, gf=Infinity, secs=0.0, GB=0.00, MB/s=Infinity\n",
        "14.00%, ll=-5.39651, gf=0.036, secs=0.0, GB=0.00, MB/s=108.00\n",
        "19.00%, ll=-3.47791, gf=0.048, secs=0.0, GB=0.00, MB/s=144.00\n",
        "24.00%, ll=-4.42609, gf=0.060, secs=0.0, GB=0.00, MB/s=180.00\n",
        "29.00%, ll=-5.00045, gf=0.036, secs=0.0, GB=0.00, MB/s=108.00\n",
        "33.00%, ll=-4.28123, gf=0.042, secs=0.0, GB=0.00, MB/s=126.00\n",
        "38.00%, ll=-4.85835, gf=0.048, secs=0.0, GB=0.00, MB/s=144.00\n",
        "43.00%, ll=-4.95342, gf=0.036, secs=0.0, GB=0.00, MB/s=108.00\n",
        "48.00%, ll=-5.43300, gf=0.040, secs=0.0, GB=0.00, MB/s=120.00\n",
        "53.00%, ll=-4.59199, gf=0.044, secs=0.0, GB=0.00, MB/s=132.00\n",
        "58.00%, ll=-3.04440, gf=0.036, secs=0.0, GB=0.00, MB/s=108.00\n",
        "62.00%, ll=-4.28866, gf=0.039, secs=0.0, GB=0.00, MB/s=117.00\n",
        "67.00%, ll=-4.49006, gf=0.042, secs=0.0, GB=0.00, MB/s=126.00\n",
        "72.00%, ll=-6.24142, gf=0.036, secs=0.0, GB=0.00, MB/s=108.00\n",
        "77.00%, ll=-5.79272, gf=0.039, secs=0.0, GB=0.00, MB/s=115.20\n",
        "82.00%, ll=-3.15073, gf=0.041, secs=0.0, GB=0.00, MB/s=122.40\n",
        "87.00%, ll=-4.36058, gf=0.044, secs=0.0, GB=0.00, MB/s=129.60\n",
        "91.00%, ll=-7.38732, gf=0.038, secs=0.0, GB=0.00, MB/s=114.00\n",
        "96.00%, ll=-10.42975, gf=0.040, secs=0.0, GB=0.00, MB/s=120.00\n",
        "100.00%, ll=-6.19474, gf=0.042, secs=0.0, GB=0.00, MB/s=124.00\n",
        "Time=0.0070 secs, gflops=0.04\n"
       ]
      },
      {
       "output_type": "stream",
       "stream": "stdout",
       "text": []
      },
      {
       "metadata": {},
       "output_type": "pyout",
       "prompt_number": 8,
       "text": [
        "  -7.7981  -10.713  -10.620  -11.079  -10.499  -8.8026  -12.241  -12.910...\n",
        "   7.7981   10.713   10.620   11.079   10.499   8.8026   12.241   12.910...\n"
       ]
      }
     ],
     "prompt_number": 8
    },
    {
     "cell_type": "markdown",
     "metadata": {},
     "source": [
      "Since we have the accuracy scores for both Naive Bayes and Logistic regression, we can plot both of them on the same axes. Naive Bayes is red, Logistic regression is blue. The x-axis is the category number from 0 to 102. The y-axis is the absolute accuracy of the predictor for that category. "
     ]
    },
    {
     "cell_type": "code",
     "collapsed": false,
     "input": [
      "val lacc = (cx1 \u2219\u2192 ctest + (1-cx1) \u2219\u2192 (1-ctest))/cx1.ncols\n",
      "lacc.t\n",
      "mean(lacc)"
     ],
     "language": "python",
     "metadata": {},
     "outputs": [
      {
       "output_type": "stream",
       "stream": "stdout",
       "text": []
      },
      {
       "ename": "java.lang.NoClassDefFoundError",
       "evalue": "Could not initialize class ",
       "output_type": "pyerr",
       "traceback": [
        "java.lang.NoClassDefFoundError: Could not initialize class "
       ]
      },
      {
       "output_type": "stream",
       "stream": "stdout",
       "text": []
      }
     ],
     "prompt_number": 7
    },
    {
     "cell_type": "markdown",
     "metadata": {},
     "source": [
      "> TODO 3: With the full training set (700k training documents), Logistic Regression is noticeably more accurate than Naive Bayes in every category. What do you observe in the plot above? Why do you think this is?"
     ]
    },
    {
     "cell_type": "markdown",
     "metadata": {},
     "source": [
      "Next we'll compute the ROC plot and ROC area (AUC) for Logistic regression  for category itest."
     ]
    },
    {
     "cell_type": "code",
     "collapsed": false,
     "input": [
      "saveFMat(dict+\"wildliferesults.fmat.txt\",cx) "
     ],
     "language": "python",
     "metadata": {},
     "outputs": [
      {
       "output_type": "stream",
       "stream": "stdout",
       "text": []
      },
      {
       "output_type": "stream",
       "stream": "stdout",
       "text": []
      }
     ],
     "prompt_number": 40
    },
    {
     "cell_type": "markdown",
     "metadata": {},
     "source": [
      "We computed the ROC curve for Naive Bayes earlier, so now we can plot them on the same axes. Naive Bayes is once again in red, Logistic regression in blue. "
     ]
    },
    {
     "cell_type": "code",
     "collapsed": false,
     "input": [
      "cx1"
     ],
     "language": "python",
     "metadata": {},
     "outputs": [
      {
       "output_type": "stream",
       "stream": "stdout",
       "text": []
      },
      {
       "output_type": "stream",
       "stream": "stdout",
       "text": []
      },
      {
       "metadata": {},
       "output_type": "pyout",
       "prompt_number": 51,
       "text": [
        "  1.1398e-13  1.0409e-13  3.1763e-16  6.3486e-17  3.7628e-18  6.3368e-16...\n",
        "  1.0488e-14  3.4730e-14  1.2205e-16  1.6546e-17  7.8444e-19  1.5367e-16...\n",
        "  4.9068e-14  1.3641e-12  5.0059e-15  1.0316e-15  4.3107e-18  2.8967e-15...\n",
        "  3.2656e-14  5.3654e-14  1.1086e-16  1.9517e-17  8.0842e-19  3.9087e-17...\n",
        "  8.4080e-11  2.6030e-12  1.4020e-14  1.3571e-15  2.5275e-15  8.0566e-13...\n",
        "  1.8410e-13  2.3721e-13  2.6570e-16  6.7162e-17  5.4204e-18  8.2176e-16...\n",
        "  6.5161e-11  1.3945e-10  2.1820e-12  7.0878e-14  1.5250e-15  2.8615e-12...\n",
        "  1.6085e-13  1.9523e-13  3.2423e-16  5.6627e-17  7.7785e-18  1.7874e-15...\n",
        "          ..          ..          ..          ..          ..          ..\n"
       ]
      }
     ],
     "prompt_number": 51
    },
    {
     "cell_type": "markdown",
     "metadata": {},
     "source": [
      ">TODO 4: In the cell below, compute and plot lift curves from the ROC curves for Naive Bayes and Logistic regression. The lift curves should show the ratio of ROC y-values over a unit slope diagonal line (Y=X). The X-values should be the same as for the ROC plots, except that X=0 will be omitted since the lift will be undefined. "
     ]
    },
    {
     "cell_type": "code",
     "collapsed": false,
     "input": [
      "val dict = \"/Users/Anna/workspace/BIDMach_1.0.0-full-linux-x86_64/data/\"\n",
      "//val a = loadFMat(dict+\"arabic.fmat.lz4\")\n",
      "//val c = loadFMat(dict+\"arabic_cats.fmat.lz4\")\n",
      "val aa = loadFMat(dict+\"a.txt\")\n",
      "val c = loadFMat(dict+\"alabel.txt\")\n",
      "val a = aa + 0.5 \n",
      "val atrain =a(?,(100->a.ncols))\n",
      "val atest =a(?,(0->100))\n",
      "val ctrain =c(?,(100->a.ncols))\n",
      "val ctest =c(?,(0->100))\n",
      "max(atrain, 0.001, atrain)                       // the first \"traindata\" argument is the input, the other is output\n",
      "max(atest, 0.001, atest)\n",
      "atest"
     ],
     "language": "python",
     "metadata": {},
     "outputs": [
      {
       "output_type": "stream",
       "stream": "stdout",
       "text": []
      },
      {
       "output_type": "stream",
       "stream": "stdout",
       "text": []
      },
      {
       "metadata": {},
       "output_type": "pyout",
       "prompt_number": 2,
       "text": [
        "   0.075172    0.42627    0.64251    0.36696    0.19400    0.58963...\n",
        "    0.64074    0.42242    0.41518    0.87276    0.77227  0.0010000...\n"
       ]
      }
     ],
     "prompt_number": 2
    },
    {
     "cell_type": "markdown",
     "metadata": {},
     "source": [
      "> TODO 5: Experiment with different values for learning rate and batchSize to get the best performance for absolute accuracy and ROC area on category 6. Write your optimal values below:"
     ]
    },
    {
     "cell_type": "code",
     "collapsed": false,
     "input": [
      "val cx=zeros(ctest.nrows,ctest.ncols)\n",
      "val (mm,mopts,nn,nopts)=GLM.SVMlearner(atrain,ctrain,atest,cx)\n",
      "mopts.autoReset=false\n",
      "mopts.useGPU=false\n",
      "mopts.lrate=0.1\n",
      "mopts.batchSize=2\n",
      "mopts.dim=256\n",
      "mopts.startBlock=0\n",
      "mopts.npasses=10\n",
      "mopts.updateAll=false\n",
      "mopts.what"
     ],
     "language": "python",
     "metadata": {},
     "outputs": [
      {
       "output_type": "stream",
       "stream": "stdout",
       "text": [
        "Option Name       Type          Value\n",
        "===========       ====          =====\n",
        "addConstFeat      boolean       false\n",
        "autoReset         boolean       false\n",
        "batchSize         int           2\n",
        "dim               int           256\n",
        "doubleScore       boolean       false\n",
        "epsilon           float         1.0E-5\n",
        "evalStep          int           11\n",
        "featThreshold     Mat           null\n",
        "featType          int           1\n",
        "hashFeatures      boolean       false\n",
        "initsumsq         float         1.0E-5\n",
        "iweight           FMat          null\n",
        "lim               float         0.0\n",
        "links             IMat             3\n",
        "   3\n",
        "\n",
        "lrate             FMat          0.10000\n",
        "mask              FMat          null\n",
        "npasses           int           10\n",
        "nzPerColumn       int           0\n",
        "pstep             float         0.01\n",
        "putBack           int           -1\n",
        "r1nmats           int           1\n",
        "r2nmats           int           1\n",
        "reg1weight        FMat          1.0000e-07\n",
        "reg2weight        FMat          1\n",
        "resFile           String        null\n",
        "rmask             FMat          null\n",
        "sample            float         1.0\n",
        "sizeMargin        float         3.0\n",
        "startBlock        int           0\n",
        "targets           FMat          null\n",
        "targmap           FMat          null\n",
        "texp              FMat          0.50000\n",
        "updateAll         boolean       false\n",
        "useCache          boolean       true\n",
        "useDouble         boolean       false\n",
        "useGPU            boolean       false\n",
        "vexp              FMat          0.50000\n",
        "waitsteps         int           2\n"
       ]
      },
      {
       "output_type": "stream",
       "stream": "stdout",
       "text": []
      }
     ],
     "prompt_number": 41
    },
    {
     "cell_type": "code",
     "collapsed": false,
     "input": [
      "mm.train\n",
      "nn.predict"
     ],
     "language": "python",
     "metadata": {},
     "outputs": [
      {
       "output_type": "stream",
       "stream": "stdout",
       "text": [
        "corpus perplexity=992.808970\n",
        "pass= 0\n",
        " 6.00%, ll=-1.00000, gf=Infinity, secs=0.0, GB=0.00, MB/s=Infinity\n",
        "41.00%, ll=-0.28270, gf=0.079, secs=0.0, GB=0.00, MB/s=39.00\n",
        "77.00%, ll=-0.03527, gf=0.081, secs=0.0, GB=0.00, MB/s=38.40\n",
        "100.00%, ll=-0.20491, gf=0.083, secs=0.0, GB=0.00, MB/s=39.16\n",
        "pass= 1\n",
        " 6.00%, ll=-1.20125, gf=0.078, secs=0.0, GB=0.00, MB/s=37.71\n",
        "41.00%, ll=-0.30951, gf=0.083, secs=0.0, GB=0.00, MB/s=39.11\n",
        "77.00%, ll=-0.24529, gf=0.085, secs=0.0, GB=0.00, MB/s=40.00\n",
        "100.00%, ll=-0.13970, gf=0.086, secs=0.0, GB=0.00, MB/s=40.22\n",
        "pass= 2\n",
        " 6.00%, ll=-1.47287, gf=0.085, secs=0.0, GB=0.00, MB/s=40.42\n",
        "41.00%, ll=-0.22679, gf=0.087, secs=0.0, GB=0.00, MB/s=40.91\n",
        "77.00%, ll=-0.39799, gf=0.090, secs=0.0, GB=0.00, MB/s=42.12\n",
        "100.00%, ll=-0.17308, gf=0.090, secs=0.1, GB=0.00, MB/s=42.11\n",
        "pass= 3\n",
        " 6.00%, ll=-1.47907, gf=0.090, secs=0.1, GB=0.00, MB/s=42.22\n",
        "41.00%, ll=-0.30906, gf=0.092, secs=0.1, GB=0.00, MB/s=43.12\n",
        "77.00%, ll=-0.49180, gf=0.093, secs=0.1, GB=0.00, MB/s=43.20\n",
        "100.00%, ll=-0.23331, gf=0.094, secs=0.1, GB=0.00, MB/s=43.76\n",
        "pass= 4\n",
        " 6.00%, ll=-1.46579, gf=0.093, secs=0.1, GB=0.00, MB/s=43.83\n",
        "41.00%, ll=-0.37264, gf=0.094, secs=0.1, GB=0.00, MB/s=43.84\n",
        "77.00%, ll=-0.55793, gf=0.094, secs=0.1, GB=0.00, MB/s=43.85\n",
        "100.00%, ll=-0.28842, gf=0.095, secs=0.1, GB=0.00, MB/s=44.29\n",
        "pass= 5\n",
        " 6.00%, ll=-1.44678, gf=0.095, secs=0.1, GB=0.00, MB/s=44.33\n",
        "41.00%, ll=-0.42261, gf=0.095, secs=0.1, GB=0.00, MB/s=44.31\n",
        "77.00%, ll=-0.60707, gf=0.095, secs=0.1, GB=0.00, MB/s=44.29\n",
        "100.00%, ll=-0.33395, gf=0.096, secs=0.1, GB=0.00, MB/s=44.64\n",
        "pass= 6\n",
        " 6.00%, ll=-1.42705, gf=0.095, secs=0.1, GB=0.00, MB/s=44.67\n",
        "41.00%, ll=-0.46288, gf=0.097, secs=0.1, GB=0.00, MB/s=45.06\n",
        "77.00%, ll=-0.64504, gf=0.097, secs=0.1, GB=0.01, MB/s=45.40\n",
        "100.00%, ll=-0.37222, gf=0.098, secs=0.1, GB=0.01, MB/s=45.68\n",
        "pass= 7\n",
        " 6.00%, ll=-1.40822, gf=0.098, secs=0.1, GB=0.01, MB/s=45.70\n",
        "41.00%, ll=-0.49608, gf=0.099, secs=0.1, GB=0.01, MB/s=46.39\n",
        "77.00%, ll=-0.67528, gf=0.099, secs=0.1, GB=0.01, MB/s=46.27\n",
        "100.00%, ll=-0.40490, gf=0.100, secs=0.1, GB=0.01, MB/s=46.50\n",
        "pass= 8\n",
        " 6.00%, ll=-1.39079, gf=0.100, secs=0.1, GB=0.01, MB/s=46.51\n",
        "41.00%, ll=-0.52395, gf=0.100, secs=0.1, GB=0.01, MB/s=46.75\n",
        "77.00%, ll=-0.69995, gf=0.101, secs=0.1, GB=0.01, MB/s=46.96\n",
        "100.00%, ll=-0.43319, gf=0.101, secs=0.1, GB=0.01, MB/s=47.15\n",
        "pass= 9\n",
        " 6.00%, ll=-1.37481, gf=0.101, secs=0.1, GB=0.01, MB/s=47.16\n",
        "41.00%, ll=-0.54772, gf=0.102, secs=0.1, GB=0.01, MB/s=47.67\n",
        "77.00%, ll=-0.72047, gf=0.103, secs=0.2, GB=0.01, MB/s=47.84\n",
        "100.00%, ll=-0.45795, gf=0.103, secs=0.2, GB=0.01, MB/s=48.00\n",
        "Time=0.1550 secs, gflops=0.10\n",
        "corpus perplexity=985.317557\n",
        "Predicting\n",
        " 4.00%, ll=-1.00000, gf=Infinity, secs=0.0, GB=0.00, MB/s=Infinity\n",
        " 9.00%, ll=-1.00000, gf=Infinity, secs=0.0, GB=0.00, MB/s=Infinity\n",
        "14.00%, ll=-1.00000, gf=Infinity, secs=0.0, GB=0.00, MB/s=Infinity\n",
        "19.00%, ll=-1.00000, gf=Infinity, secs=0.0, GB=0.00, MB/s=Infinity\n",
        "24.00%, ll=-1.00000, gf=0.060, secs=0.0, GB=0.00, MB/s=180.00\n",
        "29.00%, ll=-1.00000, gf=0.073, secs=0.0, GB=0.00, MB/s=216.00\n",
        "33.00%, ll=-1.00000, gf=0.085, secs=0.0, GB=0.00, MB/s=252.00\n",
        "38.00%, ll=-1.00000, gf=0.097, secs=0.0, GB=0.00, MB/s=288.00\n",
        "43.00%, ll=-1.00000, gf=0.109, secs=0.0, GB=0.00, MB/s=324.00\n",
        "48.00%, ll=-1.00000, gf=0.121, secs=0.0, GB=0.00, MB/s=360.00\n",
        "53.00%, ll=-1.00000, gf=0.066, secs=0.0, GB=0.00, MB/s=198.00\n",
        "58.00%, ll=-1.00000, gf=0.073, secs=0.0, GB=0.00, MB/s=216.00\n",
        "62.00%, ll=-1.00000, gf=0.079, secs=0.0, GB=0.00, MB/s=234.00\n",
        "67.00%, ll=-1.00000, gf=0.085, secs=0.0, GB=0.00, MB/s=251.99\n",
        "72.00%, ll=-1.00000, gf=0.091, secs=0.0, GB=0.00, MB/s=269.99\n",
        "77.00%, ll=-1.00000, gf=0.097, secs=0.0, GB=0.00, MB/s=287.99\n",
        "82.00%, ll=-1.00000, gf=0.069, secs=0.0, GB=0.00, MB/s=204.00\n",
        "87.00%, ll=-1.00000, gf=0.073, secs=0.0, GB=0.00, MB/s=216.00\n",
        "91.00%, ll=-1.00000, gf=0.077, secs=0.0, GB=0.00, MB/s=228.00\n",
        "96.00%, ll=-1.00000, gf=0.081, secs=0.0, GB=0.00, MB/s=240.00\n",
        "100.00%, ll=-1.00000, gf=0.083, secs=0.0, GB=0.00, MB/s=248.00\n",
        "Time=0.0030 secs, gflops=0.08\n"
       ]
      },
      {
       "output_type": "stream",
       "stream": "stdout",
       "text": []
      }
     ],
     "prompt_number": 42
    },
    {
     "cell_type": "code",
     "collapsed": false,
     "input": [
      "val cx1=cx*5\n",
      "min(cx1, 1, cx1)                       // the first \"traindata\" argument is the input, the other is output\n",
      "max(cx1, 0, cx1) \n",
      "val p=ctest *@cx1 +(1-ctest) *@(1-cx1)\n",
      "mean(p,2)"
     ],
     "language": "python",
     "metadata": {},
     "outputs": []
    },
    {
     "cell_type": "code",
     "collapsed": false,
     "input": [
      "cx1"
     ],
     "language": "python",
     "metadata": {},
     "outputs": [
      {
       "output_type": "stream",
       "stream": "stdout",
       "text": []
      },
      {
       "output_type": "stream",
       "stream": "stdout",
       "text": []
      },
      {
       "metadata": {},
       "output_type": "pyout",
       "prompt_number": 6,
       "text": [
        "         1   0.48584   0.16356         1         1         0  0.098707...\n",
        "         0         0         0         0         0   0.82548         0...\n"
       ]
      }
     ],
     "prompt_number": 6
    },
    {
     "cell_type": "code",
     "collapsed": false,
     "input": [
      "val lacc = (cx1 \u2219\u2192 ctest + (1-cx1) \u2219\u2192 (1-ctest))/cx1.ncols\n",
      "lacc.t\n",
      "mean(lacc)"
     ],
     "language": "python",
     "metadata": {},
     "outputs": [
      {
       "output_type": "stream",
       "stream": "stdout",
       "text": []
      },
      {
       "output_type": "stream",
       "stream": "stdout",
       "text": []
      },
      {
       "metadata": {},
       "output_type": "pyout",
       "prompt_number": 7,
       "text": [
        "0.76865"
       ]
      }
     ],
     "prompt_number": 7
    },
    {
     "cell_type": "code",
     "collapsed": false,
     "input": [
      "val model = mm.model\n",
      "val (nn1, nopts1) = GLM.LBFGSpredictor(model, atest, cx)"
     ],
     "language": "python",
     "metadata": {},
     "outputs": [
      {
       "output_type": "stream",
       "stream": "stdout",
       "text": []
      },
      {
       "output_type": "stream",
       "stream": "stdout",
       "text": []
      },
      {
       "metadata": {},
       "output_type": "pyout",
       "prompt_number": 8,
       "text": [
        "BIDMach.models.GLM$LearnLBFGSOptions@3fde0ffe"
       ]
      }
     ],
     "prompt_number": 8
    },
    {
     "cell_type": "code",
     "collapsed": false,
     "input": [
      "nn1.predict"
     ],
     "language": "python",
     "metadata": {},
     "outputs": [
      {
       "output_type": "stream",
       "stream": "stdout",
       "text": [
        "corpus perplexity=1.970211\n",
        "Predicting\n",
        " 4.00%, ll=-0.88782, gf=0.000, secs=0.0, GB=0.00, MB/s= 0.10\n",
        " 8.00%, ll=-0.87371, gf=0.000, secs=0.0, GB=0.00, MB/s= 0.19\n",
        "12.00%, ll=-0.94405, gf=0.000, secs=0.0, GB=0.00, MB/s= 0.29\n",
        "16.00%, ll=-0.97745, gf=0.001, secs=0.0, GB=0.00, MB/s= 0.38\n",
        "20.00%, ll=-0.91692, gf=0.000, secs=0.0, GB=0.00, MB/s= 0.24\n",
        "24.00%, ll=-0.95906, gf=0.000, secs=0.0, GB=0.00, MB/s= 0.29\n",
        "28.00%, ll=-0.91178, gf=0.001, secs=0.0, GB=0.00, MB/s= 0.34\n",
        "32.00%, ll=-0.80047, gf=0.001, secs=0.0, GB=0.00, MB/s= 0.38\n",
        "36.00%, ll=-0.92667, gf=0.001, secs=0.0, GB=0.00, MB/s= 0.43\n",
        "40.00%, ll=-0.91742, gf=0.001, secs=0.0, GB=0.00, MB/s= 0.48\n",
        "44.00%, ll=-0.92421, gf=0.001, secs=0.0, GB=0.00, MB/s= 0.53\n",
        "48.00%, ll=-0.94550, gf=0.001, secs=0.0, GB=0.00, MB/s= 0.38\n",
        "51.00%, ll=-0.81677, gf=0.001, secs=0.0, GB=0.00, MB/s= 0.42\n",
        "56.00%, ll=-0.91331, gf=0.001, secs=0.0, GB=0.00, MB/s= 0.45\n",
        "60.00%, ll=-0.93091, gf=0.001, secs=0.0, GB=0.00, MB/s= 0.48\n",
        "64.00%, ll=-0.85525, gf=0.001, secs=0.0, GB=0.00, MB/s= 0.51\n",
        "68.00%, ll=-0.87134, gf=0.001, secs=0.0, GB=0.00, MB/s= 0.54\n",
        "72.00%, ll=-0.94563, gf=0.001, secs=0.0, GB=0.00, MB/s= 0.58\n",
        "76.00%, ll=-0.78031, gf=0.001, secs=0.0, GB=0.00, MB/s= 0.46\n",
        "80.00%, ll=-0.94823, gf=0.001, secs=0.0, GB=0.00, MB/s= 0.48\n",
        "83.00%, ll=-0.95096, gf=0.001, secs=0.0, GB=0.00, MB/s= 0.50\n",
        "88.00%, ll=-0.86657, gf=0.001, secs=0.0, GB=0.00, MB/s= 0.53\n",
        "92.00%, ll=-0.97759, gf=0.001, secs=0.0, GB=0.00, MB/s= 0.55\n",
        "96.00%, ll=-0.75901, gf=0.001, secs=0.0, GB=0.00, MB/s= 0.58\n",
        "100.00%, ll=-0.93326, gf=0.001, secs=0.0, GB=0.00, MB/s= 0.60\n",
        "Time=0.0050 secs, gflops=0.00\n"
       ]
      },
      {
       "output_type": "stream",
       "stream": "stdout",
       "text": []
      }
     ],
     "prompt_number": 9
    },
    {
     "cell_type": "code",
     "collapsed": false,
     "input": [
      "val cx1=cx*10\n",
      "min(cx1, 1, cx1)                       // the first \"traindata\" argument is the input, the other is output\n",
      "max(cx1, 0, cx1) \n",
      "val p=ctest *@cx1 +(1-ctest) *@(1-cx1)\n",
      "mean(p,2)\n",
      "val lacc = (cx1 \u2219\u2192 ctest + (1-cx1) \u2219\u2192 (1-ctest))/cx1.ncols\n",
      "lacc.t\n",
      "mean(lacc)"
     ],
     "language": "python",
     "metadata": {},
     "outputs": [
      {
       "output_type": "stream",
       "stream": "stdout",
       "text": []
      },
      {
       "output_type": "stream",
       "stream": "stdout",
       "text": []
      },
      {
       "metadata": {},
       "output_type": "pyout",
       "prompt_number": 10,
       "text": [
        "0.81119"
       ]
      }
     ],
     "prompt_number": 10
    },
    {
     "cell_type": "code",
     "collapsed": false,
     "input": [
      "cx1"
     ],
     "language": "python",
     "metadata": {},
     "outputs": [
      {
       "output_type": "stream",
       "stream": "stdout",
       "text": []
      },
      {
       "output_type": "stream",
       "stream": "stdout",
       "text": []
      },
      {
       "metadata": {},
       "output_type": "pyout",
       "prompt_number": 11,
       "text": [
        "        1  0.97167  0.32712        1        1        0  0.19741        1...\n",
        "        0        0        0        0        0        1        0        0...\n"
       ]
      }
     ],
     "prompt_number": 11
    },
    {
     "cell_type": "code",
     "collapsed": false,
     "input": [
      "saveFMat(dict+\"moonresult.fmat.txt\",cx)"
     ],
     "language": "python",
     "metadata": {},
     "outputs": [
      {
       "output_type": "stream",
       "stream": "stdout",
       "text": []
      },
      {
       "output_type": "stream",
       "stream": "stdout",
       "text": []
      }
     ],
     "prompt_number": 23
    },
    {
     "cell_type": "code",
     "collapsed": false,
     "input": [],
     "language": "python",
     "metadata": {},
     "outputs": []
    },
    {
     "cell_type": "code",
     "collapsed": false,
     "input": [],
     "language": "python",
     "metadata": {},
     "outputs": [],
     "prompt_number": 19
    }
   ],
   "metadata": {}
  }
 ]
}