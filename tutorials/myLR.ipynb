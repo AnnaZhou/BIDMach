{
 "metadata": {
  "name": "",
  "signature": "sha256:c4655566dd0c1504aa14e46cd301793ec841e23b992d38ac5932b2c3e1b9240a"
 },
 "nbformat": 3,
 "nbformat_minor": 0,
 "worksheets": [
  {
   "cells": [
    {
     "cell_type": "heading",
     "level": 1,
     "metadata": {},
     "source": [
      "L-BFGS Method based Logistic Regression"
     ]
    },
    {
     "cell_type": "markdown",
     "metadata": {},
     "source": [
      "In this tutorial, we'll explore training and evaluation of L-BFGS method based Logitistic Regression Classifiers.\n",
      "\n",
      "To start, we import the standard BIDMach class definitions. "
     ]
    },
    {
     "cell_type": "code",
     "collapsed": false,
     "input": [
      "import BIDMat.{CMat,CSMat,DMat,Dict,IDict,FMat,GMat,GIMat,GSMat,HMat,IMat,Mat,SMat,SBMat,SDMat}\n",
      "import BIDMat.MatFunctions._\n",
      "import BIDMat.SciFunctions._\n",
      "import BIDMat.Solvers._\n",
      "import BIDMat.Plotting._\n",
      "import BIDMach.Learner\n",
      "import BIDMach.models.{FM,GLM,KMeans,LDA,LDAgibbs,NMF,SFA}\n",
      "import BIDMach.datasources.{MatDS,FilesDS,SFilesDS}\n",
      "import BIDMach.mixins.{CosineSim,Perplexity,Top,L1Regularizer,L2Regularizer}\n",
      "import BIDMach.updaters.{ADAGrad,Batch,BatchNorm,IncMult,IncNorm,Telescoping}\n",
      "import BIDMach.causal.{IPTW}\n",
      "\n",
      "Mat.checkMKL\n",
      "Mat.checkCUDA\n",
      "if (Mat.hasCUDA > 0) GPUmem"
     ],
     "language": "python",
     "metadata": {},
     "outputs": [
      {
       "output_type": "stream",
       "stream": "stdout",
       "text": [
        "Cant find native HDF5 library\n",
        "Couldnt load JCuda\n"
       ]
      },
      {
       "output_type": "stream",
       "stream": "stdout",
       "text": []
      },
      {
       "metadata": {},
       "output_type": "pyout",
       "prompt_number": 1,
       "text": [
        "()"
       ]
      }
     ],
     "prompt_number": 1
    },
    {
     "cell_type": "markdown",
     "metadata": {},
     "source": [
      "Now we load some training and test data, and some category labels. The data come from a news collection from Reuters, and is a \"classic\" test set for classification. Each article belongs to one or more of 103 categories. The articles are represented as Bag-of-Words (BoW) column vectors. For a data matrix A, element A(i,j) holds the count of word i in document j. \n",
      "\n",
      "The category matrices have 103 rows, and a category matrix C has a one in position C(i,j) if document j is tagged with category i, or zero otherwise.  \n",
      "\n",
      "To reduce the computing time and memory footprint, the training data have been sampled. The full collection has about 700k documents. Our training set has 60k. \n",
      "\n",
      "Since the document matrices contain counts of words, we use a min function to limit the count to \"1\", i.e. because we need binary features for naive Bayes. "
     ]
    },
    {
     "cell_type": "code",
     "collapsed": false,
     "input": [
      "//val dict = \"/Users/Anna/workspace/BIDMach_1.0.0-full-linux-x86_64/data/\"\n",
      "//val a = loadFMat(dict+\"arabic.fmat.lz4\")\n",
      "//val c = loadFMat(dict+\"arabic_cats.fmat.lz4\")\n",
      "//val aa = loadFMat(dict+\"a.txt\")\n",
      "//val c = loadFMat(dict+\"alabel.txt\")\n",
      "//val a = aa + 0.5 \n",
      "//val atrain =a(?,(100->a.ncols))\n",
      "//val atest =a(?,(0->100))\n",
      "//val ctrain =c(?,(100->a.ncols))\n",
      "//val ctest =c(?,(0->100))\n",
      "//max(atrain, 0.001, atrain)                       // the first \"traindata\" argument is the input, the other is output\n",
      "//max(atest, 0.001, atest)\n",
      "val dict = \"/Users/Anna/workspace/BIDMach/data/class2.txt\"\n",
      "val rpath = \"/Users/Anna/workspace/BIDMach/data/cat2.txt\"\n",
      "var aa=loadFMat(dict)\n",
      "var c =loadFMat(rpath)\n",
      "var b=aa.t\n",
      "var d = c\n",
      "var index = 1;\n",
      "//for(index <- 1 to 171){\n",
      "//var aa = loadFMat(dict+\"fc8/\"+index+\".txt\")\n",
      "//var c = loadFMat(dict+\"fc8/c\"+index+\".txt\")\n",
      "//var b = loadFMat(dict+\"testfc8.txt\")\n",
      "//var d = loadFMat(dict+\"wltestcatall.txt\")\n",
      "//val dict = \"/Users/Anna/workspace/BIDMach_1.0.0-full-linux-x86_64/data/uci/\"\n",
      "//val aa = loadFMat(dict+\"arabic.fmat.lz4\")\n",
      "//val c = loadFMat(dict+\"arabic_cats.fmat.lz4\")\n",
      "var a = aa.t   \n",
      "var atrain = a //a(?,(100->a.ncols))\n",
      "var atest =  b //a(?,(0->100))\n",
      "var ctrain = c //c(?,(100->a.ncols))\n",
      "var ctest = d //c(?,(0->100))\n",
      "//max(atrain, 0.001, atrain)                       // the first \"traindata\" argument is the input, the other is output\n",
      "//max(atest, 0.001, atest)\n",
      "\n",
      "val cx=zeros(2,ctest.ncols)\n",
      "val (mm,mopts,nn,nopts)=GLM.learner(atrain,ctrain,atest,cx,3)\n",
      "mopts.autoReset=false\n",
      "mopts.useGPU=false\n",
      "mopts.lrate=0.1\n",
      "mopts.batchSize=2\n",
      "mopts.dim=256\n",
      "mopts.startBlock=0\n",
      "mopts.npasses=10\n",
      "mopts.updateAll=false\n",
      "mm.train;\n",
      "nn.predict;\n",
      "atrain.ncols\n",
      "//saveFMat(rpath+index+\".txt\",cx);\n",
      "//}\n",
      "//cx.ncols"
     ],
     "language": "python",
     "metadata": {},
     "outputs": [
      {
       "output_type": "stream",
       "stream": "stdout",
       "text": [
        "corpus perplexity=3092.649414\n",
        "pass= 0\n",
        " 1.00%, ll=-1.00000, gf=0.164, secs=0.0, GB=0.00, MB/s=72.62\n",
        " 3.00%, ll=0.00000, gf=0.185, secs=0.0, GB=0.00, MB/s=72.61\n",
        " 5.00%, ll=0.00000, gf=0.186, secs=0.0, GB=0.00, MB/s=64.22\n",
        " 8.00%, ll=0.00000, gf=0.186, secs=0.0, GB=0.00, MB/s=61.28\n",
        "11.00%, ll=0.00000, gf=0.186, secs=0.0, GB=0.00, MB/s=60.61\n",
        "14.00%, ll=0.00000, gf=0.187, secs=0.1, GB=0.00, MB/s=60.45\n",
        "16.00%, ll=0.00000, gf=0.187, secs=0.1, GB=0.00, MB/s=59.64\n",
        "19.00%, ll=0.00000, gf=0.187, secs=0.1, GB=0.01, MB/s=59.57\n",
        "22.00%, ll=0.00000, gf=0.189, secs=0.1, GB=0.01, MB/s=60.27\n",
        "25.00%, ll=0.00000, gf=0.189, secs=0.1, GB=0.01, MB/s=60.27\n",
        "27.00%, ll=0.00000, gf=0.188, secs=0.1, GB=0.01, MB/s=60.65\n",
        "30.00%, ll=0.00000, gf=0.188, secs=0.1, GB=0.01, MB/s=60.85\n",
        "33.00%, ll=0.00000, gf=0.188, secs=0.1, GB=0.01, MB/s=60.65\n",
        "35.00%, ll=0.00000, gf=0.188, secs=0.2, GB=0.01, MB/s=61.19\n"
       ]
      },
      {
       "output_type": "stream",
       "stream": "stdout",
       "text": [
        "38.00%, ll=0.00000, gf=0.187, secs=0.2, GB=0.01, MB/s=60.58\n",
        "41.00%, ll=0.00000, gf=0.175, secs=0.2, GB=0.01, MB/s=56.81\n",
        "44.00%, ll=0.00000, gf=0.176, secs=0.2, GB=0.01, MB/s=57.24\n",
        "46.00%, ll=0.00000, gf=0.176, secs=0.2, GB=0.01, MB/s=57.02\n"
       ]
      },
      {
       "output_type": "stream",
       "stream": "stdout",
       "text": [
        "49.00%, ll=0.00000, gf=0.176, secs=0.2, GB=0.01, MB/s=56.92\n",
        "52.00%, ll=0.00000, gf=0.176, secs=0.2, GB=0.01, MB/s=56.90\n",
        "55.00%, ll=0.00000, gf=0.176, secs=0.3, GB=0.01, MB/s=56.87\n",
        "57.00%, ll=0.00000, gf=0.177, secs=0.3, GB=0.02, MB/s=57.08\n"
       ]
      },
      {
       "output_type": "stream",
       "stream": "stdout",
       "text": [
        "60.00%, ll=0.00000, gf=0.176, secs=0.3, GB=0.02, MB/s=57.20\n",
        "63.00%, ll=0.00000, gf=0.177, secs=0.3, GB=0.02, MB/s=57.26\n",
        "65.00%, ll=0.00000, gf=0.177, secs=0.3, GB=0.02, MB/s=56.94\n",
        "68.00%, ll=0.00000, gf=0.177, secs=0.3, GB=0.02, MB/s=57.12\n"
       ]
      },
      {
       "output_type": "stream",
       "stream": "stdout",
       "text": [
        "71.00%, ll=0.00000, gf=0.177, secs=0.3, GB=0.02, MB/s=57.17\n",
        "74.00%, ll=0.00000, gf=0.177, secs=0.3, GB=0.02, MB/s=57.06\n",
        "76.00%, ll=0.00000, gf=0.178, secs=0.4, GB=0.02, MB/s=57.13\n",
        "79.00%, ll=0.00000, gf=0.177, secs=0.4, GB=0.02, MB/s=56.92\n"
       ]
      },
      {
       "output_type": "stream",
       "stream": "stdout",
       "text": [
        "82.00%, ll=0.00000, gf=0.178, secs=0.4, GB=0.02, MB/s=56.93\n",
        "85.00%, ll=0.00000, gf=0.178, secs=0.4, GB=0.02, MB/s=56.67\n",
        "87.00%, ll=0.00000, gf=0.178, secs=0.4, GB=0.02, MB/s=56.46\n",
        "90.00%, ll=0.00000, gf=0.178, secs=0.4, GB=0.02, MB/s=56.26\n"
       ]
      },
      {
       "output_type": "stream",
       "stream": "stdout",
       "text": [
        "93.00%, ll=0.00000, gf=0.178, secs=0.4, GB=0.02, MB/s=56.11\n",
        "95.00%, ll=0.00000, gf=0.178, secs=0.4, GB=0.02, MB/s=56.25\n",
        "98.00%, ll=0.00000, gf=0.178, secs=0.5, GB=0.03, MB/s=56.32\n",
        "100.00%, ll=0.00000, gf=0.178, secs=0.5, GB=0.03, MB/s=56.19\n",
        "pass= 1\n",
        " 1.00%, ll=-11.86170, gf=0.178, secs=0.5, GB=0.03, MB/s=56.24\n",
        " 3.00%, ll=0.00000, gf=0.178, secs=0.5, GB=0.03, MB/s=56.52\n"
       ]
      },
      {
       "output_type": "stream",
       "stream": "stdout",
       "text": [
        " 5.00%, ll=0.00000, gf=0.178, secs=0.5, GB=0.03, MB/s=56.37\n",
        " 8.00%, ll=0.00000, gf=0.178, secs=0.5, GB=0.03, MB/s=56.34\n",
        "11.00%, ll=0.00000, gf=0.178, secs=0.5, GB=0.03, MB/s=56.39\n",
        "14.00%, ll=0.00000, gf=0.178, secs=0.5, GB=0.03, MB/s=56.36\n"
       ]
      },
      {
       "output_type": "stream",
       "stream": "stdout",
       "text": [
        "16.00%, ll=0.00000, gf=0.178, secs=0.5, GB=0.03, MB/s=56.34\n",
        "19.00%, ll=0.00000, gf=0.179, secs=0.5, GB=0.03, MB/s=56.40\n",
        "22.00%, ll=0.00000, gf=0.179, secs=0.6, GB=0.03, MB/s=56.38\n",
        "25.00%, ll=0.00000, gf=0.179, secs=0.6, GB=0.03, MB/s=56.47\n"
       ]
      },
      {
       "output_type": "stream",
       "stream": "stdout",
       "text": [
        "27.00%, ll=0.00000, gf=0.179, secs=0.6, GB=0.03, MB/s=56.52\n",
        "30.00%, ll=0.00000, gf=0.179, secs=0.6, GB=0.03, MB/s=56.65\n",
        "33.00%, ll=0.00000, gf=0.179, secs=0.6, GB=0.03, MB/s=56.69\n",
        "35.00%, ll=0.00000, gf=0.179, secs=0.6, GB=0.04, MB/s=56.81\n"
       ]
      },
      {
       "output_type": "stream",
       "stream": "stdout",
       "text": [
        "38.00%, ll=0.00000, gf=0.179, secs=0.6, GB=0.04, MB/s=56.74\n",
        "41.00%, ll=0.00000, gf=0.179, secs=0.6, GB=0.04, MB/s=56.81\n",
        "44.00%, ll=0.00000, gf=0.179, secs=0.7, GB=0.04, MB/s=56.94\n",
        "46.00%, ll=0.00000, gf=0.179, secs=0.7, GB=0.04, MB/s=56.87\n"
       ]
      },
      {
       "output_type": "stream",
       "stream": "stdout",
       "text": [
        "49.00%, ll=0.00000, gf=0.179, secs=0.7, GB=0.04, MB/s=56.92\n",
        "52.00%, ll=0.00000, gf=0.179, secs=0.7, GB=0.04, MB/s=56.92\n",
        "55.00%, ll=0.00000, gf=0.179, secs=0.7, GB=0.04, MB/s=56.99\n",
        "57.00%, ll=0.00000, gf=0.179, secs=0.7, GB=0.04, MB/s=56.98\n"
       ]
      },
      {
       "output_type": "stream",
       "stream": "stdout",
       "text": [
        "60.00%, ll=0.00000, gf=0.179, secs=0.7, GB=0.04, MB/s=57.03\n",
        "63.00%, ll=0.00000, gf=0.179, secs=0.7, GB=0.04, MB/s=57.06\n",
        "65.00%, ll=0.00000, gf=0.179, secs=0.8, GB=0.04, MB/s=57.01\n",
        "68.00%, ll=0.00000, gf=0.179, secs=0.8, GB=0.04, MB/s=57.01\n",
        "71.00%, ll=0.00000, gf=0.179, secs=0.8, GB=0.04, MB/s=57.03\n"
       ]
      },
      {
       "output_type": "stream",
       "stream": "stdout",
       "text": [
        "74.00%, ll=0.00000, gf=0.179, secs=0.8, GB=0.05, MB/s=57.06\n",
        "76.00%, ll=0.00000, gf=0.179, secs=0.8, GB=0.05, MB/s=57.01\n",
        "79.00%, ll=0.00000, gf=0.179, secs=0.8, GB=0.05, MB/s=56.92\n",
        "82.00%, ll=0.00000, gf=0.179, secs=0.8, GB=0.05, MB/s=56.93\n"
       ]
      },
      {
       "output_type": "stream",
       "stream": "stdout",
       "text": [
        "85.00%, ll=0.00000, gf=0.179, secs=0.8, GB=0.05, MB/s=56.81\n",
        "87.00%, ll=0.00000, gf=0.180, secs=0.9, GB=0.05, MB/s=56.77\n",
        "90.00%, ll=0.00000, gf=0.179, secs=0.9, GB=0.05, MB/s=56.67\n",
        "93.00%, ll=0.00000, gf=0.179, secs=0.9, GB=0.05, MB/s=56.53\n"
       ]
      },
      {
       "output_type": "stream",
       "stream": "stdout",
       "text": [
        "95.00%, ll=0.00000, gf=0.179, secs=0.9, GB=0.05, MB/s=56.59\n",
        "98.00%, ll=0.00000, gf=0.180, secs=0.9, GB=0.05, MB/s=56.62\n",
        "100.00%, ll=0.00000, gf=0.179, secs=0.9, GB=0.05, MB/s=56.55\n",
        "pass= 2\n",
        " 1.00%, ll=0.00000, gf=0.179, secs=0.9, GB=0.05, MB/s=56.64\n",
        " 3.00%, ll=0.00000, gf=0.179, secs=0.9, GB=0.05, MB/s=56.72\n"
       ]
      },
      {
       "output_type": "stream",
       "stream": "stdout",
       "text": [
        " 5.00%, ll=0.00000, gf=0.179, secs=0.9, GB=0.05, MB/s=56.64\n",
        " 8.00%, ll=0.00000, gf=0.179, secs=1.0, GB=0.05, MB/s=56.62\n"
       ]
      },
      {
       "output_type": "stream",
       "stream": "stdout",
       "text": [
        "11.00%, ll=0.00000, gf=0.157, secs=1.1, GB=0.05, MB/s=49.57\n",
        "14.00%, ll=0.00000, gf=0.157, secs=1.1, GB=0.06, MB/s=49.68\n",
        "16.00%, ll=0.00000, gf=0.158, secs=1.1, GB=0.06, MB/s=49.74\n",
        "19.00%, ll=0.00000, gf=0.158, secs=1.1, GB=0.06, MB/s=49.75\n"
       ]
      },
      {
       "output_type": "stream",
       "stream": "stdout",
       "text": [
        "22.00%, ll=0.00000, gf=0.158, secs=1.2, GB=0.06, MB/s=49.86\n",
        "25.00%, ll=0.00000, gf=0.158, secs=1.2, GB=0.06, MB/s=49.97\n",
        "27.00%, ll=0.00000, gf=0.159, secs=1.2, GB=0.06, MB/s=50.11\n",
        "30.00%, ll=0.00000, gf=0.159, secs=1.2, GB=0.06, MB/s=50.16\n"
       ]
      },
      {
       "output_type": "stream",
       "stream": "stdout",
       "text": [
        "33.00%, ll=0.00000, gf=0.159, secs=1.2, GB=0.06, MB/s=50.24\n",
        "35.00%, ll=0.00000, gf=0.159, secs=1.2, GB=0.06, MB/s=50.41\n",
        "38.00%, ll=0.00000, gf=0.159, secs=1.2, GB=0.06, MB/s=50.44\n",
        "41.00%, ll=0.00000, gf=0.160, secs=1.2, GB=0.06, MB/s=50.54\n"
       ]
      },
      {
       "output_type": "stream",
       "stream": "stdout",
       "text": [
        "44.00%, ll=0.00000, gf=0.160, secs=1.3, GB=0.06, MB/s=50.63\n",
        "46.00%, ll=0.00000, gf=0.160, secs=1.3, GB=0.06, MB/s=50.66\n",
        "49.00%, ll=0.00000, gf=0.160, secs=1.3, GB=0.06, MB/s=50.74\n",
        "52.00%, ll=0.00000, gf=0.160, secs=1.3, GB=0.07, MB/s=50.76\n"
       ]
      },
      {
       "output_type": "stream",
       "stream": "stdout",
       "text": [
        "55.00%, ll=0.00000, gf=0.161, secs=1.3, GB=0.07, MB/s=50.85\n",
        "57.00%, ll=0.00000, gf=0.161, secs=1.3, GB=0.07, MB/s=50.91\n",
        "60.00%, ll=0.00000, gf=0.161, secs=1.3, GB=0.07, MB/s=51.04\n",
        "63.00%, ll=0.00000, gf=0.161, secs=1.3, GB=0.07, MB/s=51.07\n",
        "65.00%, ll=0.00000, gf=0.161, secs=1.4, GB=0.07, MB/s=51.09\n"
       ]
      },
      {
       "output_type": "stream",
       "stream": "stdout",
       "text": [
        "68.00%, ll=0.00000, gf=0.161, secs=1.4, GB=0.07, MB/s=51.18\n",
        "71.00%, ll=0.00000, gf=0.162, secs=1.4, GB=0.07, MB/s=51.21\n",
        "74.00%, ll=0.00000, gf=0.162, secs=1.4, GB=0.07, MB/s=51.28\n",
        "76.00%, ll=0.00000, gf=0.162, secs=1.4, GB=0.07, MB/s=51.30\n"
       ]
      },
      {
       "output_type": "stream",
       "stream": "stdout",
       "text": [
        "79.00%, ll=0.00000, gf=0.162, secs=1.4, GB=0.07, MB/s=51.34\n",
        "82.00%, ll=0.00000, gf=0.162, secs=1.4, GB=0.07, MB/s=51.39\n",
        "85.00%, ll=0.00000, gf=0.162, secs=1.4, GB=0.07, MB/s=51.33\n",
        "87.00%, ll=0.00000, gf=0.162, secs=1.5, GB=0.07, MB/s=51.32\n"
       ]
      },
      {
       "output_type": "stream",
       "stream": "stdout",
       "text": [
        "90.00%, ll=0.00000, gf=0.163, secs=1.5, GB=0.08, MB/s=51.34\n",
        "93.00%, ll=0.00000, gf=0.163, secs=1.5, GB=0.08, MB/s=51.34\n",
        "95.00%, ll=0.00000, gf=0.163, secs=1.5, GB=0.08, MB/s=51.38\n",
        "98.00%, ll=0.00000, gf=0.163, secs=1.5, GB=0.08, MB/s=51.41\n"
       ]
      },
      {
       "output_type": "stream",
       "stream": "stdout",
       "text": [
        "100.00%, ll=0.00000, gf=0.163, secs=1.5, GB=0.08, MB/s=51.43\n",
        "pass= 3\n",
        " 1.00%, ll=-2.14523, gf=0.163, secs=1.5, GB=0.08, MB/s=51.50\n",
        " 3.00%, ll=0.00000, gf=0.163, secs=1.5, GB=0.08, MB/s=51.61\n",
        " 5.00%, ll=0.00000, gf=0.163, secs=1.5, GB=0.08, MB/s=51.60\n",
        " 8.00%, ll=0.00000, gf=0.164, secs=1.5, GB=0.08, MB/s=51.59\n"
       ]
      },
      {
       "output_type": "stream",
       "stream": "stdout",
       "text": [
        "11.00%, ll=0.00000, gf=0.164, secs=1.6, GB=0.08, MB/s=51.65\n",
        "14.00%, ll=0.00000, gf=0.164, secs=1.6, GB=0.08, MB/s=51.71\n",
        "16.00%, ll=0.00000, gf=0.164, secs=1.6, GB=0.08, MB/s=51.74\n",
        "19.00%, ll=0.00000, gf=0.164, secs=1.6, GB=0.08, MB/s=51.73\n",
        "22.00%, ll=0.00000, gf=0.164, secs=1.6, GB=0.08, MB/s=51.79\n"
       ]
      },
      {
       "output_type": "stream",
       "stream": "stdout",
       "text": [
        "25.00%, ll=0.00000, gf=0.164, secs=1.6, GB=0.08, MB/s=51.86\n",
        "27.00%, ll=0.00000, gf=0.164, secs=1.6, GB=0.08, MB/s=51.91\n",
        "30.00%, ll=0.00000, gf=0.165, secs=1.6, GB=0.09, MB/s=51.99\n",
        "33.00%, ll=0.00000, gf=0.165, secs=1.7, GB=0.09, MB/s=52.04\n"
       ]
      },
      {
       "output_type": "stream",
       "stream": "stdout",
       "text": [
        "35.00%, ll=0.00000, gf=0.165, secs=1.7, GB=0.09, MB/s=52.12\n",
        "38.00%, ll=0.00000, gf=0.165, secs=1.7, GB=0.09, MB/s=52.13\n",
        "41.00%, ll=0.00000, gf=0.165, secs=1.7, GB=0.09, MB/s=52.10\n",
        "44.00%, ll=0.00000, gf=0.165, secs=1.7, GB=0.09, MB/s=52.15\n"
       ]
      },
      {
       "output_type": "stream",
       "stream": "stdout",
       "text": [
        "46.00%, ll=0.00000, gf=0.165, secs=1.7, GB=0.09, MB/s=52.19\n",
        "49.00%, ll=0.00000, gf=0.165, secs=1.7, GB=0.09, MB/s=52.21\n",
        "52.00%, ll=0.00000, gf=0.165, secs=1.8, GB=0.09, MB/s=52.24\n",
        "55.00%, ll=0.00000, gf=0.165, secs=1.8, GB=0.09, MB/s=52.27\n"
       ]
      },
      {
       "output_type": "stream",
       "stream": "stdout",
       "text": [
        "57.00%, ll=0.00000, gf=0.165, secs=1.8, GB=0.09, MB/s=52.34\n",
        "60.00%, ll=0.00000, gf=0.165, secs=1.8, GB=0.09, MB/s=52.39\n",
        "63.00%, ll=0.00000, gf=0.166, secs=1.8, GB=0.09, MB/s=52.43\n",
        "65.00%, ll=0.00000, gf=0.166, secs=1.8, GB=0.10, MB/s=52.41\n"
       ]
      },
      {
       "output_type": "stream",
       "stream": "stdout",
       "text": [
        "68.00%, ll=0.00000, gf=0.166, secs=1.8, GB=0.10, MB/s=52.44\n",
        "71.00%, ll=0.00000, gf=0.166, secs=1.8, GB=0.10, MB/s=52.48\n",
        "74.00%, ll=0.00000, gf=0.166, secs=1.9, GB=0.10, MB/s=52.50\n",
        "76.00%, ll=0.00000, gf=0.166, secs=1.9, GB=0.10, MB/s=52.51\n"
       ]
      },
      {
       "output_type": "stream",
       "stream": "stdout",
       "text": [
        "79.00%, ll=0.00000, gf=0.166, secs=1.9, GB=0.10, MB/s=52.53\n",
        "82.00%, ll=0.00000, gf=0.166, secs=1.9, GB=0.10, MB/s=52.56\n",
        "85.00%, ll=0.00000, gf=0.166, secs=1.9, GB=0.10, MB/s=52.51\n",
        "87.00%, ll=0.00000, gf=0.166, secs=1.9, GB=0.10, MB/s=52.52\n"
       ]
      },
      {
       "output_type": "stream",
       "stream": "stdout",
       "text": [
        "90.00%, ll=0.00000, gf=0.167, secs=1.9, GB=0.10, MB/s=52.53\n",
        "93.00%, ll=0.00000, gf=0.167, secs=1.9, GB=0.10, MB/s=52.49\n",
        "95.00%, ll=0.00000, gf=0.167, secs=2.0, GB=0.10, MB/s=52.54\n",
        "98.00%, ll=0.00000, gf=0.167, secs=2.0, GB=0.10, MB/s=52.58\n",
        "100.00%, ll=0.00000, gf=0.167, secs=2.0, GB=0.10, MB/s=52.59\n",
        "pass= 4\n"
       ]
      },
      {
       "output_type": "stream",
       "stream": "stdout",
       "text": [
        " 1.00%, ll=0.00000, gf=0.167, secs=2.0, GB=0.10, MB/s=52.64\n",
        " 3.00%, ll=0.00000, gf=0.167, secs=2.0, GB=0.10, MB/s=52.70\n",
        " 5.00%, ll=0.00000, gf=0.167, secs=2.0, GB=0.11, MB/s=52.71\n",
        " 8.00%, ll=0.00000, gf=0.167, secs=2.0, GB=0.11, MB/s=52.73\n"
       ]
      },
      {
       "output_type": "stream",
       "stream": "stdout",
       "text": [
        "11.00%, ll=0.00000, gf=0.167, secs=2.0, GB=0.11, MB/s=52.63\n",
        "14.00%, ll=0.00000, gf=0.167, secs=2.0, GB=0.11, MB/s=52.67\n",
        "16.00%, ll=0.00000, gf=0.167, secs=2.0, GB=0.11, MB/s=52.69\n",
        "19.00%, ll=0.00000, gf=0.167, secs=2.1, GB=0.11, MB/s=52.73\n",
        "22.00%, ll=0.00000, gf=0.167, secs=2.1, GB=0.11, MB/s=52.74\n"
       ]
      },
      {
       "output_type": "stream",
       "stream": "stdout",
       "text": [
        "25.00%, ll=0.00000, gf=0.167, secs=2.1, GB=0.11, MB/s=52.79\n",
        "27.00%, ll=0.00000, gf=0.168, secs=2.1, GB=0.11, MB/s=52.85\n",
        "30.00%, ll=0.00000, gf=0.168, secs=2.1, GB=0.11, MB/s=52.91\n",
        "33.00%, ll=0.00000, gf=0.168, secs=2.1, GB=0.11, MB/s=52.94\n"
       ]
      },
      {
       "output_type": "stream",
       "stream": "stdout",
       "text": [
        "35.00%, ll=0.00000, gf=0.168, secs=2.1, GB=0.11, MB/s=53.00\n",
        "38.00%, ll=0.00000, gf=0.168, secs=2.1, GB=0.11, MB/s=53.03\n",
        "41.00%, ll=0.00000, gf=0.168, secs=2.2, GB=0.11, MB/s=53.07\n",
        "44.00%, ll=0.00000, gf=0.168, secs=2.2, GB=0.12, MB/s=53.13\n"
       ]
      },
      {
       "output_type": "stream",
       "stream": "stdout",
       "text": [
        "46.00%, ll=0.00000, gf=0.168, secs=2.2, GB=0.12, MB/s=53.15\n",
        "49.00%, ll=0.00000, gf=0.168, secs=2.2, GB=0.12, MB/s=53.17\n",
        "52.00%, ll=0.00000, gf=0.168, secs=2.2, GB=0.12, MB/s=53.19\n",
        "55.00%, ll=-0.74042, gf=0.168, secs=2.2, GB=0.12, MB/s=53.23\n"
       ]
      },
      {
       "output_type": "stream",
       "stream": "stdout",
       "text": [
        "57.00%, ll=0.00000, gf=0.169, secs=2.2, GB=0.12, MB/s=53.27\n",
        "60.00%, ll=0.00000, gf=0.169, secs=2.2, GB=0.12, MB/s=53.31\n",
        "63.00%, ll=0.00000, gf=0.169, secs=2.3, GB=0.12, MB/s=53.34\n",
        "65.00%, ll=0.00000, gf=0.169, secs=2.3, GB=0.12, MB/s=53.34\n"
       ]
      },
      {
       "output_type": "stream",
       "stream": "stdout",
       "text": [
        "68.00%, ll=0.00000, gf=0.169, secs=2.3, GB=0.12, MB/s=53.38\n",
        "71.00%, ll=0.00000, gf=0.169, secs=2.3, GB=0.12, MB/s=53.39\n",
        "74.00%, ll=-0.37218, gf=0.169, secs=2.3, GB=0.12, MB/s=53.42\n",
        "76.00%, ll=0.00000, gf=0.169, secs=2.3, GB=0.12, MB/s=53.45\n",
        "79.00%, ll=0.00000, gf=0.169, secs=2.3, GB=0.12, MB/s=53.43\n"
       ]
      },
      {
       "output_type": "stream",
       "stream": "stdout",
       "text": [
        "82.00%, ll=0.00000, gf=0.169, secs=2.3, GB=0.13, MB/s=53.45\n",
        "85.00%, ll=0.00000, gf=0.169, secs=2.4, GB=0.13, MB/s=53.43\n",
        "87.00%, ll=0.00000, gf=0.169, secs=2.4, GB=0.13, MB/s=53.43\n",
        "90.00%, ll=0.00000, gf=0.169, secs=2.4, GB=0.13, MB/s=53.44\n"
       ]
      },
      {
       "output_type": "stream",
       "stream": "stdout",
       "text": [
        "93.00%, ll=0.00000, gf=0.169, secs=2.4, GB=0.13, MB/s=53.40\n",
        "95.00%, ll=0.00000, gf=0.170, secs=2.4, GB=0.13, MB/s=53.44\n",
        "98.00%, ll=0.00000, gf=0.170, secs=2.4, GB=0.13, MB/s=53.47\n",
        "100.00%, ll=0.00000, gf=0.170, secs=2.4, GB=0.13, MB/s=53.47\n",
        "pass= 5\n",
        " 1.00%, ll=0.00000, gf=0.170, secs=2.4, GB=0.13, MB/s=53.51\n"
       ]
      },
      {
       "output_type": "stream",
       "stream": "stdout",
       "text": [
        " 3.00%, ll=-0.57008, gf=0.170, secs=2.4, GB=0.13, MB/s=53.55\n",
        " 5.00%, ll=0.00000, gf=0.170, secs=2.4, GB=0.13, MB/s=53.56\n",
        " 8.00%, ll=0.00000, gf=0.170, secs=2.5, GB=0.13, MB/s=53.57\n",
        "11.00%, ll=0.00000, gf=0.170, secs=2.5, GB=0.13, MB/s=53.59\n",
        "14.00%, ll=0.00000, gf=0.170, secs=2.5, GB=0.13, MB/s=53.60\n"
       ]
      },
      {
       "output_type": "stream",
       "stream": "stdout",
       "text": [
        "16.00%, ll=0.00000, gf=0.170, secs=2.5, GB=0.13, MB/s=53.61\n",
        "19.00%, ll=0.00000, gf=0.170, secs=2.5, GB=0.13, MB/s=53.64\n",
        "22.00%, ll=0.00000, gf=0.170, secs=2.5, GB=0.14, MB/s=53.67\n",
        "25.00%, ll=0.00000, gf=0.170, secs=2.5, GB=0.14, MB/s=53.68\n"
       ]
      },
      {
       "output_type": "stream",
       "stream": "stdout",
       "text": [
        "27.00%, ll=0.00000, gf=0.170, secs=2.5, GB=0.14, MB/s=53.73\n",
        "30.00%, ll=0.00000, gf=0.170, secs=2.6, GB=0.14, MB/s=53.77\n",
        "33.00%, ll=0.00000, gf=0.170, secs=2.6, GB=0.14, MB/s=53.79\n",
        "35.00%, ll=0.00000, gf=0.170, secs=2.6, GB=0.14, MB/s=53.83\n"
       ]
      },
      {
       "output_type": "stream",
       "stream": "stdout",
       "text": [
        "38.00%, ll=0.00000, gf=0.171, secs=2.6, GB=0.14, MB/s=53.85\n",
        "41.00%, ll=0.00000, gf=0.171, secs=2.6, GB=0.14, MB/s=53.88\n",
        "44.00%, ll=0.00000, gf=0.171, secs=2.6, GB=0.14, MB/s=53.91\n",
        "46.00%, ll=0.00000, gf=0.171, secs=2.6, GB=0.14, MB/s=53.93\n"
       ]
      },
      {
       "output_type": "stream",
       "stream": "stdout",
       "text": [
        "49.00%, ll=0.00000, gf=0.170, secs=2.6, GB=0.14, MB/s=53.85\n",
        "52.00%, ll=0.00000, gf=0.170, secs=2.7, GB=0.14, MB/s=53.84\n",
        "55.00%, ll=-2.70239, gf=0.171, secs=2.7, GB=0.14, MB/s=53.88\n",
        "57.00%, ll=0.00000, gf=0.171, secs=2.7, GB=0.14, MB/s=53.91\n"
       ]
      },
      {
       "output_type": "stream",
       "stream": "stdout",
       "text": [
        "60.00%, ll=0.00000, gf=0.171, secs=2.7, GB=0.15, MB/s=53.96\n",
        "63.00%, ll=0.00000, gf=0.171, secs=2.7, GB=0.15, MB/s=53.96\n",
        "65.00%, ll=0.00000, gf=0.171, secs=2.7, GB=0.15, MB/s=53.96\n",
        "68.00%, ll=0.00000, gf=0.171, secs=2.7, GB=0.15, MB/s=53.99\n"
       ]
      },
      {
       "output_type": "stream",
       "stream": "stdout",
       "text": [
        "71.00%, ll=0.00000, gf=0.171, secs=2.7, GB=0.15, MB/s=54.01\n",
        "74.00%, ll=-1.31165, gf=0.171, secs=2.8, GB=0.15, MB/s=54.01\n",
        "76.00%, ll=0.00000, gf=0.171, secs=2.8, GB=0.15, MB/s=54.04\n",
        "79.00%, ll=0.00000, gf=0.171, secs=2.8, GB=0.15, MB/s=54.04\n"
       ]
      },
      {
       "output_type": "stream",
       "stream": "stdout",
       "text": [
        "82.00%, ll=0.00000, gf=0.171, secs=2.8, GB=0.15, MB/s=54.04\n",
        "85.00%, ll=0.00000, gf=0.171, secs=2.8, GB=0.15, MB/s=54.01\n",
        "87.00%, ll=0.00000, gf=0.171, secs=2.8, GB=0.15, MB/s=54.01\n",
        "90.00%, ll=0.00000, gf=0.171, secs=2.8, GB=0.15, MB/s=54.02\n"
       ]
      },
      {
       "output_type": "stream",
       "stream": "stdout",
       "text": [
        "93.00%, ll=0.00000, gf=0.171, secs=2.8, GB=0.15, MB/s=53.98\n",
        "95.00%, ll=0.00000, gf=0.171, secs=2.9, GB=0.15, MB/s=54.01\n",
        "98.00%, ll=0.00000, gf=0.171, secs=2.9, GB=0.16, MB/s=53.96\n",
        "100.00%, ll=0.00000, gf=0.171, secs=2.9, GB=0.16, MB/s=53.94\n",
        "pass= 6\n",
        " 1.00%, ll=0.00000, gf=0.171, secs=2.9, GB=0.16, MB/s=53.98\n"
       ]
      },
      {
       "output_type": "stream",
       "stream": "stdout",
       "text": [
        " 3.00%, ll=0.00000, gf=0.171, secs=2.9, GB=0.16, MB/s=54.03\n",
        " 5.00%, ll=0.00000, gf=0.171, secs=2.9, GB=0.16, MB/s=54.01\n",
        " 8.00%, ll=0.00000, gf=0.171, secs=2.9, GB=0.16, MB/s=54.02\n",
        "11.00%, ll=0.00000, gf=0.171, secs=2.9, GB=0.16, MB/s=54.04\n",
        "14.00%, ll=0.00000, gf=0.171, secs=2.9, GB=0.16, MB/s=54.04\n"
       ]
      },
      {
       "output_type": "stream",
       "stream": "stdout",
       "text": [
        "16.00%, ll=0.00000, gf=0.171, secs=3.0, GB=0.16, MB/s=54.05\n",
        "19.00%, ll=0.00000, gf=0.172, secs=3.0, GB=0.16, MB/s=54.07\n",
        "22.00%, ll=0.00000, gf=0.172, secs=3.0, GB=0.16, MB/s=54.07\n",
        "25.00%, ll=0.00000, gf=0.172, secs=3.0, GB=0.16, MB/s=54.10\n"
       ]
      },
      {
       "output_type": "stream",
       "stream": "stdout",
       "text": [
        "27.00%, ll=0.00000, gf=0.172, secs=3.0, GB=0.16, MB/s=54.14\n",
        "30.00%, ll=0.00000, gf=0.172, secs=3.0, GB=0.16, MB/s=54.17\n",
        "33.00%, ll=0.00000, gf=0.172, secs=3.0, GB=0.16, MB/s=54.19\n",
        "35.00%, ll=0.00000, gf=0.172, secs=3.0, GB=0.16, MB/s=54.23\n"
       ]
      },
      {
       "output_type": "stream",
       "stream": "stdout",
       "text": [
        "38.00%, ll=0.00000, gf=0.172, secs=3.1, GB=0.17, MB/s=54.20\n",
        "41.00%, ll=0.00000, gf=0.172, secs=3.1, GB=0.17, MB/s=54.21\n",
        "44.00%, ll=0.00000, gf=0.172, secs=3.1, GB=0.17, MB/s=54.23\n",
        "46.00%, ll=0.00000, gf=0.172, secs=3.1, GB=0.17, MB/s=54.25\n"
       ]
      },
      {
       "output_type": "stream",
       "stream": "stdout",
       "text": [
        "49.00%, ll=0.00000, gf=0.172, secs=3.1, GB=0.17, MB/s=54.25\n",
        "52.00%, ll=0.00000, gf=0.172, secs=3.1, GB=0.17, MB/s=54.26\n",
        "55.00%, ll=0.00000, gf=0.172, secs=3.1, GB=0.17, MB/s=54.29\n",
        "57.00%, ll=0.00000, gf=0.172, secs=3.1, GB=0.17, MB/s=54.30\n"
       ]
      },
      {
       "output_type": "stream",
       "stream": "stdout",
       "text": [
        "60.00%, ll=0.00000, gf=0.172, secs=3.2, GB=0.17, MB/s=54.34\n",
        "63.00%, ll=0.00000, gf=0.172, secs=3.2, GB=0.17, MB/s=54.33\n",
        "65.00%, ll=0.00000, gf=0.172, secs=3.2, GB=0.17, MB/s=54.33\n",
        "68.00%, ll=0.00000, gf=0.172, secs=3.2, GB=0.17, MB/s=54.36\n"
       ]
      },
      {
       "output_type": "stream",
       "stream": "stdout",
       "text": [
        "71.00%, ll=0.00000, gf=0.172, secs=3.2, GB=0.17, MB/s=54.36\n",
        "74.00%, ll=0.00000, gf=0.172, secs=3.2, GB=0.17, MB/s=54.38\n",
        "76.00%, ll=0.00000, gf=0.172, secs=3.2, GB=0.18, MB/s=54.38\n",
        "79.00%, ll=0.00000, gf=0.172, secs=3.2, GB=0.18, MB/s=54.36\n"
       ]
      },
      {
       "output_type": "stream",
       "stream": "stdout",
       "text": [
        "82.00%, ll=0.00000, gf=0.172, secs=3.3, GB=0.18, MB/s=54.37\n",
        "85.00%, ll=0.00000, gf=0.172, secs=3.3, GB=0.18, MB/s=54.35\n",
        "87.00%, ll=0.00000, gf=0.172, secs=3.3, GB=0.18, MB/s=54.34\n",
        "90.00%, ll=0.00000, gf=0.172, secs=3.3, GB=0.18, MB/s=54.34\n",
        "93.00%, ll=0.00000, gf=0.172, secs=3.3, GB=0.18, MB/s=54.31\n"
       ]
      },
      {
       "output_type": "stream",
       "stream": "stdout",
       "text": [
        "95.00%, ll=0.00000, gf=0.172, secs=3.3, GB=0.18, MB/s=54.33\n",
        "98.00%, ll=0.00000, gf=0.172, secs=3.3, GB=0.18, MB/s=54.35\n",
        "100.00%, ll=0.00000, gf=0.172, secs=3.3, GB=0.18, MB/s=54.33\n",
        "pass= 7\n",
        " 1.00%, ll=0.00000, gf=0.172, secs=3.3, GB=0.18, MB/s=54.36\n",
        " 3.00%, ll=0.00000, gf=0.172, secs=3.3, GB=0.18, MB/s=54.40\n"
       ]
      },
      {
       "output_type": "stream",
       "stream": "stdout",
       "text": [
        " 5.00%, ll=0.00000, gf=0.173, secs=3.4, GB=0.18, MB/s=54.41\n",
        " 8.00%, ll=-4.71889, gf=0.173, secs=3.4, GB=0.18, MB/s=54.39\n",
        "11.00%, ll=0.00000, gf=0.173, secs=3.4, GB=0.18, MB/s=54.41\n",
        "14.00%, ll=0.00000, gf=0.173, secs=3.4, GB=0.18, MB/s=54.43\n"
       ]
      },
      {
       "output_type": "stream",
       "stream": "stdout",
       "text": [
        "16.00%, ll=0.00000, gf=0.173, secs=3.4, GB=0.19, MB/s=54.43\n",
        "19.00%, ll=0.00000, gf=0.173, secs=3.4, GB=0.19, MB/s=54.43\n",
        "22.00%, ll=0.00000, gf=0.173, secs=3.4, GB=0.19, MB/s=54.45\n",
        "25.00%, ll=0.00000, gf=0.173, secs=3.4, GB=0.19, MB/s=54.47\n",
        "27.00%, ll=0.00000, gf=0.173, secs=3.5, GB=0.19, MB/s=54.49\n"
       ]
      },
      {
       "output_type": "stream",
       "stream": "stdout",
       "text": [
        "30.00%, ll=0.00000, gf=0.173, secs=3.5, GB=0.19, MB/s=54.52\n",
        "33.00%, ll=0.00000, gf=0.173, secs=3.5, GB=0.19, MB/s=54.53\n",
        "35.00%, ll=0.00000, gf=0.173, secs=3.5, GB=0.19, MB/s=54.56\n",
        "38.00%, ll=0.00000, gf=0.173, secs=3.5, GB=0.19, MB/s=54.56\n"
       ]
      },
      {
       "output_type": "stream",
       "stream": "stdout",
       "text": [
        "41.00%, ll=0.00000, gf=0.173, secs=3.5, GB=0.19, MB/s=54.58\n",
        "44.00%, ll=0.00000, gf=0.173, secs=3.5, GB=0.19, MB/s=54.59\n",
        "46.00%, ll=0.00000, gf=0.173, secs=3.5, GB=0.19, MB/s=54.61\n",
        "49.00%, ll=0.00000, gf=0.173, secs=3.6, GB=0.19, MB/s=54.61\n"
       ]
      },
      {
       "output_type": "stream",
       "stream": "stdout",
       "text": [
        "52.00%, ll=0.00000, gf=0.173, secs=3.6, GB=0.20, MB/s=54.61\n",
        "55.00%, ll=-8.08691, gf=0.173, secs=3.6, GB=0.20, MB/s=54.64\n",
        "57.00%, ll=0.00000, gf=0.173, secs=3.6, GB=0.20, MB/s=54.64\n",
        "60.00%, ll=0.00000, gf=0.173, secs=3.6, GB=0.20, MB/s=54.68\n"
       ]
      },
      {
       "output_type": "stream",
       "stream": "stdout",
       "text": [
        "63.00%, ll=0.00000, gf=0.173, secs=3.6, GB=0.20, MB/s=54.68\n",
        "65.00%, ll=0.00000, gf=0.173, secs=3.6, GB=0.20, MB/s=54.67\n",
        "68.00%, ll=0.00000, gf=0.173, secs=3.6, GB=0.20, MB/s=54.68\n",
        "71.00%, ll=0.00000, gf=0.173, secs=3.7, GB=0.20, MB/s=54.69\n"
       ]
      },
      {
       "output_type": "stream",
       "stream": "stdout",
       "text": [
        "74.00%, ll=0.00000, gf=0.173, secs=3.7, GB=0.20, MB/s=54.69\n",
        "76.00%, ll=0.00000, gf=0.173, secs=3.7, GB=0.20, MB/s=54.71\n",
        "79.00%, ll=0.00000, gf=0.173, secs=3.7, GB=0.20, MB/s=54.65\n",
        "82.00%, ll=0.00000, gf=0.173, secs=3.7, GB=0.20, MB/s=54.64\n"
       ]
      },
      {
       "output_type": "stream",
       "stream": "stdout",
       "text": [
        "85.00%, ll=0.00000, gf=0.173, secs=3.7, GB=0.20, MB/s=54.62\n",
        "87.00%, ll=0.00000, gf=0.173, secs=3.7, GB=0.20, MB/s=54.61\n",
        "90.00%, ll=0.00000, gf=0.173, secs=3.8, GB=0.20, MB/s=54.61\n",
        "93.00%, ll=0.00000, gf=0.173, secs=3.8, GB=0.21, MB/s=54.59\n"
       ]
      },
      {
       "output_type": "stream",
       "stream": "stdout",
       "text": [
        "95.00%, ll=0.00000, gf=0.173, secs=3.8, GB=0.21, MB/s=54.60\n",
        "98.00%, ll=0.00000, gf=0.173, secs=3.8, GB=0.21, MB/s=54.61\n",
        "100.00%, ll=0.00000, gf=0.173, secs=3.8, GB=0.21, MB/s=54.62\n",
        "pass= 8\n",
        " 1.00%, ll=0.00000, gf=0.173, secs=3.8, GB=0.21, MB/s=54.64\n",
        " 3.00%, ll=0.00000, gf=0.173, secs=3.8, GB=0.21, MB/s=54.66\n",
        " 5.00%, ll=0.00000, gf=0.173, secs=3.8, GB=0.21, MB/s=54.66\n"
       ]
      },
      {
       "output_type": "stream",
       "stream": "stdout",
       "text": [
        " 8.00%, ll=0.00000, gf=0.173, secs=3.8, GB=0.21, MB/s=54.67\n",
        "11.00%, ll=0.00000, gf=0.173, secs=3.8, GB=0.21, MB/s=54.66\n",
        "14.00%, ll=0.00000, gf=0.173, secs=3.9, GB=0.21, MB/s=54.68\n",
        "16.00%, ll=0.00000, gf=0.174, secs=3.9, GB=0.21, MB/s=54.68\n"
       ]
      },
      {
       "output_type": "stream",
       "stream": "stdout",
       "text": [
        "19.00%, ll=0.00000, gf=0.174, secs=3.9, GB=0.21, MB/s=54.70\n",
        "22.00%, ll=0.00000, gf=0.174, secs=3.9, GB=0.21, MB/s=54.70\n",
        "25.00%, ll=0.00000, gf=0.174, secs=3.9, GB=0.21, MB/s=54.72\n",
        "27.00%, ll=0.00000, gf=0.174, secs=3.9, GB=0.21, MB/s=54.74\n"
       ]
      },
      {
       "output_type": "stream",
       "stream": "stdout",
       "text": [
        "30.00%, ll=0.00000, gf=0.174, secs=3.9, GB=0.22, MB/s=54.77\n",
        "33.00%, ll=0.00000, gf=0.174, secs=3.9, GB=0.22, MB/s=54.77\n",
        "35.00%, ll=0.00000, gf=0.174, secs=4.0, GB=0.22, MB/s=54.81\n",
        "38.00%, ll=0.00000, gf=0.174, secs=4.0, GB=0.22, MB/s=54.82\n"
       ]
      },
      {
       "output_type": "stream",
       "stream": "stdout",
       "text": [
        "41.00%, ll=0.00000, gf=0.174, secs=4.0, GB=0.22, MB/s=54.83\n",
        "44.00%, ll=0.00000, gf=0.174, secs=4.0, GB=0.22, MB/s=54.85\n",
        "46.00%, ll=0.00000, gf=0.174, secs=4.0, GB=0.22, MB/s=54.86\n",
        "49.00%, ll=0.00000, gf=0.174, secs=4.0, GB=0.22, MB/s=54.87\n"
       ]
      },
      {
       "output_type": "stream",
       "stream": "stdout",
       "text": [
        "52.00%, ll=0.00000, gf=0.174, secs=4.0, GB=0.22, MB/s=54.88\n",
        "55.00%, ll=-14.53441, gf=0.174, secs=4.0, GB=0.22, MB/s=54.89\n",
        "57.00%, ll=0.00000, gf=0.174, secs=4.1, GB=0.22, MB/s=54.91\n",
        "60.00%, ll=0.00000, gf=0.174, secs=4.1, GB=0.22, MB/s=54.93\n",
        "63.00%, ll=0.00000, gf=0.174, secs=4.1, GB=0.22, MB/s=54.94\n"
       ]
      },
      {
       "output_type": "stream",
       "stream": "stdout",
       "text": [
        "65.00%, ll=0.00000, gf=0.174, secs=4.1, GB=0.22, MB/s=54.94\n",
        "68.00%, ll=0.00000, gf=0.174, secs=4.1, GB=0.23, MB/s=54.96\n",
        "71.00%, ll=0.00000, gf=0.174, secs=4.1, GB=0.23, MB/s=54.95\n",
        "74.00%, ll=0.00000, gf=0.174, secs=4.1, GB=0.23, MB/s=54.96\n"
       ]
      },
      {
       "output_type": "stream",
       "stream": "stdout",
       "text": [
        "76.00%, ll=0.00000, gf=0.174, secs=4.1, GB=0.23, MB/s=54.98\n",
        "79.00%, ll=0.00000, gf=0.174, secs=4.2, GB=0.23, MB/s=54.98\n",
        "82.00%, ll=0.00000, gf=0.174, secs=4.2, GB=0.23, MB/s=54.98\n",
        "85.00%, ll=0.00000, gf=0.174, secs=4.2, GB=0.23, MB/s=54.95\n"
       ]
      },
      {
       "output_type": "stream",
       "stream": "stdout",
       "text": [
        "87.00%, ll=0.00000, gf=0.174, secs=4.2, GB=0.23, MB/s=54.95\n",
        "90.00%, ll=0.00000, gf=0.174, secs=4.2, GB=0.23, MB/s=54.95\n",
        "93.00%, ll=0.00000, gf=0.174, secs=4.2, GB=0.23, MB/s=54.92\n",
        "95.00%, ll=0.00000, gf=0.174, secs=4.2, GB=0.23, MB/s=54.94\n"
       ]
      },
      {
       "output_type": "stream",
       "stream": "stdout",
       "text": [
        "98.00%, ll=0.00000, gf=0.174, secs=4.2, GB=0.23, MB/s=54.95\n",
        "100.00%, ll=0.00000, gf=0.174, secs=4.2, GB=0.23, MB/s=54.94\n",
        "pass= 9\n",
        " 1.00%, ll=0.00000, gf=0.174, secs=4.2, GB=0.23, MB/s=54.96\n",
        " 3.00%, ll=0.00000, gf=0.174, secs=4.3, GB=0.23, MB/s=54.99\n",
        " 5.00%, ll=0.00000, gf=0.174, secs=4.3, GB=0.23, MB/s=54.98\n",
        " 8.00%, ll=0.00000, gf=0.174, secs=4.3, GB=0.24, MB/s=54.98\n"
       ]
      },
      {
       "output_type": "stream",
       "stream": "stdout",
       "text": [
        "11.00%, ll=0.00000, gf=0.174, secs=4.3, GB=0.24, MB/s=54.99\n",
        "14.00%, ll=0.00000, gf=0.175, secs=4.3, GB=0.24, MB/s=55.01\n",
        "16.00%, ll=0.00000, gf=0.174, secs=4.3, GB=0.24, MB/s=54.99\n",
        "19.00%, ll=0.00000, gf=0.174, secs=4.3, GB=0.24, MB/s=54.99\n"
       ]
      },
      {
       "output_type": "stream",
       "stream": "stdout",
       "text": [
        "22.00%, ll=0.00000, gf=0.174, secs=4.3, GB=0.24, MB/s=54.96\n",
        "25.00%, ll=0.00000, gf=0.174, secs=4.4, GB=0.24, MB/s=54.96\n",
        "27.00%, ll=0.00000, gf=0.174, secs=4.4, GB=0.24, MB/s=54.98\n",
        "30.00%, ll=0.00000, gf=0.174, secs=4.4, GB=0.24, MB/s=54.99\n"
       ]
      },
      {
       "output_type": "stream",
       "stream": "stdout",
       "text": [
        "33.00%, ll=0.00000, gf=0.174, secs=4.4, GB=0.24, MB/s=55.00\n",
        "35.00%, ll=0.00000, gf=0.174, secs=4.4, GB=0.24, MB/s=55.04\n",
        "38.00%, ll=0.00000, gf=0.174, secs=4.4, GB=0.24, MB/s=55.03\n",
        "41.00%, ll=0.00000, gf=0.174, secs=4.4, GB=0.24, MB/s=55.05\n"
       ]
      },
      {
       "output_type": "stream",
       "stream": "stdout",
       "text": [
        "44.00%, ll=0.00000, gf=0.175, secs=4.4, GB=0.24, MB/s=55.07\n",
        "46.00%, ll=0.00000, gf=0.175, secs=4.5, GB=0.25, MB/s=55.08\n",
        "49.00%, ll=0.00000, gf=0.175, secs=4.5, GB=0.25, MB/s=55.08\n",
        "52.00%, ll=0.00000, gf=0.174, secs=4.5, GB=0.25, MB/s=55.05\n"
       ]
      },
      {
       "output_type": "stream",
       "stream": "stdout",
       "text": [
        "55.00%, ll=-12.56799, gf=0.174, secs=4.5, GB=0.25, MB/s=55.05\n",
        "57.00%, ll=0.00000, gf=0.174, secs=4.5, GB=0.25, MB/s=55.07\n",
        "60.00%, ll=0.00000, gf=0.175, secs=4.5, GB=0.25, MB/s=55.09\n",
        "63.00%, ll=0.00000, gf=0.175, secs=4.5, GB=0.25, MB/s=55.10\n"
       ]
      },
      {
       "output_type": "stream",
       "stream": "stdout",
       "text": [
        "65.00%, ll=0.00000, gf=0.175, secs=4.5, GB=0.25, MB/s=55.10\n",
        "68.00%, ll=0.00000, gf=0.175, secs=4.6, GB=0.25, MB/s=55.12\n",
        "71.00%, ll=0.00000, gf=0.175, secs=4.6, GB=0.25, MB/s=55.11\n",
        "74.00%, ll=0.00000, gf=0.175, secs=4.6, GB=0.25, MB/s=55.12\n"
       ]
      },
      {
       "output_type": "stream",
       "stream": "stdout",
       "text": [
        "76.00%, ll=0.00000, gf=0.175, secs=4.6, GB=0.25, MB/s=55.13\n",
        "79.00%, ll=0.00000, gf=0.175, secs=4.6, GB=0.25, MB/s=55.13\n",
        "82.00%, ll=0.00000, gf=0.175, secs=4.6, GB=0.25, MB/s=55.14\n",
        "85.00%, ll=0.00000, gf=0.175, secs=4.6, GB=0.26, MB/s=55.11\n"
       ]
      },
      {
       "output_type": "stream",
       "stream": "stdout",
       "text": [
        "87.00%, ll=0.00000, gf=0.175, secs=4.6, GB=0.26, MB/s=55.11\n",
        "90.00%, ll=0.00000, gf=0.175, secs=4.7, GB=0.26, MB/s=55.11\n",
        "93.00%, ll=0.00000, gf=0.175, secs=4.7, GB=0.26, MB/s=55.10\n",
        "95.00%, ll=0.00000, gf=0.175, secs=4.7, GB=0.26, MB/s=55.10\n",
        "98.00%, ll=0.00000, gf=0.175, secs=4.7, GB=0.26, MB/s=55.11\n"
       ]
      },
      {
       "output_type": "stream",
       "stream": "stdout",
       "text": [
        "100.00%, ll=0.00000, gf=0.175, secs=4.7, GB=0.26, MB/s=55.11\n",
        "Time=4.7000 secs, gflops=0.17\n",
        "corpus perplexity=2738.498933\n",
        "Predicting\n",
        " 3.00%, ll=-25.49420, gf=0.443, secs=0.0, GB=0.00, MB/s=968.95\n",
        " 6.00%, ll=-26.39035, gf=0.886, secs=0.0, GB=0.00, MB/s=1815.42\n",
        "10.00%, ll=-25.93216, gf=0.665, secs=0.0, GB=0.00, MB/s=1303.10\n",
        "13.00%, ll=-26.02807, gf=0.886, secs=0.0, GB=0.00, MB/s=1760.48\n",
        "16.00%, ll=-32.29212, gf=0.739, secs=0.0, GB=0.00, MB/s=1436.46\n",
        "20.00%, ll=-27.72439, gf=0.886, secs=0.0, GB=0.01, MB/s=1729.72\n",
        "23.00%, ll=-27.89162, gf=1.034, secs=0.0, GB=0.01, MB/s=2027.45\n",
        "26.00%, ll=-22.81696, gf=0.886, secs=0.0, GB=0.01, MB/s=1754.11\n",
        "30.00%, ll=-24.22534, gf=0.997, secs=0.0, GB=0.01, MB/s=1980.06\n",
        "33.00%, ll=-28.08043, gf=0.886, secs=0.0, GB=0.01, MB/s=1758.49\n",
        "36.00%, ll=-19.46815, gf=0.975, secs=0.0, GB=0.01, MB/s=1952.36\n",
        "40.00%, ll=-26.69449, gf=1.064, secs=0.0, GB=0.01, MB/s=2127.04\n",
        "43.00%, ll=-27.02115, gf=0.960, secs=0.0, GB=0.01, MB/s=1923.44\n",
        "46.00%, ll=-25.08951, gf=1.034, secs=0.0, GB=0.01, MB/s=2071.65\n",
        "50.00%, ll=-27.52160, gf=1.108, secs=0.0, GB=0.01, MB/s=2218.33\n",
        "53.00%, ll=-27.44321, gf=1.013, secs=0.0, GB=0.01, MB/s=2019.69\n",
        "56.00%, ll=-24.35872, gf=1.076, secs=0.0, GB=0.02, MB/s=2152.42\n",
        "60.00%, ll=-26.62326, gf=0.997, secs=0.0, GB=0.02, MB/s=2002.56\n",
        "63.00%, ll=-23.52752, gf=1.052, secs=0.0, GB=0.02, MB/s=2106.29\n",
        "66.00%, ll=-22.91362, gf=1.108, secs=0.0, GB=0.02, MB/s=2209.01\n",
        "70.00%, ll=-22.55600, gf=1.034, secs=0.0, GB=0.02, MB/s=2062.07\n",
        "73.00%, ll=-34.34498, gf=1.083, secs=0.0, GB=0.02, MB/s=2161.69\n",
        "76.00%, ll=-37.73335, gf=1.019, secs=0.0, GB=0.02, MB/s=2030.46\n",
        "80.00%, ll=-37.91291, gf=1.064, secs=0.0, GB=0.02, MB/s=2111.96\n",
        "83.00%, ll=-34.26848, gf=1.108, secs=0.0, GB=0.02, MB/s=2194.86\n",
        "86.00%, ll=-39.30894, gf=1.047, secs=0.0, GB=0.02, MB/s=2064.46\n",
        "90.00%, ll=-34.54548, gf=1.088, secs=0.0, GB=0.02, MB/s=2135.37\n",
        "93.00%, ll=-37.33205, gf=1.034, secs=0.0, GB=0.02, MB/s=2023.19\n",
        "97.00%, ll=-32.73957, gf=1.071, secs=0.0, GB=0.03, MB/s=2093.70\n",
        "100.00%, ll=-37.11221, gf=1.104, secs=0.0, GB=0.03, MB/s=2158.46\n",
        "Time=0.0120 secs, gflops=1.10\n"
       ]
      },
      {
       "output_type": "stream",
       "stream": "stdout",
       "text": []
      },
      {
       "metadata": {},
       "output_type": "pyout",
       "prompt_number": 52,
       "text": [
        "807"
       ]
      }
     ],
     "prompt_number": 52
    },
    {
     "cell_type": "markdown",
     "metadata": {},
     "source": [
      "Get the word and document counts from the data. This turns out to be equivalent to a matrix multiply. For a data matrix A and category matrix C, we want all (cat, word) pairs (i,j) such that C(i,k) and A(j,k) are both 1 - this means that document k contains word j, and is also tagged with category i. Summing over all documents gives us\n",
      "\n",
      "$${\\rm wordcatCounts(i,j)} = \\sum_{k=1}^N C(i,k) A(j,k) = C * A^T$$\n",
      "\n",
      "\n",
      "Because we are doing independent binary classifiers for each class, we need to construct the counts for words not in the class (negwcounts).\n",
      "\n",
      "Finally, we add a smoothing count 0.5 to counts that could be zero."
     ]
    },
    {
     "cell_type": "code",
     "collapsed": false,
     "input": [
      "val cx=zeros(ctest.nrows,ctest.ncols)\n",
      "val (mm,mopts,nn,nopts)=GLM.learner(atrain,ctrain,atest,cx,0)\n",
      "mopts.autoReset=false\n",
      "mopts.useGPU=false\n",
      "mopts.lrate=0.1\n",
      "mopts.batchSize=2\n",
      "mopts.dim=256\n",
      "mopts.startBlock=0\n",
      "mopts.npasses=10\n",
      "mopts.updateAll=false\n",
      "//mopts.what"
     ],
     "language": "python",
     "metadata": {},
     "outputs": [
      {
       "output_type": "stream",
       "stream": "stdout",
       "text": []
      },
      {
       "output_type": "stream",
       "stream": "stdout",
       "text": []
      },
      {
       "metadata": {},
       "output_type": "pyout",
       "prompt_number": 45,
       "text": [
        "false"
       ]
      }
     ],
     "prompt_number": 45
    },
    {
     "cell_type": "markdown",
     "metadata": {},
     "source": [
      "Now compute the probabilities \n",
      "* pwordcat = probability that a word is in a cat, given the cat.\n",
      "* pwordncat = probability of a word, given the complement of the cat.\n",
      "* pcat = probability that doc is in a given cat. \n",
      "* spcat = sum of pcat probabilities (> 1 because docs can be in multiple cats)"
     ]
    },
    {
     "cell_type": "code",
     "collapsed": false,
     "input": [
      "//mm.train\n",
      "//nn.predict\n",
      "atrain.ncols"
     ],
     "language": "python",
     "metadata": {},
     "outputs": [
      {
       "output_type": "stream",
       "stream": "stdout",
       "text": []
      },
      {
       "ename": "java.lang.NoClassDefFoundError",
       "evalue": "Could not initialize class ",
       "output_type": "pyerr",
       "traceback": [
        "java.lang.NoClassDefFoundError: Could not initialize class "
       ]
      },
      {
       "output_type": "stream",
       "stream": "stdout",
       "text": []
      }
     ],
     "prompt_number": 11
    },
    {
     "cell_type": "markdown",
     "metadata": {},
     "source": [
      "Now take the logs of those probabilities. Here we're using the formula presented <a href=\"https://bcourses.berkeley.edu/courses/1267848/files/51512989/download?wrap=1in\">here</a> to match Naive Bayes to Logistic Regression for independent data.\n",
      "\n",
      "For each word, we compute the log of the ratio of the complementary word probability over the in-class word probability. \n",
      "\n",
      "For each category, we compute the log of the ratio of the complementary category probability over the current category probability.\n",
      "\n",
      "lpwordcat(j,i) represents $\\log\\left(\\frac{{\\rm Pr}(X_i|\\neg c_j)}{{\\rm Pr}(X_i|c_j)}\\right)$\n",
      "\n",
      "while lpcat(j) represents $\\log\\left(\\frac{{\\rm Pr}(\\neg c)}{{\\rm Pr}(c)}\\right)$"
     ]
    },
    {
     "cell_type": "code",
     "collapsed": false,
     "input": [
      "val cx1=cx\n",
      "min(cx1, 1, cx1)                       // the first \"traindata\" argument is the input, the other is output\n",
      "max(cx1, 0, cx1) \n",
      "val p=ctest *@cx1 +(1-ctest) *@(1-cx1)\n",
      "mean(p,2)\n",
      "//saveFMat(rpath+index+\".txt\",cx)\n",
      "cx"
     ],
     "language": "python",
     "metadata": {},
     "outputs": [
      {
       "output_type": "stream",
       "stream": "stdout",
       "text": []
      },
      {
       "output_type": "stream",
       "stream": "stdout",
       "text": []
      },
      {
       "metadata": {},
       "output_type": "pyout",
       "prompt_number": 54,
       "text": [
        "   1   1   1   1   1   1   1   1   1   1   1   1   1   1   1   1   1   1...\n",
        "   0   0   0   0   0   0   0   0   0   0   0   0   0   0   0   0   0   0...\n"
       ]
      }
     ],
     "prompt_number": 54
    },
    {
     "cell_type": "markdown",
     "metadata": {},
     "source": [
      "Here's where we apply Naive Bayes. The formula we're using is borrowed from <a href=\"https://bcourses.berkeley.edu/courses/1267848/files/51512989/download?wrap=1in\">here</a>.\n",
      "\n",
      "$${\\rm Pr}(c|X_1,\\ldots,X_k) = \\frac{1}{1 + \\frac{{\\rm Pr}(\\neg c)}{{\\rm Pr}(c)}\\prod_{i-1}^k\\frac{{\\rm Pr}(X_i|\\neg c)}{{\\rm Pr}(X_i|c)}}$$\n",
      "\n",
      "and we can rewrite\n",
      "\n",
      "$$\\frac{{\\rm Pr}(\\neg c)}{{\\rm Pr}(c)}\\prod_{i-1}^k\\frac{{\\rm Pr}(X_i|\\neg c)}{{\\rm Pr}(X_i|c)}$$\n",
      "\n",
      "as\n",
      "\n",
      "$$\\exp\\left(\\log\\left(\\frac{{\\rm Pr}(\\neg c)}{{\\rm Pr}(c)}\\right) + \\sum_{i=1}^k\\log\\left(\\frac{{\\rm Pr}(X_i|\\neg c)}{{\\rm Pr}(X_i|c)}\\right)\\right)  = \\exp({\\rm lpcat(j)} + {\\rm lpwordcat(j,?)} * X)$$\n",
      "\n",
      "for class number j and an input column $X$. This follows because an input column $X$ is a sparse vector with ones in the positions of the input features. The product ${\\rm lpwordcat(i,?)} * X$ picks out the features occuring in the input document and adds the corresponding logs from lpwordcat. \n",
      "\n",
      "Finally, we take the exponential above and fold it into the formula $P(c_j|X_1,\\ldots,X_k) = 1/(1+\\exp(\\cdots))$. This gives us a matrix of predictions. preds(i,j) = prediction of membership in category i for test document j. "
     ]
    },
    {
     "cell_type": "code",
     "collapsed": false,
     "input": [
      "val lacc = (cx1 \u2219\u2192 ctest + (1-cx1) \u2219\u2192 (1-ctest))/cx1.ncols\n",
      "lacc.t\n",
      "mean(lacc)"
     ],
     "language": "python",
     "metadata": {},
     "outputs": [
      {
       "output_type": "stream",
       "stream": "stdout",
       "text": []
      },
      {
       "output_type": "stream",
       "stream": "stdout",
       "text": []
      },
      {
       "metadata": {},
       "output_type": "pyout",
       "prompt_number": 6,
       "text": [
        "0.76865"
       ]
      }
     ],
     "prompt_number": 6
    },
    {
     "cell_type": "markdown",
     "metadata": {},
     "source": [
      "To measure the accuracy of the predictions above, we can compute the probability that the classifier outputs the right label. We used this formula in class for the expected accuracy for logistic regression. The \"dot arrow\" operator takes dot product along rows:"
     ]
    },
    {
     "cell_type": "code",
     "collapsed": false,
     "input": [
      "val model = mm.model\n",
      "val (nn1, nopts1) = GLM.LBFGSpredictor(model, atest, cx)"
     ],
     "language": "python",
     "metadata": {},
     "outputs": [
      {
       "output_type": "stream",
       "stream": "stdout",
       "text": []
      },
      {
       "output_type": "stream",
       "stream": "stdout",
       "text": []
      },
      {
       "metadata": {},
       "output_type": "pyout",
       "prompt_number": 7,
       "text": [
        "BIDMach.models.GLM$LearnLBFGSOptions@8eb62c4"
       ]
      }
     ],
     "prompt_number": 7
    },
    {
     "cell_type": "markdown",
     "metadata": {},
     "source": [
      "Raw accuracy is not a good measure in most cases. When there are few positives (instances in the class vs. its complement), accuracy simply drives down false-positive rate at the expense of false-negative rate. In the worst case, the learner may always predict \"no\" and still achieve high accuracy. \n",
      "\n",
      "ROC curves and ROC Area Under the Curve (AUC) are much better. Here we compute the ROC curves from the predictions above. We need:\n",
      "* scores - the predicted quality from the formula above.\n",
      "* good - 1 for positive instances, 0 for negative instances.\n",
      "* bad - complement of good. \n",
      "* npoints (100) - specifies the number of X-axis points for the ROC plot. \n",
      "\n",
      "itest specifies which of the categories to plot for. We chose itest=6 because that category has one of the highest positive rates, and gives the most stable accuracy plots.  "
     ]
    },
    {
     "cell_type": "code",
     "collapsed": false,
     "input": [
      "nn1.predict"
     ],
     "language": "python",
     "metadata": {},
     "outputs": [
      {
       "output_type": "stream",
       "stream": "stdout",
       "text": [
        "corpus perplexity=1.970211\n",
        "Predicting\n",
        " 4.00%, ll=-0.88782, gf=Infinity, secs=0.0, GB=0.00, MB/s=Infinity\n",
        " 8.00%, ll=-0.87371, gf=0.000, secs=0.0, GB=0.00, MB/s= 0.19\n",
        "12.00%, ll=-0.94405, gf=0.000, secs=0.0, GB=0.00, MB/s= 0.14\n",
        "16.00%, ll=-0.97745, gf=0.000, secs=0.0, GB=0.00, MB/s= 0.19\n",
        "20.00%, ll=-0.91692, gf=0.000, secs=0.0, GB=0.00, MB/s= 0.24\n",
        "24.00%, ll=-0.95906, gf=0.000, secs=0.0, GB=0.00, MB/s= 0.19\n",
        "28.00%, ll=-0.91178, gf=0.000, secs=0.0, GB=0.00, MB/s= 0.22\n",
        "32.00%, ll=-0.80047, gf=0.000, secs=0.0, GB=0.00, MB/s= 0.26\n",
        "36.00%, ll=-0.92667, gf=0.000, secs=0.0, GB=0.00, MB/s= 0.22\n",
        "40.00%, ll=-0.91742, gf=0.000, secs=0.0, GB=0.00, MB/s= 0.24\n",
        "44.00%, ll=-0.92421, gf=0.000, secs=0.0, GB=0.00, MB/s= 0.26\n",
        "48.00%, ll=-0.94550, gf=0.000, secs=0.0, GB=0.00, MB/s= 0.23\n",
        "51.00%, ll=-0.81677, gf=0.000, secs=0.0, GB=0.00, MB/s= 0.25\n",
        "56.00%, ll=-0.91331, gf=0.000, secs=0.0, GB=0.00, MB/s= 0.27\n",
        "60.00%, ll=-0.93091, gf=0.000, secs=0.0, GB=0.00, MB/s= 0.24\n",
        "64.00%, ll=-0.85525, gf=0.000, secs=0.0, GB=0.00, MB/s= 0.26\n",
        "68.00%, ll=-0.87134, gf=0.000, secs=0.0, GB=0.00, MB/s= 0.27\n",
        "72.00%, ll=-0.94563, gf=0.000, secs=0.0, GB=0.00, MB/s= 0.25\n",
        "76.00%, ll=-0.78031, gf=0.000, secs=0.0, GB=0.00, MB/s= 0.26\n",
        "80.00%, ll=-0.94823, gf=0.000, secs=0.0, GB=0.00, MB/s= 0.27\n",
        "83.00%, ll=-0.95096, gf=0.000, secs=0.0, GB=0.00, MB/s= 0.29\n",
        "88.00%, ll=-0.86657, gf=0.000, secs=0.0, GB=0.00, MB/s= 0.26\n",
        "92.00%, ll=-0.97759, gf=0.000, secs=0.0, GB=0.00, MB/s= 0.28\n",
        "96.00%, ll=-0.75901, gf=0.000, secs=0.0, GB=0.00, MB/s= 0.29\n",
        "100.00%, ll=-0.93326, gf=0.000, secs=0.0, GB=0.00, MB/s= 0.27\n",
        "Time=0.0090 secs, gflops=0.00\n"
       ]
      },
      {
       "output_type": "stream",
       "stream": "stdout",
       "text": []
      }
     ],
     "prompt_number": 8
    },
    {
     "cell_type": "markdown",
     "metadata": {},
     "source": [
      "> TODO 1: In the cell below, write an expression to derive the ROC Area under the curve (AUC) given the curve rr. rr gives the ROC curve y-coordinates at 100 evenly-spaced X-values from 0 to 1.0. "
     ]
    },
    {
     "cell_type": "code",
     "collapsed": false,
     "input": [
      "val cx1=cx*10\n",
      "min(cx1, 1, cx1)                       // the first \"traindata\" argument is the input, the other is output\n",
      "max(cx1, 0, cx1) \n",
      "val p=ctest *@cx1 +(1-ctest) *@(1-cx1)\n",
      "mean(p,2)\n",
      "val lacc = (cx1 \u2219\u2192 ctest + (1-cx1) \u2219\u2192 (1-ctest))/cx1.ncols\n",
      "lacc.t\n",
      "mean(lacc)"
     ],
     "language": "python",
     "metadata": {},
     "outputs": [
      {
       "output_type": "stream",
       "stream": "stdout",
       "text": []
      },
      {
       "output_type": "stream",
       "stream": "stdout",
       "text": []
      },
      {
       "metadata": {},
       "output_type": "pyout",
       "prompt_number": 9,
       "text": [
        "0.81119"
       ]
      }
     ],
     "prompt_number": 9
    },
    {
     "cell_type": "markdown",
     "metadata": {},
     "source": [
      "> TODO 2: In the cell below, write the value of AUC returned by the expression above."
     ]
    },
    {
     "cell_type": "code",
     "collapsed": false,
     "input": [
      "cx1"
     ],
     "language": "python",
     "metadata": {},
     "outputs": [
      {
       "output_type": "stream",
       "stream": "stdout",
       "text": []
      },
      {
       "output_type": "stream",
       "stream": "stdout",
       "text": []
      },
      {
       "metadata": {},
       "output_type": "pyout",
       "prompt_number": 10,
       "text": [
        "        1  0.97167  0.32712        1        1        0  0.19741        1...\n",
        "        0        0        0        0        0        1        0        0...\n"
       ]
      }
     ],
     "prompt_number": 10
    },
    {
     "cell_type": "code",
     "collapsed": false,
     "input": [
      "saveFMat(dict+\"moonresult.fmat.txt\",cx)"
     ],
     "language": "python",
     "metadata": {},
     "outputs": [
      {
       "output_type": "stream",
       "stream": "stdout",
       "text": []
      },
      {
       "output_type": "stream",
       "stream": "stdout",
       "text": []
      }
     ],
     "prompt_number": 11
    },
    {
     "cell_type": "heading",
     "level": 2,
     "metadata": {},
     "source": [
      "Logistic Regression"
     ]
    },
    {
     "cell_type": "markdown",
     "metadata": {},
     "source": [
      "Now lets train a logistic classifier on the same data. BIDMach has an umbrella classifier called GLM for Generalized Linear Model. GLM includes linear regression, logistic regression (with log accuracy or direct accuracy optimization), and SVM. \n",
      "\n",
      "The learner function accepts these arguments:\n",
      "* traindata: the training data in the same format as for Naive Bayes\n",
      "* traincats: the training category labels\n",
      "* testdata: the test input data\n",
      "* predcats: a container for the predictions generated by the model\n",
      "* modeltype (GLM.logistic here): an integer that specifies the type of model (0=linear, 1=logistic log accuracy, 2=logistic accuracy, 3=SVM). \n",
      "\n",
      "We'll construct the learner and then look at its options:"
     ]
    },
    {
     "cell_type": "code",
     "collapsed": false,
     "input": [
      "val dict = \"/Users/Anna/workspace/BIDMach/data/wildlife/\"\n",
      "val aa = loadFMat(dict+\"1.txt\")\n",
      "val c = loadFMat(dict+\"c1.txt\")\n",
      "val b = loadFMat(\"/Users/Anna/workspace/BIDMach/data/wltestall.txt\")\n",
      "val d = loadFMat(\"/Users/Anna/workspace/BIDMach/data/wltestcatall.txt\")\n",
      "//val dict = \"/Users/Anna/workspace/BIDMach_1.0.0-full-linux-x86_64/data/uci/\"\n",
      "//val aa = loadFMat(dict+\"arabic.fmat.lz4\")\n",
      "//val c = loadFMat(dict+\"arabic_cats.fmat.lz4\")\n",
      "val a = aa *10  \n",
      "val atrain = a //a(?,(100->a.ncols))\n",
      "val atest =  a //a(?,(0->100))\n",
      "val ctrain = c //c(?,(100->a.ncols))\n",
      "val ctest = c //c(?,(0->100))\n",
      "//max(atrain, 0.001, atrain)                       // the first \"traindata\" argument is the input, the other is output\n",
      "//max(atest, 0.001, atest)\n",
      "atrain"
     ],
     "language": "python",
     "metadata": {},
     "outputs": [
      {
       "output_type": "stream",
       "stream": "stdout",
       "text": []
      },
      {
       "output_type": "stream",
       "stream": "stdout",
       "text": []
      },
      {
       "metadata": {},
       "output_type": "pyout",
       "prompt_number": 2,
       "text": [
        "    -0.33386    -0.33914    -0.29299    -0.40609    -0.43935    -0.55155...\n",
        "     0.28568     0.18359  -0.0037000    -0.17297   -0.095350   -0.013070...\n",
        "   -0.098630    -0.13269     0.41184     0.40252     0.24642     0.26601...\n",
        "   -0.031890   -0.038550     0.38608     0.35432     0.21913     0.31026...\n",
        "     0.17352     0.25341     0.37047     0.53088     0.40656     0.43656...\n",
        "     0.45181     0.47072     0.50574     0.36032     0.33288     0.26337...\n",
        "     0.24997    -0.11709     0.54020     0.33701     0.30424     0.15961...\n",
        "     0.10230    0.082690    0.017330     0.46488     0.24725   -0.025730...\n",
        "          ..          ..          ..          ..          ..          ..\n"
       ]
      }
     ],
     "prompt_number": 2
    },
    {
     "cell_type": "markdown",
     "metadata": {},
     "source": [
      "The most important options are:\n",
      "* lrate: the learning rate\n",
      "* batchSize: the minibatch size\n",
      "* npasses: the number of passes over the dataset\n",
      "\n",
      "We'll use the following parameters for this training run. "
     ]
    },
    {
     "cell_type": "code",
     "collapsed": false,
     "input": [
      "val cx=zeros(2,ctest.ncols)\n",
      "val (mm,mopts,nn,nopts)=GLM.SVMlearner(atrain,ctrain,atest,cx)\n",
      "mopts.autoReset=false\n",
      "mopts.useGPU=false\n",
      "mopts.lrate=1\n",
      "mopts.batchSize=2\n",
      "mopts.dim=256\n",
      "mopts.startBlock=0\n",
      "mopts.npasses=10\n",
      "mopts.updateAll=false\n",
      "mopts.what"
     ],
     "language": "python",
     "metadata": {},
     "outputs": [
      {
       "output_type": "stream",
       "stream": "stdout",
       "text": [
        "Option Name       Type          Value\n",
        "===========       ====          =====\n",
        "addConstFeat      boolean       false\n",
        "autoReset         boolean       false\n",
        "batchSize         int           2\n",
        "dim               int           256\n",
        "doubleScore       boolean       false\n",
        "epsilon           float         1.0E-5\n",
        "evalStep          int           11\n",
        "featThreshold     Mat           null\n",
        "featType          int           1\n",
        "hashFeatures      boolean       false\n",
        "initsumsq         float         1.0E-5\n",
        "iweight           FMat          null\n",
        "lim               float         0.0\n",
        "links             IMat             3\n",
        "   3\n",
        "\n",
        "lrate             FMat          1\n",
        "mask              FMat          null\n",
        "npasses           int           10\n",
        "nzPerColumn       int           0\n",
        "pstep             float         0.01\n",
        "putBack           int           -1\n",
        "r1nmats           int           1\n",
        "r2nmats           int           1\n",
        "reg1weight        FMat          1.0000e-07\n",
        "reg2weight        FMat          1\n",
        "resFile           String        null\n",
        "rmask             FMat          null\n",
        "sample            float         1.0\n",
        "sizeMargin        float         3.0\n",
        "startBlock        int           0\n",
        "targets           FMat          null\n",
        "targmap           FMat          null\n",
        "texp              FMat          0.50000\n",
        "updateAll         boolean       false\n",
        "useCache          boolean       true\n",
        "useDouble         boolean       false\n",
        "useGPU            boolean       false\n",
        "vexp              FMat          0.50000\n",
        "waitsteps         int           2\n"
       ]
      },
      {
       "output_type": "stream",
       "stream": "stdout",
       "text": []
      }
     ],
     "prompt_number": 7
    },
    {
     "cell_type": "code",
     "collapsed": false,
     "input": [
      "mm.train\n",
      "nn.predict\n",
      "val cx1=cx\n",
      "//min(cx1, 1, cx1)                       // the first \"traindata\" argument is the input, the other is output\n",
      "//max(cx1, 0, cx1) \n",
      "//val p=ctest *@cx1 +(1-ctest) *@(1-cx1)\n",
      "//mean(p,2)\n",
      "cx"
     ],
     "language": "python",
     "metadata": {},
     "outputs": [
      {
       "output_type": "stream",
       "stream": "stdout",
       "text": [
        "corpus perplexity=NaN\n",
        "pass= 0\n",
        " 6.00%, ll=-1.00000, gf=0.011, secs=0.0, GB=0.00, MB/s=12.00\n",
        "41.00%, ll=0.00000, gf=0.010, secs=0.1, GB=0.00, MB/s= 5.11\n",
        "77.00%, ll=0.00000, gf=0.018, secs=0.1, GB=0.00, MB/s= 8.73\n",
        "100.00%, ll=0.00000, gf=0.023, secs=0.1, GB=0.00, MB/s=10.78\n",
        "pass= 1\n",
        " 6.00%, ll=0.00000, gf=0.023, secs=0.1, GB=0.00, MB/s=11.31\n",
        "41.00%, ll=0.00000, gf=0.026, secs=0.1, GB=0.00, MB/s=12.14\n",
        "77.00%, ll=0.00000, gf=0.031, secs=0.1, GB=0.00, MB/s=14.35\n",
        "100.00%, ll=0.00000, gf=0.026, secs=0.1, GB=0.00, MB/s=12.30\n",
        "pass= 2\n",
        " 6.00%, ll=0.00000, gf=0.026, secs=0.1, GB=0.00, MB/s=12.49\n",
        "41.00%, ll=0.00000, gf=0.030, secs=0.1, GB=0.00, MB/s=13.95\n",
        "77.00%, ll=0.00000, gf=0.029, secs=0.2, GB=0.00, MB/s=13.76\n",
        "100.00%, ll=0.00000, gf=0.031, secs=0.2, GB=0.00, MB/s=14.59\n",
        "pass= 3\n",
        " 6.00%, ll=0.00000, gf=0.031, secs=0.2, GB=0.00, MB/s=14.80\n",
        "41.00%, ll=0.00000, gf=0.034, secs=0.2, GB=0.00, MB/s=16.00\n",
        "77.00%, ll=0.00000, gf=0.034, secs=0.2, GB=0.00, MB/s=15.95\n",
        "100.00%, ll=0.00000, gf=0.035, secs=0.2, GB=0.00, MB/s=16.53\n",
        "pass= 4\n",
        " 6.00%, ll=0.00000, gf=0.036, secs=0.2, GB=0.00, MB/s=16.80\n",
        "41.00%, ll=0.00000, gf=0.038, secs=0.2, GB=0.00, MB/s=17.77\n",
        "77.00%, ll=-0.21902, gf=0.038, secs=0.2, GB=0.00, MB/s=17.67\n",
        "100.00%, ll=0.00000, gf=0.039, secs=0.2, GB=0.00, MB/s=18.15\n",
        "pass= 5\n",
        " 6.00%, ll=0.00000, gf=0.039, secs=0.2, GB=0.00, MB/s=18.38\n",
        "41.00%, ll=0.00000, gf=0.041, secs=0.2, GB=0.00, MB/s=19.11\n",
        "77.00%, ll=-0.14903, gf=0.043, secs=0.2, GB=0.00, MB/s=19.89\n",
        "100.00%, ll=0.00000, gf=0.040, secs=0.2, GB=0.00, MB/s=18.45\n",
        "pass= 6\n",
        " 6.00%, ll=0.00000, gf=0.040, secs=0.2, GB=0.00, MB/s=18.57\n",
        "41.00%, ll=0.00000, gf=0.041, secs=0.3, GB=0.00, MB/s=19.10\n",
        "77.00%, ll=-0.10156, gf=0.042, secs=0.3, GB=0.01, MB/s=19.76\n",
        "100.00%, ll=0.00000, gf=0.043, secs=0.3, GB=0.01, MB/s=20.19\n",
        "pass= 7\n",
        " 6.00%, ll=0.00000, gf=0.043, secs=0.3, GB=0.01, MB/s=20.29\n",
        "41.00%, ll=0.00000, gf=0.042, secs=0.3, GB=0.01, MB/s=19.78\n",
        "77.00%, ll=0.00000, gf=0.043, secs=0.3, GB=0.01, MB/s=20.22\n",
        "100.00%, ll=0.00000, gf=0.044, secs=0.3, GB=0.01, MB/s=20.52\n",
        "pass= 8\n",
        " 6.00%, ll=0.00000, gf=0.044, secs=0.3, GB=0.01, MB/s=20.62\n",
        "41.00%, ll=0.00000, gf=0.045, secs=0.3, GB=0.01, MB/s=21.16\n",
        "77.00%, ll=0.00000, gf=0.045, secs=0.3, GB=0.01, MB/s=20.86\n",
        "100.00%, ll=0.00000, gf=0.045, secs=0.3, GB=0.01, MB/s=21.19\n",
        "pass= 9\n",
        " 6.00%, ll=0.00000, gf=0.046, secs=0.3, GB=0.01, MB/s=21.27\n",
        "41.00%, ll=0.00000, gf=0.047, secs=0.3, GB=0.01, MB/s=21.76\n",
        "77.00%, ll=0.00000, gf=0.048, secs=0.3, GB=0.01, MB/s=22.17\n",
        "100.00%, ll=0.00000, gf=0.048, secs=0.3, GB=0.01, MB/s=22.48\n",
        "Time=0.3310 secs, gflops=0.05\n",
        "corpus perplexity=NaN\n",
        "Predicting\n",
        " 4.00%, ll=-5.35505, gf=Infinity, secs=0.0, GB=0.00, MB/s=Infinity\n",
        " 9.00%, ll=-5.56336, gf=Infinity, secs=0.0, GB=0.00, MB/s=Infinity\n",
        "14.00%, ll=-5.39651, gf=0.036, secs=0.0, GB=0.00, MB/s=108.00\n",
        "19.00%, ll=-3.47791, gf=0.048, secs=0.0, GB=0.00, MB/s=144.00\n",
        "24.00%, ll=-4.42609, gf=0.060, secs=0.0, GB=0.00, MB/s=180.00\n",
        "29.00%, ll=-5.00045, gf=0.036, secs=0.0, GB=0.00, MB/s=108.00\n",
        "33.00%, ll=-4.28123, gf=0.042, secs=0.0, GB=0.00, MB/s=126.00\n",
        "38.00%, ll=-4.85835, gf=0.048, secs=0.0, GB=0.00, MB/s=144.00\n",
        "43.00%, ll=-4.95342, gf=0.036, secs=0.0, GB=0.00, MB/s=108.00\n",
        "48.00%, ll=-5.43300, gf=0.040, secs=0.0, GB=0.00, MB/s=120.00\n",
        "53.00%, ll=-4.59199, gf=0.044, secs=0.0, GB=0.00, MB/s=132.00\n",
        "58.00%, ll=-3.04440, gf=0.036, secs=0.0, GB=0.00, MB/s=108.00\n",
        "62.00%, ll=-4.28866, gf=0.039, secs=0.0, GB=0.00, MB/s=117.00\n",
        "67.00%, ll=-4.49006, gf=0.042, secs=0.0, GB=0.00, MB/s=126.00\n",
        "72.00%, ll=-6.24142, gf=0.036, secs=0.0, GB=0.00, MB/s=108.00\n",
        "77.00%, ll=-5.79272, gf=0.039, secs=0.0, GB=0.00, MB/s=115.20\n",
        "82.00%, ll=-3.15073, gf=0.041, secs=0.0, GB=0.00, MB/s=122.40\n",
        "87.00%, ll=-4.36058, gf=0.044, secs=0.0, GB=0.00, MB/s=129.60\n",
        "91.00%, ll=-7.38732, gf=0.038, secs=0.0, GB=0.00, MB/s=114.00\n",
        "96.00%, ll=-10.42975, gf=0.040, secs=0.0, GB=0.00, MB/s=120.00\n",
        "100.00%, ll=-6.19474, gf=0.042, secs=0.0, GB=0.00, MB/s=124.00\n",
        "Time=0.0070 secs, gflops=0.04\n"
       ]
      },
      {
       "output_type": "stream",
       "stream": "stdout",
       "text": []
      },
      {
       "metadata": {},
       "output_type": "pyout",
       "prompt_number": 8,
       "text": [
        "  -7.7981  -10.713  -10.620  -11.079  -10.499  -8.8026  -12.241  -12.910...\n",
        "   7.7981   10.713   10.620   11.079   10.499   8.8026   12.241   12.910...\n"
       ]
      }
     ],
     "prompt_number": 8
    },
    {
     "cell_type": "markdown",
     "metadata": {},
     "source": [
      "Since we have the accuracy scores for both Naive Bayes and Logistic regression, we can plot both of them on the same axes. Naive Bayes is red, Logistic regression is blue. The x-axis is the category number from 0 to 102. The y-axis is the absolute accuracy of the predictor for that category. "
     ]
    },
    {
     "cell_type": "code",
     "collapsed": false,
     "input": [
      "val lacc = (cx1 \u2219\u2192 ctest + (1-cx1) \u2219\u2192 (1-ctest))/cx1.ncols\n",
      "lacc.t\n",
      "mean(lacc)"
     ],
     "language": "python",
     "metadata": {},
     "outputs": [
      {
       "output_type": "stream",
       "stream": "stdout",
       "text": []
      },
      {
       "ename": "java.lang.NoClassDefFoundError",
       "evalue": "Could not initialize class ",
       "output_type": "pyerr",
       "traceback": [
        "java.lang.NoClassDefFoundError: Could not initialize class "
       ]
      },
      {
       "output_type": "stream",
       "stream": "stdout",
       "text": []
      }
     ],
     "prompt_number": 7
    },
    {
     "cell_type": "markdown",
     "metadata": {},
     "source": [
      "> TODO 3: With the full training set (700k training documents), Logistic Regression is noticeably more accurate than Naive Bayes in every category. What do you observe in the plot above? Why do you think this is?"
     ]
    },
    {
     "cell_type": "markdown",
     "metadata": {},
     "source": [
      "Next we'll compute the ROC plot and ROC area (AUC) for Logistic regression  for category itest."
     ]
    },
    {
     "cell_type": "code",
     "collapsed": false,
     "input": [
      "saveFMat(dict+\"wildliferesults.fmat.txt\",cx) "
     ],
     "language": "python",
     "metadata": {},
     "outputs": [
      {
       "output_type": "stream",
       "stream": "stdout",
       "text": []
      },
      {
       "output_type": "stream",
       "stream": "stdout",
       "text": []
      }
     ],
     "prompt_number": 40
    },
    {
     "cell_type": "markdown",
     "metadata": {},
     "source": [
      "We computed the ROC curve for Naive Bayes earlier, so now we can plot them on the same axes. Naive Bayes is once again in red, Logistic regression in blue. "
     ]
    },
    {
     "cell_type": "code",
     "collapsed": false,
     "input": [
      "cx1"
     ],
     "language": "python",
     "metadata": {},
     "outputs": [
      {
       "output_type": "stream",
       "stream": "stdout",
       "text": []
      },
      {
       "output_type": "stream",
       "stream": "stdout",
       "text": []
      },
      {
       "metadata": {},
       "output_type": "pyout",
       "prompt_number": 51,
       "text": [
        "  1.1398e-13  1.0409e-13  3.1763e-16  6.3486e-17  3.7628e-18  6.3368e-16...\n",
        "  1.0488e-14  3.4730e-14  1.2205e-16  1.6546e-17  7.8444e-19  1.5367e-16...\n",
        "  4.9068e-14  1.3641e-12  5.0059e-15  1.0316e-15  4.3107e-18  2.8967e-15...\n",
        "  3.2656e-14  5.3654e-14  1.1086e-16  1.9517e-17  8.0842e-19  3.9087e-17...\n",
        "  8.4080e-11  2.6030e-12  1.4020e-14  1.3571e-15  2.5275e-15  8.0566e-13...\n",
        "  1.8410e-13  2.3721e-13  2.6570e-16  6.7162e-17  5.4204e-18  8.2176e-16...\n",
        "  6.5161e-11  1.3945e-10  2.1820e-12  7.0878e-14  1.5250e-15  2.8615e-12...\n",
        "  1.6085e-13  1.9523e-13  3.2423e-16  5.6627e-17  7.7785e-18  1.7874e-15...\n",
        "          ..          ..          ..          ..          ..          ..\n"
       ]
      }
     ],
     "prompt_number": 51
    },
    {
     "cell_type": "markdown",
     "metadata": {},
     "source": [
      ">TODO 4: In the cell below, compute and plot lift curves from the ROC curves for Naive Bayes and Logistic regression. The lift curves should show the ratio of ROC y-values over a unit slope diagonal line (Y=X). The X-values should be the same as for the ROC plots, except that X=0 will be omitted since the lift will be undefined. "
     ]
    },
    {
     "cell_type": "code",
     "collapsed": false,
     "input": [
      "val dict = \"/Users/Anna/workspace/BIDMach_1.0.0-full-linux-x86_64/data/\"\n",
      "//val a = loadFMat(dict+\"arabic.fmat.lz4\")\n",
      "//val c = loadFMat(dict+\"arabic_cats.fmat.lz4\")\n",
      "val aa = loadFMat(dict+\"a.txt\")\n",
      "val c = loadFMat(dict+\"alabel.txt\")\n",
      "val a = aa + 0.5 \n",
      "val atrain =a(?,(100->a.ncols))\n",
      "val atest =a(?,(0->100))\n",
      "val ctrain =c(?,(100->a.ncols))\n",
      "val ctest =c(?,(0->100))\n",
      "max(atrain, 0.001, atrain)                       // the first \"traindata\" argument is the input, the other is output\n",
      "max(atest, 0.001, atest)\n",
      "atest"
     ],
     "language": "python",
     "metadata": {},
     "outputs": [
      {
       "output_type": "stream",
       "stream": "stdout",
       "text": []
      },
      {
       "output_type": "stream",
       "stream": "stdout",
       "text": []
      },
      {
       "metadata": {},
       "output_type": "pyout",
       "prompt_number": 2,
       "text": [
        "   0.075172    0.42627    0.64251    0.36696    0.19400    0.58963...\n",
        "    0.64074    0.42242    0.41518    0.87276    0.77227  0.0010000...\n"
       ]
      }
     ],
     "prompt_number": 2
    },
    {
     "cell_type": "markdown",
     "metadata": {},
     "source": [
      "> TODO 5: Experiment with different values for learning rate and batchSize to get the best performance for absolute accuracy and ROC area on category 6. Write your optimal values below:"
     ]
    },
    {
     "cell_type": "code",
     "collapsed": false,
     "input": [
      "val cx=zeros(ctest.nrows,ctest.ncols)\n",
      "val (mm,mopts,nn,nopts)=GLM.SVMlearner(atrain,ctrain,atest,cx)\n",
      "mopts.autoReset=false\n",
      "mopts.useGPU=false\n",
      "mopts.lrate=0.1\n",
      "mopts.batchSize=2\n",
      "mopts.dim=256\n",
      "mopts.startBlock=0\n",
      "mopts.npasses=10\n",
      "mopts.updateAll=false\n",
      "mopts.what"
     ],
     "language": "python",
     "metadata": {},
     "outputs": [
      {
       "output_type": "stream",
       "stream": "stdout",
       "text": [
        "Option Name       Type          Value\n",
        "===========       ====          =====\n",
        "addConstFeat      boolean       false\n",
        "autoReset         boolean       false\n",
        "batchSize         int           2\n",
        "dim               int           256\n",
        "doubleScore       boolean       false\n",
        "epsilon           float         1.0E-5\n",
        "evalStep          int           11\n",
        "featThreshold     Mat           null\n",
        "featType          int           1\n",
        "hashFeatures      boolean       false\n",
        "initsumsq         float         1.0E-5\n",
        "iweight           FMat          null\n",
        "lim               float         0.0\n",
        "links             IMat             3\n",
        "   3\n",
        "\n",
        "lrate             FMat          0.10000\n",
        "mask              FMat          null\n",
        "npasses           int           10\n",
        "nzPerColumn       int           0\n",
        "pstep             float         0.01\n",
        "putBack           int           -1\n",
        "r1nmats           int           1\n",
        "r2nmats           int           1\n",
        "reg1weight        FMat          1.0000e-07\n",
        "reg2weight        FMat          1\n",
        "resFile           String        null\n",
        "rmask             FMat          null\n",
        "sample            float         1.0\n",
        "sizeMargin        float         3.0\n",
        "startBlock        int           0\n",
        "targets           FMat          null\n",
        "targmap           FMat          null\n",
        "texp              FMat          0.50000\n",
        "updateAll         boolean       false\n",
        "useCache          boolean       true\n",
        "useDouble         boolean       false\n",
        "useGPU            boolean       false\n",
        "vexp              FMat          0.50000\n",
        "waitsteps         int           2\n"
       ]
      },
      {
       "output_type": "stream",
       "stream": "stdout",
       "text": []
      }
     ],
     "prompt_number": 41
    },
    {
     "cell_type": "code",
     "collapsed": false,
     "input": [
      "mm.train\n",
      "nn.predict"
     ],
     "language": "python",
     "metadata": {},
     "outputs": [
      {
       "output_type": "stream",
       "stream": "stdout",
       "text": [
        "corpus perplexity=992.808970\n",
        "pass= 0\n",
        " 6.00%, ll=-1.00000, gf=Infinity, secs=0.0, GB=0.00, MB/s=Infinity\n",
        "41.00%, ll=-0.28270, gf=0.079, secs=0.0, GB=0.00, MB/s=39.00\n",
        "77.00%, ll=-0.03527, gf=0.081, secs=0.0, GB=0.00, MB/s=38.40\n",
        "100.00%, ll=-0.20491, gf=0.083, secs=0.0, GB=0.00, MB/s=39.16\n",
        "pass= 1\n",
        " 6.00%, ll=-1.20125, gf=0.078, secs=0.0, GB=0.00, MB/s=37.71\n",
        "41.00%, ll=-0.30951, gf=0.083, secs=0.0, GB=0.00, MB/s=39.11\n",
        "77.00%, ll=-0.24529, gf=0.085, secs=0.0, GB=0.00, MB/s=40.00\n",
        "100.00%, ll=-0.13970, gf=0.086, secs=0.0, GB=0.00, MB/s=40.22\n",
        "pass= 2\n",
        " 6.00%, ll=-1.47287, gf=0.085, secs=0.0, GB=0.00, MB/s=40.42\n",
        "41.00%, ll=-0.22679, gf=0.087, secs=0.0, GB=0.00, MB/s=40.91\n",
        "77.00%, ll=-0.39799, gf=0.090, secs=0.0, GB=0.00, MB/s=42.12\n",
        "100.00%, ll=-0.17308, gf=0.090, secs=0.1, GB=0.00, MB/s=42.11\n",
        "pass= 3\n",
        " 6.00%, ll=-1.47907, gf=0.090, secs=0.1, GB=0.00, MB/s=42.22\n",
        "41.00%, ll=-0.30906, gf=0.092, secs=0.1, GB=0.00, MB/s=43.12\n",
        "77.00%, ll=-0.49180, gf=0.093, secs=0.1, GB=0.00, MB/s=43.20\n",
        "100.00%, ll=-0.23331, gf=0.094, secs=0.1, GB=0.00, MB/s=43.76\n",
        "pass= 4\n",
        " 6.00%, ll=-1.46579, gf=0.093, secs=0.1, GB=0.00, MB/s=43.83\n",
        "41.00%, ll=-0.37264, gf=0.094, secs=0.1, GB=0.00, MB/s=43.84\n",
        "77.00%, ll=-0.55793, gf=0.094, secs=0.1, GB=0.00, MB/s=43.85\n",
        "100.00%, ll=-0.28842, gf=0.095, secs=0.1, GB=0.00, MB/s=44.29\n",
        "pass= 5\n",
        " 6.00%, ll=-1.44678, gf=0.095, secs=0.1, GB=0.00, MB/s=44.33\n",
        "41.00%, ll=-0.42261, gf=0.095, secs=0.1, GB=0.00, MB/s=44.31\n",
        "77.00%, ll=-0.60707, gf=0.095, secs=0.1, GB=0.00, MB/s=44.29\n",
        "100.00%, ll=-0.33395, gf=0.096, secs=0.1, GB=0.00, MB/s=44.64\n",
        "pass= 6\n",
        " 6.00%, ll=-1.42705, gf=0.095, secs=0.1, GB=0.00, MB/s=44.67\n",
        "41.00%, ll=-0.46288, gf=0.097, secs=0.1, GB=0.00, MB/s=45.06\n",
        "77.00%, ll=-0.64504, gf=0.097, secs=0.1, GB=0.01, MB/s=45.40\n",
        "100.00%, ll=-0.37222, gf=0.098, secs=0.1, GB=0.01, MB/s=45.68\n",
        "pass= 7\n",
        " 6.00%, ll=-1.40822, gf=0.098, secs=0.1, GB=0.01, MB/s=45.70\n",
        "41.00%, ll=-0.49608, gf=0.099, secs=0.1, GB=0.01, MB/s=46.39\n",
        "77.00%, ll=-0.67528, gf=0.099, secs=0.1, GB=0.01, MB/s=46.27\n",
        "100.00%, ll=-0.40490, gf=0.100, secs=0.1, GB=0.01, MB/s=46.50\n",
        "pass= 8\n",
        " 6.00%, ll=-1.39079, gf=0.100, secs=0.1, GB=0.01, MB/s=46.51\n",
        "41.00%, ll=-0.52395, gf=0.100, secs=0.1, GB=0.01, MB/s=46.75\n",
        "77.00%, ll=-0.69995, gf=0.101, secs=0.1, GB=0.01, MB/s=46.96\n",
        "100.00%, ll=-0.43319, gf=0.101, secs=0.1, GB=0.01, MB/s=47.15\n",
        "pass= 9\n",
        " 6.00%, ll=-1.37481, gf=0.101, secs=0.1, GB=0.01, MB/s=47.16\n",
        "41.00%, ll=-0.54772, gf=0.102, secs=0.1, GB=0.01, MB/s=47.67\n",
        "77.00%, ll=-0.72047, gf=0.103, secs=0.2, GB=0.01, MB/s=47.84\n",
        "100.00%, ll=-0.45795, gf=0.103, secs=0.2, GB=0.01, MB/s=48.00\n",
        "Time=0.1550 secs, gflops=0.10\n",
        "corpus perplexity=985.317557\n",
        "Predicting\n",
        " 4.00%, ll=-1.00000, gf=Infinity, secs=0.0, GB=0.00, MB/s=Infinity\n",
        " 9.00%, ll=-1.00000, gf=Infinity, secs=0.0, GB=0.00, MB/s=Infinity\n",
        "14.00%, ll=-1.00000, gf=Infinity, secs=0.0, GB=0.00, MB/s=Infinity\n",
        "19.00%, ll=-1.00000, gf=Infinity, secs=0.0, GB=0.00, MB/s=Infinity\n",
        "24.00%, ll=-1.00000, gf=0.060, secs=0.0, GB=0.00, MB/s=180.00\n",
        "29.00%, ll=-1.00000, gf=0.073, secs=0.0, GB=0.00, MB/s=216.00\n",
        "33.00%, ll=-1.00000, gf=0.085, secs=0.0, GB=0.00, MB/s=252.00\n",
        "38.00%, ll=-1.00000, gf=0.097, secs=0.0, GB=0.00, MB/s=288.00\n",
        "43.00%, ll=-1.00000, gf=0.109, secs=0.0, GB=0.00, MB/s=324.00\n",
        "48.00%, ll=-1.00000, gf=0.121, secs=0.0, GB=0.00, MB/s=360.00\n",
        "53.00%, ll=-1.00000, gf=0.066, secs=0.0, GB=0.00, MB/s=198.00\n",
        "58.00%, ll=-1.00000, gf=0.073, secs=0.0, GB=0.00, MB/s=216.00\n",
        "62.00%, ll=-1.00000, gf=0.079, secs=0.0, GB=0.00, MB/s=234.00\n",
        "67.00%, ll=-1.00000, gf=0.085, secs=0.0, GB=0.00, MB/s=251.99\n",
        "72.00%, ll=-1.00000, gf=0.091, secs=0.0, GB=0.00, MB/s=269.99\n",
        "77.00%, ll=-1.00000, gf=0.097, secs=0.0, GB=0.00, MB/s=287.99\n",
        "82.00%, ll=-1.00000, gf=0.069, secs=0.0, GB=0.00, MB/s=204.00\n",
        "87.00%, ll=-1.00000, gf=0.073, secs=0.0, GB=0.00, MB/s=216.00\n",
        "91.00%, ll=-1.00000, gf=0.077, secs=0.0, GB=0.00, MB/s=228.00\n",
        "96.00%, ll=-1.00000, gf=0.081, secs=0.0, GB=0.00, MB/s=240.00\n",
        "100.00%, ll=-1.00000, gf=0.083, secs=0.0, GB=0.00, MB/s=248.00\n",
        "Time=0.0030 secs, gflops=0.08\n"
       ]
      },
      {
       "output_type": "stream",
       "stream": "stdout",
       "text": []
      }
     ],
     "prompt_number": 42
    },
    {
     "cell_type": "code",
     "collapsed": false,
     "input": [
      "val cx1=cx*5\n",
      "min(cx1, 1, cx1)                       // the first \"traindata\" argument is the input, the other is output\n",
      "max(cx1, 0, cx1) \n",
      "val p=ctest *@cx1 +(1-ctest) *@(1-cx1)\n",
      "mean(p,2)"
     ],
     "language": "python",
     "metadata": {},
     "outputs": []
    },
    {
     "cell_type": "code",
     "collapsed": false,
     "input": [
      "cx1"
     ],
     "language": "python",
     "metadata": {},
     "outputs": [
      {
       "output_type": "stream",
       "stream": "stdout",
       "text": []
      },
      {
       "output_type": "stream",
       "stream": "stdout",
       "text": []
      },
      {
       "metadata": {},
       "output_type": "pyout",
       "prompt_number": 6,
       "text": [
        "         1   0.48584   0.16356         1         1         0  0.098707...\n",
        "         0         0         0         0         0   0.82548         0...\n"
       ]
      }
     ],
     "prompt_number": 6
    },
    {
     "cell_type": "code",
     "collapsed": false,
     "input": [
      "val lacc = (cx1 \u2219\u2192 ctest + (1-cx1) \u2219\u2192 (1-ctest))/cx1.ncols\n",
      "lacc.t\n",
      "mean(lacc)"
     ],
     "language": "python",
     "metadata": {},
     "outputs": [
      {
       "output_type": "stream",
       "stream": "stdout",
       "text": []
      },
      {
       "output_type": "stream",
       "stream": "stdout",
       "text": []
      },
      {
       "metadata": {},
       "output_type": "pyout",
       "prompt_number": 7,
       "text": [
        "0.76865"
       ]
      }
     ],
     "prompt_number": 7
    },
    {
     "cell_type": "code",
     "collapsed": false,
     "input": [
      "val model = mm.model\n",
      "val (nn1, nopts1) = GLM.LBFGSpredictor(model, atest, cx)"
     ],
     "language": "python",
     "metadata": {},
     "outputs": [
      {
       "output_type": "stream",
       "stream": "stdout",
       "text": []
      },
      {
       "output_type": "stream",
       "stream": "stdout",
       "text": []
      },
      {
       "metadata": {},
       "output_type": "pyout",
       "prompt_number": 8,
       "text": [
        "BIDMach.models.GLM$LearnLBFGSOptions@3fde0ffe"
       ]
      }
     ],
     "prompt_number": 8
    },
    {
     "cell_type": "code",
     "collapsed": false,
     "input": [
      "nn1.predict"
     ],
     "language": "python",
     "metadata": {},
     "outputs": [
      {
       "output_type": "stream",
       "stream": "stdout",
       "text": [
        "corpus perplexity=1.970211\n",
        "Predicting\n",
        " 4.00%, ll=-0.88782, gf=0.000, secs=0.0, GB=0.00, MB/s= 0.10\n",
        " 8.00%, ll=-0.87371, gf=0.000, secs=0.0, GB=0.00, MB/s= 0.19\n",
        "12.00%, ll=-0.94405, gf=0.000, secs=0.0, GB=0.00, MB/s= 0.29\n",
        "16.00%, ll=-0.97745, gf=0.001, secs=0.0, GB=0.00, MB/s= 0.38\n",
        "20.00%, ll=-0.91692, gf=0.000, secs=0.0, GB=0.00, MB/s= 0.24\n",
        "24.00%, ll=-0.95906, gf=0.000, secs=0.0, GB=0.00, MB/s= 0.29\n",
        "28.00%, ll=-0.91178, gf=0.001, secs=0.0, GB=0.00, MB/s= 0.34\n",
        "32.00%, ll=-0.80047, gf=0.001, secs=0.0, GB=0.00, MB/s= 0.38\n",
        "36.00%, ll=-0.92667, gf=0.001, secs=0.0, GB=0.00, MB/s= 0.43\n",
        "40.00%, ll=-0.91742, gf=0.001, secs=0.0, GB=0.00, MB/s= 0.48\n",
        "44.00%, ll=-0.92421, gf=0.001, secs=0.0, GB=0.00, MB/s= 0.53\n",
        "48.00%, ll=-0.94550, gf=0.001, secs=0.0, GB=0.00, MB/s= 0.38\n",
        "51.00%, ll=-0.81677, gf=0.001, secs=0.0, GB=0.00, MB/s= 0.42\n",
        "56.00%, ll=-0.91331, gf=0.001, secs=0.0, GB=0.00, MB/s= 0.45\n",
        "60.00%, ll=-0.93091, gf=0.001, secs=0.0, GB=0.00, MB/s= 0.48\n",
        "64.00%, ll=-0.85525, gf=0.001, secs=0.0, GB=0.00, MB/s= 0.51\n",
        "68.00%, ll=-0.87134, gf=0.001, secs=0.0, GB=0.00, MB/s= 0.54\n",
        "72.00%, ll=-0.94563, gf=0.001, secs=0.0, GB=0.00, MB/s= 0.58\n",
        "76.00%, ll=-0.78031, gf=0.001, secs=0.0, GB=0.00, MB/s= 0.46\n",
        "80.00%, ll=-0.94823, gf=0.001, secs=0.0, GB=0.00, MB/s= 0.48\n",
        "83.00%, ll=-0.95096, gf=0.001, secs=0.0, GB=0.00, MB/s= 0.50\n",
        "88.00%, ll=-0.86657, gf=0.001, secs=0.0, GB=0.00, MB/s= 0.53\n",
        "92.00%, ll=-0.97759, gf=0.001, secs=0.0, GB=0.00, MB/s= 0.55\n",
        "96.00%, ll=-0.75901, gf=0.001, secs=0.0, GB=0.00, MB/s= 0.58\n",
        "100.00%, ll=-0.93326, gf=0.001, secs=0.0, GB=0.00, MB/s= 0.60\n",
        "Time=0.0050 secs, gflops=0.00\n"
       ]
      },
      {
       "output_type": "stream",
       "stream": "stdout",
       "text": []
      }
     ],
     "prompt_number": 9
    },
    {
     "cell_type": "code",
     "collapsed": false,
     "input": [
      "val cx1=cx*10\n",
      "min(cx1, 1, cx1)                       // the first \"traindata\" argument is the input, the other is output\n",
      "max(cx1, 0, cx1) \n",
      "val p=ctest *@cx1 +(1-ctest) *@(1-cx1)\n",
      "mean(p,2)\n",
      "val lacc = (cx1 \u2219\u2192 ctest + (1-cx1) \u2219\u2192 (1-ctest))/cx1.ncols\n",
      "lacc.t\n",
      "mean(lacc)"
     ],
     "language": "python",
     "metadata": {},
     "outputs": [
      {
       "output_type": "stream",
       "stream": "stdout",
       "text": []
      },
      {
       "output_type": "stream",
       "stream": "stdout",
       "text": []
      },
      {
       "metadata": {},
       "output_type": "pyout",
       "prompt_number": 10,
       "text": [
        "0.81119"
       ]
      }
     ],
     "prompt_number": 10
    },
    {
     "cell_type": "code",
     "collapsed": false,
     "input": [
      "cx1"
     ],
     "language": "python",
     "metadata": {},
     "outputs": [
      {
       "output_type": "stream",
       "stream": "stdout",
       "text": []
      },
      {
       "output_type": "stream",
       "stream": "stdout",
       "text": []
      },
      {
       "metadata": {},
       "output_type": "pyout",
       "prompt_number": 11,
       "text": [
        "        1  0.97167  0.32712        1        1        0  0.19741        1...\n",
        "        0        0        0        0        0        1        0        0...\n"
       ]
      }
     ],
     "prompt_number": 11
    },
    {
     "cell_type": "code",
     "collapsed": false,
     "input": [
      "saveFMat(dict+\"moonresult.fmat.txt\",cx)"
     ],
     "language": "python",
     "metadata": {},
     "outputs": [
      {
       "output_type": "stream",
       "stream": "stdout",
       "text": []
      },
      {
       "output_type": "stream",
       "stream": "stdout",
       "text": []
      }
     ],
     "prompt_number": 23
    },
    {
     "cell_type": "code",
     "collapsed": false,
     "input": [],
     "language": "python",
     "metadata": {},
     "outputs": []
    },
    {
     "cell_type": "code",
     "collapsed": false,
     "input": [],
     "language": "python",
     "metadata": {},
     "outputs": [],
     "prompt_number": 19
    }
   ],
   "metadata": {}
  }
 ]
}